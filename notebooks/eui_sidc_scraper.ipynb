{
 "cells": [
  {
   "cell_type": "code",
   "execution_count": 19,
   "id": "d8f77c1e",
   "metadata": {},
   "outputs": [],
   "source": [
    "import sunpy.map\n",
    "from sunpy.net import scraper\n",
    "from astropy import units as u\n",
    "from sunpy.time import TimeRange\n",
    "import parfive\n",
    "import glob\n",
    "import matplotlib.pyplot as plt\n",
    "import pandas as pd"
   ]
  },
  {
   "cell_type": "code",
   "execution_count": 20,
   "id": "88153ca8",
   "metadata": {},
   "outputs": [],
   "source": [
    "def get_eui_filelist(timerange):\n",
    "    \"\"\"\n",
    "    Function to list all available EUI-HRI files from SIDC\n",
    "    \n",
    "    Parameters\n",
    "    ----------\n",
    "    timerange : `sunpy.time.TimeRange`\n",
    "        timerange of interest\n",
    "        \n",
    "    Returns\n",
    "    -------\n",
    "    `list` of files\n",
    "    \"\"\"\n",
    "    eui_pattern = (\"https://www.sidc.be/EUI/data/{level}/%Y/%m/%d/\"\n",
    "                  \"solo_{level}_eui-{descriptor}-image_%Y%m%dT%H%M%S.*\\.jp2\")\n",
    "\n",
    "\n",
    "    eui_scraper = scraper.Scraper(eui_pattern, level=\"L3\", descriptor='hrieuv174')\n",
    "    eui_file_urls = eui_scraper.filelist(timerange)\n",
    "    return eui_file_urls\n",
    "\n",
    "def fetch_eui_files(eui_file_urls, timerange):\n",
    "    \"\"\"\n",
    "    Download the EUI url files passed. Downloads them to a folder named based on timerange.\n",
    "    \n",
    "    Parameters\n",
    "    ----------\n",
    "    eui_file_urls: `list`\n",
    "        list of EUI file urls\n",
    "    timerange : `sunpy.time.TimeRange`\n",
    "        timerange of files (for file naming) \n",
    "\n",
    "    Returns\n",
    "    -------\n",
    "    parfive results object with local file paths\n",
    "    \"\"\"\n",
    "    downloader = parfive.Downloader()\n",
    "    \n",
    "    for f in eui_file_urls:\n",
    "        downloader.enqueue_file(f, path=\"./eui_files_{:s}/\".format(timerange.start.strftime(\"%Y%m%d_%H%M\")))\n",
    "    \n",
    "    files = downloader.download()  \n",
    "    return files"
   ]
  },
  {
   "cell_type": "code",
   "execution_count": 41,
   "id": "2d06821c",
   "metadata": {},
   "outputs": [],
   "source": [
    "tstart, tend = '2022-10-24T19:00:00','2022-10-24T19:30:00'\n",
    "timerange = TimeRange(tstart, tend)\n",
    "eui_file_urls = get_eui_filelist(timerange)"
   ]
  },
  {
   "cell_type": "code",
   "execution_count": 42,
   "id": "cf3be23f",
   "metadata": {},
   "outputs": [
    {
     "data": {
      "text/plain": [
       "['https://www.sidc.be/EUI/data/L3/2022/10/24/solo_L3_eui-hrieuv174-image_20221024T190000171_V01.jp2',\n",
       " 'https://www.sidc.be/EUI/data/L3/2022/10/24/solo_L3_eui-hrieuv174-image_20221024T190005171_V01.jp2',\n",
       " 'https://www.sidc.be/EUI/data/L3/2022/10/24/solo_L3_eui-hrieuv174-image_20221024T190010171_V01.jp2',\n",
       " 'https://www.sidc.be/EUI/data/L3/2022/10/24/solo_L3_eui-hrieuv174-image_20221024T190015170_V01.jp2',\n",
       " 'https://www.sidc.be/EUI/data/L3/2022/10/24/solo_L3_eui-hrieuv174-image_20221024T190020171_V01.jp2',\n",
       " 'https://www.sidc.be/EUI/data/L3/2022/10/24/solo_L3_eui-hrieuv174-image_20221024T190025171_V01.jp2',\n",
       " 'https://www.sidc.be/EUI/data/L3/2022/10/24/solo_L3_eui-hrieuv174-image_20221024T190030171_V01.jp2',\n",
       " 'https://www.sidc.be/EUI/data/L3/2022/10/24/solo_L3_eui-hrieuv174-image_20221024T190035171_V01.jp2',\n",
       " 'https://www.sidc.be/EUI/data/L3/2022/10/24/solo_L3_eui-hrieuv174-image_20221024T190040171_V01.jp2',\n",
       " 'https://www.sidc.be/EUI/data/L3/2022/10/24/solo_L3_eui-hrieuv174-image_20221024T190045171_V01.jp2',\n",
       " 'https://www.sidc.be/EUI/data/L3/2022/10/24/solo_L3_eui-hrieuv174-image_20221024T190050189_V01.jp2',\n",
       " 'https://www.sidc.be/EUI/data/L3/2022/10/24/solo_L3_eui-hrieuv174-image_20221024T190055171_V01.jp2',\n",
       " 'https://www.sidc.be/EUI/data/L3/2022/10/24/solo_L3_eui-hrieuv174-image_20221024T190100171_V01.jp2',\n",
       " 'https://www.sidc.be/EUI/data/L3/2022/10/24/solo_L3_eui-hrieuv174-image_20221024T190105171_V01.jp2',\n",
       " 'https://www.sidc.be/EUI/data/L3/2022/10/24/solo_L3_eui-hrieuv174-image_20221024T190110171_V01.jp2',\n",
       " 'https://www.sidc.be/EUI/data/L3/2022/10/24/solo_L3_eui-hrieuv174-image_20221024T190115183_V01.jp2',\n",
       " 'https://www.sidc.be/EUI/data/L3/2022/10/24/solo_L3_eui-hrieuv174-image_20221024T190120194_V01.jp2',\n",
       " 'https://www.sidc.be/EUI/data/L3/2022/10/24/solo_L3_eui-hrieuv174-image_20221024T190125170_V01.jp2',\n",
       " 'https://www.sidc.be/EUI/data/L3/2022/10/24/solo_L3_eui-hrieuv174-image_20221024T190130171_V01.jp2',\n",
       " 'https://www.sidc.be/EUI/data/L3/2022/10/24/solo_L3_eui-hrieuv174-image_20221024T190135171_V01.jp2',\n",
       " 'https://www.sidc.be/EUI/data/L3/2022/10/24/solo_L3_eui-hrieuv174-image_20221024T190140188_V01.jp2',\n",
       " 'https://www.sidc.be/EUI/data/L3/2022/10/24/solo_L3_eui-hrieuv174-image_20221024T190145171_V01.jp2',\n",
       " 'https://www.sidc.be/EUI/data/L3/2022/10/24/solo_L3_eui-hrieuv174-image_20221024T190150171_V01.jp2',\n",
       " 'https://www.sidc.be/EUI/data/L3/2022/10/24/solo_L3_eui-hrieuv174-image_20221024T190155171_V01.jp2',\n",
       " 'https://www.sidc.be/EUI/data/L3/2022/10/24/solo_L3_eui-hrieuv174-image_20221024T190200170_V01.jp2',\n",
       " 'https://www.sidc.be/EUI/data/L3/2022/10/24/solo_L3_eui-hrieuv174-image_20221024T190205171_V01.jp2',\n",
       " 'https://www.sidc.be/EUI/data/L3/2022/10/24/solo_L3_eui-hrieuv174-image_20221024T190210181_V01.jp2',\n",
       " 'https://www.sidc.be/EUI/data/L3/2022/10/24/solo_L3_eui-hrieuv174-image_20221024T190215171_V01.jp2',\n",
       " 'https://www.sidc.be/EUI/data/L3/2022/10/24/solo_L3_eui-hrieuv174-image_20221024T190220182_V01.jp2',\n",
       " 'https://www.sidc.be/EUI/data/L3/2022/10/24/solo_L3_eui-hrieuv174-image_20221024T190225171_V01.jp2',\n",
       " 'https://www.sidc.be/EUI/data/L3/2022/10/24/solo_L3_eui-hrieuv174-image_20221024T190230171_V01.jp2',\n",
       " 'https://www.sidc.be/EUI/data/L3/2022/10/24/solo_L3_eui-hrieuv174-image_20221024T190235202_V01.jp2',\n",
       " 'https://www.sidc.be/EUI/data/L3/2022/10/24/solo_L3_eui-hrieuv174-image_20221024T190240171_V01.jp2',\n",
       " 'https://www.sidc.be/EUI/data/L3/2022/10/24/solo_L3_eui-hrieuv174-image_20221024T190245171_V01.jp2',\n",
       " 'https://www.sidc.be/EUI/data/L3/2022/10/24/solo_L3_eui-hrieuv174-image_20221024T190250171_V01.jp2',\n",
       " 'https://www.sidc.be/EUI/data/L3/2022/10/24/solo_L3_eui-hrieuv174-image_20221024T190255171_V01.jp2',\n",
       " 'https://www.sidc.be/EUI/data/L3/2022/10/24/solo_L3_eui-hrieuv174-image_20221024T190300171_V01.jp2',\n",
       " 'https://www.sidc.be/EUI/data/L3/2022/10/24/solo_L3_eui-hrieuv174-image_20221024T190305202_V01.jp2',\n",
       " 'https://www.sidc.be/EUI/data/L3/2022/10/24/solo_L3_eui-hrieuv174-image_20221024T190310177_V01.jp2',\n",
       " 'https://www.sidc.be/EUI/data/L3/2022/10/24/solo_L3_eui-hrieuv174-image_20221024T190315171_V01.jp2',\n",
       " 'https://www.sidc.be/EUI/data/L3/2022/10/24/solo_L3_eui-hrieuv174-image_20221024T190320171_V01.jp2',\n",
       " 'https://www.sidc.be/EUI/data/L3/2022/10/24/solo_L3_eui-hrieuv174-image_20221024T190325200_V01.jp2',\n",
       " 'https://www.sidc.be/EUI/data/L3/2022/10/24/solo_L3_eui-hrieuv174-image_20221024T190330171_V01.jp2',\n",
       " 'https://www.sidc.be/EUI/data/L3/2022/10/24/solo_L3_eui-hrieuv174-image_20221024T190335171_V01.jp2',\n",
       " 'https://www.sidc.be/EUI/data/L3/2022/10/24/solo_L3_eui-hrieuv174-image_20221024T190340171_V01.jp2',\n",
       " 'https://www.sidc.be/EUI/data/L3/2022/10/24/solo_L3_eui-hrieuv174-image_20221024T190345171_V01.jp2',\n",
       " 'https://www.sidc.be/EUI/data/L3/2022/10/24/solo_L3_eui-hrieuv174-image_20221024T190350171_V01.jp2',\n",
       " 'https://www.sidc.be/EUI/data/L3/2022/10/24/solo_L3_eui-hrieuv174-image_20221024T190355171_V01.jp2',\n",
       " 'https://www.sidc.be/EUI/data/L3/2022/10/24/solo_L3_eui-hrieuv174-image_20221024T190400178_V01.jp2',\n",
       " 'https://www.sidc.be/EUI/data/L3/2022/10/24/solo_L3_eui-hrieuv174-image_20221024T190405171_V01.jp2',\n",
       " 'https://www.sidc.be/EUI/data/L3/2022/10/24/solo_L3_eui-hrieuv174-image_20221024T190410171_V01.jp2',\n",
       " 'https://www.sidc.be/EUI/data/L3/2022/10/24/solo_L3_eui-hrieuv174-image_20221024T190415199_V01.jp2',\n",
       " 'https://www.sidc.be/EUI/data/L3/2022/10/24/solo_L3_eui-hrieuv174-image_20221024T190420171_V01.jp2',\n",
       " 'https://www.sidc.be/EUI/data/L3/2022/10/24/solo_L3_eui-hrieuv174-image_20221024T190425171_V01.jp2',\n",
       " 'https://www.sidc.be/EUI/data/L3/2022/10/24/solo_L3_eui-hrieuv174-image_20221024T190430171_V01.jp2',\n",
       " 'https://www.sidc.be/EUI/data/L3/2022/10/24/solo_L3_eui-hrieuv174-image_20221024T190435191_V01.jp2',\n",
       " 'https://www.sidc.be/EUI/data/L3/2022/10/24/solo_L3_eui-hrieuv174-image_20221024T190440172_V01.jp2',\n",
       " 'https://www.sidc.be/EUI/data/L3/2022/10/24/solo_L3_eui-hrieuv174-image_20221024T190445171_V01.jp2',\n",
       " 'https://www.sidc.be/EUI/data/L3/2022/10/24/solo_L3_eui-hrieuv174-image_20221024T190450171_V01.jp2',\n",
       " 'https://www.sidc.be/EUI/data/L3/2022/10/24/solo_L3_eui-hrieuv174-image_20221024T190455171_V01.jp2',\n",
       " 'https://www.sidc.be/EUI/data/L3/2022/10/24/solo_L3_eui-hrieuv174-image_20221024T190500171_V01.jp2',\n",
       " 'https://www.sidc.be/EUI/data/L3/2022/10/24/solo_L3_eui-hrieuv174-image_20221024T190505203_V01.jp2',\n",
       " 'https://www.sidc.be/EUI/data/L3/2022/10/24/solo_L3_eui-hrieuv174-image_20221024T190510171_V01.jp2',\n",
       " 'https://www.sidc.be/EUI/data/L3/2022/10/24/solo_L3_eui-hrieuv174-image_20221024T190515172_V01.jp2',\n",
       " 'https://www.sidc.be/EUI/data/L3/2022/10/24/solo_L3_eui-hrieuv174-image_20221024T190520171_V01.jp2',\n",
       " 'https://www.sidc.be/EUI/data/L3/2022/10/24/solo_L3_eui-hrieuv174-image_20221024T190525171_V01.jp2',\n",
       " 'https://www.sidc.be/EUI/data/L3/2022/10/24/solo_L3_eui-hrieuv174-image_20221024T190530171_V01.jp2',\n",
       " 'https://www.sidc.be/EUI/data/L3/2022/10/24/solo_L3_eui-hrieuv174-image_20221024T190535172_V01.jp2',\n",
       " 'https://www.sidc.be/EUI/data/L3/2022/10/24/solo_L3_eui-hrieuv174-image_20221024T190540171_V01.jp2',\n",
       " 'https://www.sidc.be/EUI/data/L3/2022/10/24/solo_L3_eui-hrieuv174-image_20221024T190545171_V01.jp2',\n",
       " 'https://www.sidc.be/EUI/data/L3/2022/10/24/solo_L3_eui-hrieuv174-image_20221024T190550171_V01.jp2',\n",
       " 'https://www.sidc.be/EUI/data/L3/2022/10/24/solo_L3_eui-hrieuv174-image_20221024T190555171_V01.jp2',\n",
       " 'https://www.sidc.be/EUI/data/L3/2022/10/24/solo_L3_eui-hrieuv174-image_20221024T190600171_V01.jp2',\n",
       " 'https://www.sidc.be/EUI/data/L3/2022/10/24/solo_L3_eui-hrieuv174-image_20221024T190605171_V01.jp2',\n",
       " 'https://www.sidc.be/EUI/data/L3/2022/10/24/solo_L3_eui-hrieuv174-image_20221024T190610181_V01.jp2',\n",
       " 'https://www.sidc.be/EUI/data/L3/2022/10/24/solo_L3_eui-hrieuv174-image_20221024T190615171_V01.jp2',\n",
       " 'https://www.sidc.be/EUI/data/L3/2022/10/24/solo_L3_eui-hrieuv174-image_20221024T190620171_V01.jp2',\n",
       " 'https://www.sidc.be/EUI/data/L3/2022/10/24/solo_L3_eui-hrieuv174-image_20221024T190625171_V01.jp2',\n",
       " 'https://www.sidc.be/EUI/data/L3/2022/10/24/solo_L3_eui-hrieuv174-image_20221024T190630199_V01.jp2',\n",
       " 'https://www.sidc.be/EUI/data/L3/2022/10/24/solo_L3_eui-hrieuv174-image_20221024T190635171_V01.jp2',\n",
       " 'https://www.sidc.be/EUI/data/L3/2022/10/24/solo_L3_eui-hrieuv174-image_20221024T190640171_V01.jp2',\n",
       " 'https://www.sidc.be/EUI/data/L3/2022/10/24/solo_L3_eui-hrieuv174-image_20221024T190645171_V01.jp2',\n",
       " 'https://www.sidc.be/EUI/data/L3/2022/10/24/solo_L3_eui-hrieuv174-image_20221024T190650171_V01.jp2',\n",
       " 'https://www.sidc.be/EUI/data/L3/2022/10/24/solo_L3_eui-hrieuv174-image_20221024T190655171_V01.jp2',\n",
       " 'https://www.sidc.be/EUI/data/L3/2022/10/24/solo_L3_eui-hrieuv174-image_20221024T190700171_V01.jp2',\n",
       " 'https://www.sidc.be/EUI/data/L3/2022/10/24/solo_L3_eui-hrieuv174-image_20221024T190705171_V01.jp2',\n",
       " 'https://www.sidc.be/EUI/data/L3/2022/10/24/solo_L3_eui-hrieuv174-image_20221024T190710171_V01.jp2',\n",
       " 'https://www.sidc.be/EUI/data/L3/2022/10/24/solo_L3_eui-hrieuv174-image_20221024T190715171_V01.jp2',\n",
       " 'https://www.sidc.be/EUI/data/L3/2022/10/24/solo_L3_eui-hrieuv174-image_20221024T190720172_V01.jp2',\n",
       " 'https://www.sidc.be/EUI/data/L3/2022/10/24/solo_L3_eui-hrieuv174-image_20221024T190725172_V01.jp2',\n",
       " 'https://www.sidc.be/EUI/data/L3/2022/10/24/solo_L3_eui-hrieuv174-image_20221024T190730171_V01.jp2',\n",
       " 'https://www.sidc.be/EUI/data/L3/2022/10/24/solo_L3_eui-hrieuv174-image_20221024T190735172_V01.jp2',\n",
       " 'https://www.sidc.be/EUI/data/L3/2022/10/24/solo_L3_eui-hrieuv174-image_20221024T190740171_V01.jp2',\n",
       " 'https://www.sidc.be/EUI/data/L3/2022/10/24/solo_L3_eui-hrieuv174-image_20221024T190745172_V01.jp2',\n",
       " 'https://www.sidc.be/EUI/data/L3/2022/10/24/solo_L3_eui-hrieuv174-image_20221024T190750171_V01.jp2',\n",
       " 'https://www.sidc.be/EUI/data/L3/2022/10/24/solo_L3_eui-hrieuv174-image_20221024T190755171_V01.jp2',\n",
       " 'https://www.sidc.be/EUI/data/L3/2022/10/24/solo_L3_eui-hrieuv174-image_20221024T190800172_V01.jp2',\n",
       " 'https://www.sidc.be/EUI/data/L3/2022/10/24/solo_L3_eui-hrieuv174-image_20221024T190805172_V01.jp2',\n",
       " 'https://www.sidc.be/EUI/data/L3/2022/10/24/solo_L3_eui-hrieuv174-image_20221024T190810172_V01.jp2',\n",
       " 'https://www.sidc.be/EUI/data/L3/2022/10/24/solo_L3_eui-hrieuv174-image_20221024T190815172_V01.jp2',\n",
       " 'https://www.sidc.be/EUI/data/L3/2022/10/24/solo_L3_eui-hrieuv174-image_20221024T190820199_V01.jp2',\n",
       " 'https://www.sidc.be/EUI/data/L3/2022/10/24/solo_L3_eui-hrieuv174-image_20221024T190825171_V01.jp2',\n",
       " 'https://www.sidc.be/EUI/data/L3/2022/10/24/solo_L3_eui-hrieuv174-image_20221024T190830172_V01.jp2',\n",
       " 'https://www.sidc.be/EUI/data/L3/2022/10/24/solo_L3_eui-hrieuv174-image_20221024T190835172_V01.jp2',\n",
       " 'https://www.sidc.be/EUI/data/L3/2022/10/24/solo_L3_eui-hrieuv174-image_20221024T190840172_V01.jp2',\n",
       " 'https://www.sidc.be/EUI/data/L3/2022/10/24/solo_L3_eui-hrieuv174-image_20221024T190845172_V01.jp2',\n",
       " 'https://www.sidc.be/EUI/data/L3/2022/10/24/solo_L3_eui-hrieuv174-image_20221024T190850172_V01.jp2',\n",
       " 'https://www.sidc.be/EUI/data/L3/2022/10/24/solo_L3_eui-hrieuv174-image_20221024T190855172_V01.jp2',\n",
       " 'https://www.sidc.be/EUI/data/L3/2022/10/24/solo_L3_eui-hrieuv174-image_20221024T190900172_V01.jp2',\n",
       " 'https://www.sidc.be/EUI/data/L3/2022/10/24/solo_L3_eui-hrieuv174-image_20221024T190905172_V01.jp2',\n",
       " 'https://www.sidc.be/EUI/data/L3/2022/10/24/solo_L3_eui-hrieuv174-image_20221024T190910172_V01.jp2',\n",
       " 'https://www.sidc.be/EUI/data/L3/2022/10/24/solo_L3_eui-hrieuv174-image_20221024T190915172_V01.jp2',\n",
       " 'https://www.sidc.be/EUI/data/L3/2022/10/24/solo_L3_eui-hrieuv174-image_20221024T190920172_V01.jp2',\n",
       " 'https://www.sidc.be/EUI/data/L3/2022/10/24/solo_L3_eui-hrieuv174-image_20221024T190925172_V01.jp2',\n",
       " 'https://www.sidc.be/EUI/data/L3/2022/10/24/solo_L3_eui-hrieuv174-image_20221024T190930172_V01.jp2',\n",
       " 'https://www.sidc.be/EUI/data/L3/2022/10/24/solo_L3_eui-hrieuv174-image_20221024T190935172_V01.jp2',\n",
       " 'https://www.sidc.be/EUI/data/L3/2022/10/24/solo_L3_eui-hrieuv174-image_20221024T190940171_V01.jp2',\n",
       " 'https://www.sidc.be/EUI/data/L3/2022/10/24/solo_L3_eui-hrieuv174-image_20221024T190945172_V01.jp2',\n",
       " 'https://www.sidc.be/EUI/data/L3/2022/10/24/solo_L3_eui-hrieuv174-image_20221024T190950172_V01.jp2',\n",
       " 'https://www.sidc.be/EUI/data/L3/2022/10/24/solo_L3_eui-hrieuv174-image_20221024T190955172_V01.jp2',\n",
       " 'https://www.sidc.be/EUI/data/L3/2022/10/24/solo_L3_eui-hrieuv174-image_20221024T191000185_V01.jp2',\n",
       " 'https://www.sidc.be/EUI/data/L3/2022/10/24/solo_L3_eui-hrieuv174-image_20221024T191005172_V01.jp2',\n",
       " 'https://www.sidc.be/EUI/data/L3/2022/10/24/solo_L3_eui-hrieuv174-image_20221024T191010172_V01.jp2',\n",
       " 'https://www.sidc.be/EUI/data/L3/2022/10/24/solo_L3_eui-hrieuv174-image_20221024T191015172_V01.jp2',\n",
       " 'https://www.sidc.be/EUI/data/L3/2022/10/24/solo_L3_eui-hrieuv174-image_20221024T191020188_V01.jp2',\n",
       " 'https://www.sidc.be/EUI/data/L3/2022/10/24/solo_L3_eui-hrieuv174-image_20221024T191025172_V01.jp2',\n",
       " 'https://www.sidc.be/EUI/data/L3/2022/10/24/solo_L3_eui-hrieuv174-image_20221024T191030172_V01.jp2',\n",
       " 'https://www.sidc.be/EUI/data/L3/2022/10/24/solo_L3_eui-hrieuv174-image_20221024T191035172_V01.jp2',\n",
       " 'https://www.sidc.be/EUI/data/L3/2022/10/24/solo_L3_eui-hrieuv174-image_20221024T191040172_V01.jp2',\n",
       " 'https://www.sidc.be/EUI/data/L3/2022/10/24/solo_L3_eui-hrieuv174-image_20221024T191045172_V01.jp2',\n",
       " 'https://www.sidc.be/EUI/data/L3/2022/10/24/solo_L3_eui-hrieuv174-image_20221024T191050172_V01.jp2',\n",
       " 'https://www.sidc.be/EUI/data/L3/2022/10/24/solo_L3_eui-hrieuv174-image_20221024T191055172_V01.jp2',\n",
       " 'https://www.sidc.be/EUI/data/L3/2022/10/24/solo_L3_eui-hrieuv174-image_20221024T191100172_V01.jp2',\n",
       " 'https://www.sidc.be/EUI/data/L3/2022/10/24/solo_L3_eui-hrieuv174-image_20221024T191105199_V01.jp2',\n",
       " 'https://www.sidc.be/EUI/data/L3/2022/10/24/solo_L3_eui-hrieuv174-image_20221024T191110172_V01.jp2',\n",
       " 'https://www.sidc.be/EUI/data/L3/2022/10/24/solo_L3_eui-hrieuv174-image_20221024T191115171_V01.jp2',\n",
       " 'https://www.sidc.be/EUI/data/L3/2022/10/24/solo_L3_eui-hrieuv174-image_20221024T191120201_V01.jp2',\n",
       " 'https://www.sidc.be/EUI/data/L3/2022/10/24/solo_L3_eui-hrieuv174-image_20221024T191125172_V01.jp2',\n",
       " 'https://www.sidc.be/EUI/data/L3/2022/10/24/solo_L3_eui-hrieuv174-image_20221024T191130172_V01.jp2',\n",
       " 'https://www.sidc.be/EUI/data/L3/2022/10/24/solo_L3_eui-hrieuv174-image_20221024T191135172_V01.jp2',\n",
       " 'https://www.sidc.be/EUI/data/L3/2022/10/24/solo_L3_eui-hrieuv174-image_20221024T191140172_V01.jp2',\n",
       " 'https://www.sidc.be/EUI/data/L3/2022/10/24/solo_L3_eui-hrieuv174-image_20221024T191145171_V01.jp2',\n",
       " 'https://www.sidc.be/EUI/data/L3/2022/10/24/solo_L3_eui-hrieuv174-image_20221024T191150185_V01.jp2',\n",
       " 'https://www.sidc.be/EUI/data/L3/2022/10/24/solo_L3_eui-hrieuv174-image_20221024T191155172_V01.jp2',\n",
       " 'https://www.sidc.be/EUI/data/L3/2022/10/24/solo_L3_eui-hrieuv174-image_20221024T191200172_V01.jp2',\n",
       " 'https://www.sidc.be/EUI/data/L3/2022/10/24/solo_L3_eui-hrieuv174-image_20221024T191205172_V01.jp2',\n",
       " 'https://www.sidc.be/EUI/data/L3/2022/10/24/solo_L3_eui-hrieuv174-image_20221024T191210172_V01.jp2',\n",
       " 'https://www.sidc.be/EUI/data/L3/2022/10/24/solo_L3_eui-hrieuv174-image_20221024T191215187_V01.jp2',\n",
       " 'https://www.sidc.be/EUI/data/L3/2022/10/24/solo_L3_eui-hrieuv174-image_20221024T191220172_V01.jp2',\n",
       " 'https://www.sidc.be/EUI/data/L3/2022/10/24/solo_L3_eui-hrieuv174-image_20221024T191225172_V01.jp2',\n",
       " 'https://www.sidc.be/EUI/data/L3/2022/10/24/solo_L3_eui-hrieuv174-image_20221024T191230172_V01.jp2',\n",
       " 'https://www.sidc.be/EUI/data/L3/2022/10/24/solo_L3_eui-hrieuv174-image_20221024T191235171_V01.jp2',\n",
       " 'https://www.sidc.be/EUI/data/L3/2022/10/24/solo_L3_eui-hrieuv174-image_20221024T191240172_V01.jp2',\n",
       " 'https://www.sidc.be/EUI/data/L3/2022/10/24/solo_L3_eui-hrieuv174-image_20221024T191245179_V01.jp2',\n",
       " 'https://www.sidc.be/EUI/data/L3/2022/10/24/solo_L3_eui-hrieuv174-image_20221024T191250172_V01.jp2',\n",
       " 'https://www.sidc.be/EUI/data/L3/2022/10/24/solo_L3_eui-hrieuv174-image_20221024T191255172_V01.jp2',\n",
       " 'https://www.sidc.be/EUI/data/L3/2022/10/24/solo_L3_eui-hrieuv174-image_20221024T191300172_V01.jp2',\n",
       " 'https://www.sidc.be/EUI/data/L3/2022/10/24/solo_L3_eui-hrieuv174-image_20221024T191305172_V01.jp2',\n",
       " 'https://www.sidc.be/EUI/data/L3/2022/10/24/solo_L3_eui-hrieuv174-image_20221024T191310172_V01.jp2',\n",
       " 'https://www.sidc.be/EUI/data/L3/2022/10/24/solo_L3_eui-hrieuv174-image_20221024T191315172_V01.jp2',\n",
       " 'https://www.sidc.be/EUI/data/L3/2022/10/24/solo_L3_eui-hrieuv174-image_20221024T191320172_V01.jp2',\n",
       " 'https://www.sidc.be/EUI/data/L3/2022/10/24/solo_L3_eui-hrieuv174-image_20221024T191325172_V01.jp2',\n",
       " 'https://www.sidc.be/EUI/data/L3/2022/10/24/solo_L3_eui-hrieuv174-image_20221024T191330172_V01.jp2',\n",
       " 'https://www.sidc.be/EUI/data/L3/2022/10/24/solo_L3_eui-hrieuv174-image_20221024T191335172_V01.jp2',\n",
       " 'https://www.sidc.be/EUI/data/L3/2022/10/24/solo_L3_eui-hrieuv174-image_20221024T191340172_V01.jp2',\n",
       " 'https://www.sidc.be/EUI/data/L3/2022/10/24/solo_L3_eui-hrieuv174-image_20221024T191345172_V01.jp2',\n",
       " 'https://www.sidc.be/EUI/data/L3/2022/10/24/solo_L3_eui-hrieuv174-image_20221024T191350189_V01.jp2',\n",
       " 'https://www.sidc.be/EUI/data/L3/2022/10/24/solo_L3_eui-hrieuv174-image_20221024T191355172_V01.jp2',\n",
       " 'https://www.sidc.be/EUI/data/L3/2022/10/24/solo_L3_eui-hrieuv174-image_20221024T191400172_V01.jp2',\n",
       " 'https://www.sidc.be/EUI/data/L3/2022/10/24/solo_L3_eui-hrieuv174-image_20221024T191405201_V01.jp2',\n",
       " 'https://www.sidc.be/EUI/data/L3/2022/10/24/solo_L3_eui-hrieuv174-image_20221024T191410172_V01.jp2',\n",
       " 'https://www.sidc.be/EUI/data/L3/2022/10/24/solo_L3_eui-hrieuv174-image_20221024T191415172_V01.jp2',\n",
       " 'https://www.sidc.be/EUI/data/L3/2022/10/24/solo_L3_eui-hrieuv174-image_20221024T191420185_V01.jp2',\n",
       " 'https://www.sidc.be/EUI/data/L3/2022/10/24/solo_L3_eui-hrieuv174-image_20221024T191425172_V01.jp2',\n",
       " 'https://www.sidc.be/EUI/data/L3/2022/10/24/solo_L3_eui-hrieuv174-image_20221024T191430172_V01.jp2',\n",
       " 'https://www.sidc.be/EUI/data/L3/2022/10/24/solo_L3_eui-hrieuv174-image_20221024T191435172_V01.jp2',\n",
       " 'https://www.sidc.be/EUI/data/L3/2022/10/24/solo_L3_eui-hrieuv174-image_20221024T191440173_V01.jp2',\n",
       " 'https://www.sidc.be/EUI/data/L3/2022/10/24/solo_L3_eui-hrieuv174-image_20221024T191445171_V01.jp2',\n",
       " 'https://www.sidc.be/EUI/data/L3/2022/10/24/solo_L3_eui-hrieuv174-image_20221024T191450172_V01.jp2',\n",
       " 'https://www.sidc.be/EUI/data/L3/2022/10/24/solo_L3_eui-hrieuv174-image_20221024T191455172_V01.jp2',\n",
       " 'https://www.sidc.be/EUI/data/L3/2022/10/24/solo_L3_eui-hrieuv174-image_20221024T191500172_V01.jp2',\n",
       " 'https://www.sidc.be/EUI/data/L3/2022/10/24/solo_L3_eui-hrieuv174-image_20221024T191505172_V01.jp2',\n",
       " 'https://www.sidc.be/EUI/data/L3/2022/10/24/solo_L3_eui-hrieuv174-image_20221024T191510172_V01.jp2',\n",
       " 'https://www.sidc.be/EUI/data/L3/2022/10/24/solo_L3_eui-hrieuv174-image_20221024T191515175_V01.jp2',\n",
       " 'https://www.sidc.be/EUI/data/L3/2022/10/24/solo_L3_eui-hrieuv174-image_20221024T191520172_V01.jp2',\n",
       " 'https://www.sidc.be/EUI/data/L3/2022/10/24/solo_L3_eui-hrieuv174-image_20221024T191525173_V01.jp2',\n",
       " 'https://www.sidc.be/EUI/data/L3/2022/10/24/solo_L3_eui-hrieuv174-image_20221024T191530172_V01.jp2',\n",
       " 'https://www.sidc.be/EUI/data/L3/2022/10/24/solo_L3_eui-hrieuv174-image_20221024T191535172_V01.jp2',\n",
       " 'https://www.sidc.be/EUI/data/L3/2022/10/24/solo_L3_eui-hrieuv174-image_20221024T191540172_V01.jp2',\n",
       " 'https://www.sidc.be/EUI/data/L3/2022/10/24/solo_L3_eui-hrieuv174-image_20221024T191545171_V01.jp2',\n",
       " 'https://www.sidc.be/EUI/data/L3/2022/10/24/solo_L3_eui-hrieuv174-image_20221024T191550173_V01.jp2',\n",
       " 'https://www.sidc.be/EUI/data/L3/2022/10/24/solo_L3_eui-hrieuv174-image_20221024T191555172_V01.jp2',\n",
       " 'https://www.sidc.be/EUI/data/L3/2022/10/24/solo_L3_eui-hrieuv174-image_20221024T191600173_V01.jp2',\n",
       " 'https://www.sidc.be/EUI/data/L3/2022/10/24/solo_L3_eui-hrieuv174-image_20221024T191605173_V01.jp2',\n",
       " 'https://www.sidc.be/EUI/data/L3/2022/10/24/solo_L3_eui-hrieuv174-image_20221024T191610173_V01.jp2',\n",
       " 'https://www.sidc.be/EUI/data/L3/2022/10/24/solo_L3_eui-hrieuv174-image_20221024T191615172_V01.jp2',\n",
       " 'https://www.sidc.be/EUI/data/L3/2022/10/24/solo_L3_eui-hrieuv174-image_20221024T191620172_V01.jp2',\n",
       " 'https://www.sidc.be/EUI/data/L3/2022/10/24/solo_L3_eui-hrieuv174-image_20221024T191625198_V01.jp2',\n",
       " 'https://www.sidc.be/EUI/data/L3/2022/10/24/solo_L3_eui-hrieuv174-image_20221024T191630172_V01.jp2',\n",
       " 'https://www.sidc.be/EUI/data/L3/2022/10/24/solo_L3_eui-hrieuv174-image_20221024T191635172_V01.jp2',\n",
       " 'https://www.sidc.be/EUI/data/L3/2022/10/24/solo_L3_eui-hrieuv174-image_20221024T191640173_V01.jp2',\n",
       " 'https://www.sidc.be/EUI/data/L3/2022/10/24/solo_L3_eui-hrieuv174-image_20221024T191645173_V01.jp2',\n",
       " 'https://www.sidc.be/EUI/data/L3/2022/10/24/solo_L3_eui-hrieuv174-image_20221024T191650173_V01.jp2',\n",
       " 'https://www.sidc.be/EUI/data/L3/2022/10/24/solo_L3_eui-hrieuv174-image_20221024T191655173_V01.jp2',\n",
       " 'https://www.sidc.be/EUI/data/L3/2022/10/24/solo_L3_eui-hrieuv174-image_20221024T191700172_V01.jp2',\n",
       " 'https://www.sidc.be/EUI/data/L3/2022/10/24/solo_L3_eui-hrieuv174-image_20221024T191705172_V01.jp2',\n",
       " 'https://www.sidc.be/EUI/data/L3/2022/10/24/solo_L3_eui-hrieuv174-image_20221024T191710172_V01.jp2',\n",
       " 'https://www.sidc.be/EUI/data/L3/2022/10/24/solo_L3_eui-hrieuv174-image_20221024T191715173_V01.jp2',\n",
       " 'https://www.sidc.be/EUI/data/L3/2022/10/24/solo_L3_eui-hrieuv174-image_20221024T191720173_V01.jp2',\n",
       " 'https://www.sidc.be/EUI/data/L3/2022/10/24/solo_L3_eui-hrieuv174-image_20221024T191725199_V01.jp2',\n",
       " 'https://www.sidc.be/EUI/data/L3/2022/10/24/solo_L3_eui-hrieuv174-image_20221024T191730173_V01.jp2',\n",
       " 'https://www.sidc.be/EUI/data/L3/2022/10/24/solo_L3_eui-hrieuv174-image_20221024T191735173_V01.jp2',\n",
       " 'https://www.sidc.be/EUI/data/L3/2022/10/24/solo_L3_eui-hrieuv174-image_20221024T191740173_V01.jp2',\n",
       " 'https://www.sidc.be/EUI/data/L3/2022/10/24/solo_L3_eui-hrieuv174-image_20221024T191745173_V01.jp2',\n",
       " 'https://www.sidc.be/EUI/data/L3/2022/10/24/solo_L3_eui-hrieuv174-image_20221024T191750173_V01.jp2',\n",
       " 'https://www.sidc.be/EUI/data/L3/2022/10/24/solo_L3_eui-hrieuv174-image_20221024T191755172_V01.jp2',\n",
       " 'https://www.sidc.be/EUI/data/L3/2022/10/24/solo_L3_eui-hrieuv174-image_20221024T191800173_V01.jp2',\n",
       " 'https://www.sidc.be/EUI/data/L3/2022/10/24/solo_L3_eui-hrieuv174-image_20221024T191805199_V01.jp2',\n",
       " 'https://www.sidc.be/EUI/data/L3/2022/10/24/solo_L3_eui-hrieuv174-image_20221024T191810173_V01.jp2',\n",
       " 'https://www.sidc.be/EUI/data/L3/2022/10/24/solo_L3_eui-hrieuv174-image_20221024T191815172_V01.jp2',\n",
       " 'https://www.sidc.be/EUI/data/L3/2022/10/24/solo_L3_eui-hrieuv174-image_20221024T191820173_V01.jp2',\n",
       " 'https://www.sidc.be/EUI/data/L3/2022/10/24/solo_L3_eui-hrieuv174-image_20221024T191825173_V01.jp2',\n",
       " 'https://www.sidc.be/EUI/data/L3/2022/10/24/solo_L3_eui-hrieuv174-image_20221024T191830173_V01.jp2',\n",
       " 'https://www.sidc.be/EUI/data/L3/2022/10/24/solo_L3_eui-hrieuv174-image_20221024T191835173_V01.jp2',\n",
       " 'https://www.sidc.be/EUI/data/L3/2022/10/24/solo_L3_eui-hrieuv174-image_20221024T191840173_V01.jp2',\n",
       " 'https://www.sidc.be/EUI/data/L3/2022/10/24/solo_L3_eui-hrieuv174-image_20221024T191845172_V01.jp2',\n",
       " 'https://www.sidc.be/EUI/data/L3/2022/10/24/solo_L3_eui-hrieuv174-image_20221024T191850173_V01.jp2',\n",
       " 'https://www.sidc.be/EUI/data/L3/2022/10/24/solo_L3_eui-hrieuv174-image_20221024T191855173_V01.jp2',\n",
       " 'https://www.sidc.be/EUI/data/L3/2022/10/24/solo_L3_eui-hrieuv174-image_20221024T191900193_V01.jp2',\n",
       " 'https://www.sidc.be/EUI/data/L3/2022/10/24/solo_L3_eui-hrieuv174-image_20221024T191905173_V01.jp2',\n",
       " 'https://www.sidc.be/EUI/data/L3/2022/10/24/solo_L3_eui-hrieuv174-image_20221024T191910173_V01.jp2',\n",
       " 'https://www.sidc.be/EUI/data/L3/2022/10/24/solo_L3_eui-hrieuv174-image_20221024T191915173_V01.jp2',\n",
       " 'https://www.sidc.be/EUI/data/L3/2022/10/24/solo_L3_eui-hrieuv174-image_20221024T191920173_V01.jp2',\n",
       " 'https://www.sidc.be/EUI/data/L3/2022/10/24/solo_L3_eui-hrieuv174-image_20221024T191925173_V01.jp2',\n",
       " 'https://www.sidc.be/EUI/data/L3/2022/10/24/solo_L3_eui-hrieuv174-image_20221024T191930173_V01.jp2',\n",
       " 'https://www.sidc.be/EUI/data/L3/2022/10/24/solo_L3_eui-hrieuv174-image_20221024T191935173_V01.jp2',\n",
       " 'https://www.sidc.be/EUI/data/L3/2022/10/24/solo_L3_eui-hrieuv174-image_20221024T191940173_V01.jp2',\n",
       " 'https://www.sidc.be/EUI/data/L3/2022/10/24/solo_L3_eui-hrieuv174-image_20221024T191945173_V01.jp2',\n",
       " 'https://www.sidc.be/EUI/data/L3/2022/10/24/solo_L3_eui-hrieuv174-image_20221024T191950173_V01.jp2',\n",
       " 'https://www.sidc.be/EUI/data/L3/2022/10/24/solo_L3_eui-hrieuv174-image_20221024T191955173_V01.jp2',\n",
       " 'https://www.sidc.be/EUI/data/L3/2022/10/24/solo_L3_eui-hrieuv174-image_20221024T192000173_V01.jp2',\n",
       " 'https://www.sidc.be/EUI/data/L3/2022/10/24/solo_L3_eui-hrieuv174-image_20221024T192005173_V01.jp2',\n",
       " 'https://www.sidc.be/EUI/data/L3/2022/10/24/solo_L3_eui-hrieuv174-image_20221024T192010203_V01.jp2',\n",
       " 'https://www.sidc.be/EUI/data/L3/2022/10/24/solo_L3_eui-hrieuv174-image_20221024T192015173_V01.jp2',\n",
       " 'https://www.sidc.be/EUI/data/L3/2022/10/24/solo_L3_eui-hrieuv174-image_20221024T192020173_V01.jp2',\n",
       " 'https://www.sidc.be/EUI/data/L3/2022/10/24/solo_L3_eui-hrieuv174-image_20221024T192025173_V01.jp2',\n",
       " 'https://www.sidc.be/EUI/data/L3/2022/10/24/solo_L3_eui-hrieuv174-image_20221024T192030173_V01.jp2',\n",
       " 'https://www.sidc.be/EUI/data/L3/2022/10/24/solo_L3_eui-hrieuv174-image_20221024T192035206_V01.jp2',\n",
       " 'https://www.sidc.be/EUI/data/L3/2022/10/24/solo_L3_eui-hrieuv174-image_20221024T192040173_V01.jp2',\n",
       " 'https://www.sidc.be/EUI/data/L3/2022/10/24/solo_L3_eui-hrieuv174-image_20221024T192045173_V01.jp2',\n",
       " 'https://www.sidc.be/EUI/data/L3/2022/10/24/solo_L3_eui-hrieuv174-image_20221024T192050173_V01.jp2',\n",
       " 'https://www.sidc.be/EUI/data/L3/2022/10/24/solo_L3_eui-hrieuv174-image_20221024T192055173_V01.jp2',\n",
       " 'https://www.sidc.be/EUI/data/L3/2022/10/24/solo_L3_eui-hrieuv174-image_20221024T192100173_V01.jp2',\n",
       " 'https://www.sidc.be/EUI/data/L3/2022/10/24/solo_L3_eui-hrieuv174-image_20221024T192105199_V01.jp2',\n",
       " 'https://www.sidc.be/EUI/data/L3/2022/10/24/solo_L3_eui-hrieuv174-image_20221024T192110173_V01.jp2',\n",
       " 'https://www.sidc.be/EUI/data/L3/2022/10/24/solo_L3_eui-hrieuv174-image_20221024T192115173_V01.jp2',\n",
       " 'https://www.sidc.be/EUI/data/L3/2022/10/24/solo_L3_eui-hrieuv174-image_20221024T192120173_V01.jp2',\n",
       " 'https://www.sidc.be/EUI/data/L3/2022/10/24/solo_L3_eui-hrieuv174-image_20221024T192125172_V01.jp2',\n",
       " 'https://www.sidc.be/EUI/data/L3/2022/10/24/solo_L3_eui-hrieuv174-image_20221024T192130173_V01.jp2',\n",
       " 'https://www.sidc.be/EUI/data/L3/2022/10/24/solo_L3_eui-hrieuv174-image_20221024T192135173_V01.jp2',\n",
       " 'https://www.sidc.be/EUI/data/L3/2022/10/24/solo_L3_eui-hrieuv174-image_20221024T192140172_V01.jp2',\n",
       " 'https://www.sidc.be/EUI/data/L3/2022/10/24/solo_L3_eui-hrieuv174-image_20221024T192145173_V01.jp2',\n",
       " 'https://www.sidc.be/EUI/data/L3/2022/10/24/solo_L3_eui-hrieuv174-image_20221024T192150173_V01.jp2',\n",
       " 'https://www.sidc.be/EUI/data/L3/2022/10/24/solo_L3_eui-hrieuv174-image_20221024T192155173_V01.jp2',\n",
       " 'https://www.sidc.be/EUI/data/L3/2022/10/24/solo_L3_eui-hrieuv174-image_20221024T192200173_V01.jp2',\n",
       " 'https://www.sidc.be/EUI/data/L3/2022/10/24/solo_L3_eui-hrieuv174-image_20221024T192205173_V01.jp2',\n",
       " 'https://www.sidc.be/EUI/data/L3/2022/10/24/solo_L3_eui-hrieuv174-image_20221024T192210173_V01.jp2',\n",
       " 'https://www.sidc.be/EUI/data/L3/2022/10/24/solo_L3_eui-hrieuv174-image_20221024T192215173_V01.jp2',\n",
       " 'https://www.sidc.be/EUI/data/L3/2022/10/24/solo_L3_eui-hrieuv174-image_20221024T192220173_V01.jp2',\n",
       " 'https://www.sidc.be/EUI/data/L3/2022/10/24/solo_L3_eui-hrieuv174-image_20221024T192225173_V01.jp2',\n",
       " 'https://www.sidc.be/EUI/data/L3/2022/10/24/solo_L3_eui-hrieuv174-image_20221024T192230173_V01.jp2',\n",
       " 'https://www.sidc.be/EUI/data/L3/2022/10/24/solo_L3_eui-hrieuv174-image_20221024T192235173_V01.jp2',\n",
       " 'https://www.sidc.be/EUI/data/L3/2022/10/24/solo_L3_eui-hrieuv174-image_20221024T192240205_V01.jp2',\n",
       " 'https://www.sidc.be/EUI/data/L3/2022/10/24/solo_L3_eui-hrieuv174-image_20221024T192245173_V01.jp2',\n",
       " 'https://www.sidc.be/EUI/data/L3/2022/10/24/solo_L3_eui-hrieuv174-image_20221024T192250173_V01.jp2',\n",
       " 'https://www.sidc.be/EUI/data/L3/2022/10/24/solo_L3_eui-hrieuv174-image_20221024T192255173_V01.jp2',\n",
       " 'https://www.sidc.be/EUI/data/L3/2022/10/24/solo_L3_eui-hrieuv174-image_20221024T192300173_V01.jp2',\n",
       " 'https://www.sidc.be/EUI/data/L3/2022/10/24/solo_L3_eui-hrieuv174-image_20221024T192305210_V01.jp2',\n",
       " 'https://www.sidc.be/EUI/data/L3/2022/10/24/solo_L3_eui-hrieuv174-image_20221024T192310173_V01.jp2',\n",
       " 'https://www.sidc.be/EUI/data/L3/2022/10/24/solo_L3_eui-hrieuv174-image_20221024T192315173_V01.jp2',\n",
       " 'https://www.sidc.be/EUI/data/L3/2022/10/24/solo_L3_eui-hrieuv174-image_20221024T192320173_V01.jp2',\n",
       " 'https://www.sidc.be/EUI/data/L3/2022/10/24/solo_L3_eui-hrieuv174-image_20221024T192325173_V01.jp2',\n",
       " 'https://www.sidc.be/EUI/data/L3/2022/10/24/solo_L3_eui-hrieuv174-image_20221024T192330173_V01.jp2',\n",
       " 'https://www.sidc.be/EUI/data/L3/2022/10/24/solo_L3_eui-hrieuv174-image_20221024T192335173_V01.jp2',\n",
       " 'https://www.sidc.be/EUI/data/L3/2022/10/24/solo_L3_eui-hrieuv174-image_20221024T192340173_V01.jp2',\n",
       " 'https://www.sidc.be/EUI/data/L3/2022/10/24/solo_L3_eui-hrieuv174-image_20221024T192345173_V01.jp2',\n",
       " 'https://www.sidc.be/EUI/data/L3/2022/10/24/solo_L3_eui-hrieuv174-image_20221024T192350173_V01.jp2',\n",
       " 'https://www.sidc.be/EUI/data/L3/2022/10/24/solo_L3_eui-hrieuv174-image_20221024T192355173_V01.jp2',\n",
       " 'https://www.sidc.be/EUI/data/L3/2022/10/24/solo_L3_eui-hrieuv174-image_20221024T192400173_V01.jp2',\n",
       " 'https://www.sidc.be/EUI/data/L3/2022/10/24/solo_L3_eui-hrieuv174-image_20221024T192405173_V01.jp2',\n",
       " 'https://www.sidc.be/EUI/data/L3/2022/10/24/solo_L3_eui-hrieuv174-image_20221024T192410189_V01.jp2',\n",
       " 'https://www.sidc.be/EUI/data/L3/2022/10/24/solo_L3_eui-hrieuv174-image_20221024T192415173_V01.jp2',\n",
       " 'https://www.sidc.be/EUI/data/L3/2022/10/24/solo_L3_eui-hrieuv174-image_20221024T192420173_V01.jp2',\n",
       " 'https://www.sidc.be/EUI/data/L3/2022/10/24/solo_L3_eui-hrieuv174-image_20221024T192425173_V01.jp2',\n",
       " 'https://www.sidc.be/EUI/data/L3/2022/10/24/solo_L3_eui-hrieuv174-image_20221024T192430173_V01.jp2',\n",
       " 'https://www.sidc.be/EUI/data/L3/2022/10/24/solo_L3_eui-hrieuv174-image_20221024T192435173_V01.jp2',\n",
       " 'https://www.sidc.be/EUI/data/L3/2022/10/24/solo_L3_eui-hrieuv174-image_20221024T192440181_V01.jp2',\n",
       " 'https://www.sidc.be/EUI/data/L3/2022/10/24/solo_L3_eui-hrieuv174-image_20221024T192445173_V01.jp2',\n",
       " 'https://www.sidc.be/EUI/data/L3/2022/10/24/solo_L3_eui-hrieuv174-image_20221024T192450173_V01.jp2',\n",
       " 'https://www.sidc.be/EUI/data/L3/2022/10/24/solo_L3_eui-hrieuv174-image_20221024T192455173_V01.jp2',\n",
       " 'https://www.sidc.be/EUI/data/L3/2022/10/24/solo_L3_eui-hrieuv174-image_20221024T192500173_V01.jp2',\n",
       " 'https://www.sidc.be/EUI/data/L3/2022/10/24/solo_L3_eui-hrieuv174-image_20221024T192505173_V01.jp2',\n",
       " 'https://www.sidc.be/EUI/data/L3/2022/10/24/solo_L3_eui-hrieuv174-image_20221024T192510173_V01.jp2',\n",
       " 'https://www.sidc.be/EUI/data/L3/2022/10/24/solo_L3_eui-hrieuv174-image_20221024T192515173_V01.jp2',\n",
       " 'https://www.sidc.be/EUI/data/L3/2022/10/24/solo_L3_eui-hrieuv174-image_20221024T192520173_V01.jp2',\n",
       " 'https://www.sidc.be/EUI/data/L3/2022/10/24/solo_L3_eui-hrieuv174-image_20221024T192525173_V01.jp2',\n",
       " 'https://www.sidc.be/EUI/data/L3/2022/10/24/solo_L3_eui-hrieuv174-image_20221024T192530173_V01.jp2',\n",
       " 'https://www.sidc.be/EUI/data/L3/2022/10/24/solo_L3_eui-hrieuv174-image_20221024T192535173_V01.jp2',\n",
       " 'https://www.sidc.be/EUI/data/L3/2022/10/24/solo_L3_eui-hrieuv174-image_20221024T192540174_V01.jp2',\n",
       " 'https://www.sidc.be/EUI/data/L3/2022/10/24/solo_L3_eui-hrieuv174-image_20221024T192545173_V01.jp2',\n",
       " 'https://www.sidc.be/EUI/data/L3/2022/10/24/solo_L3_eui-hrieuv174-image_20221024T192550174_V01.jp2',\n",
       " 'https://www.sidc.be/EUI/data/L3/2022/10/24/solo_L3_eui-hrieuv174-image_20221024T192555174_V01.jp2',\n",
       " 'https://www.sidc.be/EUI/data/L3/2022/10/24/solo_L3_eui-hrieuv174-image_20221024T192600173_V01.jp2',\n",
       " 'https://www.sidc.be/EUI/data/L3/2022/10/24/solo_L3_eui-hrieuv174-image_20221024T192605187_V01.jp2',\n",
       " 'https://www.sidc.be/EUI/data/L3/2022/10/24/solo_L3_eui-hrieuv174-image_20221024T192610191_V01.jp2',\n",
       " 'https://www.sidc.be/EUI/data/L3/2022/10/24/solo_L3_eui-hrieuv174-image_20221024T192615173_V01.jp2',\n",
       " 'https://www.sidc.be/EUI/data/L3/2022/10/24/solo_L3_eui-hrieuv174-image_20221024T192620173_V01.jp2',\n",
       " 'https://www.sidc.be/EUI/data/L3/2022/10/24/solo_L3_eui-hrieuv174-image_20221024T192625174_V01.jp2',\n",
       " 'https://www.sidc.be/EUI/data/L3/2022/10/24/solo_L3_eui-hrieuv174-image_20221024T192630201_V01.jp2',\n",
       " 'https://www.sidc.be/EUI/data/L3/2022/10/24/solo_L3_eui-hrieuv174-image_20221024T192635173_V01.jp2',\n",
       " 'https://www.sidc.be/EUI/data/L3/2022/10/24/solo_L3_eui-hrieuv174-image_20221024T192640173_V01.jp2',\n",
       " 'https://www.sidc.be/EUI/data/L3/2022/10/24/solo_L3_eui-hrieuv174-image_20221024T192645174_V01.jp2',\n",
       " 'https://www.sidc.be/EUI/data/L3/2022/10/24/solo_L3_eui-hrieuv174-image_20221024T192650174_V01.jp2',\n",
       " 'https://www.sidc.be/EUI/data/L3/2022/10/24/solo_L3_eui-hrieuv174-image_20221024T192655173_V01.jp2',\n",
       " 'https://www.sidc.be/EUI/data/L3/2022/10/24/solo_L3_eui-hrieuv174-image_20221024T192700173_V01.jp2',\n",
       " 'https://www.sidc.be/EUI/data/L3/2022/10/24/solo_L3_eui-hrieuv174-image_20221024T192705173_V01.jp2',\n",
       " 'https://www.sidc.be/EUI/data/L3/2022/10/24/solo_L3_eui-hrieuv174-image_20221024T192710174_V01.jp2',\n",
       " 'https://www.sidc.be/EUI/data/L3/2022/10/24/solo_L3_eui-hrieuv174-image_20221024T192715174_V01.jp2',\n",
       " 'https://www.sidc.be/EUI/data/L3/2022/10/24/solo_L3_eui-hrieuv174-image_20221024T192720174_V01.jp2',\n",
       " 'https://www.sidc.be/EUI/data/L3/2022/10/24/solo_L3_eui-hrieuv174-image_20221024T192725174_V01.jp2',\n",
       " 'https://www.sidc.be/EUI/data/L3/2022/10/24/solo_L3_eui-hrieuv174-image_20221024T192730174_V01.jp2',\n",
       " 'https://www.sidc.be/EUI/data/L3/2022/10/24/solo_L3_eui-hrieuv174-image_20221024T192735189_V01.jp2',\n",
       " 'https://www.sidc.be/EUI/data/L3/2022/10/24/solo_L3_eui-hrieuv174-image_20221024T192740174_V01.jp2',\n",
       " 'https://www.sidc.be/EUI/data/L3/2022/10/24/solo_L3_eui-hrieuv174-image_20221024T192745174_V01.jp2',\n",
       " 'https://www.sidc.be/EUI/data/L3/2022/10/24/solo_L3_eui-hrieuv174-image_20221024T192750174_V01.jp2',\n",
       " 'https://www.sidc.be/EUI/data/L3/2022/10/24/solo_L3_eui-hrieuv174-image_20221024T192755188_V01.jp2',\n",
       " 'https://www.sidc.be/EUI/data/L3/2022/10/24/solo_L3_eui-hrieuv174-image_20221024T192800174_V01.jp2',\n",
       " 'https://www.sidc.be/EUI/data/L3/2022/10/24/solo_L3_eui-hrieuv174-image_20221024T192805173_V01.jp2',\n",
       " 'https://www.sidc.be/EUI/data/L3/2022/10/24/solo_L3_eui-hrieuv174-image_20221024T192810199_V01.jp2',\n",
       " 'https://www.sidc.be/EUI/data/L3/2022/10/24/solo_L3_eui-hrieuv174-image_20221024T192815174_V01.jp2',\n",
       " 'https://www.sidc.be/EUI/data/L3/2022/10/24/solo_L3_eui-hrieuv174-image_20221024T192820204_V01.jp2',\n",
       " 'https://www.sidc.be/EUI/data/L3/2022/10/24/solo_L3_eui-hrieuv174-image_20221024T192825173_V01.jp2',\n",
       " 'https://www.sidc.be/EUI/data/L3/2022/10/24/solo_L3_eui-hrieuv174-image_20221024T192830174_V01.jp2',\n",
       " 'https://www.sidc.be/EUI/data/L3/2022/10/24/solo_L3_eui-hrieuv174-image_20221024T192835174_V01.jp2',\n",
       " 'https://www.sidc.be/EUI/data/L3/2022/10/24/solo_L3_eui-hrieuv174-image_20221024T192840174_V01.jp2',\n",
       " 'https://www.sidc.be/EUI/data/L3/2022/10/24/solo_L3_eui-hrieuv174-image_20221024T192845174_V01.jp2',\n",
       " 'https://www.sidc.be/EUI/data/L3/2022/10/24/solo_L3_eui-hrieuv174-image_20221024T192850174_V01.jp2',\n",
       " 'https://www.sidc.be/EUI/data/L3/2022/10/24/solo_L3_eui-hrieuv174-image_20221024T192855202_V01.jp2',\n",
       " 'https://www.sidc.be/EUI/data/L3/2022/10/24/solo_L3_eui-hrieuv174-image_20221024T192900174_V01.jp2',\n",
       " 'https://www.sidc.be/EUI/data/L3/2022/10/24/solo_L3_eui-hrieuv174-image_20221024T192905174_V01.jp2',\n",
       " 'https://www.sidc.be/EUI/data/L3/2022/10/24/solo_L3_eui-hrieuv174-image_20221024T192910174_V01.jp2',\n",
       " 'https://www.sidc.be/EUI/data/L3/2022/10/24/solo_L3_eui-hrieuv174-image_20221024T192915174_V01.jp2',\n",
       " 'https://www.sidc.be/EUI/data/L3/2022/10/24/solo_L3_eui-hrieuv174-image_20221024T192920188_V01.jp2',\n",
       " 'https://www.sidc.be/EUI/data/L3/2022/10/24/solo_L3_eui-hrieuv174-image_20221024T192925174_V01.jp2',\n",
       " 'https://www.sidc.be/EUI/data/L3/2022/10/24/solo_L3_eui-hrieuv174-image_20221024T192930174_V01.jp2',\n",
       " 'https://www.sidc.be/EUI/data/L3/2022/10/24/solo_L3_eui-hrieuv174-image_20221024T192935196_V01.jp2',\n",
       " 'https://www.sidc.be/EUI/data/L3/2022/10/24/solo_L3_eui-hrieuv174-image_20221024T192940206_V01.jp2',\n",
       " 'https://www.sidc.be/EUI/data/L3/2022/10/24/solo_L3_eui-hrieuv174-image_20221024T192945174_V01.jp2',\n",
       " 'https://www.sidc.be/EUI/data/L3/2022/10/24/solo_L3_eui-hrieuv174-image_20221024T192950174_V01.jp2',\n",
       " 'https://www.sidc.be/EUI/data/L3/2022/10/24/solo_L3_eui-hrieuv174-image_20221024T192955174_V01.jp2']"
      ]
     },
     "execution_count": 42,
     "metadata": {},
     "output_type": "execute_result"
    }
   ],
   "source": [
    "eui_file_urls"
   ]
  },
  {
   "cell_type": "code",
   "execution_count": 23,
   "id": "0eb8cd57",
   "metadata": {},
   "outputs": [
    {
     "data": {
      "application/vnd.jupyter.widget-view+json": {
       "model_id": "e0497785661e41c1b3c12c24d7b1f478",
       "version_major": 2,
       "version_minor": 0
      },
      "text/plain": [
       "Files Downloaded:   0%|          | 0/360 [00:00<?, ?file/s]"
      ]
     },
     "metadata": {},
     "output_type": "display_data"
    }
   ],
   "source": [
    "f = fetch_eui_files(eui_file_urls, timerange)"
   ]
  },
  {
   "cell_type": "code",
   "execution_count": 24,
   "id": "3fbfd3ff",
   "metadata": {},
   "outputs": [
    {
     "data": {
      "text/plain": [
       "['eui_files_20221024_1900/solo_L3_eui-hrieuv174-image_20221024T190000171_V01.jp2',\n",
       " 'eui_files_20221024_1900/solo_L3_eui-hrieuv174-image_20221024T190005171_V01.jp2',\n",
       " 'eui_files_20221024_1900/solo_L3_eui-hrieuv174-image_20221024T190010171_V01.jp2',\n",
       " 'eui_files_20221024_1900/solo_L3_eui-hrieuv174-image_20221024T190015170_V01.jp2',\n",
       " 'eui_files_20221024_1900/solo_L3_eui-hrieuv174-image_20221024T190020171_V01.jp2',\n",
       " 'eui_files_20221024_1900/solo_L3_eui-hrieuv174-image_20221024T190025171_V01.jp2',\n",
       " 'eui_files_20221024_1900/solo_L3_eui-hrieuv174-image_20221024T190030171_V01.jp2',\n",
       " 'eui_files_20221024_1900/solo_L3_eui-hrieuv174-image_20221024T190035171_V01.jp2',\n",
       " 'eui_files_20221024_1900/solo_L3_eui-hrieuv174-image_20221024T190040171_V01.jp2',\n",
       " 'eui_files_20221024_1900/solo_L3_eui-hrieuv174-image_20221024T190045171_V01.jp2']"
      ]
     },
     "execution_count": 24,
     "metadata": {},
     "output_type": "execute_result"
    }
   ],
   "source": [
    "f.data[0:10]"
   ]
  },
  {
   "cell_type": "markdown",
   "id": "2ca2bbf6",
   "metadata": {},
   "source": [
    "## Search all available data from the CSV file"
   ]
  },
  {
   "cell_type": "code",
   "execution_count": 25,
   "id": "ee358ff9",
   "metadata": {},
   "outputs": [],
   "source": [
    "eui_df = pd.read_csv(\"../eui_hri_list.csv\")"
   ]
  },
  {
   "cell_type": "code",
   "execution_count": 26,
   "id": "26ec6e95",
   "metadata": {},
   "outputs": [
    {
     "data": {
      "text/html": [
       "<div>\n",
       "<style scoped>\n",
       "    .dataframe tbody tr th:only-of-type {\n",
       "        vertical-align: middle;\n",
       "    }\n",
       "\n",
       "    .dataframe tbody tr th {\n",
       "        vertical-align: top;\n",
       "    }\n",
       "\n",
       "    .dataframe thead th {\n",
       "        text-align: right;\n",
       "    }\n",
       "</style>\n",
       "<table border=\"1\" class=\"dataframe\">\n",
       "  <thead>\n",
       "    <tr style=\"text-align: right;\">\n",
       "      <th></th>\n",
       "      <th>DATANAME</th>\n",
       "      <th>START DATE &amp; TIME</th>\n",
       "      <th>END DATE &amp; TIME</th>\n",
       "      <th>CADENCE (s)</th>\n",
       "      <th>DISTANCE (AU)</th>\n",
       "      <th>FILE #</th>\n",
       "      <th>SOOPNAME</th>\n",
       "      <th>080223_Updated_DayeLim</th>\n",
       "    </tr>\n",
       "  </thead>\n",
       "  <tbody>\n",
       "    <tr>\n",
       "      <th>0</th>\n",
       "      <td>hrieuvopn</td>\n",
       "      <td>20220306T173446658</td>\n",
       "      <td>20220306T173458593</td>\n",
       "      <td>2</td>\n",
       "      <td>0.50</td>\n",
       "      <td>7</td>\n",
       "      <td>L_SMALL_HRES_HCAD_Slow-Wind-Connection;R_SMALL...</td>\n",
       "      <td>NaN</td>\n",
       "    </tr>\n",
       "    <tr>\n",
       "      <th>1</th>\n",
       "      <td>hrieuv174</td>\n",
       "      <td>20220307T002946572</td>\n",
       "      <td>20220307T002958508</td>\n",
       "      <td>2</td>\n",
       "      <td>0.50</td>\n",
       "      <td>7</td>\n",
       "      <td>R_BOTH_HRES_HCAD_Nanoflares</td>\n",
       "      <td>NaN</td>\n",
       "    </tr>\n",
       "    <tr>\n",
       "      <th>2</th>\n",
       "      <td>hrieuv174</td>\n",
       "      <td>20220307T003100224</td>\n",
       "      <td>20220307T020955227</td>\n",
       "      <td>5</td>\n",
       "      <td>0.50</td>\n",
       "      <td>1188</td>\n",
       "      <td>R_BOTH_HRES_HCAD_Nanoflares</td>\n",
       "      <td>NaN</td>\n",
       "    </tr>\n",
       "    <tr>\n",
       "      <th>3</th>\n",
       "      <td>hrieuv174</td>\n",
       "      <td>20220308T000003811</td>\n",
       "      <td>20220308T002921224</td>\n",
       "      <td>3</td>\n",
       "      <td>0.49</td>\n",
       "      <td>587</td>\n",
       "      <td>R_BOTH_HRES_HCAD_Nanoflares</td>\n",
       "      <td>NaN</td>\n",
       "    </tr>\n",
       "    <tr>\n",
       "      <th>4</th>\n",
       "      <td>hrieuvopn</td>\n",
       "      <td>20220308T003100231</td>\n",
       "      <td>20220308T020955233</td>\n",
       "      <td>5</td>\n",
       "      <td>0.49</td>\n",
       "      <td>1188</td>\n",
       "      <td>R_BOTH_HRES_HCAD_Nanoflares</td>\n",
       "      <td>NaN</td>\n",
       "    </tr>\n",
       "  </tbody>\n",
       "</table>\n",
       "</div>"
      ],
      "text/plain": [
       "    DATANAME   START DATE & TIME     END DATE & TIME  CADENCE (s)  \\\n",
       "0  hrieuvopn  20220306T173446658  20220306T173458593            2   \n",
       "1  hrieuv174  20220307T002946572  20220307T002958508            2   \n",
       "2  hrieuv174  20220307T003100224  20220307T020955227            5   \n",
       "3  hrieuv174  20220308T000003811  20220308T002921224            3   \n",
       "4  hrieuvopn  20220308T003100231  20220308T020955233            5   \n",
       "\n",
       "   DISTANCE (AU)  FILE #                                           SOOPNAME  \\\n",
       "0           0.50       7  L_SMALL_HRES_HCAD_Slow-Wind-Connection;R_SMALL...   \n",
       "1           0.50       7                        R_BOTH_HRES_HCAD_Nanoflares   \n",
       "2           0.50    1188                        R_BOTH_HRES_HCAD_Nanoflares   \n",
       "3           0.49     587                        R_BOTH_HRES_HCAD_Nanoflares   \n",
       "4           0.49    1188                        R_BOTH_HRES_HCAD_Nanoflares   \n",
       "\n",
       "   080223_Updated_DayeLim  \n",
       "0                     NaN  \n",
       "1                     NaN  \n",
       "2                     NaN  \n",
       "3                     NaN  \n",
       "4                     NaN  "
      ]
     },
     "execution_count": 26,
     "metadata": {},
     "output_type": "execute_result"
    }
   ],
   "source": [
    "eui_df.head()"
   ]
  },
  {
   "cell_type": "code",
   "execution_count": 27,
   "id": "bd0b6abb",
   "metadata": {},
   "outputs": [],
   "source": [
    "eui_df[\"start_time\"] = pd.to_datetime(eui_df[\"START DATE & TIME\"], format=\"%Y%m%dT%H%M%S%f\")\n",
    "eui_df[\"end_time\"] = pd.to_datetime(eui_df[\"END DATE & TIME\"], format=\"%Y%m%dT%H%M%S%f\")"
   ]
  },
  {
   "cell_type": "code",
   "execution_count": 51,
   "id": "84408070",
   "metadata": {},
   "outputs": [],
   "source": [
    "eui_df_new = eui_df[eui_df[\"start_time\"]>=\"2022-03-31\"]\n",
    "#eui_df_new.reset_index(inplace=True)"
   ]
  },
  {
   "cell_type": "code",
   "execution_count": 52,
   "id": "366c602e",
   "metadata": {},
   "outputs": [
    {
     "data": {
      "text/plain": [
       "18   2022-10-12 05:25:00.239\n",
       "19   2022-10-13 13:06:00.194\n",
       "20   2022-10-13 13:58:24.221\n",
       "21   2022-10-13 17:00:00.225\n",
       "22   2022-10-14 03:40:00.162\n",
       "23   2022-10-14 14:00:00.231\n",
       "24   2022-10-14 23:55:00.170\n",
       "25   2022-10-15 06:40:00.214\n",
       "26   2022-10-15 07:06:15.237\n",
       "27   2022-10-15 14:00:00.262\n",
       "28   2022-10-16 04:00:00.227\n",
       "29   2022-10-16 10:30:02.253\n",
       "30   2022-10-17 07:00:00.270\n",
       "31   2022-10-18 14:00:00.222\n",
       "32   2022-10-19 19:00:00.165\n",
       "33   2022-10-20 19:00:00.196\n",
       "34   2022-10-21 19:00:00.226\n",
       "35   2022-10-21 19:21:25.255\n",
       "36   2022-10-22 19:00:00.257\n",
       "37   2022-10-23 19:00:00.274\n",
       "38   2022-10-24 19:00:00.171\n",
       "39   2022-10-25 19:00:00.202\n",
       "40   2022-10-26 19:00:00.227\n",
       "41   2022-10-26 19:24:05.256\n",
       "42   2022-10-29 05:00:00.231\n",
       "43   2022-10-29 19:00:00.192\n",
       "44   2022-10-29 22:00:00.212\n",
       "45   2022-10-30 22:00:00.239\n",
       "46   2022-10-31 22:00:00.266\n",
       "47   2022-11-01 06:55:00.204\n",
       "Name: start_time, dtype: datetime64[ns]"
      ]
     },
     "execution_count": 52,
     "metadata": {},
     "output_type": "execute_result"
    }
   ],
   "source": [
    "eui_df_new[\"start_time\"]"
   ]
  },
  {
   "cell_type": "markdown",
   "id": "9735ec40",
   "metadata": {},
   "source": [
    "## Download all available data for over these timeranges"
   ]
  },
  {
   "cell_type": "code",
   "execution_count": 58,
   "id": "bcdd6589",
   "metadata": {},
   "outputs": [],
   "source": [
    "interesting_indices = [35, 38, 39, 40, 47] # interesting indices with STIX data"
   ]
  },
  {
   "cell_type": "code",
   "execution_count": 69,
   "id": "f71ff943",
   "metadata": {},
   "outputs": [],
   "source": [
    "for i in interesting_indices:\n",
    "    timerange = TimeRange(eui_df_new.loc[i][\"start_time\"], eui_df_new.loc[i][\"end_time\"])\n",
    "    eui_file_urls = get_eui_filelist(timerange)\n",
    "    if len(eui_file_urls)>0:\n",
    "        fetch_eui_files(eui_file_urls, timerange)"
   ]
  },
  {
   "cell_type": "markdown",
   "id": "a6dac2e5",
   "metadata": {},
   "source": [
    "## Test files"
   ]
  },
  {
   "cell_type": "code",
   "execution_count": 11,
   "id": "d0b84f06",
   "metadata": {},
   "outputs": [],
   "source": [
    "eui_files = glob.glob(\"./eui_files_20221024_1900/*\")"
   ]
  },
  {
   "cell_type": "code",
   "execution_count": 12,
   "id": "d28ba989",
   "metadata": {},
   "outputs": [
    {
     "data": {
      "text/plain": [
       "['./eui_files_20221024_1900/solo_L3_eui-hrieuv174-image_20221024T192015173_V01.jp2',\n",
       " './eui_files_20221024_1900/solo_L3_eui-hrieuv174-image_20221024T192815174_V01.jp2',\n",
       " './eui_files_20221024_1900/solo_L3_eui-hrieuv174-image_20221024T190705171_V01.jp2',\n",
       " './eui_files_20221024_1900/solo_L3_eui-hrieuv174-image_20221024T191015172_V01.jp2',\n",
       " './eui_files_20221024_1900/solo_L3_eui-hrieuv174-image_20221024T192040173_V01.jp2',\n",
       " './eui_files_20221024_1900/solo_L3_eui-hrieuv174-image_20221024T192840174_V01.jp2',\n",
       " './eui_files_20221024_1900/solo_L3_eui-hrieuv174-image_20221024T190005171_V01.jp2',\n",
       " './eui_files_20221024_1900/solo_L3_eui-hrieuv174-image_20221024T190750171_V01.jp2',\n",
       " './eui_files_20221024_1900/solo_L3_eui-hrieuv174-image_20221024T191040172_V01.jp2',\n",
       " './eui_files_20221024_1900/solo_L3_eui-hrieuv174-image_20221024T191745173_V01.jp2',\n",
       " './eui_files_20221024_1900/solo_L3_eui-hrieuv174-image_20221024T192435173_V01.jp2',\n",
       " './eui_files_20221024_1900/solo_L3_eui-hrieuv174-image_20221024T191955173_V01.jp2',\n",
       " './eui_files_20221024_1900/solo_L3_eui-hrieuv174-image_20221024T191435172_V01.jp2',\n",
       " './eui_files_20221024_1900/solo_L3_eui-hrieuv174-image_20221024T192335173_V01.jp2',\n",
       " './eui_files_20221024_1900/solo_L3_eui-hrieuv174-image_20221024T190515172_V01.jp2',\n",
       " './eui_files_20221024_1900/solo_L3_eui-hrieuv174-image_20221024T190425171_V01.jp2',\n",
       " './eui_files_20221024_1900/solo_L3_eui-hrieuv174-image_20221024T191335172_V01.jp2',\n",
       " './eui_files_20221024_1900/solo_L3_eui-hrieuv174-image_20221024T192650174_V01.jp2',\n",
       " './eui_files_20221024_1900/solo_L3_eui-hrieuv174-image_20221024T190940171_V01.jp2',\n",
       " './eui_files_20221024_1900/solo_L3_eui-hrieuv174-image_20221024T190920172_V01.jp2',\n",
       " './eui_files_20221024_1900/solo_L3_eui-hrieuv174-image_20221024T192630201_V01.jp2',\n",
       " './eui_files_20221024_1900/solo_L3_eui-hrieuv174-image_20221024T192230173_V01.jp2',\n",
       " './eui_files_20221024_1900/solo_L3_eui-hrieuv174-image_20221024T191230172_V01.jp2',\n",
       " './eui_files_20221024_1900/solo_L3_eui-hrieuv174-image_20221024T190520171_V01.jp2',\n",
       " './eui_files_20221024_1900/solo_L3_eui-hrieuv174-image_20221024T191850173_V01.jp2',\n",
       " './eui_files_20221024_1900/solo_L3_eui-hrieuv174-image_20221024T192530173_V01.jp2',\n",
       " './eui_files_20221024_1900/solo_L3_eui-hrieuv174-image_20221024T191530172_V01.jp2',\n",
       " './eui_files_20221024_1900/solo_L3_eui-hrieuv174-image_20221024T192105199_V01.jp2',\n",
       " './eui_files_20221024_1900/solo_L3_eui-hrieuv174-image_20221024T191640173_V01.jp2',\n",
       " './eui_files_20221024_1900/solo_L3_eui-hrieuv174-image_20221024T192140172_V01.jp2',\n",
       " './eui_files_20221024_1900/solo_L3_eui-hrieuv174-image_20221024T192945174_V01.jp2',\n",
       " './eui_files_20221024_1900/solo_L3_eui-hrieuv174-image_20221024T192145173_V01.jp2',\n",
       " './eui_files_20221024_1900/solo_L3_eui-hrieuv174-image_20221024T190655171_V01.jp2',\n",
       " './eui_files_20221024_1900/solo_L3_eui-hrieuv174-image_20221024T190100171_V01.jp2',\n",
       " './eui_files_20221024_1900/solo_L3_eui-hrieuv174-image_20221024T192910174_V01.jp2',\n",
       " './eui_files_20221024_1900/solo_L3_eui-hrieuv174-image_20221024T192110173_V01.jp2',\n",
       " './eui_files_20221024_1900/solo_L3_eui-hrieuv174-image_20221024T190155171_V01.jp2',\n",
       " './eui_files_20221024_1900/solo_L3_eui-hrieuv174-image_20221024T191110172_V01.jp2',\n",
       " './eui_files_20221024_1900/solo_L3_eui-hrieuv174-image_20221024T190600171_V01.jp2',\n",
       " './eui_files_20221024_1900/solo_L3_eui-hrieuv174-image_20221024T190525171_V01.jp2',\n",
       " './eui_files_20221024_1900/solo_L3_eui-hrieuv174-image_20221024T191800173_V01.jp2',\n",
       " './eui_files_20221024_1900/solo_L3_eui-hrieuv174-image_20221024T192235173_V01.jp2',\n",
       " './eui_files_20221024_1900/solo_L3_eui-hrieuv174-image_20221024T191535172_V01.jp2',\n",
       " './eui_files_20221024_1900/solo_L3_eui-hrieuv174-image_20221024T190225171_V01.jp2',\n",
       " './eui_files_20221024_1900/solo_L3_eui-hrieuv174-image_20221024T190440172_V01.jp2',\n",
       " './eui_files_20221024_1900/solo_L3_eui-hrieuv174-image_20221024T192535173_V01.jp2',\n",
       " './eui_files_20221024_1900/solo_L3_eui-hrieuv174-image_20221024T191855173_V01.jp2',\n",
       " './eui_files_20221024_1900/solo_L3_eui-hrieuv174-image_20221024T191105199_V01.jp2',\n",
       " './eui_files_20221024_1900/solo_L3_eui-hrieuv174-image_20221024T190925172_V01.jp2',\n",
       " './eui_files_20221024_1900/solo_L3_eui-hrieuv174-image_20221024T192805173_V01.jp2',\n",
       " './eui_files_20221024_1900/solo_L3_eui-hrieuv174-image_20221024T192750174_V01.jp2',\n",
       " './eui_files_20221024_1900/solo_L3_eui-hrieuv174-image_20221024T191615172_V01.jp2',\n",
       " './eui_files_20221024_1900/solo_L3_eui-hrieuv174-image_20221024T190105171_V01.jp2',\n",
       " './eui_files_20221024_1900/solo_L3_eui-hrieuv174-image_20221024T191140172_V01.jp2',\n",
       " './eui_files_20221024_1900/solo_L3_eui-hrieuv174-image_20221024T190650171_V01.jp2',\n",
       " './eui_files_20221024_1900/solo_L3_eui-hrieuv174-image_20221024T192615173_V01.jp2',\n",
       " './eui_files_20221024_1900/solo_L3_eui-hrieuv174-image_20221024T190605171_V01.jp2',\n",
       " './eui_files_20221024_1900/solo_L3_eui-hrieuv174-image_20221024T190150171_V01.jp2',\n",
       " './eui_files_20221024_1900/solo_L3_eui-hrieuv174-image_20221024T192915174_V01.jp2',\n",
       " './eui_files_20221024_1900/solo_L3_eui-hrieuv174-image_20221024T192115173_V01.jp2',\n",
       " './eui_files_20221024_1900/solo_L3_eui-hrieuv174-image_20221024T190735172_V01.jp2',\n",
       " './eui_files_20221024_1900/solo_L3_eui-hrieuv174-image_20221024T192640173_V01.jp2',\n",
       " './eui_files_20221024_1900/solo_L3_eui-hrieuv174-image_20221024T190505203_V01.jp2',\n",
       " './eui_files_20221024_1900/solo_L3_eui-hrieuv174-image_20221024T191645173_V01.jp2',\n",
       " './eui_files_20221024_1900/solo_L3_eui-hrieuv174-image_20221024T192810199_V01.jp2',\n",
       " './eui_files_20221024_1900/solo_L3_eui-hrieuv174-image_20221024T191610173_V01.jp2',\n",
       " './eui_files_20221024_1900/solo_L3_eui-hrieuv174-image_20221024T191715173_V01.jp2',\n",
       " './eui_files_20221024_1900/solo_L3_eui-hrieuv174-image_20221024T190115183_V01.jp2',\n",
       " './eui_files_20221024_1900/solo_L3_eui-hrieuv174-image_20221024T191740173_V01.jp2',\n",
       " './eui_files_20221024_1900/solo_L3_eui-hrieuv174-image_20221024T190055171_V01.jp2',\n",
       " './eui_files_20221024_1900/solo_L3_eui-hrieuv174-image_20221024T190700171_V01.jp2',\n",
       " './eui_files_20221024_1900/solo_L3_eui-hrieuv174-image_20221024T191010172_V01.jp2',\n",
       " './eui_files_20221024_1900/solo_L3_eui-hrieuv174-image_20221024T190755171_V01.jp2',\n",
       " './eui_files_20221024_1900/solo_L3_eui-hrieuv174-image_20221024T191045172_V01.jp2',\n",
       " './eui_files_20221024_1900/solo_L3_eui-hrieuv174-image_20221024T190000171_V01.jp2',\n",
       " './eui_files_20221024_1900/solo_L3_eui-hrieuv174-image_20221024T191710172_V01.jp2',\n",
       " './eui_files_20221024_1900/solo_L3_eui-hrieuv174-image_20221024T192045173_V01.jp2',\n",
       " './eui_files_20221024_1900/solo_L3_eui-hrieuv174-image_20221024T192845174_V01.jp2',\n",
       " './eui_files_20221024_1900/solo_L3_eui-hrieuv174-image_20221024T190305202_V01.jp2',\n",
       " './eui_files_20221024_1900/solo_L3_eui-hrieuv174-image_20221024T192755188_V01.jp2',\n",
       " './eui_files_20221024_1900/solo_L3_eui-hrieuv174-image_20221024T190320171_V01.jp2',\n",
       " './eui_files_20221024_1900/solo_L3_eui-hrieuv174-image_20221024T191430172_V01.jp2',\n",
       " './eui_files_20221024_1900/solo_L3_eui-hrieuv174-image_20221024T191950173_V01.jp2',\n",
       " './eui_files_20221024_1900/solo_L3_eui-hrieuv174-image_20221024T192430173_V01.jp2',\n",
       " './eui_files_20221024_1900/solo_L3_eui-hrieuv174-image_20221024T190420171_V01.jp2',\n",
       " './eui_files_20221024_1900/solo_L3_eui-hrieuv174-image_20221024T191330172_V01.jp2',\n",
       " './eui_files_20221024_1900/solo_L3_eui-hrieuv174-image_20221024T192330173_V01.jp2',\n",
       " './eui_files_20221024_1900/solo_L3_eui-hrieuv174-image_20221024T191905173_V01.jp2',\n",
       " './eui_files_20221024_1900/solo_L3_eui-hrieuv174-image_20221024T192400173_V01.jp2',\n",
       " './eui_files_20221024_1900/solo_L3_eui-hrieuv174-image_20221024T192355173_V01.jp2',\n",
       " './eui_files_20221024_1900/solo_L3_eui-hrieuv174-image_20221024T190140188_V01.jp2',\n",
       " './eui_files_20221024_1900/solo_L3_eui-hrieuv174-image_20221024T191400172_V01.jp2',\n",
       " './eui_files_20221024_1900/solo_L3_eui-hrieuv174-image_20221024T190445171_V01.jp2',\n",
       " './eui_files_20221024_1900/solo_L3_eui-hrieuv174-image_20221024T191355172_V01.jp2',\n",
       " './eui_files_20221024_1900/solo_L3_eui-hrieuv174-image_20221024T192300173_V01.jp2',\n",
       " './eui_files_20221024_1900/solo_L3_eui-hrieuv174-image_20221024T191935173_V01.jp2',\n",
       " './eui_files_20221024_1900/solo_L3_eui-hrieuv174-image_20221024T192455173_V01.jp2',\n",
       " './eui_files_20221024_1900/solo_L3_eui-hrieuv174-image_20221024T190410171_V01.jp2',\n",
       " './eui_files_20221024_1900/solo_L3_eui-hrieuv174-image_20221024T192735189_V01.jp2',\n",
       " './eui_files_20221024_1900/solo_L3_eui-hrieuv174-image_20221024T191300172_V01.jp2',\n",
       " './eui_files_20221024_1900/solo_L3_eui-hrieuv174-image_20221024T190345171_V01.jp2',\n",
       " './eui_files_20221024_1900/solo_L3_eui-hrieuv174-image_20221024T191455172_V01.jp2',\n",
       " './eui_files_20221024_1900/solo_L3_eui-hrieuv174-image_20221024T190845172_V01.jp2',\n",
       " './eui_files_20221024_1900/solo_L3_eui-hrieuv174-image_20221024T190810172_V01.jp2',\n",
       " './eui_files_20221024_1900/solo_L3_eui-hrieuv174-image_20221024T192020173_V01.jp2',\n",
       " './eui_files_20221024_1900/solo_L3_eui-hrieuv174-image_20221024T190730171_V01.jp2',\n",
       " './eui_files_20221024_1900/solo_L3_eui-hrieuv174-image_20221024T191145171_V01.jp2',\n",
       " './eui_files_20221024_1900/solo_L3_eui-hrieuv174-image_20221024T192920188_V01.jp2',\n",
       " './eui_files_20221024_1900/solo_L3_eui-hrieuv174-image_20221024T190030171_V01.jp2',\n",
       " './eui_files_20221024_1900/solo_L3_eui-hrieuv174-image_20221024T192935196_V01.jp2',\n",
       " './eui_files_20221024_1900/solo_L3_eui-hrieuv174-image_20221024T190135171_V01.jp2',\n",
       " './eui_files_20221024_1900/solo_L3_eui-hrieuv174-image_20221024T192925174_V01.jp2',\n",
       " './eui_files_20221024_1900/solo_L3_eui-hrieuv174-image_20221024T191125172_V01.jp2',\n",
       " './eui_files_20221024_1900/solo_L3_eui-hrieuv174-image_20221024T190635171_V01.jp2',\n",
       " './eui_files_20221024_1900/solo_L3_eui-hrieuv174-image_20221024T190915172_V01.jp2',\n",
       " './eui_files_20221024_1900/solo_L3_eui-hrieuv174-image_20221024T190825171_V01.jp2',\n",
       " './eui_files_20221024_1900/solo_L3_eui-hrieuv174-image_20221024T191830173_V01.jp2',\n",
       " './eui_files_20221024_1900/solo_L3_eui-hrieuv174-image_20221024T192205173_V01.jp2',\n",
       " './eui_files_20221024_1900/solo_L3_eui-hrieuv174-image_20221024T190240171_V01.jp2',\n",
       " './eui_files_20221024_1900/solo_L3_eui-hrieuv174-image_20221024T191205172_V01.jp2',\n",
       " './eui_files_20221024_1900/solo_L3_eui-hrieuv174-image_20221024T192250173_V01.jp2',\n",
       " './eui_files_20221024_1900/solo_L3_eui-hrieuv174-image_20221024T192505173_V01.jp2',\n",
       " './eui_files_20221024_1900/solo_L3_eui-hrieuv174-image_20221024T191250172_V01.jp2',\n",
       " './eui_files_20221024_1900/solo_L3_eui-hrieuv174-image_20221024T190540171_V01.jp2',\n",
       " './eui_files_20221024_1900/solo_L3_eui-hrieuv174-image_20221024T191505172_V01.jp2',\n",
       " './eui_files_20221024_1900/solo_L3_eui-hrieuv174-image_20221024T190215171_V01.jp2',\n",
       " './eui_files_20221024_1900/solo_L3_eui-hrieuv174-image_20221024T191620172_V01.jp2',\n",
       " './eui_files_20221024_1900/solo_L3_eui-hrieuv174-image_20221024T190130171_V01.jp2',\n",
       " './eui_files_20221024_1900/solo_L3_eui-hrieuv174-image_20221024T190610181_V01.jp2',\n",
       " './eui_files_20221024_1900/solo_L3_eui-hrieuv174-image_20221024T190235202_V01.jp2',\n",
       " './eui_files_20221024_1900/solo_L3_eui-hrieuv174-image_20221024T192620173_V01.jp2',\n",
       " './eui_files_20221024_1900/solo_L3_eui-hrieuv174-image_20221024T192120173_V01.jp2',\n",
       " './eui_files_20221024_1900/solo_L3_eui-hrieuv174-image_20221024T192125172_V01.jp2',\n",
       " './eui_files_20221024_1900/solo_L3_eui-hrieuv174-image_20221024T191200172_V01.jp2',\n",
       " './eui_files_20221024_1900/solo_L3_eui-hrieuv174-image_20221024T190510171_V01.jp2',\n",
       " './eui_files_20221024_1900/solo_L3_eui-hrieuv174-image_20221024T191555172_V01.jp2',\n",
       " './eui_files_20221024_1900/solo_L3_eui-hrieuv174-image_20221024T190245171_V01.jp2',\n",
       " './eui_files_20221024_1900/solo_L3_eui-hrieuv174-image_20221024T191835173_V01.jp2',\n",
       " './eui_files_20221024_1900/solo_L3_eui-hrieuv174-image_20221024T192200173_V01.jp2',\n",
       " './eui_files_20221024_1900/solo_L3_eui-hrieuv174-image_20221024T191500172_V01.jp2',\n",
       " './eui_files_20221024_1900/solo_L3_eui-hrieuv174-image_20221024T191255172_V01.jp2',\n",
       " './eui_files_20221024_1900/solo_L3_eui-hrieuv174-image_20221024T190545171_V01.jp2',\n",
       " './eui_files_20221024_1900/solo_L3_eui-hrieuv174-image_20221024T192500173_V01.jp2',\n",
       " './eui_files_20221024_1900/solo_L3_eui-hrieuv174-image_20221024T192255173_V01.jp2',\n",
       " './eui_files_20221024_1900/solo_L3_eui-hrieuv174-image_20221024T192440181_V01.jp2',\n",
       " './eui_files_20221024_1900/solo_L3_eui-hrieuv174-image_20221024T192730174_V01.jp2',\n",
       " './eui_files_20221024_1900/solo_L3_eui-hrieuv174-image_20221024T190910172_V01.jp2',\n",
       " './eui_files_20221024_1900/solo_L3_eui-hrieuv174-image_20221024T190945172_V01.jp2',\n",
       " './eui_files_20221024_1900/solo_L3_eui-hrieuv174-image_20221024T191550173_V01.jp2',\n",
       " './eui_files_20221024_1900/solo_L3_eui-hrieuv174-image_20221024T190840172_V01.jp2',\n",
       " './eui_files_20221024_1900/solo_L3_eui-hrieuv174-image_20221024T190815172_V01.jp2',\n",
       " './eui_files_20221024_1900/solo_L3_eui-hrieuv174-image_20221024T190315171_V01.jp2',\n",
       " './eui_files_20221024_1900/solo_L3_eui-hrieuv174-image_20221024T190435191_V01.jp2',\n",
       " './eui_files_20221024_1900/solo_L3_eui-hrieuv174-image_20221024T192350173_V01.jp2',\n",
       " './eui_files_20221024_1900/solo_L3_eui-hrieuv174-image_20221024T192405173_V01.jp2',\n",
       " './eui_files_20221024_1900/solo_L3_eui-hrieuv174-image_20221024T190340171_V01.jp2',\n",
       " './eui_files_20221024_1900/solo_L3_eui-hrieuv174-image_20221024T191450172_V01.jp2',\n",
       " './eui_files_20221024_1900/solo_L3_eui-hrieuv174-image_20221024T191305172_V01.jp2',\n",
       " './eui_files_20221024_1900/solo_L3_eui-hrieuv174-image_20221024T192450173_V01.jp2',\n",
       " './eui_files_20221024_1900/solo_L3_eui-hrieuv174-image_20221024T191235171_V01.jp2',\n",
       " './eui_files_20221024_1900/solo_L3_eui-hrieuv174-image_20221024T191930173_V01.jp2',\n",
       " './eui_files_20221024_1900/solo_L3_eui-hrieuv174-image_20221024T191515175_V01.jp2',\n",
       " './eui_files_20221024_1900/solo_L3_eui-hrieuv174-image_20221024T191720173_V01.jp2',\n",
       " './eui_files_20221024_1900/solo_L3_eui-hrieuv174-image_20221024T192540174_V01.jp2',\n",
       " './eui_files_20221024_1900/solo_L3_eui-hrieuv174-image_20221024T192410189_V01.jp2',\n",
       " './eui_files_20221024_1900/solo_L3_eui-hrieuv174-image_20221024T191025172_V01.jp2',\n",
       " './eui_files_20221024_1900/solo_L3_eui-hrieuv174-image_20221024T191115171_V01.jp2',\n",
       " './eui_files_20221024_1900/solo_L3_eui-hrieuv174-image_20221024T192025173_V01.jp2',\n",
       " './eui_files_20221024_1900/solo_L3_eui-hrieuv174-image_20221024T190035171_V01.jp2',\n",
       " './eui_files_20221024_1900/solo_L3_eui-hrieuv174-image_20221024T190830172_V01.jp2',\n",
       " './eui_files_20221024_1900/solo_L3_eui-hrieuv174-image_20221024T190630199_V01.jp2',\n",
       " './eui_files_20221024_1900/solo_L3_eui-hrieuv174-image_20221024T192645174_V01.jp2',\n",
       " './eui_files_20221024_1900/solo_L3_eui-hrieuv174-image_20221024T191915173_V01.jp2',\n",
       " './eui_files_20221024_1900/solo_L3_eui-hrieuv174-image_20221024T191545171_V01.jp2',\n",
       " './eui_files_20221024_1900/solo_L3_eui-hrieuv174-image_20221024T192320173_V01.jp2',\n",
       " './eui_files_20221024_1900/solo_L3_eui-hrieuv174-image_20221024T190220182_V01.jp2',\n",
       " './eui_files_20221024_1900/solo_L3_eui-hrieuv174-image_20221024T191320172_V01.jp2',\n",
       " './eui_files_20221024_1900/solo_L3_eui-hrieuv174-image_20221024T190430171_V01.jp2',\n",
       " './eui_files_20221024_1900/solo_L3_eui-hrieuv174-image_20221024T192420173_V01.jp2',\n",
       " './eui_files_20221024_1900/solo_L3_eui-hrieuv174-image_20221024T191940173_V01.jp2',\n",
       " './eui_files_20221024_1900/solo_L3_eui-hrieuv174-image_20221024T190330171_V01.jp2',\n",
       " './eui_files_20221024_1900/solo_L3_eui-hrieuv174-image_20221024T191750173_V01.jp2',\n",
       " './eui_files_20221024_1900/solo_L3_eui-hrieuv174-image_20221024T190015170_V01.jp2',\n",
       " './eui_files_20221024_1900/solo_L3_eui-hrieuv174-image_20221024T192700173_V01.jp2',\n",
       " './eui_files_20221024_1900/solo_L3_eui-hrieuv174-image_20221024T191405201_V01.jp2',\n",
       " './eui_files_20221024_1900/solo_L3_eui-hrieuv174-image_20221024T192055173_V01.jp2',\n",
       " './eui_files_20221024_1900/solo_L3_eui-hrieuv174-image_20221024T191700172_V01.jp2',\n",
       " './eui_files_20221024_1900/solo_L3_eui-hrieuv174-image_20221024T190010171_V01.jp2',\n",
       " './eui_files_20221024_1900/solo_L3_eui-hrieuv174-image_20221024T192855202_V01.jp2',\n",
       " './eui_files_20221024_1900/solo_L3_eui-hrieuv174-image_20221024T191055172_V01.jp2',\n",
       " './eui_files_20221024_1900/solo_L3_eui-hrieuv174-image_20221024T192800174_V01.jp2',\n",
       " './eui_files_20221024_1900/solo_L3_eui-hrieuv174-image_20221024T192000173_V01.jp2',\n",
       " './eui_files_20221024_1900/solo_L3_eui-hrieuv174-image_20221024T190820199_V01.jp2',\n",
       " './eui_files_20221024_1900/solo_L3_eui-hrieuv174-image_20221024T192305210_V01.jp2',\n",
       " './eui_files_20221024_1900/solo_L3_eui-hrieuv174-image_20221024T190710171_V01.jp2',\n",
       " './eui_files_20221024_1900/solo_L3_eui-hrieuv174-image_20221024T191755172_V01.jp2',\n",
       " './eui_files_20221024_1900/solo_L3_eui-hrieuv174-image_20221024T190045171_V01.jp2',\n",
       " './eui_files_20221024_1900/solo_L3_eui-hrieuv174-image_20221024T190725172_V01.jp2',\n",
       " './eui_files_20221024_1900/solo_L3_eui-hrieuv174-image_20221024T192035206_V01.jp2',\n",
       " './eui_files_20221024_1900/solo_L3_eui-hrieuv174-image_20221024T192905174_V01.jp2',\n",
       " './eui_files_20221024_1900/solo_L3_eui-hrieuv174-image_20221024T190615171_V01.jp2',\n",
       " './eui_files_20221024_1900/solo_L3_eui-hrieuv174-image_20221024T192150173_V01.jp2',\n",
       " './eui_files_20221024_1900/solo_L3_eui-hrieuv174-image_20221024T192950174_V01.jp2',\n",
       " './eui_files_20221024_1900/solo_L3_eui-hrieuv174-image_20221024T190640171_V01.jp2',\n",
       " './eui_files_20221024_1900/solo_L3_eui-hrieuv174-image_20221024T191805199_V01.jp2',\n",
       " './eui_files_20221024_1900/solo_L3_eui-hrieuv174-image_20221024T190415199_V01.jp2',\n",
       " './eui_files_20221024_1900/solo_L3_eui-hrieuv174-image_20221024T190325200_V01.jp2',\n",
       " './eui_files_20221024_1900/solo_L3_eui-hrieuv174-image_20221024T191600173_V01.jp2',\n",
       " './eui_files_20221024_1900/solo_L3_eui-hrieuv174-image_20221024T191655173_V01.jp2',\n",
       " './eui_files_20221024_1900/solo_L3_eui-hrieuv174-image_20221024T192525173_V01.jp2',\n",
       " './eui_files_20221024_1900/solo_L3_eui-hrieuv174-image_20221024T192010203_V01.jp2',\n",
       " './eui_files_20221024_1900/solo_L3_eui-hrieuv174-image_20221024T192225173_V01.jp2',\n",
       " './eui_files_20221024_1900/solo_L3_eui-hrieuv174-image_20221024T191120201_V01.jp2',\n",
       " './eui_files_20221024_1900/solo_L3_eui-hrieuv174-image_20221024T191810173_V01.jp2',\n",
       " './eui_files_20221024_1900/solo_L3_eui-hrieuv174-image_20221024T191225172_V01.jp2',\n",
       " './eui_files_20221024_1900/solo_L3_eui-hrieuv174-image_20221024T192740174_V01.jp2',\n",
       " './eui_files_20221024_1900/solo_L3_eui-hrieuv174-image_20221024T192605187_V01.jp2',\n",
       " './eui_files_20221024_1900/solo_L3_eui-hrieuv174-image_20221024T191815172_V01.jp2',\n",
       " './eui_files_20221024_1900/solo_L3_eui-hrieuv174-image_20221024T190935172_V01.jp2',\n",
       " './eui_files_20221024_1900/solo_L3_eui-hrieuv174-image_20221024T192715174_V01.jp2',\n",
       " './eui_files_20221024_1900/solo_L3_eui-hrieuv174-image_20221024T191245179_V01.jp2',\n",
       " './eui_files_20221024_1900/solo_L3_eui-hrieuv174-image_20221024T191605173_V01.jp2',\n",
       " './eui_files_20221024_1900/solo_L3_eui-hrieuv174-image_20221024T191650173_V01.jp2',\n",
       " './eui_files_20221024_1900/solo_L3_eui-hrieuv174-image_20221024T191100172_V01.jp2',\n",
       " './eui_files_20221024_1900/solo_L3_eui-hrieuv174-image_20221024T190145171_V01.jp2',\n",
       " './eui_files_20221024_1900/solo_L3_eui-hrieuv174-image_20221024T192100173_V01.jp2',\n",
       " './eui_files_20221024_1900/solo_L3_eui-hrieuv174-image_20221024T192900174_V01.jp2',\n",
       " './eui_files_20221024_1900/solo_L3_eui-hrieuv174-image_20221024T192655173_V01.jp2',\n",
       " './eui_files_20221024_1900/solo_L3_eui-hrieuv174-image_20221024T190720172_V01.jp2',\n",
       " './eui_files_20221024_1900/solo_L3_eui-hrieuv174-image_20221024T190110171_V01.jp2',\n",
       " './eui_files_20221024_1900/solo_L3_eui-hrieuv174-image_20221024T190645171_V01.jp2',\n",
       " './eui_files_20221024_1900/solo_L3_eui-hrieuv174-image_20221024T191155172_V01.jp2',\n",
       " './eui_files_20221024_1900/solo_L3_eui-hrieuv174-image_20221024T192600173_V01.jp2',\n",
       " './eui_files_20221024_1900/solo_L3_eui-hrieuv174-image_20221024T192155173_V01.jp2',\n",
       " './eui_files_20221024_1900/solo_L3_eui-hrieuv174-image_20221024T192955174_V01.jp2',\n",
       " './eui_files_20221024_1900/solo_L3_eui-hrieuv174-image_20221024T192745174_V01.jp2',\n",
       " './eui_files_20221024_1900/solo_L3_eui-hrieuv174-image_20221024T191845172_V01.jp2',\n",
       " './eui_files_20221024_1900/solo_L3_eui-hrieuv174-image_20221024T191525173_V01.jp2',\n",
       " './eui_files_20221024_1900/solo_L3_eui-hrieuv174-image_20221024T192710174_V01.jp2',\n",
       " './eui_files_20221024_1900/solo_L3_eui-hrieuv174-image_20221024T190930172_V01.jp2',\n",
       " './eui_files_20221024_1900/solo_L3_eui-hrieuv174-image_20221024T190230171_V01.jp2',\n",
       " './eui_files_20221024_1900/solo_L3_eui-hrieuv174-image_20221024T191520172_V01.jp2',\n",
       " './eui_files_20221024_1900/solo_L3_eui-hrieuv174-image_20221024T192520173_V01.jp2',\n",
       " './eui_files_20221024_1900/solo_L3_eui-hrieuv174-image_20221024T191840173_V01.jp2',\n",
       " './eui_files_20221024_1900/solo_L3_eui-hrieuv174-image_20221024T190210181_V01.jp2',\n",
       " './eui_files_20221024_1900/solo_L3_eui-hrieuv174-image_20221024T190530171_V01.jp2',\n",
       " './eui_files_20221024_1900/solo_L3_eui-hrieuv174-image_20221024T191220172_V01.jp2',\n",
       " './eui_files_20221024_1900/solo_L3_eui-hrieuv174-image_20221024T192220173_V01.jp2',\n",
       " './eui_files_20221024_1900/solo_L3_eui-hrieuv174-image_20221024T191445171_V01.jp2',\n",
       " './eui_files_20221024_1900/solo_L3_eui-hrieuv174-image_20221024T191325172_V01.jp2',\n",
       " './eui_files_20221024_1900/solo_L3_eui-hrieuv174-image_20221024T191910173_V01.jp2',\n",
       " './eui_files_20221024_1900/solo_L3_eui-hrieuv174-image_20221024T192325173_V01.jp2',\n",
       " './eui_files_20221024_1900/solo_L3_eui-hrieuv174-image_20221024T191425172_V01.jp2',\n",
       " './eui_files_20221024_1900/solo_L3_eui-hrieuv174-image_20221024T190335171_V01.jp2',\n",
       " './eui_files_20221024_1900/solo_L3_eui-hrieuv174-image_20221024T191945173_V01.jp2',\n",
       " './eui_files_20221024_1900/solo_L3_eui-hrieuv174-image_20221024T192425173_V01.jp2',\n",
       " './eui_files_20221024_1900/solo_L3_eui-hrieuv174-image_20221024T190835172_V01.jp2',\n",
       " './eui_files_20221024_1900/solo_L3_eui-hrieuv174-image_20221024T191050172_V01.jp2',\n",
       " './eui_files_20221024_1900/solo_L3_eui-hrieuv174-image_20221024T190740171_V01.jp2',\n",
       " './eui_files_20221024_1900/solo_L3_eui-hrieuv174-image_20221024T191705172_V01.jp2',\n",
       " './eui_files_20221024_1900/solo_L3_eui-hrieuv174-image_20221024T192850174_V01.jp2',\n",
       " './eui_files_20221024_1900/solo_L3_eui-hrieuv174-image_20221024T192050173_V01.jp2',\n",
       " './eui_files_20221024_1900/solo_L3_eui-hrieuv174-image_20221024T192705173_V01.jp2',\n",
       " './eui_files_20221024_1900/solo_L3_eui-hrieuv174-image_20221024T190040171_V01.jp2',\n",
       " './eui_files_20221024_1900/solo_L3_eui-hrieuv174-image_20221024T191005172_V01.jp2',\n",
       " './eui_files_20221024_1900/solo_L3_eui-hrieuv174-image_20221024T190715171_V01.jp2',\n",
       " './eui_files_20221024_1900/solo_L3_eui-hrieuv174-image_20221024T192005173_V01.jp2',\n",
       " './eui_files_20221024_1900/solo_L3_eui-hrieuv174-image_20221024T192610191_V01.jp2',\n",
       " './eui_files_20221024_1900/solo_L3_eui-hrieuv174-image_20221024T192550174_V01.jp2',\n",
       " './eui_files_20221024_1900/solo_L3_eui-hrieuv174-image_20221024T191350189_V01.jp2',\n",
       " './eui_files_20221024_1900/solo_L3_eui-hrieuv174-image_20221024T191730173_V01.jp2',\n",
       " './eui_files_20221024_1900/solo_L3_eui-hrieuv174-image_20221024T190025171_V01.jp2',\n",
       " './eui_files_20221024_1900/solo_L3_eui-hrieuv174-image_20221024T192835174_V01.jp2',\n",
       " './eui_files_20221024_1900/solo_L3_eui-hrieuv174-image_20221024T191035172_V01.jp2',\n",
       " './eui_files_20221024_1900/solo_L3_eui-hrieuv174-image_20221024T192625174_V01.jp2',\n",
       " './eui_files_20221024_1900/solo_L3_eui-hrieuv174-image_20221024T190805172_V01.jp2',\n",
       " './eui_files_20221024_1900/solo_L3_eui-hrieuv174-image_20221024T190850172_V01.jp2',\n",
       " './eui_files_20221024_1900/solo_L3_eui-hrieuv174-image_20221024T191725199_V01.jp2',\n",
       " './eui_files_20221024_1900/solo_L3_eui-hrieuv174-image_20221024T191150185_V01.jp2',\n",
       " './eui_files_20221024_1900/solo_L3_eui-hrieuv174-image_20221024T191920173_V01.jp2',\n",
       " './eui_files_20221024_1900/solo_L3_eui-hrieuv174-image_20221024T192315173_V01.jp2',\n",
       " './eui_files_20221024_1900/solo_L3_eui-hrieuv174-image_20221024T190535172_V01.jp2',\n",
       " './eui_files_20221024_1900/solo_L3_eui-hrieuv174-image_20221024T191315172_V01.jp2',\n",
       " './eui_files_20221024_1900/solo_L3_eui-hrieuv174-image_20221024T190405171_V01.jp2',\n",
       " './eui_files_20221024_1900/solo_L3_eui-hrieuv174-image_20221024T190350171_V01.jp2',\n",
       " './eui_files_20221024_1900/solo_L3_eui-hrieuv174-image_20221024T191900193_V01.jp2',\n",
       " './eui_files_20221024_1900/solo_L3_eui-hrieuv174-image_20221024T191020188_V01.jp2',\n",
       " './eui_files_20221024_1900/solo_L3_eui-hrieuv174-image_20221024T192415173_V01.jp2',\n",
       " './eui_files_20221024_1900/solo_L3_eui-hrieuv174-image_20221024T192340173_V01.jp2',\n",
       " './eui_files_20221024_1900/solo_L3_eui-hrieuv174-image_20221024T191415172_V01.jp2',\n",
       " './eui_files_20221024_1900/solo_L3_eui-hrieuv174-image_20221024T191340172_V01.jp2',\n",
       " './eui_files_20221024_1900/solo_L3_eui-hrieuv174-image_20221024T190450171_V01.jp2',\n",
       " './eui_files_20221024_1900/solo_L3_eui-hrieuv174-image_20221024T192245173_V01.jp2',\n",
       " './eui_files_20221024_1900/solo_L3_eui-hrieuv174-image_20221024T192510173_V01.jp2',\n",
       " './eui_files_20221024_1900/solo_L3_eui-hrieuv174-image_20221024T190555171_V01.jp2',\n",
       " './eui_files_20221024_1900/solo_L3_eui-hrieuv174-image_20221024T191510172_V01.jp2',\n",
       " './eui_files_20221024_1900/solo_L3_eui-hrieuv174-image_20221024T192545173_V01.jp2',\n",
       " './eui_files_20221024_1900/solo_L3_eui-hrieuv174-image_20221024T192210173_V01.jp2',\n",
       " './eui_files_20221024_1900/solo_L3_eui-hrieuv174-image_20221024T191825173_V01.jp2',\n",
       " './eui_files_20221024_1900/solo_L3_eui-hrieuv174-image_20221024T191625198_V01.jp2',\n",
       " './eui_files_20221024_1900/solo_L3_eui-hrieuv174-image_20221024T190255171_V01.jp2',\n",
       " './eui_files_20221024_1900/solo_L3_eui-hrieuv174-image_20221024T190500171_V01.jp2',\n",
       " './eui_files_20221024_1900/solo_L3_eui-hrieuv174-image_20221024T191210172_V01.jp2',\n",
       " './eui_files_20221024_1900/solo_L3_eui-hrieuv174-image_20221024T190955172_V01.jp2',\n",
       " './eui_files_20221024_1900/solo_L3_eui-hrieuv174-image_20221024T190900172_V01.jp2',\n",
       " './eui_files_20221024_1900/solo_L3_eui-hrieuv174-image_20221024T192720174_V01.jp2',\n",
       " './eui_files_20221024_1900/solo_L3_eui-hrieuv174-image_20221024T191000185_V01.jp2',\n",
       " './eui_files_20221024_1900/solo_L3_eui-hrieuv174-image_20221024T192130173_V01.jp2',\n",
       " './eui_files_20221024_1900/solo_L3_eui-hrieuv174-image_20221024T192930174_V01.jp2',\n",
       " './eui_files_20221024_1900/solo_L3_eui-hrieuv174-image_20221024T190620171_V01.jp2',\n",
       " './eui_files_20221024_1900/solo_L3_eui-hrieuv174-image_20221024T191130172_V01.jp2',\n",
       " './eui_files_20221024_1900/solo_L3_eui-hrieuv174-image_20221024T190745172_V01.jp2',\n",
       " './eui_files_20221024_1900/solo_L3_eui-hrieuv174-image_20221024T191215187_V01.jp2',\n",
       " './eui_files_20221024_1900/solo_L3_eui-hrieuv174-image_20221024T191630172_V01.jp2',\n",
       " './eui_files_20221024_1900/solo_L3_eui-hrieuv174-image_20221024T190125170_V01.jp2',\n",
       " './eui_files_20221024_1900/solo_L3_eui-hrieuv174-image_20221024T191420185_V01.jp2',\n",
       " './eui_files_20221024_1900/solo_L3_eui-hrieuv174-image_20221024T190950172_V01.jp2',\n",
       " './eui_files_20221024_1900/solo_L3_eui-hrieuv174-image_20221024T192825173_V01.jp2',\n",
       " './eui_files_20221024_1900/solo_L3_eui-hrieuv174-image_20221024T192725174_V01.jp2',\n",
       " './eui_files_20221024_1900/solo_L3_eui-hrieuv174-image_20221024T190200170_V01.jp2',\n",
       " './eui_files_20221024_1900/solo_L3_eui-hrieuv174-image_20221024T190050189_V01.jp2',\n",
       " './eui_files_20221024_1900/solo_L3_eui-hrieuv174-image_20221024T190905172_V01.jp2',\n",
       " './eui_files_20221024_1900/solo_L3_eui-hrieuv174-image_20221024T192940206_V01.jp2',\n",
       " './eui_files_20221024_1900/solo_L3_eui-hrieuv174-image_20221024T190205171_V01.jp2',\n",
       " './eui_files_20221024_1900/solo_L3_eui-hrieuv174-image_20221024T192240205_V01.jp2',\n",
       " './eui_files_20221024_1900/solo_L3_eui-hrieuv174-image_20221024T190550171_V01.jp2',\n",
       " './eui_files_20221024_1900/solo_L3_eui-hrieuv174-image_20221024T191240172_V01.jp2',\n",
       " './eui_files_20221024_1900/solo_L3_eui-hrieuv174-image_20221024T192515173_V01.jp2',\n",
       " './eui_files_20221024_1900/solo_L3_eui-hrieuv174-image_20221024T190250171_V01.jp2',\n",
       " './eui_files_20221024_1900/solo_L3_eui-hrieuv174-image_20221024T191540172_V01.jp2',\n",
       " './eui_files_20221024_1900/solo_L3_eui-hrieuv174-image_20221024T190120194_V01.jp2',\n",
       " './eui_files_20221024_1900/solo_L3_eui-hrieuv174-image_20221024T192215173_V01.jp2',\n",
       " './eui_files_20221024_1900/solo_L3_eui-hrieuv174-image_20221024T191820173_V01.jp2',\n",
       " './eui_files_20221024_1900/solo_L3_eui-hrieuv174-image_20221024T192820204_V01.jp2',\n",
       " './eui_files_20221024_1900/solo_L3_eui-hrieuv174-image_20221024T190625171_V01.jp2',\n",
       " './eui_files_20221024_1900/solo_L3_eui-hrieuv174-image_20221024T191135172_V01.jp2',\n",
       " './eui_files_20221024_1900/solo_L3_eui-hrieuv174-image_20221024T190400178_V01.jp2',\n",
       " './eui_files_20221024_1900/solo_L3_eui-hrieuv174-image_20221024T192135173_V01.jp2',\n",
       " './eui_files_20221024_1900/solo_L3_eui-hrieuv174-image_20221024T191635172_V01.jp2',\n",
       " './eui_files_20221024_1900/solo_L3_eui-hrieuv174-image_20221024T192635173_V01.jp2',\n",
       " './eui_files_20221024_1900/solo_L3_eui-hrieuv174-image_20221024T190310177_V01.jp2',\n",
       " './eui_files_20221024_1900/solo_L3_eui-hrieuv174-image_20221024T190020171_V01.jp2',\n",
       " './eui_files_20221024_1900/solo_L3_eui-hrieuv174-image_20221024T191030172_V01.jp2',\n",
       " './eui_files_20221024_1900/solo_L3_eui-hrieuv174-image_20221024T192830174_V01.jp2',\n",
       " './eui_files_20221024_1900/solo_L3_eui-hrieuv174-image_20221024T192030173_V01.jp2',\n",
       " './eui_files_20221024_1900/solo_L3_eui-hrieuv174-image_20221024T192555174_V01.jp2',\n",
       " './eui_files_20221024_1900/solo_L3_eui-hrieuv174-image_20221024T191735173_V01.jp2',\n",
       " './eui_files_20221024_1900/solo_L3_eui-hrieuv174-image_20221024T190355171_V01.jp2',\n",
       " './eui_files_20221024_1900/solo_L3_eui-hrieuv174-image_20221024T191310172_V01.jp2',\n",
       " './eui_files_20221024_1900/solo_L3_eui-hrieuv174-image_20221024T192445173_V01.jp2',\n",
       " './eui_files_20221024_1900/solo_L3_eui-hrieuv174-image_20221024T191925173_V01.jp2',\n",
       " './eui_files_20221024_1900/solo_L3_eui-hrieuv174-image_20221024T192310173_V01.jp2',\n",
       " './eui_files_20221024_1900/solo_L3_eui-hrieuv174-image_20221024T191345172_V01.jp2',\n",
       " './eui_files_20221024_1900/solo_L3_eui-hrieuv174-image_20221024T190455171_V01.jp2',\n",
       " './eui_files_20221024_1900/solo_L3_eui-hrieuv174-image_20221024T191410172_V01.jp2',\n",
       " './eui_files_20221024_1900/solo_L3_eui-hrieuv174-image_20221024T190300171_V01.jp2',\n",
       " './eui_files_20221024_1900/solo_L3_eui-hrieuv174-image_20221024T192345173_V01.jp2',\n",
       " './eui_files_20221024_1900/solo_L3_eui-hrieuv174-image_20221024T190800172_V01.jp2',\n",
       " './eui_files_20221024_1900/solo_L3_eui-hrieuv174-image_20221024T191440173_V01.jp2',\n",
       " './eui_files_20221024_1900/solo_L3_eui-hrieuv174-image_20221024T190855172_V01.jp2']"
      ]
     },
     "execution_count": 12,
     "metadata": {},
     "output_type": "execute_result"
    }
   ],
   "source": [
    "eui_files"
   ]
  },
  {
   "cell_type": "code",
   "execution_count": 43,
   "id": "c442d1f5",
   "metadata": {},
   "outputs": [
    {
     "data": {
      "text/plain": [
       "360"
      ]
     },
     "execution_count": 43,
     "metadata": {},
     "output_type": "execute_result"
    }
   ],
   "source": [
    "len(eui_files)"
   ]
  },
  {
   "cell_type": "code",
   "execution_count": 13,
   "id": "9d2c3043",
   "metadata": {},
   "outputs": [],
   "source": [
    "eui_maps = sunpy.map.Map(eui_files[0:5], sequence=True)"
   ]
  },
  {
   "cell_type": "code",
   "execution_count": 14,
   "id": "c05de975",
   "metadata": {},
   "outputs": [],
   "source": [
    "%matplotlib inline"
   ]
  },
  {
   "cell_type": "code",
   "execution_count": 16,
   "id": "3b216bae",
   "metadata": {},
   "outputs": [
    {
     "data": {
      "text/plain": [
       "<matplotlib.image.AxesImage at 0x7fdf51c91780>"
      ]
     },
     "execution_count": 16,
     "metadata": {},
     "output_type": "execute_result"
    },
    {
     "data": {
      "image/png": "[encoded data removed]",
      "text/plain": [
       "<Figure size 640x480 with 1 Axes>"
      ]
     },
     "metadata": {},
     "output_type": "display_data"
    }
   ],
   "source": [
    "eui_maps[1].plot()"
   ]
  },
  {
   "cell_type": "markdown",
   "id": "778abfcc",
   "metadata": {},
   "source": [
    "## Lets look at Mar 02 2022 flare"
   ]
  },
  {
   "cell_type": "code",
   "execution_count": 78,
   "id": "54437999",
   "metadata": {},
   "outputs": [],
   "source": [
    "timerange_flare = TimeRange(\"2022-03-02 00:00\", \"2022-03-02 23:59\")"
   ]
  },
  {
   "cell_type": "code",
   "execution_count": 79,
   "id": "93581562",
   "metadata": {},
   "outputs": [],
   "source": [
    "flare_files = get_eui_filelist(timerange_flare)"
   ]
  },
  {
   "cell_type": "code",
   "execution_count": 82,
   "id": "6810a73f",
   "metadata": {},
   "outputs": [
    {
     "data": {
      "text/plain": [
       "720"
      ]
     },
     "execution_count": 82,
     "metadata": {},
     "output_type": "execute_result"
    }
   ],
   "source": [
    "len(flare_files)\n"
   ]
  },
  {
   "cell_type": "code",
   "execution_count": 84,
   "id": "01d34f23",
   "metadata": {},
   "outputs": [
    {
     "data": {
      "application/vnd.jupyter.widget-view+json": {
       "model_id": "ed178225f2014883b5904c172a80ac6e",
       "version_major": 2,
       "version_minor": 0
      },
      "text/plain": [
       "Files Downloaded:   0%|          | 0/720 [00:00<?, ?file/s]"
      ]
     },
     "metadata": {},
     "output_type": "display_data"
    },
    {
     "data": {
      "application/vnd.jupyter.widget-view+json": {
       "model_id": "",
       "version_major": 2,
       "version_minor": 0
      },
      "text/plain": [
       "solo_L3_eui-hrieuv174-image_20220302T000400235_V02.jp2:   0%|          | 0.00/1.27M [00:00<?, ?B/s]"
      ]
     },
     "metadata": {},
     "output_type": "display_data"
    },
    {
     "data": {
      "application/vnd.jupyter.widget-view+json": {
       "model_id": "",
       "version_major": 2,
       "version_minor": 0
      },
      "text/plain": [
       "solo_L3_eui-hrieuv174-image_20220302T000200200_V02.jp2:   0%|          | 0.00/1.27M [00:00<?, ?B/s]"
      ]
     },
     "metadata": {},
     "output_type": "display_data"
    },
    {
     "data": {
      "application/vnd.jupyter.widget-view+json": {
       "model_id": "",
       "version_major": 2,
       "version_minor": 0
      },
      "text/plain": [
       "solo_L3_eui-hrieuv174-image_20220302T000000201_V02.jp2:   0%|          | 0.00/1.27M [00:00<?, ?B/s]"
      ]
     },
     "metadata": {},
     "output_type": "display_data"
    },
    {
     "data": {
      "application/vnd.jupyter.widget-view+json": {
       "model_id": "",
       "version_major": 2,
       "version_minor": 0
      },
      "text/plain": [
       "solo_L3_eui-hrieuv174-image_20220302T000800201_V02.jp2:   0%|          | 0.00/1.27M [00:00<?, ?B/s]"
      ]
     },
     "metadata": {},
     "output_type": "display_data"
    },
    {
     "data": {
      "application/vnd.jupyter.widget-view+json": {
       "model_id": "",
       "version_major": 2,
       "version_minor": 0
      },
      "text/plain": [
       "solo_L3_eui-hrieuv174-image_20220302T000600201_V02.jp2:   0%|          | 0.00/1.27M [00:00<?, ?B/s]"
      ]
     },
     "metadata": {},
     "output_type": "display_data"
    },
    {
     "data": {
      "application/vnd.jupyter.widget-view+json": {
       "model_id": "",
       "version_major": 2,
       "version_minor": 0
      },
      "text/plain": [
       "solo_L3_eui-hrieuv174-image_20220302T001000201_V02.jp2:   0%|          | 0.00/1.27M [00:00<?, ?B/s]"
      ]
     },
     "metadata": {},
     "output_type": "display_data"
    },
    {
     "data": {
      "application/vnd.jupyter.widget-view+json": {
       "model_id": "",
       "version_major": 2,
       "version_minor": 0
      },
      "text/plain": [
       "solo_L3_eui-hrieuv174-image_20220302T001200201_V02.jp2:   0%|          | 0.00/1.27M [00:00<?, ?B/s]"
      ]
     },
     "metadata": {},
     "output_type": "display_data"
    },
    {
     "data": {
      "application/vnd.jupyter.widget-view+json": {
       "model_id": "",
       "version_major": 2,
       "version_minor": 0
      },
      "text/plain": [
       "solo_L3_eui-hrieuv174-image_20220302T001400201_V02.jp2:   0%|          | 0.00/1.27M [00:00<?, ?B/s]"
      ]
     },
     "metadata": {},
     "output_type": "display_data"
    },
    {
     "data": {
      "application/vnd.jupyter.widget-view+json": {
       "model_id": "",
       "version_major": 2,
       "version_minor": 0
      },
      "text/plain": [
       "solo_L3_eui-hrieuv174-image_20220302T001600202_V02.jp2:   0%|          | 0.00/1.27M [00:00<?, ?B/s]"
      ]
     },
     "metadata": {},
     "output_type": "display_data"
    },
    {
     "data": {
      "application/vnd.jupyter.widget-view+json": {
       "model_id": "",
       "version_major": 2,
       "version_minor": 0
      },
      "text/plain": [
       "solo_L3_eui-hrieuv174-image_20220302T001800202_V02.jp2:   0%|          | 0.00/1.27M [00:00<?, ?B/s]"
      ]
     },
     "metadata": {},
     "output_type": "display_data"
    },
    {
     "data": {
      "application/vnd.jupyter.widget-view+json": {
       "model_id": "",
       "version_major": 2,
       "version_minor": 0
      },
      "text/plain": [
       "solo_L3_eui-hrieuv174-image_20220302T002000202_V02.jp2:   0%|          | 0.00/1.27M [00:00<?, ?B/s]"
      ]
     },
     "metadata": {},
     "output_type": "display_data"
    },
    {
     "data": {
      "application/vnd.jupyter.widget-view+json": {
       "model_id": "",
       "version_major": 2,
       "version_minor": 0
      },
      "text/plain": [
       "solo_L3_eui-hrieuv174-image_20220302T002200202_V02.jp2:   0%|          | 0.00/1.27M [00:00<?, ?B/s]"
      ]
     },
     "metadata": {},
     "output_type": "display_data"
    },
    {
     "data": {
      "application/vnd.jupyter.widget-view+json": {
       "model_id": "",
       "version_major": 2,
       "version_minor": 0
      },
      "text/plain": [
       "solo_L3_eui-hrieuv174-image_20220302T002400203_V02.jp2:   0%|          | 0.00/1.27M [00:00<?, ?B/s]"
      ]
     },
     "metadata": {},
     "output_type": "display_data"
    },
    {
     "data": {
      "application/vnd.jupyter.widget-view+json": {
       "model_id": "",
       "version_major": 2,
       "version_minor": 0
      },
      "text/plain": [
       "solo_L3_eui-hrieuv174-image_20220302T002600203_V02.jp2:   0%|          | 0.00/1.27M [00:00<?, ?B/s]"
      ]
     },
     "metadata": {},
     "output_type": "display_data"
    },
    {
     "data": {
      "application/vnd.jupyter.widget-view+json": {
       "model_id": "",
       "version_major": 2,
       "version_minor": 0
      },
      "text/plain": [
       "solo_L3_eui-hrieuv174-image_20220302T002800202_V02.jp2:   0%|          | 0.00/1.27M [00:00<?, ?B/s]"
      ]
     },
     "metadata": {},
     "output_type": "display_data"
    },
    {
     "data": {
      "application/vnd.jupyter.widget-view+json": {
       "model_id": "",
       "version_major": 2,
       "version_minor": 0
      },
      "text/plain": [
       "solo_L3_eui-hrieuv174-image_20220302T003000203_V02.jp2:   0%|          | 0.00/1.27M [00:00<?, ?B/s]"
      ]
     },
     "metadata": {},
     "output_type": "display_data"
    },
    {
     "data": {
      "application/vnd.jupyter.widget-view+json": {
       "model_id": "",
       "version_major": 2,
       "version_minor": 0
      },
      "text/plain": [
       "solo_L3_eui-hrieuv174-image_20220302T003200203_V02.jp2:   0%|          | 0.00/1.27M [00:00<?, ?B/s]"
      ]
     },
     "metadata": {},
     "output_type": "display_data"
    },
    {
     "data": {
      "application/vnd.jupyter.widget-view+json": {
       "model_id": "",
       "version_major": 2,
       "version_minor": 0
      },
      "text/plain": [
       "solo_L3_eui-hrieuv174-image_20220302T003400203_V02.jp2:   0%|          | 0.00/1.27M [00:00<?, ?B/s]"
      ]
     },
     "metadata": {},
     "output_type": "display_data"
    },
    {
     "data": {
      "application/vnd.jupyter.widget-view+json": {
       "model_id": "",
       "version_major": 2,
       "version_minor": 0
      },
      "text/plain": [
       "solo_L3_eui-hrieuv174-image_20220302T003600204_V02.jp2:   0%|          | 0.00/1.27M [00:00<?, ?B/s]"
      ]
     },
     "metadata": {},
     "output_type": "display_data"
    },
    {
     "data": {
      "application/vnd.jupyter.widget-view+json": {
       "model_id": "",
       "version_major": 2,
       "version_minor": 0
      },
      "text/plain": [
       "solo_L3_eui-hrieuv174-image_20220302T003800203_V02.jp2:   0%|          | 0.00/1.27M [00:00<?, ?B/s]"
      ]
     },
     "metadata": {},
     "output_type": "display_data"
    },
    {
     "data": {
      "application/vnd.jupyter.widget-view+json": {
       "model_id": "",
       "version_major": 2,
       "version_minor": 0
      },
      "text/plain": [
       "solo_L3_eui-hrieuv174-image_20220302T004000204_V02.jp2:   0%|          | 0.00/1.27M [00:00<?, ?B/s]"
      ]
     },
     "metadata": {},
     "output_type": "display_data"
    },
    {
     "data": {
      "application/vnd.jupyter.widget-view+json": {
       "model_id": "",
       "version_major": 2,
       "version_minor": 0
      },
      "text/plain": [
       "solo_L3_eui-hrieuv174-image_20220302T004200205_V02.jp2:   0%|          | 0.00/1.27M [00:00<?, ?B/s]"
      ]
     },
     "metadata": {},
     "output_type": "display_data"
    },
    {
     "data": {
      "application/vnd.jupyter.widget-view+json": {
       "model_id": "",
       "version_major": 2,
       "version_minor": 0
      },
      "text/plain": [
       "solo_L3_eui-hrieuv174-image_20220302T004400205_V02.jp2:   0%|          | 0.00/1.27M [00:00<?, ?B/s]"
      ]
     },
     "metadata": {},
     "output_type": "display_data"
    },
    {
     "data": {
      "application/vnd.jupyter.widget-view+json": {
       "model_id": "",
       "version_major": 2,
       "version_minor": 0
      },
      "text/plain": [
       "solo_L3_eui-hrieuv174-image_20220302T004600205_V02.jp2:   0%|          | 0.00/1.27M [00:00<?, ?B/s]"
      ]
     },
     "metadata": {},
     "output_type": "display_data"
    },
    {
     "data": {
      "application/vnd.jupyter.widget-view+json": {
       "model_id": "",
       "version_major": 2,
       "version_minor": 0
      },
      "text/plain": [
       "solo_L3_eui-hrieuv174-image_20220302T004800207_V02.jp2:   0%|          | 0.00/1.27M [00:00<?, ?B/s]"
      ]
     },
     "metadata": {},
     "output_type": "display_data"
    },
    {
     "data": {
      "application/vnd.jupyter.widget-view+json": {
       "model_id": "",
       "version_major": 2,
       "version_minor": 0
      },
      "text/plain": [
       "solo_L3_eui-hrieuv174-image_20220302T005000206_V02.jp2:   0%|          | 0.00/1.27M [00:00<?, ?B/s]"
      ]
     },
     "metadata": {},
     "output_type": "display_data"
    },
    {
     "data": {
      "application/vnd.jupyter.widget-view+json": {
       "model_id": "",
       "version_major": 2,
       "version_minor": 0
      },
      "text/plain": [
       "solo_L3_eui-hrieuv174-image_20220302T005200206_V02.jp2:   0%|          | 0.00/1.27M [00:00<?, ?B/s]"
      ]
     },
     "metadata": {},
     "output_type": "display_data"
    },
    {
     "data": {
      "application/vnd.jupyter.widget-view+json": {
       "model_id": "",
       "version_major": 2,
       "version_minor": 0
      },
      "text/plain": [
       "solo_L3_eui-hrieuv174-image_20220302T005600206_V02.jp2:   0%|          | 0.00/1.27M [00:00<?, ?B/s]"
      ]
     },
     "metadata": {},
     "output_type": "display_data"
    },
    {
     "data": {
      "application/vnd.jupyter.widget-view+json": {
       "model_id": "",
       "version_major": 2,
       "version_minor": 0
      },
      "text/plain": [
       "solo_L3_eui-hrieuv174-image_20220302T005800206_V02.jp2:   0%|          | 0.00/1.27M [00:00<?, ?B/s]"
      ]
     },
     "metadata": {},
     "output_type": "display_data"
    },
    {
     "data": {
      "application/vnd.jupyter.widget-view+json": {
       "model_id": "",
       "version_major": 2,
       "version_minor": 0
      },
      "text/plain": [
       "solo_L3_eui-hrieuv174-image_20220302T005400206_V02.jp2:   0%|          | 0.00/1.27M [00:00<?, ?B/s]"
      ]
     },
     "metadata": {},
     "output_type": "display_data"
    },
    {
     "data": {
      "application/vnd.jupyter.widget-view+json": {
       "model_id": "",
       "version_major": 2,
       "version_minor": 0
      },
      "text/plain": [
       "solo_L3_eui-hrieuv174-image_20220302T010000207_V02.jp2:   0%|          | 0.00/1.27M [00:00<?, ?B/s]"
      ]
     },
     "metadata": {},
     "output_type": "display_data"
    },
    {
     "data": {
      "application/vnd.jupyter.widget-view+json": {
       "model_id": "",
       "version_major": 2,
       "version_minor": 0
      },
      "text/plain": [
       "solo_L3_eui-hrieuv174-image_20220302T010200207_V02.jp2:   0%|          | 0.00/1.27M [00:00<?, ?B/s]"
      ]
     },
     "metadata": {},
     "output_type": "display_data"
    },
    {
     "data": {
      "application/vnd.jupyter.widget-view+json": {
       "model_id": "",
       "version_major": 2,
       "version_minor": 0
      },
      "text/plain": [
       "solo_L3_eui-hrieuv174-image_20220302T010400207_V02.jp2:   0%|          | 0.00/1.27M [00:00<?, ?B/s]"
      ]
     },
     "metadata": {},
     "output_type": "display_data"
    },
    {
     "data": {
      "application/vnd.jupyter.widget-view+json": {
       "model_id": "",
       "version_major": 2,
       "version_minor": 0
      },
      "text/plain": [
       "solo_L3_eui-hrieuv174-image_20220302T010600207_V02.jp2:   0%|          | 0.00/1.27M [00:00<?, ?B/s]"
      ]
     },
     "metadata": {},
     "output_type": "display_data"
    },
    {
     "data": {
      "application/vnd.jupyter.widget-view+json": {
       "model_id": "",
       "version_major": 2,
       "version_minor": 0
      },
      "text/plain": [
       "solo_L3_eui-hrieuv174-image_20220302T010800207_V02.jp2:   0%|          | 0.00/1.27M [00:00<?, ?B/s]"
      ]
     },
     "metadata": {},
     "output_type": "display_data"
    },
    {
     "data": {
      "application/vnd.jupyter.widget-view+json": {
       "model_id": "",
       "version_major": 2,
       "version_minor": 0
      },
      "text/plain": [
       "solo_L3_eui-hrieuv174-image_20220302T011200208_V02.jp2:   0%|          | 0.00/1.27M [00:00<?, ?B/s]"
      ]
     },
     "metadata": {},
     "output_type": "display_data"
    },
    {
     "data": {
      "application/vnd.jupyter.widget-view+json": {
       "model_id": "",
       "version_major": 2,
       "version_minor": 0
      },
      "text/plain": [
       "solo_L3_eui-hrieuv174-image_20220302T011000207_V02.jp2:   0%|          | 0.00/1.27M [00:00<?, ?B/s]"
      ]
     },
     "metadata": {},
     "output_type": "display_data"
    },
    {
     "data": {
      "application/vnd.jupyter.widget-view+json": {
       "model_id": "",
       "version_major": 2,
       "version_minor": 0
      },
      "text/plain": [
       "solo_L3_eui-hrieuv174-image_20220302T011400208_V02.jp2:   0%|          | 0.00/1.27M [00:00<?, ?B/s]"
      ]
     },
     "metadata": {},
     "output_type": "display_data"
    },
    {
     "data": {
      "application/vnd.jupyter.widget-view+json": {
       "model_id": "",
       "version_major": 2,
       "version_minor": 0
      },
      "text/plain": [
       "solo_L3_eui-hrieuv174-image_20220302T011600208_V02.jp2:   0%|          | 0.00/1.27M [00:00<?, ?B/s]"
      ]
     },
     "metadata": {},
     "output_type": "display_data"
    },
    {
     "data": {
      "application/vnd.jupyter.widget-view+json": {
       "model_id": "",
       "version_major": 2,
       "version_minor": 0
      },
      "text/plain": [
       "solo_L3_eui-hrieuv174-image_20220302T011800208_V02.jp2:   0%|          | 0.00/1.27M [00:00<?, ?B/s]"
      ]
     },
     "metadata": {},
     "output_type": "display_data"
    },
    {
     "data": {
      "application/vnd.jupyter.widget-view+json": {
       "model_id": "",
       "version_major": 2,
       "version_minor": 0
      },
      "text/plain": [
       "solo_L3_eui-hrieuv174-image_20220302T012000209_V02.jp2:   0%|          | 0.00/1.27M [00:00<?, ?B/s]"
      ]
     },
     "metadata": {},
     "output_type": "display_data"
    },
    {
     "data": {
      "application/vnd.jupyter.widget-view+json": {
       "model_id": "",
       "version_major": 2,
       "version_minor": 0
      },
      "text/plain": [
       "solo_L3_eui-hrieuv174-image_20220302T012200209_V02.jp2:   0%|          | 0.00/1.27M [00:00<?, ?B/s]"
      ]
     },
     "metadata": {},
     "output_type": "display_data"
    },
    {
     "data": {
      "application/vnd.jupyter.widget-view+json": {
       "model_id": "",
       "version_major": 2,
       "version_minor": 0
      },
      "text/plain": [
       "solo_L3_eui-hrieuv174-image_20220302T012400209_V02.jp2:   0%|          | 0.00/1.27M [00:00<?, ?B/s]"
      ]
     },
     "metadata": {},
     "output_type": "display_data"
    },
    {
     "data": {
      "application/vnd.jupyter.widget-view+json": {
       "model_id": "",
       "version_major": 2,
       "version_minor": 0
      },
      "text/plain": [
       "solo_L3_eui-hrieuv174-image_20220302T012600209_V02.jp2:   0%|          | 0.00/1.27M [00:00<?, ?B/s]"
      ]
     },
     "metadata": {},
     "output_type": "display_data"
    },
    {
     "data": {
      "application/vnd.jupyter.widget-view+json": {
       "model_id": "",
       "version_major": 2,
       "version_minor": 0
      },
      "text/plain": [
       "solo_L3_eui-hrieuv174-image_20220302T012800209_V02.jp2:   0%|          | 0.00/1.27M [00:00<?, ?B/s]"
      ]
     },
     "metadata": {},
     "output_type": "display_data"
    },
    {
     "data": {
      "application/vnd.jupyter.widget-view+json": {
       "model_id": "",
       "version_major": 2,
       "version_minor": 0
      },
      "text/plain": [
       "solo_L3_eui-hrieuv174-image_20220302T013000210_V02.jp2:   0%|          | 0.00/1.27M [00:00<?, ?B/s]"
      ]
     },
     "metadata": {},
     "output_type": "display_data"
    },
    {
     "data": {
      "application/vnd.jupyter.widget-view+json": {
       "model_id": "",
       "version_major": 2,
       "version_minor": 0
      },
      "text/plain": [
       "solo_L3_eui-hrieuv174-image_20220302T013200210_V02.jp2:   0%|          | 0.00/1.27M [00:00<?, ?B/s]"
      ]
     },
     "metadata": {},
     "output_type": "display_data"
    },
    {
     "data": {
      "application/vnd.jupyter.widget-view+json": {
       "model_id": "",
       "version_major": 2,
       "version_minor": 0
      },
      "text/plain": [
       "solo_L3_eui-hrieuv174-image_20220302T013400216_V02.jp2:   0%|          | 0.00/1.27M [00:00<?, ?B/s]"
      ]
     },
     "metadata": {},
     "output_type": "display_data"
    },
    {
     "data": {
      "application/vnd.jupyter.widget-view+json": {
       "model_id": "",
       "version_major": 2,
       "version_minor": 0
      },
      "text/plain": [
       "solo_L3_eui-hrieuv174-image_20220302T013600212_V02.jp2:   0%|          | 0.00/1.27M [00:00<?, ?B/s]"
      ]
     },
     "metadata": {},
     "output_type": "display_data"
    },
    {
     "data": {
      "application/vnd.jupyter.widget-view+json": {
       "model_id": "",
       "version_major": 2,
       "version_minor": 0
      },
      "text/plain": [
       "solo_L3_eui-hrieuv174-image_20220302T013800214_V02.jp2:   0%|          | 0.00/1.27M [00:00<?, ?B/s]"
      ]
     },
     "metadata": {},
     "output_type": "display_data"
    },
    {
     "data": {
      "application/vnd.jupyter.widget-view+json": {
       "model_id": "",
       "version_major": 2,
       "version_minor": 0
      },
      "text/plain": [
       "solo_L3_eui-hrieuv174-image_20220302T014000232_V02.jp2:   0%|          | 0.00/1.27M [00:00<?, ?B/s]"
      ]
     },
     "metadata": {},
     "output_type": "display_data"
    },
    {
     "data": {
      "application/vnd.jupyter.widget-view+json": {
       "model_id": "",
       "version_major": 2,
       "version_minor": 0
      },
      "text/plain": [
       "solo_L3_eui-hrieuv174-image_20220302T014200237_V02.jp2:   0%|          | 0.00/1.27M [00:00<?, ?B/s]"
      ]
     },
     "metadata": {},
     "output_type": "display_data"
    },
    {
     "data": {
      "application/vnd.jupyter.widget-view+json": {
       "model_id": "",
       "version_major": 2,
       "version_minor": 0
      },
      "text/plain": [
       "solo_L3_eui-hrieuv174-image_20220302T014400237_V02.jp2:   0%|          | 0.00/1.27M [00:00<?, ?B/s]"
      ]
     },
     "metadata": {},
     "output_type": "display_data"
    },
    {
     "data": {
      "application/vnd.jupyter.widget-view+json": {
       "model_id": "",
       "version_major": 2,
       "version_minor": 0
      },
      "text/plain": [
       "solo_L3_eui-hrieuv174-image_20220302T014600212_V02.jp2:   0%|          | 0.00/1.27M [00:00<?, ?B/s]"
      ]
     },
     "metadata": {},
     "output_type": "display_data"
    },
    {
     "data": {
      "application/vnd.jupyter.widget-view+json": {
       "model_id": "",
       "version_major": 2,
       "version_minor": 0
      },
      "text/plain": [
       "solo_L3_eui-hrieuv174-image_20220302T014800212_V02.jp2:   0%|          | 0.00/1.27M [00:00<?, ?B/s]"
      ]
     },
     "metadata": {},
     "output_type": "display_data"
    },
    {
     "data": {
      "application/vnd.jupyter.widget-view+json": {
       "model_id": "",
       "version_major": 2,
       "version_minor": 0
      },
      "text/plain": [
       "solo_L3_eui-hrieuv174-image_20220302T015000212_V02.jp2:   0%|          | 0.00/1.27M [00:00<?, ?B/s]"
      ]
     },
     "metadata": {},
     "output_type": "display_data"
    },
    {
     "data": {
      "application/vnd.jupyter.widget-view+json": {
       "model_id": "",
       "version_major": 2,
       "version_minor": 0
      },
      "text/plain": [
       "solo_L3_eui-hrieuv174-image_20220302T015200238_V02.jp2:   0%|          | 0.00/1.27M [00:00<?, ?B/s]"
      ]
     },
     "metadata": {},
     "output_type": "display_data"
    },
    {
     "data": {
      "application/vnd.jupyter.widget-view+json": {
       "model_id": "",
       "version_major": 2,
       "version_minor": 0
      },
      "text/plain": [
       "solo_L3_eui-hrieuv174-image_20220302T015400236_V02.jp2:   0%|          | 0.00/1.27M [00:00<?, ?B/s]"
      ]
     },
     "metadata": {},
     "output_type": "display_data"
    },
    {
     "data": {
      "application/vnd.jupyter.widget-view+json": {
       "model_id": "",
       "version_major": 2,
       "version_minor": 0
      },
      "text/plain": [
       "solo_L3_eui-hrieuv174-image_20220302T015600212_V02.jp2:   0%|          | 0.00/1.27M [00:00<?, ?B/s]"
      ]
     },
     "metadata": {},
     "output_type": "display_data"
    },
    {
     "data": {
      "application/vnd.jupyter.widget-view+json": {
       "model_id": "",
       "version_major": 2,
       "version_minor": 0
      },
      "text/plain": [
       "solo_L3_eui-hrieuv174-image_20220302T015800212_V02.jp2:   0%|          | 0.00/1.27M [00:00<?, ?B/s]"
      ]
     },
     "metadata": {},
     "output_type": "display_data"
    },
    {
     "data": {
      "application/vnd.jupyter.widget-view+json": {
       "model_id": "",
       "version_major": 2,
       "version_minor": 0
      },
      "text/plain": [
       "solo_L3_eui-hrieuv174-image_20220302T020000213_V02.jp2:   0%|          | 0.00/1.27M [00:00<?, ?B/s]"
      ]
     },
     "metadata": {},
     "output_type": "display_data"
    },
    {
     "data": {
      "application/vnd.jupyter.widget-view+json": {
       "model_id": "",
       "version_major": 2,
       "version_minor": 0
      },
      "text/plain": [
       "solo_L3_eui-hrieuv174-image_20220302T020200213_V02.jp2:   0%|          | 0.00/1.27M [00:00<?, ?B/s]"
      ]
     },
     "metadata": {},
     "output_type": "display_data"
    },
    {
     "data": {
      "application/vnd.jupyter.widget-view+json": {
       "model_id": "",
       "version_major": 2,
       "version_minor": 0
      },
      "text/plain": [
       "solo_L3_eui-hrieuv174-image_20220302T020400214_V02.jp2:   0%|          | 0.00/1.27M [00:00<?, ?B/s]"
      ]
     },
     "metadata": {},
     "output_type": "display_data"
    },
    {
     "data": {
      "application/vnd.jupyter.widget-view+json": {
       "model_id": "",
       "version_major": 2,
       "version_minor": 0
      },
      "text/plain": [
       "solo_L3_eui-hrieuv174-image_20220302T020600214_V02.jp2:   0%|          | 0.00/1.27M [00:00<?, ?B/s]"
      ]
     },
     "metadata": {},
     "output_type": "display_data"
    },
    {
     "data": {
      "application/vnd.jupyter.widget-view+json": {
       "model_id": "",
       "version_major": 2,
       "version_minor": 0
      },
      "text/plain": [
       "solo_L3_eui-hrieuv174-image_20220302T020800214_V02.jp2:   0%|          | 0.00/1.27M [00:00<?, ?B/s]"
      ]
     },
     "metadata": {},
     "output_type": "display_data"
    },
    {
     "data": {
      "application/vnd.jupyter.widget-view+json": {
       "model_id": "",
       "version_major": 2,
       "version_minor": 0
      },
      "text/plain": [
       "solo_L3_eui-hrieuv174-image_20220302T021000213_V02.jp2:   0%|          | 0.00/1.27M [00:00<?, ?B/s]"
      ]
     },
     "metadata": {},
     "output_type": "display_data"
    },
    {
     "data": {
      "application/vnd.jupyter.widget-view+json": {
       "model_id": "",
       "version_major": 2,
       "version_minor": 0
      },
      "text/plain": [
       "solo_L3_eui-hrieuv174-image_20220302T021200214_V02.jp2:   0%|          | 0.00/1.27M [00:00<?, ?B/s]"
      ]
     },
     "metadata": {},
     "output_type": "display_data"
    },
    {
     "data": {
      "application/vnd.jupyter.widget-view+json": {
       "model_id": "",
       "version_major": 2,
       "version_minor": 0
      },
      "text/plain": [
       "solo_L3_eui-hrieuv174-image_20220302T021400214_V02.jp2:   0%|          | 0.00/1.27M [00:00<?, ?B/s]"
      ]
     },
     "metadata": {},
     "output_type": "display_data"
    },
    {
     "data": {
      "application/vnd.jupyter.widget-view+json": {
       "model_id": "",
       "version_major": 2,
       "version_minor": 0
      },
      "text/plain": [
       "solo_L3_eui-hrieuv174-image_20220302T021600214_V02.jp2:   0%|          | 0.00/1.27M [00:00<?, ?B/s]"
      ]
     },
     "metadata": {},
     "output_type": "display_data"
    },
    {
     "data": {
      "application/vnd.jupyter.widget-view+json": {
       "model_id": "",
       "version_major": 2,
       "version_minor": 0
      },
      "text/plain": [
       "solo_L3_eui-hrieuv174-image_20220302T021800214_V02.jp2:   0%|          | 0.00/1.27M [00:00<?, ?B/s]"
      ]
     },
     "metadata": {},
     "output_type": "display_data"
    },
    {
     "data": {
      "application/vnd.jupyter.widget-view+json": {
       "model_id": "",
       "version_major": 2,
       "version_minor": 0
      },
      "text/plain": [
       "solo_L3_eui-hrieuv174-image_20220302T022000215_V02.jp2:   0%|          | 0.00/1.27M [00:00<?, ?B/s]"
      ]
     },
     "metadata": {},
     "output_type": "display_data"
    },
    {
     "data": {
      "application/vnd.jupyter.widget-view+json": {
       "model_id": "",
       "version_major": 2,
       "version_minor": 0
      },
      "text/plain": [
       "solo_L3_eui-hrieuv174-image_20220302T022400215_V02.jp2:   0%|          | 0.00/1.27M [00:00<?, ?B/s]"
      ]
     },
     "metadata": {},
     "output_type": "display_data"
    },
    {
     "data": {
      "application/vnd.jupyter.widget-view+json": {
       "model_id": "",
       "version_major": 2,
       "version_minor": 0
      },
      "text/plain": [
       "solo_L3_eui-hrieuv174-image_20220302T022200215_V02.jp2:   0%|          | 0.00/1.27M [00:00<?, ?B/s]"
      ]
     },
     "metadata": {},
     "output_type": "display_data"
    },
    {
     "data": {
      "application/vnd.jupyter.widget-view+json": {
       "model_id": "",
       "version_major": 2,
       "version_minor": 0
      },
      "text/plain": [
       "solo_L3_eui-hrieuv174-image_20220302T022600214_V02.jp2:   0%|          | 0.00/1.27M [00:00<?, ?B/s]"
      ]
     },
     "metadata": {},
     "output_type": "display_data"
    },
    {
     "data": {
      "application/vnd.jupyter.widget-view+json": {
       "model_id": "",
       "version_major": 2,
       "version_minor": 0
      },
      "text/plain": [
       "solo_L3_eui-hrieuv174-image_20220302T022800216_V02.jp2:   0%|          | 0.00/1.27M [00:00<?, ?B/s]"
      ]
     },
     "metadata": {},
     "output_type": "display_data"
    },
    {
     "data": {
      "application/vnd.jupyter.widget-view+json": {
       "model_id": "",
       "version_major": 2,
       "version_minor": 0
      },
      "text/plain": [
       "solo_L3_eui-hrieuv174-image_20220302T023000216_V02.jp2:   0%|          | 0.00/1.27M [00:00<?, ?B/s]"
      ]
     },
     "metadata": {},
     "output_type": "display_data"
    },
    {
     "data": {
      "application/vnd.jupyter.widget-view+json": {
       "model_id": "",
       "version_major": 2,
       "version_minor": 0
      },
      "text/plain": [
       "solo_L3_eui-hrieuv174-image_20220302T023200216_V02.jp2:   0%|          | 0.00/1.27M [00:00<?, ?B/s]"
      ]
     },
     "metadata": {},
     "output_type": "display_data"
    },
    {
     "data": {
      "application/vnd.jupyter.widget-view+json": {
       "model_id": "",
       "version_major": 2,
       "version_minor": 0
      },
      "text/plain": [
       "solo_L3_eui-hrieuv174-image_20220302T023400216_V02.jp2:   0%|          | 0.00/1.27M [00:00<?, ?B/s]"
      ]
     },
     "metadata": {},
     "output_type": "display_data"
    },
    {
     "data": {
      "application/vnd.jupyter.widget-view+json": {
       "model_id": "",
       "version_major": 2,
       "version_minor": 0
      },
      "text/plain": [
       "solo_L3_eui-hrieuv174-image_20220302T023600217_V02.jp2:   0%|          | 0.00/1.27M [00:00<?, ?B/s]"
      ]
     },
     "metadata": {},
     "output_type": "display_data"
    },
    {
     "data": {
      "application/vnd.jupyter.widget-view+json": {
       "model_id": "",
       "version_major": 2,
       "version_minor": 0
      },
      "text/plain": [
       "solo_L3_eui-hrieuv174-image_20220302T023800217_V02.jp2:   0%|          | 0.00/1.27M [00:00<?, ?B/s]"
      ]
     },
     "metadata": {},
     "output_type": "display_data"
    },
    {
     "data": {
      "application/vnd.jupyter.widget-view+json": {
       "model_id": "",
       "version_major": 2,
       "version_minor": 0
      },
      "text/plain": [
       "solo_L3_eui-hrieuv174-image_20220302T024000217_V02.jp2:   0%|          | 0.00/1.27M [00:00<?, ?B/s]"
      ]
     },
     "metadata": {},
     "output_type": "display_data"
    },
    {
     "data": {
      "application/vnd.jupyter.widget-view+json": {
       "model_id": "",
       "version_major": 2,
       "version_minor": 0
      },
      "text/plain": [
       "solo_L3_eui-hrieuv174-image_20220302T024200217_V02.jp2:   0%|          | 0.00/1.27M [00:00<?, ?B/s]"
      ]
     },
     "metadata": {},
     "output_type": "display_data"
    },
    {
     "data": {
      "application/vnd.jupyter.widget-view+json": {
       "model_id": "",
       "version_major": 2,
       "version_minor": 0
      },
      "text/plain": [
       "solo_L3_eui-hrieuv174-image_20220302T024400217_V02.jp2:   0%|          | 0.00/1.27M [00:00<?, ?B/s]"
      ]
     },
     "metadata": {},
     "output_type": "display_data"
    },
    {
     "data": {
      "application/vnd.jupyter.widget-view+json": {
       "model_id": "",
       "version_major": 2,
       "version_minor": 0
      },
      "text/plain": [
       "solo_L3_eui-hrieuv174-image_20220302T024600218_V02.jp2:   0%|          | 0.00/1.27M [00:00<?, ?B/s]"
      ]
     },
     "metadata": {},
     "output_type": "display_data"
    },
    {
     "data": {
      "application/vnd.jupyter.widget-view+json": {
       "model_id": "",
       "version_major": 2,
       "version_minor": 0
      },
      "text/plain": [
       "solo_L3_eui-hrieuv174-image_20220302T024800251_V02.jp2:   0%|          | 0.00/1.27M [00:00<?, ?B/s]"
      ]
     },
     "metadata": {},
     "output_type": "display_data"
    },
    {
     "data": {
      "application/vnd.jupyter.widget-view+json": {
       "model_id": "",
       "version_major": 2,
       "version_minor": 0
      },
      "text/plain": [
       "solo_L3_eui-hrieuv174-image_20220302T025000218_V02.jp2:   0%|          | 0.00/1.27M [00:00<?, ?B/s]"
      ]
     },
     "metadata": {},
     "output_type": "display_data"
    },
    {
     "data": {
      "application/vnd.jupyter.widget-view+json": {
       "model_id": "",
       "version_major": 2,
       "version_minor": 0
      },
      "text/plain": [
       "solo_L3_eui-hrieuv174-image_20220302T025200218_V02.jp2:   0%|          | 0.00/1.27M [00:00<?, ?B/s]"
      ]
     },
     "metadata": {},
     "output_type": "display_data"
    },
    {
     "data": {
      "application/vnd.jupyter.widget-view+json": {
       "model_id": "",
       "version_major": 2,
       "version_minor": 0
      },
      "text/plain": [
       "solo_L3_eui-hrieuv174-image_20220302T025600218_V02.jp2:   0%|          | 0.00/1.27M [00:00<?, ?B/s]"
      ]
     },
     "metadata": {},
     "output_type": "display_data"
    },
    {
     "data": {
      "application/vnd.jupyter.widget-view+json": {
       "model_id": "",
       "version_major": 2,
       "version_minor": 0
      },
      "text/plain": [
       "solo_L3_eui-hrieuv174-image_20220302T025400218_V02.jp2:   0%|          | 0.00/1.27M [00:00<?, ?B/s]"
      ]
     },
     "metadata": {},
     "output_type": "display_data"
    },
    {
     "data": {
      "application/vnd.jupyter.widget-view+json": {
       "model_id": "",
       "version_major": 2,
       "version_minor": 0
      },
      "text/plain": [
       "solo_L3_eui-hrieuv174-image_20220302T025800219_V02.jp2:   0%|          | 0.00/1.27M [00:00<?, ?B/s]"
      ]
     },
     "metadata": {},
     "output_type": "display_data"
    },
    {
     "data": {
      "application/vnd.jupyter.widget-view+json": {
       "model_id": "",
       "version_major": 2,
       "version_minor": 0
      },
      "text/plain": [
       "solo_L3_eui-hrieuv174-image_20220302T030000219_V02.jp2:   0%|          | 0.00/1.27M [00:00<?, ?B/s]"
      ]
     },
     "metadata": {},
     "output_type": "display_data"
    },
    {
     "data": {
      "application/vnd.jupyter.widget-view+json": {
       "model_id": "",
       "version_major": 2,
       "version_minor": 0
      },
      "text/plain": [
       "solo_L3_eui-hrieuv174-image_20220302T030200219_V02.jp2:   0%|          | 0.00/1.27M [00:00<?, ?B/s]"
      ]
     },
     "metadata": {},
     "output_type": "display_data"
    },
    {
     "data": {
      "application/vnd.jupyter.widget-view+json": {
       "model_id": "",
       "version_major": 2,
       "version_minor": 0
      },
      "text/plain": [
       "solo_L3_eui-hrieuv174-image_20220302T030400220_V02.jp2:   0%|          | 0.00/1.27M [00:00<?, ?B/s]"
      ]
     },
     "metadata": {},
     "output_type": "display_data"
    },
    {
     "data": {
      "application/vnd.jupyter.widget-view+json": {
       "model_id": "",
       "version_major": 2,
       "version_minor": 0
      },
      "text/plain": [
       "solo_L3_eui-hrieuv174-image_20220302T030600220_V02.jp2:   0%|          | 0.00/1.27M [00:00<?, ?B/s]"
      ]
     },
     "metadata": {},
     "output_type": "display_data"
    },
    {
     "data": {
      "application/vnd.jupyter.widget-view+json": {
       "model_id": "",
       "version_major": 2,
       "version_minor": 0
      },
      "text/plain": [
       "solo_L3_eui-hrieuv174-image_20220302T031000220_V02.jp2:   0%|          | 0.00/1.27M [00:00<?, ?B/s]"
      ]
     },
     "metadata": {},
     "output_type": "display_data"
    },
    {
     "data": {
      "application/vnd.jupyter.widget-view+json": {
       "model_id": "",
       "version_major": 2,
       "version_minor": 0
      },
      "text/plain": [
       "solo_L3_eui-hrieuv174-image_20220302T030800220_V02.jp2:   0%|          | 0.00/1.27M [00:00<?, ?B/s]"
      ]
     },
     "metadata": {},
     "output_type": "display_data"
    },
    {
     "data": {
      "application/vnd.jupyter.widget-view+json": {
       "model_id": "",
       "version_major": 2,
       "version_minor": 0
      },
      "text/plain": [
       "solo_L3_eui-hrieuv174-image_20220302T031200220_V02.jp2:   0%|          | 0.00/1.27M [00:00<?, ?B/s]"
      ]
     },
     "metadata": {},
     "output_type": "display_data"
    },
    {
     "data": {
      "application/vnd.jupyter.widget-view+json": {
       "model_id": "",
       "version_major": 2,
       "version_minor": 0
      },
      "text/plain": [
       "solo_L3_eui-hrieuv174-image_20220302T031400220_V02.jp2:   0%|          | 0.00/1.27M [00:00<?, ?B/s]"
      ]
     },
     "metadata": {},
     "output_type": "display_data"
    },
    {
     "data": {
      "application/vnd.jupyter.widget-view+json": {
       "model_id": "",
       "version_major": 2,
       "version_minor": 0
      },
      "text/plain": [
       "solo_L3_eui-hrieuv174-image_20220302T031600220_V02.jp2:   0%|          | 0.00/1.27M [00:00<?, ?B/s]"
      ]
     },
     "metadata": {},
     "output_type": "display_data"
    },
    {
     "data": {
      "application/vnd.jupyter.widget-view+json": {
       "model_id": "",
       "version_major": 2,
       "version_minor": 0
      },
      "text/plain": [
       "solo_L3_eui-hrieuv174-image_20220302T031800221_V02.jp2:   0%|          | 0.00/1.27M [00:00<?, ?B/s]"
      ]
     },
     "metadata": {},
     "output_type": "display_data"
    },
    {
     "data": {
      "application/vnd.jupyter.widget-view+json": {
       "model_id": "",
       "version_major": 2,
       "version_minor": 0
      },
      "text/plain": [
       "solo_L3_eui-hrieuv174-image_20220302T032000221_V02.jp2:   0%|          | 0.00/1.27M [00:00<?, ?B/s]"
      ]
     },
     "metadata": {},
     "output_type": "display_data"
    },
    {
     "data": {
      "application/vnd.jupyter.widget-view+json": {
       "model_id": "",
       "version_major": 2,
       "version_minor": 0
      },
      "text/plain": [
       "solo_L3_eui-hrieuv174-image_20220302T032200221_V02.jp2:   0%|          | 0.00/1.27M [00:00<?, ?B/s]"
      ]
     },
     "metadata": {},
     "output_type": "display_data"
    },
    {
     "data": {
      "application/vnd.jupyter.widget-view+json": {
       "model_id": "",
       "version_major": 2,
       "version_minor": 0
      },
      "text/plain": [
       "solo_L3_eui-hrieuv174-image_20220302T032400221_V02.jp2:   0%|          | 0.00/1.27M [00:00<?, ?B/s]"
      ]
     },
     "metadata": {},
     "output_type": "display_data"
    },
    {
     "data": {
      "application/vnd.jupyter.widget-view+json": {
       "model_id": "",
       "version_major": 2,
       "version_minor": 0
      },
      "text/plain": [
       "solo_L3_eui-hrieuv174-image_20220302T032600221_V02.jp2:   0%|          | 0.00/1.27M [00:00<?, ?B/s]"
      ]
     },
     "metadata": {},
     "output_type": "display_data"
    },
    {
     "data": {
      "application/vnd.jupyter.widget-view+json": {
       "model_id": "",
       "version_major": 2,
       "version_minor": 0
      },
      "text/plain": [
       "solo_L3_eui-hrieuv174-image_20220302T032800222_V02.jp2:   0%|          | 0.00/1.27M [00:00<?, ?B/s]"
      ]
     },
     "metadata": {},
     "output_type": "display_data"
    },
    {
     "data": {
      "application/vnd.jupyter.widget-view+json": {
       "model_id": "",
       "version_major": 2,
       "version_minor": 0
      },
      "text/plain": [
       "solo_L3_eui-hrieuv174-image_20220302T033000222_V02.jp2:   0%|          | 0.00/1.27M [00:00<?, ?B/s]"
      ]
     },
     "metadata": {},
     "output_type": "display_data"
    },
    {
     "data": {
      "application/vnd.jupyter.widget-view+json": {
       "model_id": "",
       "version_major": 2,
       "version_minor": 0
      },
      "text/plain": [
       "solo_L3_eui-hrieuv174-image_20220302T033200222_V02.jp2:   0%|          | 0.00/1.27M [00:00<?, ?B/s]"
      ]
     },
     "metadata": {},
     "output_type": "display_data"
    },
    {
     "data": {
      "application/vnd.jupyter.widget-view+json": {
       "model_id": "",
       "version_major": 2,
       "version_minor": 0
      },
      "text/plain": [
       "solo_L3_eui-hrieuv174-image_20220302T033400222_V02.jp2:   0%|          | 0.00/1.27M [00:00<?, ?B/s]"
      ]
     },
     "metadata": {},
     "output_type": "display_data"
    },
    {
     "data": {
      "application/vnd.jupyter.widget-view+json": {
       "model_id": "",
       "version_major": 2,
       "version_minor": 0
      },
      "text/plain": [
       "solo_L3_eui-hrieuv174-image_20220302T033600223_V02.jp2:   0%|          | 0.00/1.27M [00:00<?, ?B/s]"
      ]
     },
     "metadata": {},
     "output_type": "display_data"
    },
    {
     "data": {
      "application/vnd.jupyter.widget-view+json": {
       "model_id": "",
       "version_major": 2,
       "version_minor": 0
      },
      "text/plain": [
       "solo_L3_eui-hrieuv174-image_20220302T033800223_V02.jp2:   0%|          | 0.00/1.27M [00:00<?, ?B/s]"
      ]
     },
     "metadata": {},
     "output_type": "display_data"
    },
    {
     "data": {
      "application/vnd.jupyter.widget-view+json": {
       "model_id": "",
       "version_major": 2,
       "version_minor": 0
      },
      "text/plain": [
       "solo_L3_eui-hrieuv174-image_20220302T034000223_V02.jp2:   0%|          | 0.00/1.27M [00:00<?, ?B/s]"
      ]
     },
     "metadata": {},
     "output_type": "display_data"
    },
    {
     "data": {
      "application/vnd.jupyter.widget-view+json": {
       "model_id": "",
       "version_major": 2,
       "version_minor": 0
      },
      "text/plain": [
       "solo_L3_eui-hrieuv174-image_20220302T034200223_V02.jp2:   0%|          | 0.00/1.27M [00:00<?, ?B/s]"
      ]
     },
     "metadata": {},
     "output_type": "display_data"
    },
    {
     "data": {
      "application/vnd.jupyter.widget-view+json": {
       "model_id": "",
       "version_major": 2,
       "version_minor": 0
      },
      "text/plain": [
       "solo_L3_eui-hrieuv174-image_20220302T034400224_V02.jp2:   0%|          | 0.00/1.27M [00:00<?, ?B/s]"
      ]
     },
     "metadata": {},
     "output_type": "display_data"
    },
    {
     "data": {
      "application/vnd.jupyter.widget-view+json": {
       "model_id": "",
       "version_major": 2,
       "version_minor": 0
      },
      "text/plain": [
       "solo_L3_eui-hrieuv174-image_20220302T034600223_V02.jp2:   0%|          | 0.00/1.27M [00:00<?, ?B/s]"
      ]
     },
     "metadata": {},
     "output_type": "display_data"
    },
    {
     "data": {
      "application/vnd.jupyter.widget-view+json": {
       "model_id": "",
       "version_major": 2,
       "version_minor": 0
      },
      "text/plain": [
       "solo_L3_eui-hrieuv174-image_20220302T034800224_V02.jp2:   0%|          | 0.00/1.27M [00:00<?, ?B/s]"
      ]
     },
     "metadata": {},
     "output_type": "display_data"
    },
    {
     "data": {
      "application/vnd.jupyter.widget-view+json": {
       "model_id": "",
       "version_major": 2,
       "version_minor": 0
      },
      "text/plain": [
       "solo_L3_eui-hrieuv174-image_20220302T035000224_V02.jp2:   0%|          | 0.00/1.27M [00:00<?, ?B/s]"
      ]
     },
     "metadata": {},
     "output_type": "display_data"
    },
    {
     "data": {
      "application/vnd.jupyter.widget-view+json": {
       "model_id": "",
       "version_major": 2,
       "version_minor": 0
      },
      "text/plain": [
       "solo_L3_eui-hrieuv174-image_20220302T035200224_V02.jp2:   0%|          | 0.00/1.27M [00:00<?, ?B/s]"
      ]
     },
     "metadata": {},
     "output_type": "display_data"
    },
    {
     "data": {
      "application/vnd.jupyter.widget-view+json": {
       "model_id": "",
       "version_major": 2,
       "version_minor": 0
      },
      "text/plain": [
       "solo_L3_eui-hrieuv174-image_20220302T035400225_V02.jp2:   0%|          | 0.00/1.27M [00:00<?, ?B/s]"
      ]
     },
     "metadata": {},
     "output_type": "display_data"
    },
    {
     "data": {
      "application/vnd.jupyter.widget-view+json": {
       "model_id": "",
       "version_major": 2,
       "version_minor": 0
      },
      "text/plain": [
       "solo_L3_eui-hrieuv174-image_20220302T035600225_V02.jp2:   0%|          | 0.00/1.27M [00:00<?, ?B/s]"
      ]
     },
     "metadata": {},
     "output_type": "display_data"
    },
    {
     "data": {
      "application/vnd.jupyter.widget-view+json": {
       "model_id": "",
       "version_major": 2,
       "version_minor": 0
      },
      "text/plain": [
       "solo_L3_eui-hrieuv174-image_20220302T040000225_V02.jp2:   0%|          | 0.00/1.27M [00:00<?, ?B/s]"
      ]
     },
     "metadata": {},
     "output_type": "display_data"
    },
    {
     "data": {
      "application/vnd.jupyter.widget-view+json": {
       "model_id": "",
       "version_major": 2,
       "version_minor": 0
      },
      "text/plain": [
       "solo_L3_eui-hrieuv174-image_20220302T035800224_V02.jp2:   0%|          | 0.00/1.27M [00:00<?, ?B/s]"
      ]
     },
     "metadata": {},
     "output_type": "display_data"
    },
    {
     "data": {
      "application/vnd.jupyter.widget-view+json": {
       "model_id": "",
       "version_major": 2,
       "version_minor": 0
      },
      "text/plain": [
       "solo_L3_eui-hrieuv174-image_20220302T040200226_V02.jp2:   0%|          | 0.00/1.27M [00:00<?, ?B/s]"
      ]
     },
     "metadata": {},
     "output_type": "display_data"
    },
    {
     "data": {
      "application/vnd.jupyter.widget-view+json": {
       "model_id": "",
       "version_major": 2,
       "version_minor": 0
      },
      "text/plain": [
       "solo_L3_eui-hrieuv174-image_20220302T040400226_V02.jp2:   0%|          | 0.00/1.27M [00:00<?, ?B/s]"
      ]
     },
     "metadata": {},
     "output_type": "display_data"
    },
    {
     "data": {
      "application/vnd.jupyter.widget-view+json": {
       "model_id": "",
       "version_major": 2,
       "version_minor": 0
      },
      "text/plain": [
       "solo_L3_eui-hrieuv174-image_20220302T040600226_V02.jp2:   0%|          | 0.00/1.27M [00:00<?, ?B/s]"
      ]
     },
     "metadata": {},
     "output_type": "display_data"
    },
    {
     "data": {
      "application/vnd.jupyter.widget-view+json": {
       "model_id": "",
       "version_major": 2,
       "version_minor": 0
      },
      "text/plain": [
       "solo_L3_eui-hrieuv174-image_20220302T040800226_V02.jp2:   0%|          | 0.00/1.27M [00:00<?, ?B/s]"
      ]
     },
     "metadata": {},
     "output_type": "display_data"
    },
    {
     "data": {
      "application/vnd.jupyter.widget-view+json": {
       "model_id": "",
       "version_major": 2,
       "version_minor": 0
      },
      "text/plain": [
       "solo_L3_eui-hrieuv174-image_20220302T041000226_V02.jp2:   0%|          | 0.00/1.27M [00:00<?, ?B/s]"
      ]
     },
     "metadata": {},
     "output_type": "display_data"
    },
    {
     "data": {
      "application/vnd.jupyter.widget-view+json": {
       "model_id": "",
       "version_major": 2,
       "version_minor": 0
      },
      "text/plain": [
       "solo_L3_eui-hrieuv174-image_20220302T041200227_V02.jp2:   0%|          | 0.00/1.27M [00:00<?, ?B/s]"
      ]
     },
     "metadata": {},
     "output_type": "display_data"
    },
    {
     "data": {
      "application/vnd.jupyter.widget-view+json": {
       "model_id": "",
       "version_major": 2,
       "version_minor": 0
      },
      "text/plain": [
       "solo_L3_eui-hrieuv174-image_20220302T041400227_V02.jp2:   0%|          | 0.00/1.27M [00:00<?, ?B/s]"
      ]
     },
     "metadata": {},
     "output_type": "display_data"
    },
    {
     "data": {
      "application/vnd.jupyter.widget-view+json": {
       "model_id": "",
       "version_major": 2,
       "version_minor": 0
      },
      "text/plain": [
       "solo_L3_eui-hrieuv174-image_20220302T041600227_V02.jp2:   0%|          | 0.00/1.27M [00:00<?, ?B/s]"
      ]
     },
     "metadata": {},
     "output_type": "display_data"
    },
    {
     "data": {
      "application/vnd.jupyter.widget-view+json": {
       "model_id": "",
       "version_major": 2,
       "version_minor": 0
      },
      "text/plain": [
       "solo_L3_eui-hrieuv174-image_20220302T041800227_V02.jp2:   0%|          | 0.00/1.27M [00:00<?, ?B/s]"
      ]
     },
     "metadata": {},
     "output_type": "display_data"
    },
    {
     "data": {
      "application/vnd.jupyter.widget-view+json": {
       "model_id": "",
       "version_major": 2,
       "version_minor": 0
      },
      "text/plain": [
       "solo_L3_eui-hrieuv174-image_20220302T042000239_V02.jp2:   0%|          | 0.00/1.27M [00:00<?, ?B/s]"
      ]
     },
     "metadata": {},
     "output_type": "display_data"
    },
    {
     "data": {
      "application/vnd.jupyter.widget-view+json": {
       "model_id": "",
       "version_major": 2,
       "version_minor": 0
      },
      "text/plain": [
       "solo_L3_eui-hrieuv174-image_20220302T042200228_V02.jp2:   0%|          | 0.00/1.27M [00:00<?, ?B/s]"
      ]
     },
     "metadata": {},
     "output_type": "display_data"
    },
    {
     "data": {
      "application/vnd.jupyter.widget-view+json": {
       "model_id": "",
       "version_major": 2,
       "version_minor": 0
      },
      "text/plain": [
       "solo_L3_eui-hrieuv174-image_20220302T042400228_V02.jp2:   0%|          | 0.00/1.27M [00:00<?, ?B/s]"
      ]
     },
     "metadata": {},
     "output_type": "display_data"
    },
    {
     "data": {
      "application/vnd.jupyter.widget-view+json": {
       "model_id": "",
       "version_major": 2,
       "version_minor": 0
      },
      "text/plain": [
       "solo_L3_eui-hrieuv174-image_20220302T042600228_V02.jp2:   0%|          | 0.00/1.27M [00:00<?, ?B/s]"
      ]
     },
     "metadata": {},
     "output_type": "display_data"
    },
    {
     "data": {
      "application/vnd.jupyter.widget-view+json": {
       "model_id": "",
       "version_major": 2,
       "version_minor": 0
      },
      "text/plain": [
       "solo_L3_eui-hrieuv174-image_20220302T042800229_V02.jp2:   0%|          | 0.00/1.27M [00:00<?, ?B/s]"
      ]
     },
     "metadata": {},
     "output_type": "display_data"
    },
    {
     "data": {
      "application/vnd.jupyter.widget-view+json": {
       "model_id": "",
       "version_major": 2,
       "version_minor": 0
      },
      "text/plain": [
       "solo_L3_eui-hrieuv174-image_20220302T043000227_V02.jp2:   0%|          | 0.00/1.27M [00:00<?, ?B/s]"
      ]
     },
     "metadata": {},
     "output_type": "display_data"
    },
    {
     "data": {
      "application/vnd.jupyter.widget-view+json": {
       "model_id": "",
       "version_major": 2,
       "version_minor": 0
      },
      "text/plain": [
       "solo_L3_eui-hrieuv174-image_20220302T043200229_V02.jp2:   0%|          | 0.00/1.27M [00:00<?, ?B/s]"
      ]
     },
     "metadata": {},
     "output_type": "display_data"
    },
    {
     "data": {
      "application/vnd.jupyter.widget-view+json": {
       "model_id": "",
       "version_major": 2,
       "version_minor": 0
      },
      "text/plain": [
       "solo_L3_eui-hrieuv174-image_20220302T043400229_V02.jp2:   0%|          | 0.00/1.27M [00:00<?, ?B/s]"
      ]
     },
     "metadata": {},
     "output_type": "display_data"
    },
    {
     "data": {
      "application/vnd.jupyter.widget-view+json": {
       "model_id": "",
       "version_major": 2,
       "version_minor": 0
      },
      "text/plain": [
       "solo_L3_eui-hrieuv174-image_20220302T043600228_V02.jp2:   0%|          | 0.00/1.27M [00:00<?, ?B/s]"
      ]
     },
     "metadata": {},
     "output_type": "display_data"
    },
    {
     "data": {
      "application/vnd.jupyter.widget-view+json": {
       "model_id": "",
       "version_major": 2,
       "version_minor": 0
      },
      "text/plain": [
       "solo_L3_eui-hrieuv174-image_20220302T043800230_V02.jp2:   0%|          | 0.00/1.27M [00:00<?, ?B/s]"
      ]
     },
     "metadata": {},
     "output_type": "display_data"
    },
    {
     "data": {
      "application/vnd.jupyter.widget-view+json": {
       "model_id": "",
       "version_major": 2,
       "version_minor": 0
      },
      "text/plain": [
       "solo_L3_eui-hrieuv174-image_20220302T044000229_V02.jp2:   0%|          | 0.00/1.27M [00:00<?, ?B/s]"
      ]
     },
     "metadata": {},
     "output_type": "display_data"
    },
    {
     "data": {
      "application/vnd.jupyter.widget-view+json": {
       "model_id": "",
       "version_major": 2,
       "version_minor": 0
      },
      "text/plain": [
       "solo_L3_eui-hrieuv174-image_20220302T044200231_V02.jp2:   0%|          | 0.00/1.27M [00:00<?, ?B/s]"
      ]
     },
     "metadata": {},
     "output_type": "display_data"
    },
    {
     "data": {
      "application/vnd.jupyter.widget-view+json": {
       "model_id": "",
       "version_major": 2,
       "version_minor": 0
      },
      "text/plain": [
       "solo_L3_eui-hrieuv174-image_20220302T044400263_V02.jp2:   0%|          | 0.00/1.27M [00:00<?, ?B/s]"
      ]
     },
     "metadata": {},
     "output_type": "display_data"
    },
    {
     "data": {
      "application/vnd.jupyter.widget-view+json": {
       "model_id": "",
       "version_major": 2,
       "version_minor": 0
      },
      "text/plain": [
       "solo_L3_eui-hrieuv174-image_20220302T044600230_V02.jp2:   0%|          | 0.00/1.27M [00:00<?, ?B/s]"
      ]
     },
     "metadata": {},
     "output_type": "display_data"
    },
    {
     "data": {
      "application/vnd.jupyter.widget-view+json": {
       "model_id": "",
       "version_major": 2,
       "version_minor": 0
      },
      "text/plain": [
       "solo_L3_eui-hrieuv174-image_20220302T044800230_V02.jp2:   0%|          | 0.00/1.27M [00:00<?, ?B/s]"
      ]
     },
     "metadata": {},
     "output_type": "display_data"
    },
    {
     "data": {
      "application/vnd.jupyter.widget-view+json": {
       "model_id": "",
       "version_major": 2,
       "version_minor": 0
      },
      "text/plain": [
       "solo_L3_eui-hrieuv174-image_20220302T045000230_V02.jp2:   0%|          | 0.00/1.27M [00:00<?, ?B/s]"
      ]
     },
     "metadata": {},
     "output_type": "display_data"
    },
    {
     "data": {
      "application/vnd.jupyter.widget-view+json": {
       "model_id": "",
       "version_major": 2,
       "version_minor": 0
      },
      "text/plain": [
       "solo_L3_eui-hrieuv174-image_20220302T045400231_V02.jp2:   0%|          | 0.00/1.27M [00:00<?, ?B/s]"
      ]
     },
     "metadata": {},
     "output_type": "display_data"
    },
    {
     "data": {
      "application/vnd.jupyter.widget-view+json": {
       "model_id": "",
       "version_major": 2,
       "version_minor": 0
      },
      "text/plain": [
       "solo_L3_eui-hrieuv174-image_20220302T045200231_V02.jp2:   0%|          | 0.00/1.27M [00:00<?, ?B/s]"
      ]
     },
     "metadata": {},
     "output_type": "display_data"
    },
    {
     "data": {
      "application/vnd.jupyter.widget-view+json": {
       "model_id": "",
       "version_major": 2,
       "version_minor": 0
      },
      "text/plain": [
       "solo_L3_eui-hrieuv174-image_20220302T045600241_V02.jp2:   0%|          | 0.00/1.27M [00:00<?, ?B/s]"
      ]
     },
     "metadata": {},
     "output_type": "display_data"
    },
    {
     "data": {
      "application/vnd.jupyter.widget-view+json": {
       "model_id": "",
       "version_major": 2,
       "version_minor": 0
      },
      "text/plain": [
       "solo_L3_eui-hrieuv174-image_20220302T045800231_V02.jp2:   0%|          | 0.00/1.27M [00:00<?, ?B/s]"
      ]
     },
     "metadata": {},
     "output_type": "display_data"
    },
    {
     "data": {
      "application/vnd.jupyter.widget-view+json": {
       "model_id": "",
       "version_major": 2,
       "version_minor": 0
      },
      "text/plain": [
       "solo_L3_eui-hrieuv174-image_20220302T050000231_V02.jp2:   0%|          | 0.00/1.27M [00:00<?, ?B/s]"
      ]
     },
     "metadata": {},
     "output_type": "display_data"
    },
    {
     "data": {
      "application/vnd.jupyter.widget-view+json": {
       "model_id": "",
       "version_major": 2,
       "version_minor": 0
      },
      "text/plain": [
       "solo_L3_eui-hrieuv174-image_20220302T050200232_V02.jp2:   0%|          | 0.00/1.27M [00:00<?, ?B/s]"
      ]
     },
     "metadata": {},
     "output_type": "display_data"
    },
    {
     "data": {
      "application/vnd.jupyter.widget-view+json": {
       "model_id": "",
       "version_major": 2,
       "version_minor": 0
      },
      "text/plain": [
       "solo_L3_eui-hrieuv174-image_20220302T050400232_V02.jp2:   0%|          | 0.00/1.27M [00:00<?, ?B/s]"
      ]
     },
     "metadata": {},
     "output_type": "display_data"
    },
    {
     "data": {
      "application/vnd.jupyter.widget-view+json": {
       "model_id": "",
       "version_major": 2,
       "version_minor": 0
      },
      "text/plain": [
       "solo_L3_eui-hrieuv174-image_20220302T050800232_V02.jp2:   0%|          | 0.00/1.27M [00:00<?, ?B/s]"
      ]
     },
     "metadata": {},
     "output_type": "display_data"
    },
    {
     "data": {
      "application/vnd.jupyter.widget-view+json": {
       "model_id": "",
       "version_major": 2,
       "version_minor": 0
      },
      "text/plain": [
       "solo_L3_eui-hrieuv174-image_20220302T051000231_V02.jp2:   0%|          | 0.00/1.27M [00:00<?, ?B/s]"
      ]
     },
     "metadata": {},
     "output_type": "display_data"
    },
    {
     "data": {
      "application/vnd.jupyter.widget-view+json": {
       "model_id": "",
       "version_major": 2,
       "version_minor": 0
      },
      "text/plain": [
       "solo_L3_eui-hrieuv174-image_20220302T051200235_V02.jp2:   0%|          | 0.00/1.27M [00:00<?, ?B/s]"
      ]
     },
     "metadata": {},
     "output_type": "display_data"
    },
    {
     "data": {
      "application/vnd.jupyter.widget-view+json": {
       "model_id": "",
       "version_major": 2,
       "version_minor": 0
      },
      "text/plain": [
       "solo_L3_eui-hrieuv174-image_20220302T051400233_V02.jp2:   0%|          | 0.00/1.27M [00:00<?, ?B/s]"
      ]
     },
     "metadata": {},
     "output_type": "display_data"
    },
    {
     "data": {
      "application/vnd.jupyter.widget-view+json": {
       "model_id": "",
       "version_major": 2,
       "version_minor": 0
      },
      "text/plain": [
       "solo_L3_eui-hrieuv174-image_20220302T050600232_V02.jp2:   0%|          | 0.00/1.27M [00:00<?, ?B/s]"
      ]
     },
     "metadata": {},
     "output_type": "display_data"
    },
    {
     "data": {
      "application/vnd.jupyter.widget-view+json": {
       "model_id": "",
       "version_major": 2,
       "version_minor": 0
      },
      "text/plain": [
       "solo_L3_eui-hrieuv174-image_20220302T051600233_V02.jp2:   0%|          | 0.00/1.27M [00:00<?, ?B/s]"
      ]
     },
     "metadata": {},
     "output_type": "display_data"
    },
    {
     "data": {
      "application/vnd.jupyter.widget-view+json": {
       "model_id": "",
       "version_major": 2,
       "version_minor": 0
      },
      "text/plain": [
       "solo_L3_eui-hrieuv174-image_20220302T052000234_V02.jp2:   0%|          | 0.00/1.27M [00:00<?, ?B/s]"
      ]
     },
     "metadata": {},
     "output_type": "display_data"
    },
    {
     "data": {
      "application/vnd.jupyter.widget-view+json": {
       "model_id": "",
       "version_major": 2,
       "version_minor": 0
      },
      "text/plain": [
       "solo_L3_eui-hrieuv174-image_20220302T051800234_V02.jp2:   0%|          | 0.00/1.27M [00:00<?, ?B/s]"
      ]
     },
     "metadata": {},
     "output_type": "display_data"
    },
    {
     "data": {
      "application/vnd.jupyter.widget-view+json": {
       "model_id": "",
       "version_major": 2,
       "version_minor": 0
      },
      "text/plain": [
       "solo_L3_eui-hrieuv174-image_20220302T052200234_V02.jp2:   0%|          | 0.00/1.27M [00:00<?, ?B/s]"
      ]
     },
     "metadata": {},
     "output_type": "display_data"
    },
    {
     "data": {
      "application/vnd.jupyter.widget-view+json": {
       "model_id": "",
       "version_major": 2,
       "version_minor": 0
      },
      "text/plain": [
       "solo_L3_eui-hrieuv174-image_20220302T052400234_V02.jp2:   0%|          | 0.00/1.27M [00:00<?, ?B/s]"
      ]
     },
     "metadata": {},
     "output_type": "display_data"
    },
    {
     "data": {
      "application/vnd.jupyter.widget-view+json": {
       "model_id": "",
       "version_major": 2,
       "version_minor": 0
      },
      "text/plain": [
       "solo_L3_eui-hrieuv174-image_20220302T052600234_V02.jp2:   0%|          | 0.00/1.27M [00:00<?, ?B/s]"
      ]
     },
     "metadata": {},
     "output_type": "display_data"
    },
    {
     "data": {
      "application/vnd.jupyter.widget-view+json": {
       "model_id": "",
       "version_major": 2,
       "version_minor": 0
      },
      "text/plain": [
       "solo_L3_eui-hrieuv174-image_20220302T052800233_V02.jp2:   0%|          | 0.00/1.27M [00:00<?, ?B/s]"
      ]
     },
     "metadata": {},
     "output_type": "display_data"
    },
    {
     "data": {
      "application/vnd.jupyter.widget-view+json": {
       "model_id": "",
       "version_major": 2,
       "version_minor": 0
      },
      "text/plain": [
       "solo_L3_eui-hrieuv174-image_20220302T053000235_V02.jp2:   0%|          | 0.00/1.27M [00:00<?, ?B/s]"
      ]
     },
     "metadata": {},
     "output_type": "display_data"
    },
    {
     "data": {
      "application/vnd.jupyter.widget-view+json": {
       "model_id": "",
       "version_major": 2,
       "version_minor": 0
      },
      "text/plain": [
       "solo_L3_eui-hrieuv174-image_20220302T053200235_V02.jp2:   0%|          | 0.00/1.27M [00:00<?, ?B/s]"
      ]
     },
     "metadata": {},
     "output_type": "display_data"
    },
    {
     "data": {
      "application/vnd.jupyter.widget-view+json": {
       "model_id": "",
       "version_major": 2,
       "version_minor": 0
      },
      "text/plain": [
       "solo_L3_eui-hrieuv174-image_20220302T053400233_V02.jp2:   0%|          | 0.00/1.27M [00:00<?, ?B/s]"
      ]
     },
     "metadata": {},
     "output_type": "display_data"
    },
    {
     "data": {
      "application/vnd.jupyter.widget-view+json": {
       "model_id": "",
       "version_major": 2,
       "version_minor": 0
      },
      "text/plain": [
       "solo_L3_eui-hrieuv174-image_20220302T053600235_V02.jp2:   0%|          | 0.00/1.27M [00:00<?, ?B/s]"
      ]
     },
     "metadata": {},
     "output_type": "display_data"
    },
    {
     "data": {
      "application/vnd.jupyter.widget-view+json": {
       "model_id": "",
       "version_major": 2,
       "version_minor": 0
      },
      "text/plain": [
       "solo_L3_eui-hrieuv174-image_20220302T053800234_V02.jp2:   0%|          | 0.00/1.27M [00:00<?, ?B/s]"
      ]
     },
     "metadata": {},
     "output_type": "display_data"
    },
    {
     "data": {
      "application/vnd.jupyter.widget-view+json": {
       "model_id": "",
       "version_major": 2,
       "version_minor": 0
      },
      "text/plain": [
       "solo_L3_eui-hrieuv174-image_20220302T054000235_V02.jp2:   0%|          | 0.00/1.27M [00:00<?, ?B/s]"
      ]
     },
     "metadata": {},
     "output_type": "display_data"
    },
    {
     "data": {
      "application/vnd.jupyter.widget-view+json": {
       "model_id": "",
       "version_major": 2,
       "version_minor": 0
      },
      "text/plain": [
       "solo_L3_eui-hrieuv174-image_20220302T054200236_V02.jp2:   0%|          | 0.00/1.27M [00:00<?, ?B/s]"
      ]
     },
     "metadata": {},
     "output_type": "display_data"
    },
    {
     "data": {
      "application/vnd.jupyter.widget-view+json": {
       "model_id": "",
       "version_major": 2,
       "version_minor": 0
      },
      "text/plain": [
       "solo_L3_eui-hrieuv174-image_20220302T054400236_V02.jp2:   0%|          | 0.00/1.27M [00:00<?, ?B/s]"
      ]
     },
     "metadata": {},
     "output_type": "display_data"
    },
    {
     "data": {
      "application/vnd.jupyter.widget-view+json": {
       "model_id": "",
       "version_major": 2,
       "version_minor": 0
      },
      "text/plain": [
       "solo_L3_eui-hrieuv174-image_20220302T054600236_V02.jp2:   0%|          | 0.00/1.27M [00:00<?, ?B/s]"
      ]
     },
     "metadata": {},
     "output_type": "display_data"
    },
    {
     "data": {
      "application/vnd.jupyter.widget-view+json": {
       "model_id": "",
       "version_major": 2,
       "version_minor": 0
      },
      "text/plain": [
       "solo_L3_eui-hrieuv174-image_20220302T054800237_V02.jp2:   0%|          | 0.00/1.27M [00:00<?, ?B/s]"
      ]
     },
     "metadata": {},
     "output_type": "display_data"
    },
    {
     "data": {
      "application/vnd.jupyter.widget-view+json": {
       "model_id": "",
       "version_major": 2,
       "version_minor": 0
      },
      "text/plain": [
       "solo_L3_eui-hrieuv174-image_20220302T055000237_V02.jp2:   0%|          | 0.00/1.27M [00:00<?, ?B/s]"
      ]
     },
     "metadata": {},
     "output_type": "display_data"
    },
    {
     "data": {
      "application/vnd.jupyter.widget-view+json": {
       "model_id": "",
       "version_major": 2,
       "version_minor": 0
      },
      "text/plain": [
       "solo_L3_eui-hrieuv174-image_20220302T055200265_V02.jp2:   0%|          | 0.00/1.27M [00:00<?, ?B/s]"
      ]
     },
     "metadata": {},
     "output_type": "display_data"
    },
    {
     "data": {
      "application/vnd.jupyter.widget-view+json": {
       "model_id": "",
       "version_major": 2,
       "version_minor": 0
      },
      "text/plain": [
       "solo_L3_eui-hrieuv174-image_20220302T055400263_V02.jp2:   0%|          | 0.00/1.27M [00:00<?, ?B/s]"
      ]
     },
     "metadata": {},
     "output_type": "display_data"
    },
    {
     "data": {
      "application/vnd.jupyter.widget-view+json": {
       "model_id": "",
       "version_major": 2,
       "version_minor": 0
      },
      "text/plain": [
       "solo_L3_eui-hrieuv174-image_20220302T055800238_V02.jp2:   0%|          | 0.00/1.27M [00:00<?, ?B/s]"
      ]
     },
     "metadata": {},
     "output_type": "display_data"
    },
    {
     "data": {
      "application/vnd.jupyter.widget-view+json": {
       "model_id": "",
       "version_major": 2,
       "version_minor": 0
      },
      "text/plain": [
       "solo_L3_eui-hrieuv174-image_20220302T055600237_V02.jp2:   0%|          | 0.00/1.27M [00:00<?, ?B/s]"
      ]
     },
     "metadata": {},
     "output_type": "display_data"
    },
    {
     "data": {
      "application/vnd.jupyter.widget-view+json": {
       "model_id": "",
       "version_major": 2,
       "version_minor": 0
      },
      "text/plain": [
       "solo_L3_eui-hrieuv174-image_20220302T060000236_V02.jp2:   0%|          | 0.00/1.27M [00:00<?, ?B/s]"
      ]
     },
     "metadata": {},
     "output_type": "display_data"
    },
    {
     "data": {
      "application/vnd.jupyter.widget-view+json": {
       "model_id": "",
       "version_major": 2,
       "version_minor": 0
      },
      "text/plain": [
       "solo_L3_eui-hrieuv174-image_20220302T060200237_V02.jp2:   0%|          | 0.00/1.27M [00:00<?, ?B/s]"
      ]
     },
     "metadata": {},
     "output_type": "display_data"
    },
    {
     "data": {
      "application/vnd.jupyter.widget-view+json": {
       "model_id": "",
       "version_major": 2,
       "version_minor": 0
      },
      "text/plain": [
       "solo_L3_eui-hrieuv174-image_20220302T060400238_V02.jp2:   0%|          | 0.00/1.27M [00:00<?, ?B/s]"
      ]
     },
     "metadata": {},
     "output_type": "display_data"
    },
    {
     "data": {
      "application/vnd.jupyter.widget-view+json": {
       "model_id": "",
       "version_major": 2,
       "version_minor": 0
      },
      "text/plain": [
       "solo_L3_eui-hrieuv174-image_20220302T060600238_V02.jp2:   0%|          | 0.00/1.27M [00:00<?, ?B/s]"
      ]
     },
     "metadata": {},
     "output_type": "display_data"
    },
    {
     "data": {
      "application/vnd.jupyter.widget-view+json": {
       "model_id": "",
       "version_major": 2,
       "version_minor": 0
      },
      "text/plain": [
       "solo_L3_eui-hrieuv174-image_20220302T060800238_V02.jp2:   0%|          | 0.00/1.27M [00:00<?, ?B/s]"
      ]
     },
     "metadata": {},
     "output_type": "display_data"
    },
    {
     "data": {
      "application/vnd.jupyter.widget-view+json": {
       "model_id": "",
       "version_major": 2,
       "version_minor": 0
      },
      "text/plain": [
       "solo_L3_eui-hrieuv174-image_20220302T061000238_V02.jp2:   0%|          | 0.00/1.27M [00:00<?, ?B/s]"
      ]
     },
     "metadata": {},
     "output_type": "display_data"
    },
    {
     "data": {
      "application/vnd.jupyter.widget-view+json": {
       "model_id": "",
       "version_major": 2,
       "version_minor": 0
      },
      "text/plain": [
       "solo_L3_eui-hrieuv174-image_20220302T061200239_V02.jp2:   0%|          | 0.00/1.27M [00:00<?, ?B/s]"
      ]
     },
     "metadata": {},
     "output_type": "display_data"
    },
    {
     "data": {
      "application/vnd.jupyter.widget-view+json": {
       "model_id": "",
       "version_major": 2,
       "version_minor": 0
      },
      "text/plain": [
       "solo_L3_eui-hrieuv174-image_20220302T061400239_V02.jp2:   0%|          | 0.00/1.27M [00:00<?, ?B/s]"
      ]
     },
     "metadata": {},
     "output_type": "display_data"
    },
    {
     "data": {
      "application/vnd.jupyter.widget-view+json": {
       "model_id": "",
       "version_major": 2,
       "version_minor": 0
      },
      "text/plain": [
       "solo_L3_eui-hrieuv174-image_20220302T061600239_V02.jp2:   0%|          | 0.00/1.27M [00:00<?, ?B/s]"
      ]
     },
     "metadata": {},
     "output_type": "display_data"
    },
    {
     "data": {
      "application/vnd.jupyter.widget-view+json": {
       "model_id": "",
       "version_major": 2,
       "version_minor": 0
      },
      "text/plain": [
       "solo_L3_eui-hrieuv174-image_20220302T061800238_V02.jp2:   0%|          | 0.00/1.27M [00:00<?, ?B/s]"
      ]
     },
     "metadata": {},
     "output_type": "display_data"
    },
    {
     "data": {
      "application/vnd.jupyter.widget-view+json": {
       "model_id": "",
       "version_major": 2,
       "version_minor": 0
      },
      "text/plain": [
       "solo_L3_eui-hrieuv174-image_20220302T062000240_V02.jp2:   0%|          | 0.00/1.27M [00:00<?, ?B/s]"
      ]
     },
     "metadata": {},
     "output_type": "display_data"
    },
    {
     "data": {
      "application/vnd.jupyter.widget-view+json": {
       "model_id": "",
       "version_major": 2,
       "version_minor": 0
      },
      "text/plain": [
       "solo_L3_eui-hrieuv174-image_20220302T062200240_V02.jp2:   0%|          | 0.00/1.27M [00:00<?, ?B/s]"
      ]
     },
     "metadata": {},
     "output_type": "display_data"
    },
    {
     "data": {
      "application/vnd.jupyter.widget-view+json": {
       "model_id": "",
       "version_major": 2,
       "version_minor": 0
      },
      "text/plain": [
       "solo_L3_eui-hrieuv174-image_20220302T062400241_V02.jp2:   0%|          | 0.00/1.27M [00:00<?, ?B/s]"
      ]
     },
     "metadata": {},
     "output_type": "display_data"
    },
    {
     "data": {
      "application/vnd.jupyter.widget-view+json": {
       "model_id": "",
       "version_major": 2,
       "version_minor": 0
      },
      "text/plain": [
       "solo_L3_eui-hrieuv174-image_20220302T062600241_V02.jp2:   0%|          | 0.00/1.27M [00:00<?, ?B/s]"
      ]
     },
     "metadata": {},
     "output_type": "display_data"
    },
    {
     "data": {
      "application/vnd.jupyter.widget-view+json": {
       "model_id": "",
       "version_major": 2,
       "version_minor": 0
      },
      "text/plain": [
       "solo_L3_eui-hrieuv174-image_20220302T062800274_V02.jp2:   0%|          | 0.00/1.27M [00:00<?, ?B/s]"
      ]
     },
     "metadata": {},
     "output_type": "display_data"
    },
    {
     "data": {
      "application/vnd.jupyter.widget-view+json": {
       "model_id": "",
       "version_major": 2,
       "version_minor": 0
      },
      "text/plain": [
       "solo_L3_eui-hrieuv174-image_20220302T063000241_V02.jp2:   0%|          | 0.00/1.27M [00:00<?, ?B/s]"
      ]
     },
     "metadata": {},
     "output_type": "display_data"
    },
    {
     "data": {
      "application/vnd.jupyter.widget-view+json": {
       "model_id": "",
       "version_major": 2,
       "version_minor": 0
      },
      "text/plain": [
       "solo_L3_eui-hrieuv174-image_20220302T063200241_V02.jp2:   0%|          | 0.00/1.27M [00:00<?, ?B/s]"
      ]
     },
     "metadata": {},
     "output_type": "display_data"
    },
    {
     "data": {
      "application/vnd.jupyter.widget-view+json": {
       "model_id": "",
       "version_major": 2,
       "version_minor": 0
      },
      "text/plain": [
       "solo_L3_eui-hrieuv174-image_20220302T063400241_V02.jp2:   0%|          | 0.00/1.27M [00:00<?, ?B/s]"
      ]
     },
     "metadata": {},
     "output_type": "display_data"
    },
    {
     "data": {
      "application/vnd.jupyter.widget-view+json": {
       "model_id": "",
       "version_major": 2,
       "version_minor": 0
      },
      "text/plain": [
       "solo_L3_eui-hrieuv174-image_20220302T063600244_V02.jp2:   0%|          | 0.00/1.27M [00:00<?, ?B/s]"
      ]
     },
     "metadata": {},
     "output_type": "display_data"
    },
    {
     "data": {
      "application/vnd.jupyter.widget-view+json": {
       "model_id": "",
       "version_major": 2,
       "version_minor": 0
      },
      "text/plain": [
       "solo_L3_eui-hrieuv174-image_20220302T063800242_V02.jp2:   0%|          | 0.00/1.27M [00:00<?, ?B/s]"
      ]
     },
     "metadata": {},
     "output_type": "display_data"
    },
    {
     "data": {
      "application/vnd.jupyter.widget-view+json": {
       "model_id": "",
       "version_major": 2,
       "version_minor": 0
      },
      "text/plain": [
       "solo_L3_eui-hrieuv174-image_20220302T064000242_V02.jp2:   0%|          | 0.00/1.27M [00:00<?, ?B/s]"
      ]
     },
     "metadata": {},
     "output_type": "display_data"
    },
    {
     "data": {
      "application/vnd.jupyter.widget-view+json": {
       "model_id": "",
       "version_major": 2,
       "version_minor": 0
      },
      "text/plain": [
       "solo_L3_eui-hrieuv174-image_20220302T064200242_V02.jp2:   0%|          | 0.00/1.27M [00:00<?, ?B/s]"
      ]
     },
     "metadata": {},
     "output_type": "display_data"
    },
    {
     "data": {
      "application/vnd.jupyter.widget-view+json": {
       "model_id": "",
       "version_major": 2,
       "version_minor": 0
      },
      "text/plain": [
       "solo_L3_eui-hrieuv174-image_20220302T064400243_V02.jp2:   0%|          | 0.00/1.27M [00:00<?, ?B/s]"
      ]
     },
     "metadata": {},
     "output_type": "display_data"
    },
    {
     "data": {
      "application/vnd.jupyter.widget-view+json": {
       "model_id": "",
       "version_major": 2,
       "version_minor": 0
      },
      "text/plain": [
       "solo_L3_eui-hrieuv174-image_20220302T064600243_V02.jp2:   0%|          | 0.00/1.27M [00:00<?, ?B/s]"
      ]
     },
     "metadata": {},
     "output_type": "display_data"
    },
    {
     "data": {
      "application/vnd.jupyter.widget-view+json": {
       "model_id": "",
       "version_major": 2,
       "version_minor": 0
      },
      "text/plain": [
       "solo_L3_eui-hrieuv174-image_20220302T064800243_V02.jp2:   0%|          | 0.00/1.27M [00:00<?, ?B/s]"
      ]
     },
     "metadata": {},
     "output_type": "display_data"
    },
    {
     "data": {
      "application/vnd.jupyter.widget-view+json": {
       "model_id": "",
       "version_major": 2,
       "version_minor": 0
      },
      "text/plain": [
       "solo_L3_eui-hrieuv174-image_20220302T065000243_V02.jp2:   0%|          | 0.00/1.27M [00:00<?, ?B/s]"
      ]
     },
     "metadata": {},
     "output_type": "display_data"
    },
    {
     "data": {
      "application/vnd.jupyter.widget-view+json": {
       "model_id": "",
       "version_major": 2,
       "version_minor": 0
      },
      "text/plain": [
       "solo_L3_eui-hrieuv174-image_20220302T065200243_V02.jp2:   0%|          | 0.00/1.27M [00:00<?, ?B/s]"
      ]
     },
     "metadata": {},
     "output_type": "display_data"
    },
    {
     "data": {
      "application/vnd.jupyter.widget-view+json": {
       "model_id": "",
       "version_major": 2,
       "version_minor": 0
      },
      "text/plain": [
       "solo_L3_eui-hrieuv174-image_20220302T065400244_V02.jp2:   0%|          | 0.00/1.27M [00:00<?, ?B/s]"
      ]
     },
     "metadata": {},
     "output_type": "display_data"
    },
    {
     "data": {
      "application/vnd.jupyter.widget-view+json": {
       "model_id": "",
       "version_major": 2,
       "version_minor": 0
      },
      "text/plain": [
       "solo_L3_eui-hrieuv174-image_20220302T065600242_V02.jp2:   0%|          | 0.00/1.27M [00:00<?, ?B/s]"
      ]
     },
     "metadata": {},
     "output_type": "display_data"
    },
    {
     "data": {
      "application/vnd.jupyter.widget-view+json": {
       "model_id": "",
       "version_major": 2,
       "version_minor": 0
      },
      "text/plain": [
       "solo_L3_eui-hrieuv174-image_20220302T065800244_V02.jp2:   0%|          | 0.00/1.27M [00:00<?, ?B/s]"
      ]
     },
     "metadata": {},
     "output_type": "display_data"
    },
    {
     "data": {
      "application/vnd.jupyter.widget-view+json": {
       "model_id": "",
       "version_major": 2,
       "version_minor": 0
      },
      "text/plain": [
       "solo_L3_eui-hrieuv174-image_20220302T070000244_V02.jp2:   0%|          | 0.00/1.27M [00:00<?, ?B/s]"
      ]
     },
     "metadata": {},
     "output_type": "display_data"
    },
    {
     "data": {
      "application/vnd.jupyter.widget-view+json": {
       "model_id": "",
       "version_major": 2,
       "version_minor": 0
      },
      "text/plain": [
       "solo_L3_eui-hrieuv174-image_20220302T070200244_V02.jp2:   0%|          | 0.00/1.27M [00:00<?, ?B/s]"
      ]
     },
     "metadata": {},
     "output_type": "display_data"
    },
    {
     "data": {
      "application/vnd.jupyter.widget-view+json": {
       "model_id": "",
       "version_major": 2,
       "version_minor": 0
      },
      "text/plain": [
       "solo_L3_eui-hrieuv174-image_20220302T070400243_V02.jp2:   0%|          | 0.00/1.27M [00:00<?, ?B/s]"
      ]
     },
     "metadata": {},
     "output_type": "display_data"
    },
    {
     "data": {
      "application/vnd.jupyter.widget-view+json": {
       "model_id": "",
       "version_major": 2,
       "version_minor": 0
      },
      "text/plain": [
       "solo_L3_eui-hrieuv174-image_20220302T070600245_V02.jp2:   0%|          | 0.00/1.27M [00:00<?, ?B/s]"
      ]
     },
     "metadata": {},
     "output_type": "display_data"
    },
    {
     "data": {
      "application/vnd.jupyter.widget-view+json": {
       "model_id": "",
       "version_major": 2,
       "version_minor": 0
      },
      "text/plain": [
       "solo_L3_eui-hrieuv174-image_20220302T071000245_V02.jp2:   0%|          | 0.00/1.27M [00:00<?, ?B/s]"
      ]
     },
     "metadata": {},
     "output_type": "display_data"
    },
    {
     "data": {
      "application/vnd.jupyter.widget-view+json": {
       "model_id": "",
       "version_major": 2,
       "version_minor": 0
      },
      "text/plain": [
       "solo_L3_eui-hrieuv174-image_20220302T070800245_V02.jp2:   0%|          | 0.00/1.27M [00:00<?, ?B/s]"
      ]
     },
     "metadata": {},
     "output_type": "display_data"
    },
    {
     "data": {
      "application/vnd.jupyter.widget-view+json": {
       "model_id": "",
       "version_major": 2,
       "version_minor": 0
      },
      "text/plain": [
       "solo_L3_eui-hrieuv174-image_20220302T071200245_V02.jp2:   0%|          | 0.00/1.27M [00:00<?, ?B/s]"
      ]
     },
     "metadata": {},
     "output_type": "display_data"
    },
    {
     "data": {
      "application/vnd.jupyter.widget-view+json": {
       "model_id": "",
       "version_major": 2,
       "version_minor": 0
      },
      "text/plain": [
       "solo_L3_eui-hrieuv174-image_20220302T071600246_V02.jp2:   0%|          | 0.00/1.27M [00:00<?, ?B/s]"
      ]
     },
     "metadata": {},
     "output_type": "display_data"
    },
    {
     "data": {
      "application/vnd.jupyter.widget-view+json": {
       "model_id": "",
       "version_major": 2,
       "version_minor": 0
      },
      "text/plain": [
       "solo_L3_eui-hrieuv174-image_20220302T071400245_V02.jp2:   0%|          | 0.00/1.27M [00:00<?, ?B/s]"
      ]
     },
     "metadata": {},
     "output_type": "display_data"
    },
    {
     "data": {
      "application/vnd.jupyter.widget-view+json": {
       "model_id": "",
       "version_major": 2,
       "version_minor": 0
      },
      "text/plain": [
       "solo_L3_eui-hrieuv174-image_20220302T071800246_V02.jp2:   0%|          | 0.00/1.27M [00:00<?, ?B/s]"
      ]
     },
     "metadata": {},
     "output_type": "display_data"
    },
    {
     "data": {
      "application/vnd.jupyter.widget-view+json": {
       "model_id": "",
       "version_major": 2,
       "version_minor": 0
      },
      "text/plain": [
       "solo_L3_eui-hrieuv174-image_20220302T072000247_V02.jp2:   0%|          | 0.00/1.27M [00:00<?, ?B/s]"
      ]
     },
     "metadata": {},
     "output_type": "display_data"
    },
    {
     "data": {
      "application/vnd.jupyter.widget-view+json": {
       "model_id": "",
       "version_major": 2,
       "version_minor": 0
      },
      "text/plain": [
       "solo_L3_eui-hrieuv174-image_20220302T072200246_V02.jp2:   0%|          | 0.00/1.27M [00:00<?, ?B/s]"
      ]
     },
     "metadata": {},
     "output_type": "display_data"
    },
    {
     "data": {
      "application/vnd.jupyter.widget-view+json": {
       "model_id": "",
       "version_major": 2,
       "version_minor": 0
      },
      "text/plain": [
       "solo_L3_eui-hrieuv174-image_20220302T072600246_V02.jp2:   0%|          | 0.00/1.27M [00:00<?, ?B/s]"
      ]
     },
     "metadata": {},
     "output_type": "display_data"
    },
    {
     "data": {
      "application/vnd.jupyter.widget-view+json": {
       "model_id": "",
       "version_major": 2,
       "version_minor": 0
      },
      "text/plain": [
       "solo_L3_eui-hrieuv174-image_20220302T072400247_V02.jp2:   0%|          | 0.00/1.27M [00:00<?, ?B/s]"
      ]
     },
     "metadata": {},
     "output_type": "display_data"
    },
    {
     "data": {
      "application/vnd.jupyter.widget-view+json": {
       "model_id": "",
       "version_major": 2,
       "version_minor": 0
      },
      "text/plain": [
       "solo_L3_eui-hrieuv174-image_20220302T073000246_V02.jp2:   0%|          | 0.00/1.27M [00:00<?, ?B/s]"
      ]
     },
     "metadata": {},
     "output_type": "display_data"
    },
    {
     "data": {
      "application/vnd.jupyter.widget-view+json": {
       "model_id": "",
       "version_major": 2,
       "version_minor": 0
      },
      "text/plain": [
       "solo_L3_eui-hrieuv174-image_20220302T072800247_V02.jp2:   0%|          | 0.00/1.27M [00:00<?, ?B/s]"
      ]
     },
     "metadata": {},
     "output_type": "display_data"
    },
    {
     "data": {
      "application/vnd.jupyter.widget-view+json": {
       "model_id": "",
       "version_major": 2,
       "version_minor": 0
      },
      "text/plain": [
       "solo_L3_eui-hrieuv174-image_20220302T073200247_V02.jp2:   0%|          | 0.00/1.27M [00:00<?, ?B/s]"
      ]
     },
     "metadata": {},
     "output_type": "display_data"
    },
    {
     "data": {
      "application/vnd.jupyter.widget-view+json": {
       "model_id": "",
       "version_major": 2,
       "version_minor": 0
      },
      "text/plain": [
       "solo_L3_eui-hrieuv174-image_20220302T073400248_V02.jp2:   0%|          | 0.00/1.27M [00:00<?, ?B/s]"
      ]
     },
     "metadata": {},
     "output_type": "display_data"
    },
    {
     "data": {
      "application/vnd.jupyter.widget-view+json": {
       "model_id": "",
       "version_major": 2,
       "version_minor": 0
      },
      "text/plain": [
       "solo_L3_eui-hrieuv174-image_20220302T073600246_V02.jp2:   0%|          | 0.00/1.27M [00:00<?, ?B/s]"
      ]
     },
     "metadata": {},
     "output_type": "display_data"
    },
    {
     "data": {
      "application/vnd.jupyter.widget-view+json": {
       "model_id": "",
       "version_major": 2,
       "version_minor": 0
      },
      "text/plain": [
       "solo_L3_eui-hrieuv174-image_20220302T073800248_V02.jp2:   0%|          | 0.00/1.27M [00:00<?, ?B/s]"
      ]
     },
     "metadata": {},
     "output_type": "display_data"
    },
    {
     "data": {
      "application/vnd.jupyter.widget-view+json": {
       "model_id": "",
       "version_major": 2,
       "version_minor": 0
      },
      "text/plain": [
       "solo_L3_eui-hrieuv174-image_20220302T074000248_V02.jp2:   0%|          | 0.00/1.27M [00:00<?, ?B/s]"
      ]
     },
     "metadata": {},
     "output_type": "display_data"
    },
    {
     "data": {
      "application/vnd.jupyter.widget-view+json": {
       "model_id": "",
       "version_major": 2,
       "version_minor": 0
      },
      "text/plain": [
       "solo_L3_eui-hrieuv174-image_20220302T074200249_V02.jp2:   0%|          | 0.00/1.27M [00:00<?, ?B/s]"
      ]
     },
     "metadata": {},
     "output_type": "display_data"
    },
    {
     "data": {
      "application/vnd.jupyter.widget-view+json": {
       "model_id": "",
       "version_major": 2,
       "version_minor": 0
      },
      "text/plain": [
       "solo_L3_eui-hrieuv174-image_20220302T074400249_V02.jp2:   0%|          | 0.00/1.27M [00:00<?, ?B/s]"
      ]
     },
     "metadata": {},
     "output_type": "display_data"
    },
    {
     "data": {
      "application/vnd.jupyter.widget-view+json": {
       "model_id": "",
       "version_major": 2,
       "version_minor": 0
      },
      "text/plain": [
       "solo_L3_eui-hrieuv174-image_20220302T074600249_V02.jp2:   0%|          | 0.00/1.27M [00:00<?, ?B/s]"
      ]
     },
     "metadata": {},
     "output_type": "display_data"
    },
    {
     "data": {
      "application/vnd.jupyter.widget-view+json": {
       "model_id": "",
       "version_major": 2,
       "version_minor": 0
      },
      "text/plain": [
       "solo_L3_eui-hrieuv174-image_20220302T074800249_V02.jp2:   0%|          | 0.00/1.27M [00:00<?, ?B/s]"
      ]
     },
     "metadata": {},
     "output_type": "display_data"
    },
    {
     "data": {
      "application/vnd.jupyter.widget-view+json": {
       "model_id": "",
       "version_major": 2,
       "version_minor": 0
      },
      "text/plain": [
       "solo_L3_eui-hrieuv174-image_20220302T075000249_V02.jp2:   0%|          | 0.00/1.27M [00:00<?, ?B/s]"
      ]
     },
     "metadata": {},
     "output_type": "display_data"
    },
    {
     "data": {
      "application/vnd.jupyter.widget-view+json": {
       "model_id": "",
       "version_major": 2,
       "version_minor": 0
      },
      "text/plain": [
       "solo_L3_eui-hrieuv174-image_20220302T075200250_V02.jp2:   0%|          | 0.00/1.27M [00:00<?, ?B/s]"
      ]
     },
     "metadata": {},
     "output_type": "display_data"
    },
    {
     "data": {
      "application/vnd.jupyter.widget-view+json": {
       "model_id": "",
       "version_major": 2,
       "version_minor": 0
      },
      "text/plain": [
       "solo_L3_eui-hrieuv174-image_20220302T075400250_V02.jp2:   0%|          | 0.00/1.27M [00:00<?, ?B/s]"
      ]
     },
     "metadata": {},
     "output_type": "display_data"
    },
    {
     "data": {
      "application/vnd.jupyter.widget-view+json": {
       "model_id": "",
       "version_major": 2,
       "version_minor": 0
      },
      "text/plain": [
       "solo_L3_eui-hrieuv174-image_20220302T075600250_V02.jp2:   0%|          | 0.00/1.27M [00:00<?, ?B/s]"
      ]
     },
     "metadata": {},
     "output_type": "display_data"
    },
    {
     "data": {
      "application/vnd.jupyter.widget-view+json": {
       "model_id": "",
       "version_major": 2,
       "version_minor": 0
      },
      "text/plain": [
       "solo_L3_eui-hrieuv174-image_20220302T075800250_V02.jp2:   0%|          | 0.00/1.27M [00:00<?, ?B/s]"
      ]
     },
     "metadata": {},
     "output_type": "display_data"
    },
    {
     "data": {
      "application/vnd.jupyter.widget-view+json": {
       "model_id": "",
       "version_major": 2,
       "version_minor": 0
      },
      "text/plain": [
       "solo_L3_eui-hrieuv174-image_20220302T080000250_V02.jp2:   0%|          | 0.00/1.27M [00:00<?, ?B/s]"
      ]
     },
     "metadata": {},
     "output_type": "display_data"
    },
    {
     "data": {
      "application/vnd.jupyter.widget-view+json": {
       "model_id": "",
       "version_major": 2,
       "version_minor": 0
      },
      "text/plain": [
       "solo_L3_eui-hrieuv174-image_20220302T080200250_V02.jp2:   0%|          | 0.00/1.27M [00:00<?, ?B/s]"
      ]
     },
     "metadata": {},
     "output_type": "display_data"
    },
    {
     "data": {
      "application/vnd.jupyter.widget-view+json": {
       "model_id": "",
       "version_major": 2,
       "version_minor": 0
      },
      "text/plain": [
       "solo_L3_eui-hrieuv174-image_20220302T080400251_V02.jp2:   0%|          | 0.00/1.27M [00:00<?, ?B/s]"
      ]
     },
     "metadata": {},
     "output_type": "display_data"
    },
    {
     "data": {
      "application/vnd.jupyter.widget-view+json": {
       "model_id": "",
       "version_major": 2,
       "version_minor": 0
      },
      "text/plain": [
       "solo_L3_eui-hrieuv174-image_20220302T080600251_V02.jp2:   0%|          | 0.00/1.27M [00:00<?, ?B/s]"
      ]
     },
     "metadata": {},
     "output_type": "display_data"
    },
    {
     "data": {
      "application/vnd.jupyter.widget-view+json": {
       "model_id": "",
       "version_major": 2,
       "version_minor": 0
      },
      "text/plain": [
       "solo_L3_eui-hrieuv174-image_20220302T080800251_V02.jp2:   0%|          | 0.00/1.27M [00:00<?, ?B/s]"
      ]
     },
     "metadata": {},
     "output_type": "display_data"
    },
    {
     "data": {
      "application/vnd.jupyter.widget-view+json": {
       "model_id": "",
       "version_major": 2,
       "version_minor": 0
      },
      "text/plain": [
       "solo_L3_eui-hrieuv174-image_20220302T081000252_V02.jp2:   0%|          | 0.00/1.27M [00:00<?, ?B/s]"
      ]
     },
     "metadata": {},
     "output_type": "display_data"
    },
    {
     "data": {
      "application/vnd.jupyter.widget-view+json": {
       "model_id": "",
       "version_major": 2,
       "version_minor": 0
      },
      "text/plain": [
       "solo_L3_eui-hrieuv174-image_20220302T081200252_V02.jp2:   0%|          | 0.00/1.27M [00:00<?, ?B/s]"
      ]
     },
     "metadata": {},
     "output_type": "display_data"
    },
    {
     "data": {
      "application/vnd.jupyter.widget-view+json": {
       "model_id": "",
       "version_major": 2,
       "version_minor": 0
      },
      "text/plain": [
       "solo_L3_eui-hrieuv174-image_20220302T081400252_V02.jp2:   0%|          | 0.00/1.27M [00:00<?, ?B/s]"
      ]
     },
     "metadata": {},
     "output_type": "display_data"
    },
    {
     "data": {
      "application/vnd.jupyter.widget-view+json": {
       "model_id": "",
       "version_major": 2,
       "version_minor": 0
      },
      "text/plain": [
       "solo_L3_eui-hrieuv174-image_20220302T081600252_V02.jp2:   0%|          | 0.00/1.27M [00:00<?, ?B/s]"
      ]
     },
     "metadata": {},
     "output_type": "display_data"
    },
    {
     "data": {
      "application/vnd.jupyter.widget-view+json": {
       "model_id": "",
       "version_major": 2,
       "version_minor": 0
      },
      "text/plain": [
       "solo_L3_eui-hrieuv174-image_20220302T081800252_V02.jp2:   0%|          | 0.00/1.27M [00:00<?, ?B/s]"
      ]
     },
     "metadata": {},
     "output_type": "display_data"
    },
    {
     "data": {
      "application/vnd.jupyter.widget-view+json": {
       "model_id": "",
       "version_major": 2,
       "version_minor": 0
      },
      "text/plain": [
       "solo_L3_eui-hrieuv174-image_20220302T082000253_V02.jp2:   0%|          | 0.00/1.27M [00:00<?, ?B/s]"
      ]
     },
     "metadata": {},
     "output_type": "display_data"
    },
    {
     "data": {
      "application/vnd.jupyter.widget-view+json": {
       "model_id": "",
       "version_major": 2,
       "version_minor": 0
      },
      "text/plain": [
       "solo_L3_eui-hrieuv174-image_20220302T082400253_V02.jp2:   0%|          | 0.00/1.27M [00:00<?, ?B/s]"
      ]
     },
     "metadata": {},
     "output_type": "display_data"
    },
    {
     "data": {
      "application/vnd.jupyter.widget-view+json": {
       "model_id": "",
       "version_major": 2,
       "version_minor": 0
      },
      "text/plain": [
       "solo_L3_eui-hrieuv174-image_20220302T082200253_V02.jp2:   0%|          | 0.00/1.27M [00:00<?, ?B/s]"
      ]
     },
     "metadata": {},
     "output_type": "display_data"
    },
    {
     "data": {
      "application/vnd.jupyter.widget-view+json": {
       "model_id": "",
       "version_major": 2,
       "version_minor": 0
      },
      "text/plain": [
       "solo_L3_eui-hrieuv174-image_20220302T082600253_V02.jp2:   0%|          | 0.00/1.27M [00:00<?, ?B/s]"
      ]
     },
     "metadata": {},
     "output_type": "display_data"
    },
    {
     "data": {
      "application/vnd.jupyter.widget-view+json": {
       "model_id": "",
       "version_major": 2,
       "version_minor": 0
      },
      "text/plain": [
       "solo_L3_eui-hrieuv174-image_20220302T082800253_V02.jp2:   0%|          | 0.00/1.27M [00:00<?, ?B/s]"
      ]
     },
     "metadata": {},
     "output_type": "display_data"
    },
    {
     "data": {
      "application/vnd.jupyter.widget-view+json": {
       "model_id": "",
       "version_major": 2,
       "version_minor": 0
      },
      "text/plain": [
       "solo_L3_eui-hrieuv174-image_20220302T083000252_V02.jp2:   0%|          | 0.00/1.27M [00:00<?, ?B/s]"
      ]
     },
     "metadata": {},
     "output_type": "display_data"
    },
    {
     "data": {
      "application/vnd.jupyter.widget-view+json": {
       "model_id": "",
       "version_major": 2,
       "version_minor": 0
      },
      "text/plain": [
       "solo_L3_eui-hrieuv174-image_20220302T083200254_V02.jp2:   0%|          | 0.00/1.27M [00:00<?, ?B/s]"
      ]
     },
     "metadata": {},
     "output_type": "display_data"
    },
    {
     "data": {
      "application/vnd.jupyter.widget-view+json": {
       "model_id": "",
       "version_major": 2,
       "version_minor": 0
      },
      "text/plain": [
       "solo_L3_eui-hrieuv174-image_20220302T083400254_V02.jp2:   0%|          | 0.00/1.27M [00:00<?, ?B/s]"
      ]
     },
     "metadata": {},
     "output_type": "display_data"
    },
    {
     "data": {
      "application/vnd.jupyter.widget-view+json": {
       "model_id": "",
       "version_major": 2,
       "version_minor": 0
      },
      "text/plain": [
       "solo_L3_eui-hrieuv174-image_20220302T083600283_V02.jp2:   0%|          | 0.00/1.27M [00:00<?, ?B/s]"
      ]
     },
     "metadata": {},
     "output_type": "display_data"
    },
    {
     "data": {
      "application/vnd.jupyter.widget-view+json": {
       "model_id": "",
       "version_major": 2,
       "version_minor": 0
      },
      "text/plain": [
       "solo_L3_eui-hrieuv174-image_20220302T083800254_V02.jp2:   0%|          | 0.00/1.27M [00:00<?, ?B/s]"
      ]
     },
     "metadata": {},
     "output_type": "display_data"
    },
    {
     "data": {
      "application/vnd.jupyter.widget-view+json": {
       "model_id": "",
       "version_major": 2,
       "version_minor": 0
      },
      "text/plain": [
       "solo_L3_eui-hrieuv174-image_20220302T084000255_V02.jp2:   0%|          | 0.00/1.27M [00:00<?, ?B/s]"
      ]
     },
     "metadata": {},
     "output_type": "display_data"
    },
    {
     "data": {
      "application/vnd.jupyter.widget-view+json": {
       "model_id": "",
       "version_major": 2,
       "version_minor": 0
      },
      "text/plain": [
       "solo_L3_eui-hrieuv174-image_20220302T084200255_V02.jp2:   0%|          | 0.00/1.27M [00:00<?, ?B/s]"
      ]
     },
     "metadata": {},
     "output_type": "display_data"
    },
    {
     "data": {
      "application/vnd.jupyter.widget-view+json": {
       "model_id": "",
       "version_major": 2,
       "version_minor": 0
      },
      "text/plain": [
       "solo_L3_eui-hrieuv174-image_20220302T084400254_V02.jp2:   0%|          | 0.00/1.27M [00:00<?, ?B/s]"
      ]
     },
     "metadata": {},
     "output_type": "display_data"
    },
    {
     "data": {
      "application/vnd.jupyter.widget-view+json": {
       "model_id": "",
       "version_major": 2,
       "version_minor": 0
      },
      "text/plain": [
       "solo_L3_eui-hrieuv174-image_20220302T084600255_V02.jp2:   0%|          | 0.00/1.27M [00:00<?, ?B/s]"
      ]
     },
     "metadata": {},
     "output_type": "display_data"
    },
    {
     "data": {
      "application/vnd.jupyter.widget-view+json": {
       "model_id": "",
       "version_major": 2,
       "version_minor": 0
      },
      "text/plain": [
       "solo_L3_eui-hrieuv174-image_20220302T084800255_V02.jp2:   0%|          | 0.00/1.27M [00:00<?, ?B/s]"
      ]
     },
     "metadata": {},
     "output_type": "display_data"
    },
    {
     "data": {
      "application/vnd.jupyter.widget-view+json": {
       "model_id": "",
       "version_major": 2,
       "version_minor": 0
      },
      "text/plain": [
       "solo_L3_eui-hrieuv174-image_20220302T085000255_V02.jp2:   0%|          | 0.00/1.27M [00:00<?, ?B/s]"
      ]
     },
     "metadata": {},
     "output_type": "display_data"
    },
    {
     "data": {
      "application/vnd.jupyter.widget-view+json": {
       "model_id": "",
       "version_major": 2,
       "version_minor": 0
      },
      "text/plain": [
       "solo_L3_eui-hrieuv174-image_20220302T085200256_V02.jp2:   0%|          | 0.00/1.27M [00:00<?, ?B/s]"
      ]
     },
     "metadata": {},
     "output_type": "display_data"
    },
    {
     "data": {
      "application/vnd.jupyter.widget-view+json": {
       "model_id": "",
       "version_major": 2,
       "version_minor": 0
      },
      "text/plain": [
       "solo_L3_eui-hrieuv174-image_20220302T085400256_V02.jp2:   0%|          | 0.00/1.27M [00:00<?, ?B/s]"
      ]
     },
     "metadata": {},
     "output_type": "display_data"
    },
    {
     "data": {
      "application/vnd.jupyter.widget-view+json": {
       "model_id": "",
       "version_major": 2,
       "version_minor": 0
      },
      "text/plain": [
       "solo_L3_eui-hrieuv174-image_20220302T085600256_V02.jp2:   0%|          | 0.00/1.27M [00:00<?, ?B/s]"
      ]
     },
     "metadata": {},
     "output_type": "display_data"
    },
    {
     "data": {
      "application/vnd.jupyter.widget-view+json": {
       "model_id": "",
       "version_major": 2,
       "version_minor": 0
      },
      "text/plain": [
       "solo_L3_eui-hrieuv174-image_20220302T085800256_V02.jp2:   0%|          | 0.00/1.27M [00:00<?, ?B/s]"
      ]
     },
     "metadata": {},
     "output_type": "display_data"
    },
    {
     "data": {
      "application/vnd.jupyter.widget-view+json": {
       "model_id": "",
       "version_major": 2,
       "version_minor": 0
      },
      "text/plain": [
       "solo_L3_eui-hrieuv174-image_20220302T090000278_V02.jp2:   0%|          | 0.00/1.27M [00:00<?, ?B/s]"
      ]
     },
     "metadata": {},
     "output_type": "display_data"
    },
    {
     "data": {
      "application/vnd.jupyter.widget-view+json": {
       "model_id": "",
       "version_major": 2,
       "version_minor": 0
      },
      "text/plain": [
       "solo_L3_eui-hrieuv174-image_20220302T090200257_V02.jp2:   0%|          | 0.00/1.27M [00:00<?, ?B/s]"
      ]
     },
     "metadata": {},
     "output_type": "display_data"
    },
    {
     "data": {
      "application/vnd.jupyter.widget-view+json": {
       "model_id": "",
       "version_major": 2,
       "version_minor": 0
      },
      "text/plain": [
       "solo_L3_eui-hrieuv174-image_20220302T090400257_V02.jp2:   0%|          | 0.00/1.27M [00:00<?, ?B/s]"
      ]
     },
     "metadata": {},
     "output_type": "display_data"
    },
    {
     "data": {
      "application/vnd.jupyter.widget-view+json": {
       "model_id": "",
       "version_major": 2,
       "version_minor": 0
      },
      "text/plain": [
       "solo_L3_eui-hrieuv174-image_20220302T090600257_V02.jp2:   0%|          | 0.00/1.27M [00:00<?, ?B/s]"
      ]
     },
     "metadata": {},
     "output_type": "display_data"
    },
    {
     "data": {
      "application/vnd.jupyter.widget-view+json": {
       "model_id": "",
       "version_major": 2,
       "version_minor": 0
      },
      "text/plain": [
       "solo_L3_eui-hrieuv174-image_20220302T090800258_V02.jp2:   0%|          | 0.00/1.27M [00:00<?, ?B/s]"
      ]
     },
     "metadata": {},
     "output_type": "display_data"
    },
    {
     "data": {
      "application/vnd.jupyter.widget-view+json": {
       "model_id": "",
       "version_major": 2,
       "version_minor": 0
      },
      "text/plain": [
       "solo_L3_eui-hrieuv174-image_20220302T091000260_V02.jp2:   0%|          | 0.00/1.27M [00:00<?, ?B/s]"
      ]
     },
     "metadata": {},
     "output_type": "display_data"
    },
    {
     "data": {
      "application/vnd.jupyter.widget-view+json": {
       "model_id": "",
       "version_major": 2,
       "version_minor": 0
      },
      "text/plain": [
       "solo_L3_eui-hrieuv174-image_20220302T091200258_V02.jp2:   0%|          | 0.00/1.27M [00:00<?, ?B/s]"
      ]
     },
     "metadata": {},
     "output_type": "display_data"
    },
    {
     "data": {
      "application/vnd.jupyter.widget-view+json": {
       "model_id": "",
       "version_major": 2,
       "version_minor": 0
      },
      "text/plain": [
       "solo_L3_eui-hrieuv174-image_20220302T091400258_V02.jp2:   0%|          | 0.00/1.27M [00:00<?, ?B/s]"
      ]
     },
     "metadata": {},
     "output_type": "display_data"
    },
    {
     "data": {
      "application/vnd.jupyter.widget-view+json": {
       "model_id": "",
       "version_major": 2,
       "version_minor": 0
      },
      "text/plain": [
       "solo_L3_eui-hrieuv174-image_20220302T091600258_V02.jp2:   0%|          | 0.00/1.27M [00:00<?, ?B/s]"
      ]
     },
     "metadata": {},
     "output_type": "display_data"
    },
    {
     "data": {
      "application/vnd.jupyter.widget-view+json": {
       "model_id": "",
       "version_major": 2,
       "version_minor": 0
      },
      "text/plain": [
       "solo_L3_eui-hrieuv174-image_20220302T091800259_V02.jp2:   0%|          | 0.00/1.27M [00:00<?, ?B/s]"
      ]
     },
     "metadata": {},
     "output_type": "display_data"
    },
    {
     "data": {
      "application/vnd.jupyter.widget-view+json": {
       "model_id": "",
       "version_major": 2,
       "version_minor": 0
      },
      "text/plain": [
       "solo_L3_eui-hrieuv174-image_20220302T092200258_V02.jp2:   0%|          | 0.00/1.27M [00:00<?, ?B/s]"
      ]
     },
     "metadata": {},
     "output_type": "display_data"
    },
    {
     "data": {
      "application/vnd.jupyter.widget-view+json": {
       "model_id": "",
       "version_major": 2,
       "version_minor": 0
      },
      "text/plain": [
       "solo_L3_eui-hrieuv174-image_20220302T092000259_V02.jp2:   0%|          | 0.00/1.27M [00:00<?, ?B/s]"
      ]
     },
     "metadata": {},
     "output_type": "display_data"
    },
    {
     "data": {
      "application/vnd.jupyter.widget-view+json": {
       "model_id": "",
       "version_major": 2,
       "version_minor": 0
      },
      "text/plain": [
       "solo_L3_eui-hrieuv174-image_20220302T092400259_V02.jp2:   0%|          | 0.00/1.27M [00:00<?, ?B/s]"
      ]
     },
     "metadata": {},
     "output_type": "display_data"
    },
    {
     "data": {
      "application/vnd.jupyter.widget-view+json": {
       "model_id": "",
       "version_major": 2,
       "version_minor": 0
      },
      "text/plain": [
       "solo_L3_eui-hrieuv174-image_20220302T092800259_V02.jp2:   0%|          | 0.00/1.27M [00:00<?, ?B/s]"
      ]
     },
     "metadata": {},
     "output_type": "display_data"
    },
    {
     "data": {
      "application/vnd.jupyter.widget-view+json": {
       "model_id": "",
       "version_major": 2,
       "version_minor": 0
      },
      "text/plain": [
       "solo_L3_eui-hrieuv174-image_20220302T093000260_V02.jp2:   0%|          | 0.00/1.27M [00:00<?, ?B/s]"
      ]
     },
     "metadata": {},
     "output_type": "display_data"
    },
    {
     "data": {
      "application/vnd.jupyter.widget-view+json": {
       "model_id": "",
       "version_major": 2,
       "version_minor": 0
      },
      "text/plain": [
       "solo_L3_eui-hrieuv174-image_20220302T093200260_V02.jp2:   0%|          | 0.00/1.27M [00:00<?, ?B/s]"
      ]
     },
     "metadata": {},
     "output_type": "display_data"
    },
    {
     "data": {
      "application/vnd.jupyter.widget-view+json": {
       "model_id": "",
       "version_major": 2,
       "version_minor": 0
      },
      "text/plain": [
       "solo_L3_eui-hrieuv174-image_20220302T093400259_V02.jp2:   0%|          | 0.00/1.27M [00:00<?, ?B/s]"
      ]
     },
     "metadata": {},
     "output_type": "display_data"
    },
    {
     "data": {
      "application/vnd.jupyter.widget-view+json": {
       "model_id": "",
       "version_major": 2,
       "version_minor": 0
      },
      "text/plain": [
       "solo_L3_eui-hrieuv174-image_20220302T093600260_V02.jp2:   0%|          | 0.00/1.27M [00:00<?, ?B/s]"
      ]
     },
     "metadata": {},
     "output_type": "display_data"
    },
    {
     "data": {
      "application/vnd.jupyter.widget-view+json": {
       "model_id": "",
       "version_major": 2,
       "version_minor": 0
      },
      "text/plain": [
       "solo_L3_eui-hrieuv174-image_20220302T093800260_V02.jp2:   0%|          | 0.00/1.27M [00:00<?, ?B/s]"
      ]
     },
     "metadata": {},
     "output_type": "display_data"
    },
    {
     "data": {
      "application/vnd.jupyter.widget-view+json": {
       "model_id": "",
       "version_major": 2,
       "version_minor": 0
      },
      "text/plain": [
       "solo_L3_eui-hrieuv174-image_20220302T094000261_V02.jp2:   0%|          | 0.00/1.27M [00:00<?, ?B/s]"
      ]
     },
     "metadata": {},
     "output_type": "display_data"
    },
    {
     "data": {
      "application/vnd.jupyter.widget-view+json": {
       "model_id": "",
       "version_major": 2,
       "version_minor": 0
      },
      "text/plain": [
       "solo_L3_eui-hrieuv174-image_20220302T094200261_V02.jp2:   0%|          | 0.00/1.27M [00:00<?, ?B/s]"
      ]
     },
     "metadata": {},
     "output_type": "display_data"
    },
    {
     "data": {
      "application/vnd.jupyter.widget-view+json": {
       "model_id": "",
       "version_major": 2,
       "version_minor": 0
      },
      "text/plain": [
       "solo_L3_eui-hrieuv174-image_20220302T094400260_V02.jp2:   0%|          | 0.00/1.27M [00:00<?, ?B/s]"
      ]
     },
     "metadata": {},
     "output_type": "display_data"
    },
    {
     "data": {
      "application/vnd.jupyter.widget-view+json": {
       "model_id": "",
       "version_major": 2,
       "version_minor": 0
      },
      "text/plain": [
       "solo_L3_eui-hrieuv174-image_20220302T094600261_V02.jp2:   0%|          | 0.00/1.27M [00:00<?, ?B/s]"
      ]
     },
     "metadata": {},
     "output_type": "display_data"
    },
    {
     "data": {
      "application/vnd.jupyter.widget-view+json": {
       "model_id": "",
       "version_major": 2,
       "version_minor": 0
      },
      "text/plain": [
       "solo_L3_eui-hrieuv174-image_20220302T094800261_V02.jp2:   0%|          | 0.00/1.27M [00:00<?, ?B/s]"
      ]
     },
     "metadata": {},
     "output_type": "display_data"
    },
    {
     "data": {
      "application/vnd.jupyter.widget-view+json": {
       "model_id": "",
       "version_major": 2,
       "version_minor": 0
      },
      "text/plain": [
       "solo_L3_eui-hrieuv174-image_20220302T095000262_V02.jp2:   0%|          | 0.00/1.27M [00:00<?, ?B/s]"
      ]
     },
     "metadata": {},
     "output_type": "display_data"
    },
    {
     "data": {
      "application/vnd.jupyter.widget-view+json": {
       "model_id": "",
       "version_major": 2,
       "version_minor": 0
      },
      "text/plain": [
       "solo_L3_eui-hrieuv174-image_20220302T095200262_V02.jp2:   0%|          | 0.00/1.27M [00:00<?, ?B/s]"
      ]
     },
     "metadata": {},
     "output_type": "display_data"
    },
    {
     "data": {
      "application/vnd.jupyter.widget-view+json": {
       "model_id": "",
       "version_major": 2,
       "version_minor": 0
      },
      "text/plain": [
       "solo_L3_eui-hrieuv174-image_20220302T095600263_V02.jp2:   0%|          | 0.00/1.27M [00:00<?, ?B/s]"
      ]
     },
     "metadata": {},
     "output_type": "display_data"
    },
    {
     "data": {
      "application/vnd.jupyter.widget-view+json": {
       "model_id": "",
       "version_major": 2,
       "version_minor": 0
      },
      "text/plain": [
       "solo_L3_eui-hrieuv174-image_20220302T095800263_V02.jp2:   0%|          | 0.00/1.27M [00:00<?, ?B/s]"
      ]
     },
     "metadata": {},
     "output_type": "display_data"
    },
    {
     "data": {
      "application/vnd.jupyter.widget-view+json": {
       "model_id": "",
       "version_major": 2,
       "version_minor": 0
      },
      "text/plain": [
       "solo_L3_eui-hrieuv174-image_20220302T095400262_V02.jp2:   0%|          | 0.00/1.27M [00:00<?, ?B/s]"
      ]
     },
     "metadata": {},
     "output_type": "display_data"
    },
    {
     "data": {
      "application/vnd.jupyter.widget-view+json": {
       "model_id": "",
       "version_major": 2,
       "version_minor": 0
      },
      "text/plain": [
       "solo_L3_eui-hrieuv174-image_20220302T100000263_V02.jp2:   0%|          | 0.00/1.27M [00:00<?, ?B/s]"
      ]
     },
     "metadata": {},
     "output_type": "display_data"
    },
    {
     "data": {
      "application/vnd.jupyter.widget-view+json": {
       "model_id": "",
       "version_major": 2,
       "version_minor": 0
      },
      "text/plain": [
       "solo_L3_eui-hrieuv174-image_20220302T100200263_V02.jp2:   0%|          | 0.00/1.27M [00:00<?, ?B/s]"
      ]
     },
     "metadata": {},
     "output_type": "display_data"
    },
    {
     "data": {
      "application/vnd.jupyter.widget-view+json": {
       "model_id": "",
       "version_major": 2,
       "version_minor": 0
      },
      "text/plain": [
       "solo_L3_eui-hrieuv174-image_20220302T100400264_V02.jp2:   0%|          | 0.00/1.27M [00:00<?, ?B/s]"
      ]
     },
     "metadata": {},
     "output_type": "display_data"
    },
    {
     "data": {
      "application/vnd.jupyter.widget-view+json": {
       "model_id": "",
       "version_major": 2,
       "version_minor": 0
      },
      "text/plain": [
       "solo_L3_eui-hrieuv174-image_20220302T100600264_V02.jp2:   0%|          | 0.00/1.27M [00:00<?, ?B/s]"
      ]
     },
     "metadata": {},
     "output_type": "display_data"
    },
    {
     "data": {
      "application/vnd.jupyter.widget-view+json": {
       "model_id": "",
       "version_major": 2,
       "version_minor": 0
      },
      "text/plain": [
       "solo_L3_eui-hrieuv174-image_20220302T100800264_V02.jp2:   0%|          | 0.00/1.27M [00:00<?, ?B/s]"
      ]
     },
     "metadata": {},
     "output_type": "display_data"
    },
    {
     "data": {
      "application/vnd.jupyter.widget-view+json": {
       "model_id": "",
       "version_major": 2,
       "version_minor": 0
      },
      "text/plain": [
       "solo_L3_eui-hrieuv174-image_20220302T101000264_V02.jp2:   0%|          | 0.00/1.27M [00:00<?, ?B/s]"
      ]
     },
     "metadata": {},
     "output_type": "display_data"
    },
    {
     "data": {
      "application/vnd.jupyter.widget-view+json": {
       "model_id": "",
       "version_major": 2,
       "version_minor": 0
      },
      "text/plain": [
       "solo_L3_eui-hrieuv174-image_20220302T101200264_V02.jp2:   0%|          | 0.00/1.27M [00:00<?, ?B/s]"
      ]
     },
     "metadata": {},
     "output_type": "display_data"
    },
    {
     "data": {
      "application/vnd.jupyter.widget-view+json": {
       "model_id": "",
       "version_major": 2,
       "version_minor": 0
      },
      "text/plain": [
       "solo_L3_eui-hrieuv174-image_20220302T101400264_V02.jp2:   0%|          | 0.00/1.27M [00:00<?, ?B/s]"
      ]
     },
     "metadata": {},
     "output_type": "display_data"
    },
    {
     "data": {
      "application/vnd.jupyter.widget-view+json": {
       "model_id": "",
       "version_major": 2,
       "version_minor": 0
      },
      "text/plain": [
       "solo_L3_eui-hrieuv174-image_20220302T101600265_V02.jp2:   0%|          | 0.00/1.27M [00:00<?, ?B/s]"
      ]
     },
     "metadata": {},
     "output_type": "display_data"
    },
    {
     "data": {
      "application/vnd.jupyter.widget-view+json": {
       "model_id": "",
       "version_major": 2,
       "version_minor": 0
      },
      "text/plain": [
       "solo_L3_eui-hrieuv174-image_20220302T101800265_V02.jp2:   0%|          | 0.00/1.27M [00:00<?, ?B/s]"
      ]
     },
     "metadata": {},
     "output_type": "display_data"
    },
    {
     "data": {
      "application/vnd.jupyter.widget-view+json": {
       "model_id": "",
       "version_major": 2,
       "version_minor": 0
      },
      "text/plain": [
       "solo_L3_eui-hrieuv174-image_20220302T102000274_V02.jp2:   0%|          | 0.00/1.27M [00:00<?, ?B/s]"
      ]
     },
     "metadata": {},
     "output_type": "display_data"
    },
    {
     "data": {
      "application/vnd.jupyter.widget-view+json": {
       "model_id": "",
       "version_major": 2,
       "version_minor": 0
      },
      "text/plain": [
       "solo_L3_eui-hrieuv174-image_20220302T102200265_V02.jp2:   0%|          | 0.00/1.27M [00:00<?, ?B/s]"
      ]
     },
     "metadata": {},
     "output_type": "display_data"
    },
    {
     "data": {
      "application/vnd.jupyter.widget-view+json": {
       "model_id": "",
       "version_major": 2,
       "version_minor": 0
      },
      "text/plain": [
       "solo_L3_eui-hrieuv174-image_20220302T102400265_V02.jp2:   0%|          | 0.00/1.27M [00:00<?, ?B/s]"
      ]
     },
     "metadata": {},
     "output_type": "display_data"
    },
    {
     "data": {
      "application/vnd.jupyter.widget-view+json": {
       "model_id": "",
       "version_major": 2,
       "version_minor": 0
      },
      "text/plain": [
       "solo_L3_eui-hrieuv174-image_20220302T102600266_V02.jp2:   0%|          | 0.00/1.27M [00:00<?, ?B/s]"
      ]
     },
     "metadata": {},
     "output_type": "display_data"
    },
    {
     "data": {
      "application/vnd.jupyter.widget-view+json": {
       "model_id": "",
       "version_major": 2,
       "version_minor": 0
      },
      "text/plain": [
       "solo_L3_eui-hrieuv174-image_20220302T092600259_V02.jp2:   0%|          | 0.00/1.27M [00:00<?, ?B/s]"
      ]
     },
     "metadata": {},
     "output_type": "display_data"
    },
    {
     "data": {
      "application/vnd.jupyter.widget-view+json": {
       "model_id": "",
       "version_major": 2,
       "version_minor": 0
      },
      "text/plain": [
       "solo_L3_eui-hrieuv174-image_20220302T102800266_V02.jp2:   0%|          | 0.00/1.27M [00:00<?, ?B/s]"
      ]
     },
     "metadata": {},
     "output_type": "display_data"
    },
    {
     "data": {
      "application/vnd.jupyter.widget-view+json": {
       "model_id": "",
       "version_major": 2,
       "version_minor": 0
      },
      "text/plain": [
       "solo_L3_eui-hrieuv174-image_20220302T103200266_V02.jp2:   0%|          | 0.00/1.27M [00:00<?, ?B/s]"
      ]
     },
     "metadata": {},
     "output_type": "display_data"
    },
    {
     "data": {
      "application/vnd.jupyter.widget-view+json": {
       "model_id": "",
       "version_major": 2,
       "version_minor": 0
      },
      "text/plain": [
       "solo_L3_eui-hrieuv174-image_20220302T103400267_V02.jp2:   0%|          | 0.00/1.27M [00:00<?, ?B/s]"
      ]
     },
     "metadata": {},
     "output_type": "display_data"
    },
    {
     "data": {
      "application/vnd.jupyter.widget-view+json": {
       "model_id": "",
       "version_major": 2,
       "version_minor": 0
      },
      "text/plain": [
       "solo_L3_eui-hrieuv174-image_20220302T103000266_V02.jp2:   0%|          | 0.00/1.27M [00:00<?, ?B/s]"
      ]
     },
     "metadata": {},
     "output_type": "display_data"
    },
    {
     "data": {
      "application/vnd.jupyter.widget-view+json": {
       "model_id": "",
       "version_major": 2,
       "version_minor": 0
      },
      "text/plain": [
       "solo_L3_eui-hrieuv174-image_20220302T103600267_V02.jp2:   0%|          | 0.00/1.27M [00:00<?, ?B/s]"
      ]
     },
     "metadata": {},
     "output_type": "display_data"
    },
    {
     "data": {
      "application/vnd.jupyter.widget-view+json": {
       "model_id": "",
       "version_major": 2,
       "version_minor": 0
      },
      "text/plain": [
       "solo_L3_eui-hrieuv174-image_20220302T103800267_V02.jp2:   0%|          | 0.00/1.27M [00:00<?, ?B/s]"
      ]
     },
     "metadata": {},
     "output_type": "display_data"
    },
    {
     "data": {
      "application/vnd.jupyter.widget-view+json": {
       "model_id": "",
       "version_major": 2,
       "version_minor": 0
      },
      "text/plain": [
       "solo_L3_eui-hrieuv174-image_20220302T104000267_V02.jp2:   0%|          | 0.00/1.27M [00:00<?, ?B/s]"
      ]
     },
     "metadata": {},
     "output_type": "display_data"
    },
    {
     "data": {
      "application/vnd.jupyter.widget-view+json": {
       "model_id": "",
       "version_major": 2,
       "version_minor": 0
      },
      "text/plain": [
       "solo_L3_eui-hrieuv174-image_20220302T104200267_V02.jp2:   0%|          | 0.00/1.27M [00:00<?, ?B/s]"
      ]
     },
     "metadata": {},
     "output_type": "display_data"
    },
    {
     "data": {
      "application/vnd.jupyter.widget-view+json": {
       "model_id": "",
       "version_major": 2,
       "version_minor": 0
      },
      "text/plain": [
       "solo_L3_eui-hrieuv174-image_20220302T104400268_V02.jp2:   0%|          | 0.00/1.27M [00:00<?, ?B/s]"
      ]
     },
     "metadata": {},
     "output_type": "display_data"
    },
    {
     "data": {
      "application/vnd.jupyter.widget-view+json": {
       "model_id": "",
       "version_major": 2,
       "version_minor": 0
      },
      "text/plain": [
       "solo_L3_eui-hrieuv174-image_20220302T104600268_V02.jp2:   0%|          | 0.00/1.27M [00:00<?, ?B/s]"
      ]
     },
     "metadata": {},
     "output_type": "display_data"
    },
    {
     "data": {
      "application/vnd.jupyter.widget-view+json": {
       "model_id": "",
       "version_major": 2,
       "version_minor": 0
      },
      "text/plain": [
       "solo_L3_eui-hrieuv174-image_20220302T104800268_V02.jp2:   0%|          | 0.00/1.27M [00:00<?, ?B/s]"
      ]
     },
     "metadata": {},
     "output_type": "display_data"
    },
    {
     "data": {
      "application/vnd.jupyter.widget-view+json": {
       "model_id": "",
       "version_major": 2,
       "version_minor": 0
      },
      "text/plain": [
       "solo_L3_eui-hrieuv174-image_20220302T105000268_V02.jp2:   0%|          | 0.00/1.27M [00:00<?, ?B/s]"
      ]
     },
     "metadata": {},
     "output_type": "display_data"
    },
    {
     "data": {
      "application/vnd.jupyter.widget-view+json": {
       "model_id": "",
       "version_major": 2,
       "version_minor": 0
      },
      "text/plain": [
       "solo_L3_eui-hrieuv174-image_20220302T105400268_V02.jp2:   0%|          | 0.00/1.27M [00:00<?, ?B/s]"
      ]
     },
     "metadata": {},
     "output_type": "display_data"
    },
    {
     "data": {
      "application/vnd.jupyter.widget-view+json": {
       "model_id": "",
       "version_major": 2,
       "version_minor": 0
      },
      "text/plain": [
       "solo_L3_eui-hrieuv174-image_20220302T105200268_V02.jp2:   0%|          | 0.00/1.27M [00:00<?, ?B/s]"
      ]
     },
     "metadata": {},
     "output_type": "display_data"
    },
    {
     "data": {
      "application/vnd.jupyter.widget-view+json": {
       "model_id": "",
       "version_major": 2,
       "version_minor": 0
      },
      "text/plain": [
       "solo_L3_eui-hrieuv174-image_20220302T105600269_V02.jp2:   0%|          | 0.00/1.27M [00:00<?, ?B/s]"
      ]
     },
     "metadata": {},
     "output_type": "display_data"
    },
    {
     "data": {
      "application/vnd.jupyter.widget-view+json": {
       "model_id": "",
       "version_major": 2,
       "version_minor": 0
      },
      "text/plain": [
       "solo_L3_eui-hrieuv174-image_20220302T105800269_V02.jp2:   0%|          | 0.00/1.27M [00:00<?, ?B/s]"
      ]
     },
     "metadata": {},
     "output_type": "display_data"
    },
    {
     "data": {
      "application/vnd.jupyter.widget-view+json": {
       "model_id": "",
       "version_major": 2,
       "version_minor": 0
      },
      "text/plain": [
       "solo_L3_eui-hrieuv174-image_20220302T110000269_V02.jp2:   0%|          | 0.00/1.27M [00:00<?, ?B/s]"
      ]
     },
     "metadata": {},
     "output_type": "display_data"
    },
    {
     "data": {
      "application/vnd.jupyter.widget-view+json": {
       "model_id": "",
       "version_major": 2,
       "version_minor": 0
      },
      "text/plain": [
       "solo_L3_eui-hrieuv174-image_20220302T110200269_V02.jp2:   0%|          | 0.00/1.27M [00:00<?, ?B/s]"
      ]
     },
     "metadata": {},
     "output_type": "display_data"
    },
    {
     "data": {
      "application/vnd.jupyter.widget-view+json": {
       "model_id": "",
       "version_major": 2,
       "version_minor": 0
      },
      "text/plain": [
       "solo_L3_eui-hrieuv174-image_20220302T110400270_V02.jp2:   0%|          | 0.00/1.27M [00:00<?, ?B/s]"
      ]
     },
     "metadata": {},
     "output_type": "display_data"
    },
    {
     "data": {
      "application/vnd.jupyter.widget-view+json": {
       "model_id": "",
       "version_major": 2,
       "version_minor": 0
      },
      "text/plain": [
       "solo_L3_eui-hrieuv174-image_20220302T110600270_V02.jp2:   0%|          | 0.00/1.27M [00:00<?, ?B/s]"
      ]
     },
     "metadata": {},
     "output_type": "display_data"
    },
    {
     "data": {
      "application/vnd.jupyter.widget-view+json": {
       "model_id": "",
       "version_major": 2,
       "version_minor": 0
      },
      "text/plain": [
       "solo_L3_eui-hrieuv174-image_20220302T110800270_V02.jp2:   0%|          | 0.00/1.27M [00:00<?, ?B/s]"
      ]
     },
     "metadata": {},
     "output_type": "display_data"
    },
    {
     "data": {
      "application/vnd.jupyter.widget-view+json": {
       "model_id": "",
       "version_major": 2,
       "version_minor": 0
      },
      "text/plain": [
       "solo_L3_eui-hrieuv174-image_20220302T111000272_V02.jp2:   0%|          | 0.00/1.27M [00:00<?, ?B/s]"
      ]
     },
     "metadata": {},
     "output_type": "display_data"
    },
    {
     "data": {
      "application/vnd.jupyter.widget-view+json": {
       "model_id": "",
       "version_major": 2,
       "version_minor": 0
      },
      "text/plain": [
       "solo_L3_eui-hrieuv174-image_20220302T111200270_V02.jp2:   0%|          | 0.00/1.27M [00:00<?, ?B/s]"
      ]
     },
     "metadata": {},
     "output_type": "display_data"
    },
    {
     "data": {
      "application/vnd.jupyter.widget-view+json": {
       "model_id": "",
       "version_major": 2,
       "version_minor": 0
      },
      "text/plain": [
       "solo_L3_eui-hrieuv174-image_20220302T111400271_V02.jp2:   0%|          | 0.00/1.27M [00:00<?, ?B/s]"
      ]
     },
     "metadata": {},
     "output_type": "display_data"
    },
    {
     "data": {
      "application/vnd.jupyter.widget-view+json": {
       "model_id": "",
       "version_major": 2,
       "version_minor": 0
      },
      "text/plain": [
       "solo_L3_eui-hrieuv174-image_20220302T111600271_V02.jp2:   0%|          | 0.00/1.27M [00:00<?, ?B/s]"
      ]
     },
     "metadata": {},
     "output_type": "display_data"
    },
    {
     "data": {
      "application/vnd.jupyter.widget-view+json": {
       "model_id": "",
       "version_major": 2,
       "version_minor": 0
      },
      "text/plain": [
       "solo_L3_eui-hrieuv174-image_20220302T111800271_V02.jp2:   0%|          | 0.00/1.27M [00:00<?, ?B/s]"
      ]
     },
     "metadata": {},
     "output_type": "display_data"
    },
    {
     "data": {
      "application/vnd.jupyter.widget-view+json": {
       "model_id": "",
       "version_major": 2,
       "version_minor": 0
      },
      "text/plain": [
       "solo_L3_eui-hrieuv174-image_20220302T112000271_V02.jp2:   0%|          | 0.00/1.27M [00:00<?, ?B/s]"
      ]
     },
     "metadata": {},
     "output_type": "display_data"
    },
    {
     "data": {
      "application/vnd.jupyter.widget-view+json": {
       "model_id": "",
       "version_major": 2,
       "version_minor": 0
      },
      "text/plain": [
       "solo_L3_eui-hrieuv174-image_20220302T112200272_V02.jp2:   0%|          | 0.00/1.27M [00:00<?, ?B/s]"
      ]
     },
     "metadata": {},
     "output_type": "display_data"
    },
    {
     "data": {
      "application/vnd.jupyter.widget-view+json": {
       "model_id": "",
       "version_major": 2,
       "version_minor": 0
      },
      "text/plain": [
       "solo_L3_eui-hrieuv174-image_20220302T112400272_V02.jp2:   0%|          | 0.00/1.27M [00:00<?, ?B/s]"
      ]
     },
     "metadata": {},
     "output_type": "display_data"
    },
    {
     "data": {
      "application/vnd.jupyter.widget-view+json": {
       "model_id": "",
       "version_major": 2,
       "version_minor": 0
      },
      "text/plain": [
       "solo_L3_eui-hrieuv174-image_20220302T112600272_V02.jp2:   0%|          | 0.00/1.27M [00:00<?, ?B/s]"
      ]
     },
     "metadata": {},
     "output_type": "display_data"
    },
    {
     "data": {
      "application/vnd.jupyter.widget-view+json": {
       "model_id": "",
       "version_major": 2,
       "version_minor": 0
      },
      "text/plain": [
       "solo_L3_eui-hrieuv174-image_20220302T112800272_V02.jp2:   0%|          | 0.00/1.27M [00:00<?, ?B/s]"
      ]
     },
     "metadata": {},
     "output_type": "display_data"
    },
    {
     "data": {
      "application/vnd.jupyter.widget-view+json": {
       "model_id": "",
       "version_major": 2,
       "version_minor": 0
      },
      "text/plain": [
       "solo_L3_eui-hrieuv174-image_20220302T113200272_V02.jp2:   0%|          | 0.00/1.27M [00:00<?, ?B/s]"
      ]
     },
     "metadata": {},
     "output_type": "display_data"
    },
    {
     "data": {
      "application/vnd.jupyter.widget-view+json": {
       "model_id": "",
       "version_major": 2,
       "version_minor": 0
      },
      "text/plain": [
       "solo_L3_eui-hrieuv174-image_20220302T113000272_V02.jp2:   0%|          | 0.00/1.27M [00:00<?, ?B/s]"
      ]
     },
     "metadata": {},
     "output_type": "display_data"
    },
    {
     "data": {
      "application/vnd.jupyter.widget-view+json": {
       "model_id": "",
       "version_major": 2,
       "version_minor": 0
      },
      "text/plain": [
       "solo_L3_eui-hrieuv174-image_20220302T113400273_V02.jp2:   0%|          | 0.00/1.27M [00:00<?, ?B/s]"
      ]
     },
     "metadata": {},
     "output_type": "display_data"
    },
    {
     "data": {
      "application/vnd.jupyter.widget-view+json": {
       "model_id": "",
       "version_major": 2,
       "version_minor": 0
      },
      "text/plain": [
       "solo_L3_eui-hrieuv174-image_20220302T113600273_V02.jp2:   0%|          | 0.00/1.27M [00:00<?, ?B/s]"
      ]
     },
     "metadata": {},
     "output_type": "display_data"
    },
    {
     "data": {
      "application/vnd.jupyter.widget-view+json": {
       "model_id": "",
       "version_major": 2,
       "version_minor": 0
      },
      "text/plain": [
       "solo_L3_eui-hrieuv174-image_20220302T113800273_V02.jp2:   0%|          | 0.00/1.27M [00:00<?, ?B/s]"
      ]
     },
     "metadata": {},
     "output_type": "display_data"
    },
    {
     "data": {
      "application/vnd.jupyter.widget-view+json": {
       "model_id": "",
       "version_major": 2,
       "version_minor": 0
      },
      "text/plain": [
       "solo_L3_eui-hrieuv174-image_20220302T114000273_V02.jp2:   0%|          | 0.00/1.27M [00:00<?, ?B/s]"
      ]
     },
     "metadata": {},
     "output_type": "display_data"
    },
    {
     "data": {
      "application/vnd.jupyter.widget-view+json": {
       "model_id": "",
       "version_major": 2,
       "version_minor": 0
      },
      "text/plain": [
       "solo_L3_eui-hrieuv174-image_20220302T114200273_V02.jp2:   0%|          | 0.00/1.27M [00:00<?, ?B/s]"
      ]
     },
     "metadata": {},
     "output_type": "display_data"
    },
    {
     "data": {
      "application/vnd.jupyter.widget-view+json": {
       "model_id": "",
       "version_major": 2,
       "version_minor": 0
      },
      "text/plain": [
       "solo_L3_eui-hrieuv174-image_20220302T114400274_V02.jp2:   0%|          | 0.00/1.27M [00:00<?, ?B/s]"
      ]
     },
     "metadata": {},
     "output_type": "display_data"
    },
    {
     "data": {
      "application/vnd.jupyter.widget-view+json": {
       "model_id": "",
       "version_major": 2,
       "version_minor": 0
      },
      "text/plain": [
       "solo_L3_eui-hrieuv174-image_20220302T114600274_V02.jp2:   0%|          | 0.00/1.27M [00:00<?, ?B/s]"
      ]
     },
     "metadata": {},
     "output_type": "display_data"
    },
    {
     "data": {
      "application/vnd.jupyter.widget-view+json": {
       "model_id": "",
       "version_major": 2,
       "version_minor": 0
      },
      "text/plain": [
       "solo_L3_eui-hrieuv174-image_20220302T114800274_V02.jp2:   0%|          | 0.00/1.27M [00:00<?, ?B/s]"
      ]
     },
     "metadata": {},
     "output_type": "display_data"
    },
    {
     "data": {
      "application/vnd.jupyter.widget-view+json": {
       "model_id": "",
       "version_major": 2,
       "version_minor": 0
      },
      "text/plain": [
       "solo_L3_eui-hrieuv174-image_20220302T115000274_V02.jp2:   0%|          | 0.00/1.27M [00:00<?, ?B/s]"
      ]
     },
     "metadata": {},
     "output_type": "display_data"
    },
    {
     "data": {
      "application/vnd.jupyter.widget-view+json": {
       "model_id": "",
       "version_major": 2,
       "version_minor": 0
      },
      "text/plain": [
       "solo_L3_eui-hrieuv174-image_20220302T115400275_V02.jp2:   0%|          | 0.00/1.27M [00:00<?, ?B/s]"
      ]
     },
     "metadata": {},
     "output_type": "display_data"
    },
    {
     "data": {
      "application/vnd.jupyter.widget-view+json": {
       "model_id": "",
       "version_major": 2,
       "version_minor": 0
      },
      "text/plain": [
       "solo_L3_eui-hrieuv174-image_20220302T115200275_V02.jp2:   0%|          | 0.00/1.27M [00:00<?, ?B/s]"
      ]
     },
     "metadata": {},
     "output_type": "display_data"
    },
    {
     "data": {
      "application/vnd.jupyter.widget-view+json": {
       "model_id": "",
       "version_major": 2,
       "version_minor": 0
      },
      "text/plain": [
       "solo_L3_eui-hrieuv174-image_20220302T115600275_V02.jp2:   0%|          | 0.00/1.27M [00:00<?, ?B/s]"
      ]
     },
     "metadata": {},
     "output_type": "display_data"
    },
    {
     "data": {
      "application/vnd.jupyter.widget-view+json": {
       "model_id": "",
       "version_major": 2,
       "version_minor": 0
      },
      "text/plain": [
       "solo_L3_eui-hrieuv174-image_20220302T115800275_V02.jp2:   0%|          | 0.00/1.27M [00:00<?, ?B/s]"
      ]
     },
     "metadata": {},
     "output_type": "display_data"
    },
    {
     "data": {
      "application/vnd.jupyter.widget-view+json": {
       "model_id": "",
       "version_major": 2,
       "version_minor": 0
      },
      "text/plain": [
       "solo_L3_eui-hrieuv174-image_20220302T120000299_V02.jp2:   0%|          | 0.00/1.27M [00:00<?, ?B/s]"
      ]
     },
     "metadata": {},
     "output_type": "display_data"
    },
    {
     "data": {
      "application/vnd.jupyter.widget-view+json": {
       "model_id": "",
       "version_major": 2,
       "version_minor": 0
      },
      "text/plain": [
       "solo_L3_eui-hrieuv174-image_20220302T120200276_V02.jp2:   0%|          | 0.00/1.27M [00:00<?, ?B/s]"
      ]
     },
     "metadata": {},
     "output_type": "display_data"
    },
    {
     "data": {
      "application/vnd.jupyter.widget-view+json": {
       "model_id": "",
       "version_major": 2,
       "version_minor": 0
      },
      "text/plain": [
       "solo_L3_eui-hrieuv174-image_20220302T120400275_V02.jp2:   0%|          | 0.00/1.27M [00:00<?, ?B/s]"
      ]
     },
     "metadata": {},
     "output_type": "display_data"
    },
    {
     "data": {
      "application/vnd.jupyter.widget-view+json": {
       "model_id": "",
       "version_major": 2,
       "version_minor": 0
      },
      "text/plain": [
       "solo_L3_eui-hrieuv174-image_20220302T120600276_V02.jp2:   0%|          | 0.00/1.27M [00:00<?, ?B/s]"
      ]
     },
     "metadata": {},
     "output_type": "display_data"
    },
    {
     "data": {
      "application/vnd.jupyter.widget-view+json": {
       "model_id": "",
       "version_major": 2,
       "version_minor": 0
      },
      "text/plain": [
       "solo_L3_eui-hrieuv174-image_20220302T120800312_V02.jp2:   0%|          | 0.00/1.27M [00:00<?, ?B/s]"
      ]
     },
     "metadata": {},
     "output_type": "display_data"
    },
    {
     "data": {
      "application/vnd.jupyter.widget-view+json": {
       "model_id": "",
       "version_major": 2,
       "version_minor": 0
      },
      "text/plain": [
       "solo_L3_eui-hrieuv174-image_20220302T121000276_V02.jp2:   0%|          | 0.00/1.27M [00:00<?, ?B/s]"
      ]
     },
     "metadata": {},
     "output_type": "display_data"
    },
    {
     "data": {
      "application/vnd.jupyter.widget-view+json": {
       "model_id": "",
       "version_major": 2,
       "version_minor": 0
      },
      "text/plain": [
       "solo_L3_eui-hrieuv174-image_20220302T121200277_V02.jp2:   0%|          | 0.00/1.27M [00:00<?, ?B/s]"
      ]
     },
     "metadata": {},
     "output_type": "display_data"
    },
    {
     "data": {
      "application/vnd.jupyter.widget-view+json": {
       "model_id": "",
       "version_major": 2,
       "version_minor": 0
      },
      "text/plain": [
       "solo_L3_eui-hrieuv174-image_20220302T121400279_V02.jp2:   0%|          | 0.00/1.27M [00:00<?, ?B/s]"
      ]
     },
     "metadata": {},
     "output_type": "display_data"
    },
    {
     "data": {
      "application/vnd.jupyter.widget-view+json": {
       "model_id": "",
       "version_major": 2,
       "version_minor": 0
      },
      "text/plain": [
       "solo_L3_eui-hrieuv174-image_20220302T121600277_V02.jp2:   0%|          | 0.00/1.27M [00:00<?, ?B/s]"
      ]
     },
     "metadata": {},
     "output_type": "display_data"
    },
    {
     "data": {
      "application/vnd.jupyter.widget-view+json": {
       "model_id": "",
       "version_major": 2,
       "version_minor": 0
      },
      "text/plain": [
       "solo_L3_eui-hrieuv174-image_20220302T121800277_V02.jp2:   0%|          | 0.00/1.27M [00:00<?, ?B/s]"
      ]
     },
     "metadata": {},
     "output_type": "display_data"
    },
    {
     "data": {
      "application/vnd.jupyter.widget-view+json": {
       "model_id": "",
       "version_major": 2,
       "version_minor": 0
      },
      "text/plain": [
       "solo_L3_eui-hrieuv174-image_20220302T122000277_V02.jp2:   0%|          | 0.00/1.27M [00:00<?, ?B/s]"
      ]
     },
     "metadata": {},
     "output_type": "display_data"
    },
    {
     "data": {
      "application/vnd.jupyter.widget-view+json": {
       "model_id": "",
       "version_major": 2,
       "version_minor": 0
      },
      "text/plain": [
       "solo_L3_eui-hrieuv174-image_20220302T122200277_V02.jp2:   0%|          | 0.00/1.27M [00:00<?, ?B/s]"
      ]
     },
     "metadata": {},
     "output_type": "display_data"
    },
    {
     "data": {
      "application/vnd.jupyter.widget-view+json": {
       "model_id": "",
       "version_major": 2,
       "version_minor": 0
      },
      "text/plain": [
       "solo_L3_eui-hrieuv174-image_20220302T122400278_V02.jp2:   0%|          | 0.00/1.27M [00:00<?, ?B/s]"
      ]
     },
     "metadata": {},
     "output_type": "display_data"
    },
    {
     "data": {
      "application/vnd.jupyter.widget-view+json": {
       "model_id": "",
       "version_major": 2,
       "version_minor": 0
      },
      "text/plain": [
       "solo_L3_eui-hrieuv174-image_20220302T122600278_V02.jp2:   0%|          | 0.00/1.27M [00:00<?, ?B/s]"
      ]
     },
     "metadata": {},
     "output_type": "display_data"
    },
    {
     "data": {
      "application/vnd.jupyter.widget-view+json": {
       "model_id": "",
       "version_major": 2,
       "version_minor": 0
      },
      "text/plain": [
       "solo_L3_eui-hrieuv174-image_20220302T122800278_V02.jp2:   0%|          | 0.00/1.27M [00:00<?, ?B/s]"
      ]
     },
     "metadata": {},
     "output_type": "display_data"
    },
    {
     "data": {
      "application/vnd.jupyter.widget-view+json": {
       "model_id": "",
       "version_major": 2,
       "version_minor": 0
      },
      "text/plain": [
       "solo_L3_eui-hrieuv174-image_20220302T123000278_V02.jp2:   0%|          | 0.00/1.27M [00:00<?, ?B/s]"
      ]
     },
     "metadata": {},
     "output_type": "display_data"
    },
    {
     "data": {
      "application/vnd.jupyter.widget-view+json": {
       "model_id": "",
       "version_major": 2,
       "version_minor": 0
      },
      "text/plain": [
       "solo_L3_eui-hrieuv174-image_20220302T123200279_V02.jp2:   0%|          | 0.00/1.27M [00:00<?, ?B/s]"
      ]
     },
     "metadata": {},
     "output_type": "display_data"
    },
    {
     "data": {
      "application/vnd.jupyter.widget-view+json": {
       "model_id": "",
       "version_major": 2,
       "version_minor": 0
      },
      "text/plain": [
       "solo_L3_eui-hrieuv174-image_20220302T123400279_V02.jp2:   0%|          | 0.00/1.27M [00:00<?, ?B/s]"
      ]
     },
     "metadata": {},
     "output_type": "display_data"
    },
    {
     "data": {
      "application/vnd.jupyter.widget-view+json": {
       "model_id": "",
       "version_major": 2,
       "version_minor": 0
      },
      "text/plain": [
       "solo_L3_eui-hrieuv174-image_20220302T123600279_V02.jp2:   0%|          | 0.00/1.27M [00:00<?, ?B/s]"
      ]
     },
     "metadata": {},
     "output_type": "display_data"
    },
    {
     "data": {
      "application/vnd.jupyter.widget-view+json": {
       "model_id": "",
       "version_major": 2,
       "version_minor": 0
      },
      "text/plain": [
       "solo_L3_eui-hrieuv174-image_20220302T123800279_V02.jp2:   0%|          | 0.00/1.27M [00:00<?, ?B/s]"
      ]
     },
     "metadata": {},
     "output_type": "display_data"
    },
    {
     "data": {
      "application/vnd.jupyter.widget-view+json": {
       "model_id": "",
       "version_major": 2,
       "version_minor": 0
      },
      "text/plain": [
       "solo_L3_eui-hrieuv174-image_20220302T124200280_V02.jp2:   0%|          | 0.00/1.27M [00:00<?, ?B/s]"
      ]
     },
     "metadata": {},
     "output_type": "display_data"
    },
    {
     "data": {
      "application/vnd.jupyter.widget-view+json": {
       "model_id": "",
       "version_major": 2,
       "version_minor": 0
      },
      "text/plain": [
       "solo_L3_eui-hrieuv174-image_20220302T124000280_V02.jp2:   0%|          | 0.00/1.27M [00:00<?, ?B/s]"
      ]
     },
     "metadata": {},
     "output_type": "display_data"
    },
    {
     "data": {
      "application/vnd.jupyter.widget-view+json": {
       "model_id": "",
       "version_major": 2,
       "version_minor": 0
      },
      "text/plain": [
       "solo_L3_eui-hrieuv174-image_20220302T124400280_V02.jp2:   0%|          | 0.00/1.27M [00:00<?, ?B/s]"
      ]
     },
     "metadata": {},
     "output_type": "display_data"
    },
    {
     "data": {
      "application/vnd.jupyter.widget-view+json": {
       "model_id": "",
       "version_major": 2,
       "version_minor": 0
      },
      "text/plain": [
       "solo_L3_eui-hrieuv174-image_20220302T124600280_V02.jp2:   0%|          | 0.00/1.27M [00:00<?, ?B/s]"
      ]
     },
     "metadata": {},
     "output_type": "display_data"
    },
    {
     "data": {
      "application/vnd.jupyter.widget-view+json": {
       "model_id": "",
       "version_major": 2,
       "version_minor": 0
      },
      "text/plain": [
       "solo_L3_eui-hrieuv174-image_20220302T124800280_V02.jp2:   0%|          | 0.00/1.27M [00:00<?, ?B/s]"
      ]
     },
     "metadata": {},
     "output_type": "display_data"
    },
    {
     "data": {
      "application/vnd.jupyter.widget-view+json": {
       "model_id": "",
       "version_major": 2,
       "version_minor": 0
      },
      "text/plain": [
       "solo_L3_eui-hrieuv174-image_20220302T125000281_V02.jp2:   0%|          | 0.00/1.27M [00:00<?, ?B/s]"
      ]
     },
     "metadata": {},
     "output_type": "display_data"
    },
    {
     "data": {
      "application/vnd.jupyter.widget-view+json": {
       "model_id": "",
       "version_major": 2,
       "version_minor": 0
      },
      "text/plain": [
       "solo_L3_eui-hrieuv174-image_20220302T125200281_V02.jp2:   0%|          | 0.00/1.27M [00:00<?, ?B/s]"
      ]
     },
     "metadata": {},
     "output_type": "display_data"
    },
    {
     "data": {
      "application/vnd.jupyter.widget-view+json": {
       "model_id": "",
       "version_major": 2,
       "version_minor": 0
      },
      "text/plain": [
       "solo_L3_eui-hrieuv174-image_20220302T125400281_V02.jp2:   0%|          | 0.00/1.27M [00:00<?, ?B/s]"
      ]
     },
     "metadata": {},
     "output_type": "display_data"
    },
    {
     "data": {
      "application/vnd.jupyter.widget-view+json": {
       "model_id": "",
       "version_major": 2,
       "version_minor": 0
      },
      "text/plain": [
       "solo_L3_eui-hrieuv174-image_20220302T125600281_V02.jp2:   0%|          | 0.00/1.27M [00:00<?, ?B/s]"
      ]
     },
     "metadata": {},
     "output_type": "display_data"
    },
    {
     "data": {
      "application/vnd.jupyter.widget-view+json": {
       "model_id": "",
       "version_major": 2,
       "version_minor": 0
      },
      "text/plain": [
       "solo_L3_eui-hrieuv174-image_20220302T125800282_V02.jp2:   0%|          | 0.00/1.27M [00:00<?, ?B/s]"
      ]
     },
     "metadata": {},
     "output_type": "display_data"
    },
    {
     "data": {
      "application/vnd.jupyter.widget-view+json": {
       "model_id": "",
       "version_major": 2,
       "version_minor": 0
      },
      "text/plain": [
       "solo_L3_eui-hrieuv174-image_20220302T130000302_V02.jp2:   0%|          | 0.00/1.27M [00:00<?, ?B/s]"
      ]
     },
     "metadata": {},
     "output_type": "display_data"
    },
    {
     "data": {
      "application/vnd.jupyter.widget-view+json": {
       "model_id": "",
       "version_major": 2,
       "version_minor": 0
      },
      "text/plain": [
       "solo_L3_eui-hrieuv174-image_20220302T130200282_V02.jp2:   0%|          | 0.00/1.27M [00:00<?, ?B/s]"
      ]
     },
     "metadata": {},
     "output_type": "display_data"
    },
    {
     "data": {
      "application/vnd.jupyter.widget-view+json": {
       "model_id": "",
       "version_major": 2,
       "version_minor": 0
      },
      "text/plain": [
       "solo_L3_eui-hrieuv174-image_20220302T130400282_V02.jp2:   0%|          | 0.00/1.27M [00:00<?, ?B/s]"
      ]
     },
     "metadata": {},
     "output_type": "display_data"
    },
    {
     "data": {
      "application/vnd.jupyter.widget-view+json": {
       "model_id": "",
       "version_major": 2,
       "version_minor": 0
      },
      "text/plain": [
       "solo_L3_eui-hrieuv174-image_20220302T130600282_V02.jp2:   0%|          | 0.00/1.27M [00:00<?, ?B/s]"
      ]
     },
     "metadata": {},
     "output_type": "display_data"
    },
    {
     "data": {
      "application/vnd.jupyter.widget-view+json": {
       "model_id": "",
       "version_major": 2,
       "version_minor": 0
      },
      "text/plain": [
       "solo_L3_eui-hrieuv174-image_20220302T130800283_V02.jp2:   0%|          | 0.00/1.27M [00:00<?, ?B/s]"
      ]
     },
     "metadata": {},
     "output_type": "display_data"
    },
    {
     "data": {
      "application/vnd.jupyter.widget-view+json": {
       "model_id": "",
       "version_major": 2,
       "version_minor": 0
      },
      "text/plain": [
       "solo_L3_eui-hrieuv174-image_20220302T131000282_V02.jp2:   0%|          | 0.00/1.27M [00:00<?, ?B/s]"
      ]
     },
     "metadata": {},
     "output_type": "display_data"
    },
    {
     "data": {
      "application/vnd.jupyter.widget-view+json": {
       "model_id": "",
       "version_major": 2,
       "version_minor": 0
      },
      "text/plain": [
       "solo_L3_eui-hrieuv174-image_20220302T131200283_V02.jp2:   0%|          | 0.00/1.27M [00:00<?, ?B/s]"
      ]
     },
     "metadata": {},
     "output_type": "display_data"
    },
    {
     "data": {
      "application/vnd.jupyter.widget-view+json": {
       "model_id": "",
       "version_major": 2,
       "version_minor": 0
      },
      "text/plain": [
       "solo_L3_eui-hrieuv174-image_20220302T131400282_V02.jp2:   0%|          | 0.00/1.27M [00:00<?, ?B/s]"
      ]
     },
     "metadata": {},
     "output_type": "display_data"
    },
    {
     "data": {
      "application/vnd.jupyter.widget-view+json": {
       "model_id": "",
       "version_major": 2,
       "version_minor": 0
      },
      "text/plain": [
       "solo_L3_eui-hrieuv174-image_20220302T131600283_V02.jp2:   0%|          | 0.00/1.27M [00:00<?, ?B/s]"
      ]
     },
     "metadata": {},
     "output_type": "display_data"
    },
    {
     "data": {
      "application/vnd.jupyter.widget-view+json": {
       "model_id": "",
       "version_major": 2,
       "version_minor": 0
      },
      "text/plain": [
       "solo_L3_eui-hrieuv174-image_20220302T131800283_V02.jp2:   0%|          | 0.00/1.27M [00:00<?, ?B/s]"
      ]
     },
     "metadata": {},
     "output_type": "display_data"
    },
    {
     "data": {
      "application/vnd.jupyter.widget-view+json": {
       "model_id": "",
       "version_major": 2,
       "version_minor": 0
      },
      "text/plain": [
       "solo_L3_eui-hrieuv174-image_20220302T132000284_V02.jp2:   0%|          | 0.00/1.27M [00:00<?, ?B/s]"
      ]
     },
     "metadata": {},
     "output_type": "display_data"
    },
    {
     "data": {
      "application/vnd.jupyter.widget-view+json": {
       "model_id": "",
       "version_major": 2,
       "version_minor": 0
      },
      "text/plain": [
       "solo_L3_eui-hrieuv174-image_20220302T132200284_V02.jp2:   0%|          | 0.00/1.27M [00:00<?, ?B/s]"
      ]
     },
     "metadata": {},
     "output_type": "display_data"
    },
    {
     "data": {
      "application/vnd.jupyter.widget-view+json": {
       "model_id": "",
       "version_major": 2,
       "version_minor": 0
      },
      "text/plain": [
       "solo_L3_eui-hrieuv174-image_20220302T132400284_V02.jp2:   0%|          | 0.00/1.27M [00:00<?, ?B/s]"
      ]
     },
     "metadata": {},
     "output_type": "display_data"
    },
    {
     "data": {
      "application/vnd.jupyter.widget-view+json": {
       "model_id": "",
       "version_major": 2,
       "version_minor": 0
      },
      "text/plain": [
       "solo_L3_eui-hrieuv174-image_20220302T132600284_V02.jp2:   0%|          | 0.00/1.27M [00:00<?, ?B/s]"
      ]
     },
     "metadata": {},
     "output_type": "display_data"
    },
    {
     "data": {
      "application/vnd.jupyter.widget-view+json": {
       "model_id": "",
       "version_major": 2,
       "version_minor": 0
      },
      "text/plain": [
       "solo_L3_eui-hrieuv174-image_20220302T132800284_V02.jp2:   0%|          | 0.00/1.27M [00:00<?, ?B/s]"
      ]
     },
     "metadata": {},
     "output_type": "display_data"
    },
    {
     "data": {
      "application/vnd.jupyter.widget-view+json": {
       "model_id": "",
       "version_major": 2,
       "version_minor": 0
      },
      "text/plain": [
       "solo_L3_eui-hrieuv174-image_20220302T133000285_V02.jp2:   0%|          | 0.00/1.27M [00:00<?, ?B/s]"
      ]
     },
     "metadata": {},
     "output_type": "display_data"
    },
    {
     "data": {
      "application/vnd.jupyter.widget-view+json": {
       "model_id": "",
       "version_major": 2,
       "version_minor": 0
      },
      "text/plain": [
       "solo_L3_eui-hrieuv174-image_20220302T133200285_V02.jp2:   0%|          | 0.00/1.27M [00:00<?, ?B/s]"
      ]
     },
     "metadata": {},
     "output_type": "display_data"
    },
    {
     "data": {
      "application/vnd.jupyter.widget-view+json": {
       "model_id": "",
       "version_major": 2,
       "version_minor": 0
      },
      "text/plain": [
       "solo_L3_eui-hrieuv174-image_20220302T133400285_V02.jp2:   0%|          | 0.00/1.27M [00:00<?, ?B/s]"
      ]
     },
     "metadata": {},
     "output_type": "display_data"
    },
    {
     "data": {
      "application/vnd.jupyter.widget-view+json": {
       "model_id": "",
       "version_major": 2,
       "version_minor": 0
      },
      "text/plain": [
       "solo_L3_eui-hrieuv174-image_20220302T133600286_V02.jp2:   0%|          | 0.00/1.27M [00:00<?, ?B/s]"
      ]
     },
     "metadata": {},
     "output_type": "display_data"
    },
    {
     "data": {
      "application/vnd.jupyter.widget-view+json": {
       "model_id": "",
       "version_major": 2,
       "version_minor": 0
      },
      "text/plain": [
       "solo_L3_eui-hrieuv174-image_20220302T133800311_V02.jp2:   0%|          | 0.00/1.27M [00:00<?, ?B/s]"
      ]
     },
     "metadata": {},
     "output_type": "display_data"
    },
    {
     "data": {
      "application/vnd.jupyter.widget-view+json": {
       "model_id": "",
       "version_major": 2,
       "version_minor": 0
      },
      "text/plain": [
       "solo_L3_eui-hrieuv174-image_20220302T134000285_V02.jp2:   0%|          | 0.00/1.27M [00:00<?, ?B/s]"
      ]
     },
     "metadata": {},
     "output_type": "display_data"
    },
    {
     "data": {
      "application/vnd.jupyter.widget-view+json": {
       "model_id": "",
       "version_major": 2,
       "version_minor": 0
      },
      "text/plain": [
       "solo_L3_eui-hrieuv174-image_20220302T134400286_V02.jp2:   0%|          | 0.00/1.27M [00:00<?, ?B/s]"
      ]
     },
     "metadata": {},
     "output_type": "display_data"
    },
    {
     "data": {
      "application/vnd.jupyter.widget-view+json": {
       "model_id": "",
       "version_major": 2,
       "version_minor": 0
      },
      "text/plain": [
       "solo_L3_eui-hrieuv174-image_20220302T134200285_V02.jp2:   0%|          | 0.00/1.27M [00:00<?, ?B/s]"
      ]
     },
     "metadata": {},
     "output_type": "display_data"
    },
    {
     "data": {
      "application/vnd.jupyter.widget-view+json": {
       "model_id": "",
       "version_major": 2,
       "version_minor": 0
      },
      "text/plain": [
       "solo_L3_eui-hrieuv174-image_20220302T134600286_V02.jp2:   0%|          | 0.00/1.27M [00:00<?, ?B/s]"
      ]
     },
     "metadata": {},
     "output_type": "display_data"
    },
    {
     "data": {
      "application/vnd.jupyter.widget-view+json": {
       "model_id": "",
       "version_major": 2,
       "version_minor": 0
      },
      "text/plain": [
       "solo_L3_eui-hrieuv174-image_20220302T134800286_V02.jp2:   0%|          | 0.00/1.27M [00:00<?, ?B/s]"
      ]
     },
     "metadata": {},
     "output_type": "display_data"
    },
    {
     "data": {
      "application/vnd.jupyter.widget-view+json": {
       "model_id": "",
       "version_major": 2,
       "version_minor": 0
      },
      "text/plain": [
       "solo_L3_eui-hrieuv174-image_20220302T135000287_V02.jp2:   0%|          | 0.00/1.27M [00:00<?, ?B/s]"
      ]
     },
     "metadata": {},
     "output_type": "display_data"
    },
    {
     "data": {
      "application/vnd.jupyter.widget-view+json": {
       "model_id": "",
       "version_major": 2,
       "version_minor": 0
      },
      "text/plain": [
       "solo_L3_eui-hrieuv174-image_20220302T135200289_V02.jp2:   0%|          | 0.00/1.27M [00:00<?, ?B/s]"
      ]
     },
     "metadata": {},
     "output_type": "display_data"
    },
    {
     "data": {
      "application/vnd.jupyter.widget-view+json": {
       "model_id": "",
       "version_major": 2,
       "version_minor": 0
      },
      "text/plain": [
       "solo_L3_eui-hrieuv174-image_20220302T135400287_V02.jp2:   0%|          | 0.00/1.27M [00:00<?, ?B/s]"
      ]
     },
     "metadata": {},
     "output_type": "display_data"
    },
    {
     "data": {
      "application/vnd.jupyter.widget-view+json": {
       "model_id": "",
       "version_major": 2,
       "version_minor": 0
      },
      "text/plain": [
       "solo_L3_eui-hrieuv174-image_20220302T135600288_V02.jp2:   0%|          | 0.00/1.27M [00:00<?, ?B/s]"
      ]
     },
     "metadata": {},
     "output_type": "display_data"
    },
    {
     "data": {
      "application/vnd.jupyter.widget-view+json": {
       "model_id": "",
       "version_major": 2,
       "version_minor": 0
      },
      "text/plain": [
       "solo_L3_eui-hrieuv174-image_20220302T135800288_V02.jp2:   0%|          | 0.00/1.27M [00:00<?, ?B/s]"
      ]
     },
     "metadata": {},
     "output_type": "display_data"
    },
    {
     "data": {
      "application/vnd.jupyter.widget-view+json": {
       "model_id": "",
       "version_major": 2,
       "version_minor": 0
      },
      "text/plain": [
       "solo_L3_eui-hrieuv174-image_20220302T140000288_V02.jp2:   0%|          | 0.00/1.27M [00:00<?, ?B/s]"
      ]
     },
     "metadata": {},
     "output_type": "display_data"
    },
    {
     "data": {
      "application/vnd.jupyter.widget-view+json": {
       "model_id": "",
       "version_major": 2,
       "version_minor": 0
      },
      "text/plain": [
       "solo_L3_eui-hrieuv174-image_20220302T140200288_V02.jp2:   0%|          | 0.00/1.27M [00:00<?, ?B/s]"
      ]
     },
     "metadata": {},
     "output_type": "display_data"
    },
    {
     "data": {
      "application/vnd.jupyter.widget-view+json": {
       "model_id": "",
       "version_major": 2,
       "version_minor": 0
      },
      "text/plain": [
       "solo_L3_eui-hrieuv174-image_20220302T140400288_V02.jp2:   0%|          | 0.00/1.27M [00:00<?, ?B/s]"
      ]
     },
     "metadata": {},
     "output_type": "display_data"
    },
    {
     "data": {
      "application/vnd.jupyter.widget-view+json": {
       "model_id": "",
       "version_major": 2,
       "version_minor": 0
      },
      "text/plain": [
       "solo_L3_eui-hrieuv174-image_20220302T140600288_V02.jp2:   0%|          | 0.00/1.27M [00:00<?, ?B/s]"
      ]
     },
     "metadata": {},
     "output_type": "display_data"
    },
    {
     "data": {
      "application/vnd.jupyter.widget-view+json": {
       "model_id": "",
       "version_major": 2,
       "version_minor": 0
      },
      "text/plain": [
       "solo_L3_eui-hrieuv174-image_20220302T141000289_V02.jp2:   0%|          | 0.00/1.27M [00:00<?, ?B/s]"
      ]
     },
     "metadata": {},
     "output_type": "display_data"
    },
    {
     "data": {
      "application/vnd.jupyter.widget-view+json": {
       "model_id": "",
       "version_major": 2,
       "version_minor": 0
      },
      "text/plain": [
       "solo_L3_eui-hrieuv174-image_20220302T140800289_V02.jp2:   0%|          | 0.00/1.27M [00:00<?, ?B/s]"
      ]
     },
     "metadata": {},
     "output_type": "display_data"
    },
    {
     "data": {
      "application/vnd.jupyter.widget-view+json": {
       "model_id": "",
       "version_major": 2,
       "version_minor": 0
      },
      "text/plain": [
       "solo_L3_eui-hrieuv174-image_20220302T141200287_V02.jp2:   0%|          | 0.00/1.27M [00:00<?, ?B/s]"
      ]
     },
     "metadata": {},
     "output_type": "display_data"
    },
    {
     "data": {
      "application/vnd.jupyter.widget-view+json": {
       "model_id": "",
       "version_major": 2,
       "version_minor": 0
      },
      "text/plain": [
       "solo_L3_eui-hrieuv174-image_20220302T141600290_V02.jp2:   0%|          | 0.00/1.27M [00:00<?, ?B/s]"
      ]
     },
     "metadata": {},
     "output_type": "display_data"
    },
    {
     "data": {
      "application/vnd.jupyter.widget-view+json": {
       "model_id": "",
       "version_major": 2,
       "version_minor": 0
      },
      "text/plain": [
       "solo_L3_eui-hrieuv174-image_20220302T141800290_V02.jp2:   0%|          | 0.00/1.27M [00:00<?, ?B/s]"
      ]
     },
     "metadata": {},
     "output_type": "display_data"
    },
    {
     "data": {
      "application/vnd.jupyter.widget-view+json": {
       "model_id": "",
       "version_major": 2,
       "version_minor": 0
      },
      "text/plain": [
       "solo_L3_eui-hrieuv174-image_20220302T141400289_V02.jp2:   0%|          | 0.00/1.27M [00:00<?, ?B/s]"
      ]
     },
     "metadata": {},
     "output_type": "display_data"
    },
    {
     "data": {
      "application/vnd.jupyter.widget-view+json": {
       "model_id": "",
       "version_major": 2,
       "version_minor": 0
      },
      "text/plain": [
       "solo_L3_eui-hrieuv174-image_20220302T142000290_V02.jp2:   0%|          | 0.00/1.27M [00:00<?, ?B/s]"
      ]
     },
     "metadata": {},
     "output_type": "display_data"
    },
    {
     "data": {
      "application/vnd.jupyter.widget-view+json": {
       "model_id": "",
       "version_major": 2,
       "version_minor": 0
      },
      "text/plain": [
       "solo_L3_eui-hrieuv174-image_20220302T142200290_V02.jp2:   0%|          | 0.00/1.27M [00:00<?, ?B/s]"
      ]
     },
     "metadata": {},
     "output_type": "display_data"
    },
    {
     "data": {
      "application/vnd.jupyter.widget-view+json": {
       "model_id": "",
       "version_major": 2,
       "version_minor": 0
      },
      "text/plain": [
       "solo_L3_eui-hrieuv174-image_20220302T142400290_V02.jp2:   0%|          | 0.00/1.27M [00:00<?, ?B/s]"
      ]
     },
     "metadata": {},
     "output_type": "display_data"
    },
    {
     "data": {
      "application/vnd.jupyter.widget-view+json": {
       "model_id": "",
       "version_major": 2,
       "version_minor": 0
      },
      "text/plain": [
       "solo_L3_eui-hrieuv174-image_20220302T142600291_V02.jp2:   0%|          | 0.00/1.27M [00:00<?, ?B/s]"
      ]
     },
     "metadata": {},
     "output_type": "display_data"
    },
    {
     "data": {
      "application/vnd.jupyter.widget-view+json": {
       "model_id": "",
       "version_major": 2,
       "version_minor": 0
      },
      "text/plain": [
       "solo_L3_eui-hrieuv174-image_20220302T142800291_V02.jp2:   0%|          | 0.00/1.27M [00:00<?, ?B/s]"
      ]
     },
     "metadata": {},
     "output_type": "display_data"
    },
    {
     "data": {
      "application/vnd.jupyter.widget-view+json": {
       "model_id": "",
       "version_major": 2,
       "version_minor": 0
      },
      "text/plain": [
       "solo_L3_eui-hrieuv174-image_20220302T143000290_V02.jp2:   0%|          | 0.00/1.27M [00:00<?, ?B/s]"
      ]
     },
     "metadata": {},
     "output_type": "display_data"
    },
    {
     "data": {
      "application/vnd.jupyter.widget-view+json": {
       "model_id": "",
       "version_major": 2,
       "version_minor": 0
      },
      "text/plain": [
       "solo_L3_eui-hrieuv174-image_20220302T143200291_V02.jp2:   0%|          | 0.00/1.27M [00:00<?, ?B/s]"
      ]
     },
     "metadata": {},
     "output_type": "display_data"
    },
    {
     "data": {
      "application/vnd.jupyter.widget-view+json": {
       "model_id": "",
       "version_major": 2,
       "version_minor": 0
      },
      "text/plain": [
       "solo_L3_eui-hrieuv174-image_20220302T143400292_V02.jp2:   0%|          | 0.00/1.27M [00:00<?, ?B/s]"
      ]
     },
     "metadata": {},
     "output_type": "display_data"
    },
    {
     "data": {
      "application/vnd.jupyter.widget-view+json": {
       "model_id": "",
       "version_major": 2,
       "version_minor": 0
      },
      "text/plain": [
       "solo_L3_eui-hrieuv174-image_20220302T143600292_V02.jp2:   0%|          | 0.00/1.27M [00:00<?, ?B/s]"
      ]
     },
     "metadata": {},
     "output_type": "display_data"
    },
    {
     "data": {
      "application/vnd.jupyter.widget-view+json": {
       "model_id": "",
       "version_major": 2,
       "version_minor": 0
      },
      "text/plain": [
       "solo_L3_eui-hrieuv174-image_20220302T143800292_V02.jp2:   0%|          | 0.00/1.27M [00:00<?, ?B/s]"
      ]
     },
     "metadata": {},
     "output_type": "display_data"
    },
    {
     "data": {
      "application/vnd.jupyter.widget-view+json": {
       "model_id": "",
       "version_major": 2,
       "version_minor": 0
      },
      "text/plain": [
       "solo_L3_eui-hrieuv174-image_20220302T144000292_V02.jp2:   0%|          | 0.00/1.27M [00:00<?, ?B/s]"
      ]
     },
     "metadata": {},
     "output_type": "display_data"
    },
    {
     "data": {
      "application/vnd.jupyter.widget-view+json": {
       "model_id": "",
       "version_major": 2,
       "version_minor": 0
      },
      "text/plain": [
       "solo_L3_eui-hrieuv174-image_20220302T144200292_V02.jp2:   0%|          | 0.00/1.27M [00:00<?, ?B/s]"
      ]
     },
     "metadata": {},
     "output_type": "display_data"
    },
    {
     "data": {
      "application/vnd.jupyter.widget-view+json": {
       "model_id": "",
       "version_major": 2,
       "version_minor": 0
      },
      "text/plain": [
       "solo_L3_eui-hrieuv174-image_20220302T144400293_V02.jp2:   0%|          | 0.00/1.27M [00:00<?, ?B/s]"
      ]
     },
     "metadata": {},
     "output_type": "display_data"
    },
    {
     "data": {
      "application/vnd.jupyter.widget-view+json": {
       "model_id": "",
       "version_major": 2,
       "version_minor": 0
      },
      "text/plain": [
       "solo_L3_eui-hrieuv174-image_20220302T144600292_V02.jp2:   0%|          | 0.00/1.27M [00:00<?, ?B/s]"
      ]
     },
     "metadata": {},
     "output_type": "display_data"
    },
    {
     "data": {
      "application/vnd.jupyter.widget-view+json": {
       "model_id": "",
       "version_major": 2,
       "version_minor": 0
      },
      "text/plain": [
       "solo_L3_eui-hrieuv174-image_20220302T144800293_V02.jp2:   0%|          | 0.00/1.27M [00:00<?, ?B/s]"
      ]
     },
     "metadata": {},
     "output_type": "display_data"
    },
    {
     "data": {
      "application/vnd.jupyter.widget-view+json": {
       "model_id": "",
       "version_major": 2,
       "version_minor": 0
      },
      "text/plain": [
       "solo_L3_eui-hrieuv174-image_20220302T145000293_V02.jp2:   0%|          | 0.00/1.27M [00:00<?, ?B/s]"
      ]
     },
     "metadata": {},
     "output_type": "display_data"
    },
    {
     "data": {
      "application/vnd.jupyter.widget-view+json": {
       "model_id": "",
       "version_major": 2,
       "version_minor": 0
      },
      "text/plain": [
       "solo_L3_eui-hrieuv174-image_20220302T145400294_V02.jp2:   0%|          | 0.00/1.27M [00:00<?, ?B/s]"
      ]
     },
     "metadata": {},
     "output_type": "display_data"
    },
    {
     "data": {
      "application/vnd.jupyter.widget-view+json": {
       "model_id": "",
       "version_major": 2,
       "version_minor": 0
      },
      "text/plain": [
       "solo_L3_eui-hrieuv174-image_20220302T145600294_V02.jp2:   0%|          | 0.00/1.27M [00:00<?, ?B/s]"
      ]
     },
     "metadata": {},
     "output_type": "display_data"
    },
    {
     "data": {
      "application/vnd.jupyter.widget-view+json": {
       "model_id": "",
       "version_major": 2,
       "version_minor": 0
      },
      "text/plain": [
       "solo_L3_eui-hrieuv174-image_20220302T145800294_V02.jp2:   0%|          | 0.00/1.27M [00:00<?, ?B/s]"
      ]
     },
     "metadata": {},
     "output_type": "display_data"
    },
    {
     "data": {
      "application/vnd.jupyter.widget-view+json": {
       "model_id": "",
       "version_major": 2,
       "version_minor": 0
      },
      "text/plain": [
       "solo_L3_eui-hrieuv174-image_20220302T145200293_V02.jp2:   0%|          | 0.00/1.27M [00:00<?, ?B/s]"
      ]
     },
     "metadata": {},
     "output_type": "display_data"
    },
    {
     "data": {
      "application/vnd.jupyter.widget-view+json": {
       "model_id": "",
       "version_major": 2,
       "version_minor": 0
      },
      "text/plain": [
       "solo_L3_eui-hrieuv174-image_20220302T150000294_V02.jp2:   0%|          | 0.00/1.27M [00:00<?, ?B/s]"
      ]
     },
     "metadata": {},
     "output_type": "display_data"
    },
    {
     "data": {
      "application/vnd.jupyter.widget-view+json": {
       "model_id": "",
       "version_major": 2,
       "version_minor": 0
      },
      "text/plain": [
       "solo_L3_eui-hrieuv174-image_20220302T150200294_V02.jp2:   0%|          | 0.00/1.27M [00:00<?, ?B/s]"
      ]
     },
     "metadata": {},
     "output_type": "display_data"
    },
    {
     "data": {
      "application/vnd.jupyter.widget-view+json": {
       "model_id": "",
       "version_major": 2,
       "version_minor": 0
      },
      "text/plain": [
       "solo_L3_eui-hrieuv174-image_20220302T150400293_V02.jp2:   0%|          | 0.00/1.27M [00:00<?, ?B/s]"
      ]
     },
     "metadata": {},
     "output_type": "display_data"
    },
    {
     "data": {
      "application/vnd.jupyter.widget-view+json": {
       "model_id": "",
       "version_major": 2,
       "version_minor": 0
      },
      "text/plain": [
       "solo_L3_eui-hrieuv174-image_20220302T150600295_V02.jp2:   0%|          | 0.00/1.27M [00:00<?, ?B/s]"
      ]
     },
     "metadata": {},
     "output_type": "display_data"
    },
    {
     "data": {
      "application/vnd.jupyter.widget-view+json": {
       "model_id": "",
       "version_major": 2,
       "version_minor": 0
      },
      "text/plain": [
       "solo_L3_eui-hrieuv174-image_20220302T150800294_V02.jp2:   0%|          | 0.00/1.27M [00:00<?, ?B/s]"
      ]
     },
     "metadata": {},
     "output_type": "display_data"
    },
    {
     "data": {
      "application/vnd.jupyter.widget-view+json": {
       "model_id": "",
       "version_major": 2,
       "version_minor": 0
      },
      "text/plain": [
       "solo_L3_eui-hrieuv174-image_20220302T151000296_V02.jp2:   0%|          | 0.00/1.27M [00:00<?, ?B/s]"
      ]
     },
     "metadata": {},
     "output_type": "display_data"
    },
    {
     "data": {
      "application/vnd.jupyter.widget-view+json": {
       "model_id": "",
       "version_major": 2,
       "version_minor": 0
      },
      "text/plain": [
       "solo_L3_eui-hrieuv174-image_20220302T151200296_V02.jp2:   0%|          | 0.00/1.27M [00:00<?, ?B/s]"
      ]
     },
     "metadata": {},
     "output_type": "display_data"
    },
    {
     "data": {
      "application/vnd.jupyter.widget-view+json": {
       "model_id": "",
       "version_major": 2,
       "version_minor": 0
      },
      "text/plain": [
       "solo_L3_eui-hrieuv174-image_20220302T151600296_V02.jp2:   0%|          | 0.00/1.27M [00:00<?, ?B/s]"
      ]
     },
     "metadata": {},
     "output_type": "display_data"
    },
    {
     "data": {
      "application/vnd.jupyter.widget-view+json": {
       "model_id": "",
       "version_major": 2,
       "version_minor": 0
      },
      "text/plain": [
       "solo_L3_eui-hrieuv174-image_20220302T151400296_V02.jp2:   0%|          | 0.00/1.27M [00:00<?, ?B/s]"
      ]
     },
     "metadata": {},
     "output_type": "display_data"
    },
    {
     "data": {
      "application/vnd.jupyter.widget-view+json": {
       "model_id": "",
       "version_major": 2,
       "version_minor": 0
      },
      "text/plain": [
       "solo_L3_eui-hrieuv174-image_20220302T152000295_V02.jp2:   0%|          | 0.00/1.27M [00:00<?, ?B/s]"
      ]
     },
     "metadata": {},
     "output_type": "display_data"
    },
    {
     "data": {
      "application/vnd.jupyter.widget-view+json": {
       "model_id": "",
       "version_major": 2,
       "version_minor": 0
      },
      "text/plain": [
       "solo_L3_eui-hrieuv174-image_20220302T152200296_V02.jp2:   0%|          | 0.00/1.27M [00:00<?, ?B/s]"
      ]
     },
     "metadata": {},
     "output_type": "display_data"
    },
    {
     "data": {
      "application/vnd.jupyter.widget-view+json": {
       "model_id": "",
       "version_major": 2,
       "version_minor": 0
      },
      "text/plain": [
       "solo_L3_eui-hrieuv174-image_20220302T151800296_V02.jp2:   0%|          | 0.00/1.27M [00:00<?, ?B/s]"
      ]
     },
     "metadata": {},
     "output_type": "display_data"
    },
    {
     "data": {
      "application/vnd.jupyter.widget-view+json": {
       "model_id": "",
       "version_major": 2,
       "version_minor": 0
      },
      "text/plain": [
       "solo_L3_eui-hrieuv174-image_20220302T152400297_V02.jp2:   0%|          | 0.00/1.27M [00:00<?, ?B/s]"
      ]
     },
     "metadata": {},
     "output_type": "display_data"
    },
    {
     "data": {
      "application/vnd.jupyter.widget-view+json": {
       "model_id": "",
       "version_major": 2,
       "version_minor": 0
      },
      "text/plain": [
       "solo_L3_eui-hrieuv174-image_20220302T153200299_V02.jp2:   0%|          | 0.00/1.27M [00:00<?, ?B/s]"
      ]
     },
     "metadata": {},
     "output_type": "display_data"
    },
    {
     "data": {
      "application/vnd.jupyter.widget-view+json": {
       "model_id": "",
       "version_major": 2,
       "version_minor": 0
      },
      "text/plain": [
       "solo_L3_eui-hrieuv174-image_20220302T152800297_V02.jp2:   0%|          | 0.00/1.27M [00:00<?, ?B/s]"
      ]
     },
     "metadata": {},
     "output_type": "display_data"
    },
    {
     "data": {
      "application/vnd.jupyter.widget-view+json": {
       "model_id": "",
       "version_major": 2,
       "version_minor": 0
      },
      "text/plain": [
       "solo_L3_eui-hrieuv174-image_20220302T152600297_V02.jp2:   0%|          | 0.00/1.27M [00:00<?, ?B/s]"
      ]
     },
     "metadata": {},
     "output_type": "display_data"
    },
    {
     "data": {
      "application/vnd.jupyter.widget-view+json": {
       "model_id": "",
       "version_major": 2,
       "version_minor": 0
      },
      "text/plain": [
       "solo_L3_eui-hrieuv174-image_20220302T153000298_V02.jp2:   0%|          | 0.00/1.27M [00:00<?, ?B/s]"
      ]
     },
     "metadata": {},
     "output_type": "display_data"
    },
    {
     "data": {
      "application/vnd.jupyter.widget-view+json": {
       "model_id": "",
       "version_major": 2,
       "version_minor": 0
      },
      "text/plain": [
       "solo_L3_eui-hrieuv174-image_20220302T153400298_V02.jp2:   0%|          | 0.00/1.27M [00:00<?, ?B/s]"
      ]
     },
     "metadata": {},
     "output_type": "display_data"
    },
    {
     "data": {
      "application/vnd.jupyter.widget-view+json": {
       "model_id": "",
       "version_major": 2,
       "version_minor": 0
      },
      "text/plain": [
       "solo_L3_eui-hrieuv174-image_20220302T153600318_V02.jp2:   0%|          | 0.00/1.27M [00:00<?, ?B/s]"
      ]
     },
     "metadata": {},
     "output_type": "display_data"
    },
    {
     "data": {
      "application/vnd.jupyter.widget-view+json": {
       "model_id": "",
       "version_major": 2,
       "version_minor": 0
      },
      "text/plain": [
       "solo_L3_eui-hrieuv174-image_20220302T153800298_V02.jp2:   0%|          | 0.00/1.27M [00:00<?, ?B/s]"
      ]
     },
     "metadata": {},
     "output_type": "display_data"
    },
    {
     "data": {
      "application/vnd.jupyter.widget-view+json": {
       "model_id": "",
       "version_major": 2,
       "version_minor": 0
      },
      "text/plain": [
       "solo_L3_eui-hrieuv174-image_20220302T154000299_V02.jp2:   0%|          | 0.00/1.27M [00:00<?, ?B/s]"
      ]
     },
     "metadata": {},
     "output_type": "display_data"
    },
    {
     "data": {
      "application/vnd.jupyter.widget-view+json": {
       "model_id": "",
       "version_major": 2,
       "version_minor": 0
      },
      "text/plain": [
       "solo_L3_eui-hrieuv174-image_20220302T154200298_V02.jp2:   0%|          | 0.00/1.27M [00:00<?, ?B/s]"
      ]
     },
     "metadata": {},
     "output_type": "display_data"
    },
    {
     "data": {
      "application/vnd.jupyter.widget-view+json": {
       "model_id": "",
       "version_major": 2,
       "version_minor": 0
      },
      "text/plain": [
       "solo_L3_eui-hrieuv174-image_20220302T154400299_V02.jp2:   0%|          | 0.00/1.27M [00:00<?, ?B/s]"
      ]
     },
     "metadata": {},
     "output_type": "display_data"
    },
    {
     "data": {
      "application/vnd.jupyter.widget-view+json": {
       "model_id": "",
       "version_major": 2,
       "version_minor": 0
      },
      "text/plain": [
       "solo_L3_eui-hrieuv174-image_20220302T154600299_V02.jp2:   0%|          | 0.00/1.27M [00:00<?, ?B/s]"
      ]
     },
     "metadata": {},
     "output_type": "display_data"
    },
    {
     "data": {
      "application/vnd.jupyter.widget-view+json": {
       "model_id": "",
       "version_major": 2,
       "version_minor": 0
      },
      "text/plain": [
       "solo_L3_eui-hrieuv174-image_20220302T154800299_V02.jp2:   0%|          | 0.00/1.27M [00:00<?, ?B/s]"
      ]
     },
     "metadata": {},
     "output_type": "display_data"
    },
    {
     "data": {
      "application/vnd.jupyter.widget-view+json": {
       "model_id": "",
       "version_major": 2,
       "version_minor": 0
      },
      "text/plain": [
       "solo_L3_eui-hrieuv174-image_20220302T155000300_V02.jp2:   0%|          | 0.00/1.27M [00:00<?, ?B/s]"
      ]
     },
     "metadata": {},
     "output_type": "display_data"
    },
    {
     "data": {
      "application/vnd.jupyter.widget-view+json": {
       "model_id": "",
       "version_major": 2,
       "version_minor": 0
      },
      "text/plain": [
       "solo_L3_eui-hrieuv174-image_20220302T155200300_V02.jp2:   0%|          | 0.00/1.27M [00:00<?, ?B/s]"
      ]
     },
     "metadata": {},
     "output_type": "display_data"
    },
    {
     "data": {
      "application/vnd.jupyter.widget-view+json": {
       "model_id": "",
       "version_major": 2,
       "version_minor": 0
      },
      "text/plain": [
       "solo_L3_eui-hrieuv174-image_20220302T155400300_V02.jp2:   0%|          | 0.00/1.27M [00:00<?, ?B/s]"
      ]
     },
     "metadata": {},
     "output_type": "display_data"
    },
    {
     "data": {
      "application/vnd.jupyter.widget-view+json": {
       "model_id": "",
       "version_major": 2,
       "version_minor": 0
      },
      "text/plain": [
       "solo_L3_eui-hrieuv174-image_20220302T155600300_V02.jp2:   0%|          | 0.00/1.27M [00:00<?, ?B/s]"
      ]
     },
     "metadata": {},
     "output_type": "display_data"
    },
    {
     "data": {
      "application/vnd.jupyter.widget-view+json": {
       "model_id": "",
       "version_major": 2,
       "version_minor": 0
      },
      "text/plain": [
       "solo_L3_eui-hrieuv174-image_20220302T155800300_V02.jp2:   0%|          | 0.00/1.27M [00:00<?, ?B/s]"
      ]
     },
     "metadata": {},
     "output_type": "display_data"
    },
    {
     "data": {
      "application/vnd.jupyter.widget-view+json": {
       "model_id": "",
       "version_major": 2,
       "version_minor": 0
      },
      "text/plain": [
       "solo_L3_eui-hrieuv174-image_20220302T160000300_V02.jp2:   0%|          | 0.00/1.27M [00:00<?, ?B/s]"
      ]
     },
     "metadata": {},
     "output_type": "display_data"
    },
    {
     "data": {
      "application/vnd.jupyter.widget-view+json": {
       "model_id": "",
       "version_major": 2,
       "version_minor": 0
      },
      "text/plain": [
       "solo_L3_eui-hrieuv174-image_20220302T160200301_V02.jp2:   0%|          | 0.00/1.27M [00:00<?, ?B/s]"
      ]
     },
     "metadata": {},
     "output_type": "display_data"
    },
    {
     "data": {
      "application/vnd.jupyter.widget-view+json": {
       "model_id": "",
       "version_major": 2,
       "version_minor": 0
      },
      "text/plain": [
       "solo_L3_eui-hrieuv174-image_20220302T160400301_V02.jp2:   0%|          | 0.00/1.27M [00:00<?, ?B/s]"
      ]
     },
     "metadata": {},
     "output_type": "display_data"
    },
    {
     "data": {
      "application/vnd.jupyter.widget-view+json": {
       "model_id": "",
       "version_major": 2,
       "version_minor": 0
      },
      "text/plain": [
       "solo_L3_eui-hrieuv174-image_20220302T160600301_V02.jp2:   0%|          | 0.00/1.27M [00:00<?, ?B/s]"
      ]
     },
     "metadata": {},
     "output_type": "display_data"
    },
    {
     "data": {
      "application/vnd.jupyter.widget-view+json": {
       "model_id": "",
       "version_major": 2,
       "version_minor": 0
      },
      "text/plain": [
       "solo_L3_eui-hrieuv174-image_20220302T161200302_V02.jp2:   0%|          | 0.00/1.27M [00:00<?, ?B/s]"
      ]
     },
     "metadata": {},
     "output_type": "display_data"
    },
    {
     "data": {
      "application/vnd.jupyter.widget-view+json": {
       "model_id": "",
       "version_major": 2,
       "version_minor": 0
      },
      "text/plain": [
       "solo_L3_eui-hrieuv174-image_20220302T160800302_V02.jp2:   0%|          | 0.00/1.27M [00:00<?, ?B/s]"
      ]
     },
     "metadata": {},
     "output_type": "display_data"
    },
    {
     "data": {
      "application/vnd.jupyter.widget-view+json": {
       "model_id": "",
       "version_major": 2,
       "version_minor": 0
      },
      "text/plain": [
       "solo_L3_eui-hrieuv174-image_20220302T161000301_V02.jp2:   0%|          | 0.00/1.27M [00:00<?, ?B/s]"
      ]
     },
     "metadata": {},
     "output_type": "display_data"
    },
    {
     "data": {
      "application/vnd.jupyter.widget-view+json": {
       "model_id": "",
       "version_major": 2,
       "version_minor": 0
      },
      "text/plain": [
       "solo_L3_eui-hrieuv174-image_20220302T161600302_V02.jp2:   0%|          | 0.00/1.27M [00:00<?, ?B/s]"
      ]
     },
     "metadata": {},
     "output_type": "display_data"
    },
    {
     "data": {
      "application/vnd.jupyter.widget-view+json": {
       "model_id": "",
       "version_major": 2,
       "version_minor": 0
      },
      "text/plain": [
       "solo_L3_eui-hrieuv174-image_20220302T161400302_V02.jp2:   0%|          | 0.00/1.27M [00:00<?, ?B/s]"
      ]
     },
     "metadata": {},
     "output_type": "display_data"
    },
    {
     "data": {
      "application/vnd.jupyter.widget-view+json": {
       "model_id": "",
       "version_major": 2,
       "version_minor": 0
      },
      "text/plain": [
       "solo_L3_eui-hrieuv174-image_20220302T162200303_V02.jp2:   0%|          | 0.00/1.27M [00:00<?, ?B/s]"
      ]
     },
     "metadata": {},
     "output_type": "display_data"
    },
    {
     "data": {
      "application/vnd.jupyter.widget-view+json": {
       "model_id": "",
       "version_major": 2,
       "version_minor": 0
      },
      "text/plain": [
       "solo_L3_eui-hrieuv174-image_20220302T161800302_V02.jp2:   0%|          | 0.00/1.27M [00:00<?, ?B/s]"
      ]
     },
     "metadata": {},
     "output_type": "display_data"
    },
    {
     "data": {
      "application/vnd.jupyter.widget-view+json": {
       "model_id": "",
       "version_major": 2,
       "version_minor": 0
      },
      "text/plain": [
       "solo_L3_eui-hrieuv174-image_20220302T162000302_V02.jp2:   0%|          | 0.00/1.27M [00:00<?, ?B/s]"
      ]
     },
     "metadata": {},
     "output_type": "display_data"
    },
    {
     "data": {
      "application/vnd.jupyter.widget-view+json": {
       "model_id": "",
       "version_major": 2,
       "version_minor": 0
      },
      "text/plain": [
       "solo_L3_eui-hrieuv174-image_20220302T162400303_V02.jp2:   0%|          | 0.00/1.27M [00:00<?, ?B/s]"
      ]
     },
     "metadata": {},
     "output_type": "display_data"
    },
    {
     "data": {
      "application/vnd.jupyter.widget-view+json": {
       "model_id": "",
       "version_major": 2,
       "version_minor": 0
      },
      "text/plain": [
       "solo_L3_eui-hrieuv174-image_20220302T162600305_V02.jp2:   0%|          | 0.00/1.27M [00:00<?, ?B/s]"
      ]
     },
     "metadata": {},
     "output_type": "display_data"
    },
    {
     "data": {
      "application/vnd.jupyter.widget-view+json": {
       "model_id": "",
       "version_major": 2,
       "version_minor": 0
      },
      "text/plain": [
       "solo_L3_eui-hrieuv174-image_20220302T162800303_V02.jp2:   0%|          | 0.00/1.27M [00:00<?, ?B/s]"
      ]
     },
     "metadata": {},
     "output_type": "display_data"
    },
    {
     "data": {
      "application/vnd.jupyter.widget-view+json": {
       "model_id": "",
       "version_major": 2,
       "version_minor": 0
      },
      "text/plain": [
       "solo_L3_eui-hrieuv174-image_20220302T163000304_V02.jp2:   0%|          | 0.00/1.27M [00:00<?, ?B/s]"
      ]
     },
     "metadata": {},
     "output_type": "display_data"
    },
    {
     "data": {
      "application/vnd.jupyter.widget-view+json": {
       "model_id": "",
       "version_major": 2,
       "version_minor": 0
      },
      "text/plain": [
       "solo_L3_eui-hrieuv174-image_20220302T163200304_V02.jp2:   0%|          | 0.00/1.27M [00:00<?, ?B/s]"
      ]
     },
     "metadata": {},
     "output_type": "display_data"
    },
    {
     "data": {
      "application/vnd.jupyter.widget-view+json": {
       "model_id": "",
       "version_major": 2,
       "version_minor": 0
      },
      "text/plain": [
       "solo_L3_eui-hrieuv174-image_20220302T163400304_V02.jp2:   0%|          | 0.00/1.27M [00:00<?, ?B/s]"
      ]
     },
     "metadata": {},
     "output_type": "display_data"
    },
    {
     "data": {
      "application/vnd.jupyter.widget-view+json": {
       "model_id": "",
       "version_major": 2,
       "version_minor": 0
      },
      "text/plain": [
       "solo_L3_eui-hrieuv174-image_20220302T163600304_V02.jp2:   0%|          | 0.00/1.27M [00:00<?, ?B/s]"
      ]
     },
     "metadata": {},
     "output_type": "display_data"
    },
    {
     "data": {
      "application/vnd.jupyter.widget-view+json": {
       "model_id": "",
       "version_major": 2,
       "version_minor": 0
      },
      "text/plain": [
       "solo_L3_eui-hrieuv174-image_20220302T163800304_V02.jp2:   0%|          | 0.00/1.27M [00:00<?, ?B/s]"
      ]
     },
     "metadata": {},
     "output_type": "display_data"
    },
    {
     "data": {
      "application/vnd.jupyter.widget-view+json": {
       "model_id": "",
       "version_major": 2,
       "version_minor": 0
      },
      "text/plain": [
       "solo_L3_eui-hrieuv174-image_20220302T164000305_V02.jp2:   0%|          | 0.00/1.27M [00:00<?, ?B/s]"
      ]
     },
     "metadata": {},
     "output_type": "display_data"
    },
    {
     "data": {
      "application/vnd.jupyter.widget-view+json": {
       "model_id": "",
       "version_major": 2,
       "version_minor": 0
      },
      "text/plain": [
       "solo_L3_eui-hrieuv174-image_20220302T164200305_V02.jp2:   0%|          | 0.00/1.27M [00:00<?, ?B/s]"
      ]
     },
     "metadata": {},
     "output_type": "display_data"
    },
    {
     "data": {
      "application/vnd.jupyter.widget-view+json": {
       "model_id": "",
       "version_major": 2,
       "version_minor": 0
      },
      "text/plain": [
       "solo_L3_eui-hrieuv174-image_20220302T164600304_V02.jp2:   0%|          | 0.00/1.27M [00:00<?, ?B/s]"
      ]
     },
     "metadata": {},
     "output_type": "display_data"
    },
    {
     "data": {
      "application/vnd.jupyter.widget-view+json": {
       "model_id": "",
       "version_major": 2,
       "version_minor": 0
      },
      "text/plain": [
       "solo_L3_eui-hrieuv174-image_20220302T164800305_V02.jp2:   0%|          | 0.00/1.27M [00:00<?, ?B/s]"
      ]
     },
     "metadata": {},
     "output_type": "display_data"
    },
    {
     "data": {
      "application/vnd.jupyter.widget-view+json": {
       "model_id": "",
       "version_major": 2,
       "version_minor": 0
      },
      "text/plain": [
       "solo_L3_eui-hrieuv174-image_20220302T164400305_V02.jp2:   0%|          | 0.00/1.27M [00:00<?, ?B/s]"
      ]
     },
     "metadata": {},
     "output_type": "display_data"
    },
    {
     "data": {
      "application/vnd.jupyter.widget-view+json": {
       "model_id": "",
       "version_major": 2,
       "version_minor": 0
      },
      "text/plain": [
       "solo_L3_eui-hrieuv174-image_20220302T165000306_V02.jp2:   0%|          | 0.00/1.27M [00:00<?, ?B/s]"
      ]
     },
     "metadata": {},
     "output_type": "display_data"
    },
    {
     "data": {
      "application/vnd.jupyter.widget-view+json": {
       "model_id": "",
       "version_major": 2,
       "version_minor": 0
      },
      "text/plain": [
       "solo_L3_eui-hrieuv174-image_20220302T165200304_V02.jp2:   0%|          | 0.00/1.27M [00:00<?, ?B/s]"
      ]
     },
     "metadata": {},
     "output_type": "display_data"
    },
    {
     "data": {
      "application/vnd.jupyter.widget-view+json": {
       "model_id": "",
       "version_major": 2,
       "version_minor": 0
      },
      "text/plain": [
       "solo_L3_eui-hrieuv174-image_20220302T165400305_V02.jp2:   0%|          | 0.00/1.27M [00:00<?, ?B/s]"
      ]
     },
     "metadata": {},
     "output_type": "display_data"
    },
    {
     "data": {
      "application/vnd.jupyter.widget-view+json": {
       "model_id": "",
       "version_major": 2,
       "version_minor": 0
      },
      "text/plain": [
       "solo_L3_eui-hrieuv174-image_20220302T165600305_V02.jp2:   0%|          | 0.00/1.27M [00:00<?, ?B/s]"
      ]
     },
     "metadata": {},
     "output_type": "display_data"
    },
    {
     "data": {
      "application/vnd.jupyter.widget-view+json": {
       "model_id": "",
       "version_major": 2,
       "version_minor": 0
      },
      "text/plain": [
       "solo_L3_eui-hrieuv174-image_20220302T165800307_V02.jp2:   0%|          | 0.00/1.27M [00:00<?, ?B/s]"
      ]
     },
     "metadata": {},
     "output_type": "display_data"
    },
    {
     "data": {
      "application/vnd.jupyter.widget-view+json": {
       "model_id": "",
       "version_major": 2,
       "version_minor": 0
      },
      "text/plain": [
       "solo_L3_eui-hrieuv174-image_20220302T170000307_V02.jp2:   0%|          | 0.00/1.27M [00:00<?, ?B/s]"
      ]
     },
     "metadata": {},
     "output_type": "display_data"
    },
    {
     "data": {
      "application/vnd.jupyter.widget-view+json": {
       "model_id": "",
       "version_major": 2,
       "version_minor": 0
      },
      "text/plain": [
       "solo_L3_eui-hrieuv174-image_20220302T170200306_V02.jp2:   0%|          | 0.00/1.27M [00:00<?, ?B/s]"
      ]
     },
     "metadata": {},
     "output_type": "display_data"
    },
    {
     "data": {
      "application/vnd.jupyter.widget-view+json": {
       "model_id": "",
       "version_major": 2,
       "version_minor": 0
      },
      "text/plain": [
       "solo_L3_eui-hrieuv174-image_20220302T170400307_V02.jp2:   0%|          | 0.00/1.27M [00:00<?, ?B/s]"
      ]
     },
     "metadata": {},
     "output_type": "display_data"
    },
    {
     "data": {
      "application/vnd.jupyter.widget-view+json": {
       "model_id": "",
       "version_major": 2,
       "version_minor": 0
      },
      "text/plain": [
       "solo_L3_eui-hrieuv174-image_20220302T170600307_V02.jp2:   0%|          | 0.00/1.27M [00:00<?, ?B/s]"
      ]
     },
     "metadata": {},
     "output_type": "display_data"
    },
    {
     "data": {
      "application/vnd.jupyter.widget-view+json": {
       "model_id": "",
       "version_major": 2,
       "version_minor": 0
      },
      "text/plain": [
       "solo_L3_eui-hrieuv174-image_20220302T170800308_V02.jp2:   0%|          | 0.00/1.27M [00:00<?, ?B/s]"
      ]
     },
     "metadata": {},
     "output_type": "display_data"
    },
    {
     "data": {
      "application/vnd.jupyter.widget-view+json": {
       "model_id": "",
       "version_major": 2,
       "version_minor": 0
      },
      "text/plain": [
       "solo_L3_eui-hrieuv174-image_20220302T171000308_V02.jp2:   0%|          | 0.00/1.27M [00:00<?, ?B/s]"
      ]
     },
     "metadata": {},
     "output_type": "display_data"
    },
    {
     "data": {
      "application/vnd.jupyter.widget-view+json": {
       "model_id": "",
       "version_major": 2,
       "version_minor": 0
      },
      "text/plain": [
       "solo_L3_eui-hrieuv174-image_20220302T171200310_V02.jp2:   0%|          | 0.00/1.27M [00:00<?, ?B/s]"
      ]
     },
     "metadata": {},
     "output_type": "display_data"
    },
    {
     "data": {
      "application/vnd.jupyter.widget-view+json": {
       "model_id": "",
       "version_major": 2,
       "version_minor": 0
      },
      "text/plain": [
       "solo_L3_eui-hrieuv174-image_20220302T171400308_V02.jp2:   0%|          | 0.00/1.27M [00:00<?, ?B/s]"
      ]
     },
     "metadata": {},
     "output_type": "display_data"
    },
    {
     "data": {
      "application/vnd.jupyter.widget-view+json": {
       "model_id": "",
       "version_major": 2,
       "version_minor": 0
      },
      "text/plain": [
       "solo_L3_eui-hrieuv174-image_20220302T171600308_V02.jp2:   0%|          | 0.00/1.27M [00:00<?, ?B/s]"
      ]
     },
     "metadata": {},
     "output_type": "display_data"
    },
    {
     "data": {
      "application/vnd.jupyter.widget-view+json": {
       "model_id": "",
       "version_major": 2,
       "version_minor": 0
      },
      "text/plain": [
       "solo_L3_eui-hrieuv174-image_20220302T171800308_V02.jp2:   0%|          | 0.00/1.27M [00:00<?, ?B/s]"
      ]
     },
     "metadata": {},
     "output_type": "display_data"
    },
    {
     "data": {
      "application/vnd.jupyter.widget-view+json": {
       "model_id": "",
       "version_major": 2,
       "version_minor": 0
      },
      "text/plain": [
       "solo_L3_eui-hrieuv174-image_20220302T172000309_V02.jp2:   0%|          | 0.00/1.27M [00:00<?, ?B/s]"
      ]
     },
     "metadata": {},
     "output_type": "display_data"
    },
    {
     "data": {
      "application/vnd.jupyter.widget-view+json": {
       "model_id": "",
       "version_major": 2,
       "version_minor": 0
      },
      "text/plain": [
       "solo_L3_eui-hrieuv174-image_20220302T172200309_V02.jp2:   0%|          | 0.00/1.27M [00:00<?, ?B/s]"
      ]
     },
     "metadata": {},
     "output_type": "display_data"
    },
    {
     "data": {
      "application/vnd.jupyter.widget-view+json": {
       "model_id": "",
       "version_major": 2,
       "version_minor": 0
      },
      "text/plain": [
       "solo_L3_eui-hrieuv174-image_20220302T172400472_V02.jp2:   0%|          | 0.00/1.27M [00:00<?, ?B/s]"
      ]
     },
     "metadata": {},
     "output_type": "display_data"
    },
    {
     "data": {
      "application/vnd.jupyter.widget-view+json": {
       "model_id": "",
       "version_major": 2,
       "version_minor": 0
      },
      "text/plain": [
       "solo_L3_eui-hrieuv174-image_20220302T172600310_V02.jp2:   0%|          | 0.00/1.27M [00:00<?, ?B/s]"
      ]
     },
     "metadata": {},
     "output_type": "display_data"
    },
    {
     "data": {
      "application/vnd.jupyter.widget-view+json": {
       "model_id": "",
       "version_major": 2,
       "version_minor": 0
      },
      "text/plain": [
       "solo_L3_eui-hrieuv174-image_20220302T172800310_V02.jp2:   0%|          | 0.00/1.27M [00:00<?, ?B/s]"
      ]
     },
     "metadata": {},
     "output_type": "display_data"
    },
    {
     "data": {
      "application/vnd.jupyter.widget-view+json": {
       "model_id": "",
       "version_major": 2,
       "version_minor": 0
      },
      "text/plain": [
       "solo_L3_eui-hrieuv174-image_20220302T173000310_V02.jp2:   0%|          | 0.00/1.27M [00:00<?, ?B/s]"
      ]
     },
     "metadata": {},
     "output_type": "display_data"
    },
    {
     "data": {
      "application/vnd.jupyter.widget-view+json": {
       "model_id": "",
       "version_major": 2,
       "version_minor": 0
      },
      "text/plain": [
       "solo_L3_eui-hrieuv174-image_20220302T173400310_V02.jp2:   0%|          | 0.00/1.27M [00:00<?, ?B/s]"
      ]
     },
     "metadata": {},
     "output_type": "display_data"
    },
    {
     "data": {
      "application/vnd.jupyter.widget-view+json": {
       "model_id": "",
       "version_major": 2,
       "version_minor": 0
      },
      "text/plain": [
       "solo_L3_eui-hrieuv174-image_20220302T173800309_V02.jp2:   0%|          | 0.00/1.27M [00:00<?, ?B/s]"
      ]
     },
     "metadata": {},
     "output_type": "display_data"
    },
    {
     "data": {
      "application/vnd.jupyter.widget-view+json": {
       "model_id": "",
       "version_major": 2,
       "version_minor": 0
      },
      "text/plain": [
       "solo_L3_eui-hrieuv174-image_20220302T173600310_V02.jp2:   0%|          | 0.00/1.27M [00:00<?, ?B/s]"
      ]
     },
     "metadata": {},
     "output_type": "display_data"
    },
    {
     "data": {
      "application/vnd.jupyter.widget-view+json": {
       "model_id": "",
       "version_major": 2,
       "version_minor": 0
      },
      "text/plain": [
       "solo_L3_eui-hrieuv174-image_20220302T173200310_V02.jp2:   0%|          | 0.00/1.27M [00:00<?, ?B/s]"
      ]
     },
     "metadata": {},
     "output_type": "display_data"
    },
    {
     "data": {
      "application/vnd.jupyter.widget-view+json": {
       "model_id": "",
       "version_major": 2,
       "version_minor": 0
      },
      "text/plain": [
       "solo_L3_eui-hrieuv174-image_20220302T174000311_V02.jp2:   0%|          | 0.00/1.27M [00:00<?, ?B/s]"
      ]
     },
     "metadata": {},
     "output_type": "display_data"
    },
    {
     "data": {
      "application/vnd.jupyter.widget-view+json": {
       "model_id": "",
       "version_major": 2,
       "version_minor": 0
      },
      "text/plain": [
       "solo_L3_eui-hrieuv174-image_20220302T174200311_V02.jp2:   0%|          | 0.00/1.27M [00:00<?, ?B/s]"
      ]
     },
     "metadata": {},
     "output_type": "display_data"
    },
    {
     "data": {
      "application/vnd.jupyter.widget-view+json": {
       "model_id": "",
       "version_major": 2,
       "version_minor": 0
      },
      "text/plain": [
       "solo_L3_eui-hrieuv174-image_20220302T174400312_V02.jp2:   0%|          | 0.00/1.27M [00:00<?, ?B/s]"
      ]
     },
     "metadata": {},
     "output_type": "display_data"
    },
    {
     "data": {
      "application/vnd.jupyter.widget-view+json": {
       "model_id": "",
       "version_major": 2,
       "version_minor": 0
      },
      "text/plain": [
       "solo_L3_eui-hrieuv174-image_20220302T174600311_V02.jp2:   0%|          | 0.00/1.27M [00:00<?, ?B/s]"
      ]
     },
     "metadata": {},
     "output_type": "display_data"
    },
    {
     "data": {
      "application/vnd.jupyter.widget-view+json": {
       "model_id": "",
       "version_major": 2,
       "version_minor": 0
      },
      "text/plain": [
       "solo_L3_eui-hrieuv174-image_20220302T174800312_V02.jp2:   0%|          | 0.00/1.27M [00:00<?, ?B/s]"
      ]
     },
     "metadata": {},
     "output_type": "display_data"
    },
    {
     "data": {
      "application/vnd.jupyter.widget-view+json": {
       "model_id": "",
       "version_major": 2,
       "version_minor": 0
      },
      "text/plain": [
       "solo_L3_eui-hrieuv174-image_20220302T175200312_V02.jp2:   0%|          | 0.00/1.27M [00:00<?, ?B/s]"
      ]
     },
     "metadata": {},
     "output_type": "display_data"
    },
    {
     "data": {
      "application/vnd.jupyter.widget-view+json": {
       "model_id": "",
       "version_major": 2,
       "version_minor": 0
      },
      "text/plain": [
       "solo_L3_eui-hrieuv174-image_20220302T175000312_V02.jp2:   0%|          | 0.00/1.27M [00:00<?, ?B/s]"
      ]
     },
     "metadata": {},
     "output_type": "display_data"
    },
    {
     "data": {
      "application/vnd.jupyter.widget-view+json": {
       "model_id": "",
       "version_major": 2,
       "version_minor": 0
      },
      "text/plain": [
       "solo_L3_eui-hrieuv174-image_20220302T175400312_V02.jp2:   0%|          | 0.00/1.27M [00:00<?, ?B/s]"
      ]
     },
     "metadata": {},
     "output_type": "display_data"
    },
    {
     "data": {
      "application/vnd.jupyter.widget-view+json": {
       "model_id": "",
       "version_major": 2,
       "version_minor": 0
      },
      "text/plain": [
       "solo_L3_eui-hrieuv174-image_20220302T175600312_V02.jp2:   0%|          | 0.00/1.27M [00:00<?, ?B/s]"
      ]
     },
     "metadata": {},
     "output_type": "display_data"
    },
    {
     "data": {
      "application/vnd.jupyter.widget-view+json": {
       "model_id": "",
       "version_major": 2,
       "version_minor": 0
      },
      "text/plain": [
       "solo_L3_eui-hrieuv174-image_20220302T175800312_V02.jp2:   0%|          | 0.00/1.27M [00:00<?, ?B/s]"
      ]
     },
     "metadata": {},
     "output_type": "display_data"
    },
    {
     "data": {
      "application/vnd.jupyter.widget-view+json": {
       "model_id": "",
       "version_major": 2,
       "version_minor": 0
      },
      "text/plain": [
       "solo_L3_eui-hrieuv174-image_20220302T180000312_V02.jp2:   0%|          | 0.00/1.27M [00:00<?, ?B/s]"
      ]
     },
     "metadata": {},
     "output_type": "display_data"
    },
    {
     "data": {
      "application/vnd.jupyter.widget-view+json": {
       "model_id": "",
       "version_major": 2,
       "version_minor": 0
      },
      "text/plain": [
       "solo_L3_eui-hrieuv174-image_20220302T180200313_V02.jp2:   0%|          | 0.00/1.27M [00:00<?, ?B/s]"
      ]
     },
     "metadata": {},
     "output_type": "display_data"
    },
    {
     "data": {
      "application/vnd.jupyter.widget-view+json": {
       "model_id": "",
       "version_major": 2,
       "version_minor": 0
      },
      "text/plain": [
       "solo_L3_eui-hrieuv174-image_20220302T180400313_V02.jp2:   0%|          | 0.00/1.27M [00:00<?, ?B/s]"
      ]
     },
     "metadata": {},
     "output_type": "display_data"
    },
    {
     "data": {
      "application/vnd.jupyter.widget-view+json": {
       "model_id": "",
       "version_major": 2,
       "version_minor": 0
      },
      "text/plain": [
       "solo_L3_eui-hrieuv174-image_20220302T180600313_V02.jp2:   0%|          | 0.00/1.27M [00:00<?, ?B/s]"
      ]
     },
     "metadata": {},
     "output_type": "display_data"
    },
    {
     "data": {
      "application/vnd.jupyter.widget-view+json": {
       "model_id": "",
       "version_major": 2,
       "version_minor": 0
      },
      "text/plain": [
       "solo_L3_eui-hrieuv174-image_20220302T180800313_V02.jp2:   0%|          | 0.00/1.27M [00:00<?, ?B/s]"
      ]
     },
     "metadata": {},
     "output_type": "display_data"
    },
    {
     "data": {
      "application/vnd.jupyter.widget-view+json": {
       "model_id": "",
       "version_major": 2,
       "version_minor": 0
      },
      "text/plain": [
       "solo_L3_eui-hrieuv174-image_20220302T181000314_V02.jp2:   0%|          | 0.00/1.27M [00:00<?, ?B/s]"
      ]
     },
     "metadata": {},
     "output_type": "display_data"
    },
    {
     "data": {
      "application/vnd.jupyter.widget-view+json": {
       "model_id": "",
       "version_major": 2,
       "version_minor": 0
      },
      "text/plain": [
       "solo_L3_eui-hrieuv174-image_20220302T181200314_V02.jp2:   0%|          | 0.00/1.27M [00:00<?, ?B/s]"
      ]
     },
     "metadata": {},
     "output_type": "display_data"
    },
    {
     "data": {
      "application/vnd.jupyter.widget-view+json": {
       "model_id": "",
       "version_major": 2,
       "version_minor": 0
      },
      "text/plain": [
       "solo_L3_eui-hrieuv174-image_20220302T181400313_V02.jp2:   0%|          | 0.00/1.27M [00:00<?, ?B/s]"
      ]
     },
     "metadata": {},
     "output_type": "display_data"
    },
    {
     "data": {
      "application/vnd.jupyter.widget-view+json": {
       "model_id": "",
       "version_major": 2,
       "version_minor": 0
      },
      "text/plain": [
       "solo_L3_eui-hrieuv174-image_20220302T181600315_V02.jp2:   0%|          | 0.00/1.27M [00:00<?, ?B/s]"
      ]
     },
     "metadata": {},
     "output_type": "display_data"
    },
    {
     "data": {
      "application/vnd.jupyter.widget-view+json": {
       "model_id": "",
       "version_major": 2,
       "version_minor": 0
      },
      "text/plain": [
       "solo_L3_eui-hrieuv174-image_20220302T182000315_V02.jp2:   0%|          | 0.00/1.27M [00:00<?, ?B/s]"
      ]
     },
     "metadata": {},
     "output_type": "display_data"
    },
    {
     "data": {
      "application/vnd.jupyter.widget-view+json": {
       "model_id": "",
       "version_major": 2,
       "version_minor": 0
      },
      "text/plain": [
       "solo_L3_eui-hrieuv174-image_20220302T181800314_V02.jp2:   0%|          | 0.00/1.27M [00:00<?, ?B/s]"
      ]
     },
     "metadata": {},
     "output_type": "display_data"
    },
    {
     "data": {
      "application/vnd.jupyter.widget-view+json": {
       "model_id": "",
       "version_major": 2,
       "version_minor": 0
      },
      "text/plain": [
       "solo_L3_eui-hrieuv174-image_20220302T182200315_V02.jp2:   0%|          | 0.00/1.27M [00:00<?, ?B/s]"
      ]
     },
     "metadata": {},
     "output_type": "display_data"
    },
    {
     "data": {
      "application/vnd.jupyter.widget-view+json": {
       "model_id": "",
       "version_major": 2,
       "version_minor": 0
      },
      "text/plain": [
       "solo_L3_eui-hrieuv174-image_20220302T182400314_V02.jp2:   0%|          | 0.00/1.27M [00:00<?, ?B/s]"
      ]
     },
     "metadata": {},
     "output_type": "display_data"
    },
    {
     "data": {
      "application/vnd.jupyter.widget-view+json": {
       "model_id": "",
       "version_major": 2,
       "version_minor": 0
      },
      "text/plain": [
       "solo_L3_eui-hrieuv174-image_20220302T182600316_V02.jp2:   0%|          | 0.00/1.27M [00:00<?, ?B/s]"
      ]
     },
     "metadata": {},
     "output_type": "display_data"
    },
    {
     "data": {
      "application/vnd.jupyter.widget-view+json": {
       "model_id": "",
       "version_major": 2,
       "version_minor": 0
      },
      "text/plain": [
       "solo_L3_eui-hrieuv174-image_20220302T182800316_V02.jp2:   0%|          | 0.00/1.27M [00:00<?, ?B/s]"
      ]
     },
     "metadata": {},
     "output_type": "display_data"
    },
    {
     "data": {
      "application/vnd.jupyter.widget-view+json": {
       "model_id": "",
       "version_major": 2,
       "version_minor": 0
      },
      "text/plain": [
       "solo_L3_eui-hrieuv174-image_20220302T183000316_V02.jp2:   0%|          | 0.00/1.27M [00:00<?, ?B/s]"
      ]
     },
     "metadata": {},
     "output_type": "display_data"
    },
    {
     "data": {
      "application/vnd.jupyter.widget-view+json": {
       "model_id": "",
       "version_major": 2,
       "version_minor": 0
      },
      "text/plain": [
       "solo_L3_eui-hrieuv174-image_20220302T183200316_V02.jp2:   0%|          | 0.00/1.27M [00:00<?, ?B/s]"
      ]
     },
     "metadata": {},
     "output_type": "display_data"
    },
    {
     "data": {
      "application/vnd.jupyter.widget-view+json": {
       "model_id": "",
       "version_major": 2,
       "version_minor": 0
      },
      "text/plain": [
       "solo_L3_eui-hrieuv174-image_20220302T183400316_V02.jp2:   0%|          | 0.00/1.27M [00:00<?, ?B/s]"
      ]
     },
     "metadata": {},
     "output_type": "display_data"
    },
    {
     "data": {
      "application/vnd.jupyter.widget-view+json": {
       "model_id": "",
       "version_major": 2,
       "version_minor": 0
      },
      "text/plain": [
       "solo_L3_eui-hrieuv174-image_20220302T183600317_V02.jp2:   0%|          | 0.00/1.27M [00:00<?, ?B/s]"
      ]
     },
     "metadata": {},
     "output_type": "display_data"
    },
    {
     "data": {
      "application/vnd.jupyter.widget-view+json": {
       "model_id": "",
       "version_major": 2,
       "version_minor": 0
      },
      "text/plain": [
       "solo_L3_eui-hrieuv174-image_20220302T183800317_V02.jp2:   0%|          | 0.00/1.27M [00:00<?, ?B/s]"
      ]
     },
     "metadata": {},
     "output_type": "display_data"
    },
    {
     "data": {
      "application/vnd.jupyter.widget-view+json": {
       "model_id": "",
       "version_major": 2,
       "version_minor": 0
      },
      "text/plain": [
       "solo_L3_eui-hrieuv174-image_20220302T184000317_V02.jp2:   0%|          | 0.00/1.27M [00:00<?, ?B/s]"
      ]
     },
     "metadata": {},
     "output_type": "display_data"
    },
    {
     "data": {
      "application/vnd.jupyter.widget-view+json": {
       "model_id": "",
       "version_major": 2,
       "version_minor": 0
      },
      "text/plain": [
       "solo_L3_eui-hrieuv174-image_20220302T184200317_V02.jp2:   0%|          | 0.00/1.27M [00:00<?, ?B/s]"
      ]
     },
     "metadata": {},
     "output_type": "display_data"
    },
    {
     "data": {
      "application/vnd.jupyter.widget-view+json": {
       "model_id": "",
       "version_major": 2,
       "version_minor": 0
      },
      "text/plain": [
       "solo_L3_eui-hrieuv174-image_20220302T184400318_V02.jp2:   0%|          | 0.00/1.27M [00:00<?, ?B/s]"
      ]
     },
     "metadata": {},
     "output_type": "display_data"
    },
    {
     "data": {
      "application/vnd.jupyter.widget-view+json": {
       "model_id": "",
       "version_major": 2,
       "version_minor": 0
      },
      "text/plain": [
       "solo_L3_eui-hrieuv174-image_20220302T184600318_V02.jp2:   0%|          | 0.00/1.27M [00:00<?, ?B/s]"
      ]
     },
     "metadata": {},
     "output_type": "display_data"
    },
    {
     "data": {
      "application/vnd.jupyter.widget-view+json": {
       "model_id": "",
       "version_major": 2,
       "version_minor": 0
      },
      "text/plain": [
       "solo_L3_eui-hrieuv174-image_20220302T184800318_V02.jp2:   0%|          | 0.00/1.27M [00:00<?, ?B/s]"
      ]
     },
     "metadata": {},
     "output_type": "display_data"
    },
    {
     "data": {
      "application/vnd.jupyter.widget-view+json": {
       "model_id": "",
       "version_major": 2,
       "version_minor": 0
      },
      "text/plain": [
       "solo_L3_eui-hrieuv174-image_20220302T185000318_V02.jp2:   0%|          | 0.00/1.27M [00:00<?, ?B/s]"
      ]
     },
     "metadata": {},
     "output_type": "display_data"
    },
    {
     "data": {
      "application/vnd.jupyter.widget-view+json": {
       "model_id": "",
       "version_major": 2,
       "version_minor": 0
      },
      "text/plain": [
       "solo_L3_eui-hrieuv174-image_20220302T185200318_V02.jp2:   0%|          | 0.00/1.27M [00:00<?, ?B/s]"
      ]
     },
     "metadata": {},
     "output_type": "display_data"
    },
    {
     "data": {
      "application/vnd.jupyter.widget-view+json": {
       "model_id": "",
       "version_major": 2,
       "version_minor": 0
      },
      "text/plain": [
       "solo_L3_eui-hrieuv174-image_20220302T185400319_V02.jp2:   0%|          | 0.00/1.27M [00:00<?, ?B/s]"
      ]
     },
     "metadata": {},
     "output_type": "display_data"
    },
    {
     "data": {
      "application/vnd.jupyter.widget-view+json": {
       "model_id": "",
       "version_major": 2,
       "version_minor": 0
      },
      "text/plain": [
       "solo_L3_eui-hrieuv174-image_20220302T185600319_V02.jp2:   0%|          | 0.00/1.27M [00:00<?, ?B/s]"
      ]
     },
     "metadata": {},
     "output_type": "display_data"
    },
    {
     "data": {
      "application/vnd.jupyter.widget-view+json": {
       "model_id": "",
       "version_major": 2,
       "version_minor": 0
      },
      "text/plain": [
       "solo_L3_eui-hrieuv174-image_20220302T185800319_V02.jp2:   0%|          | 0.00/1.27M [00:00<?, ?B/s]"
      ]
     },
     "metadata": {},
     "output_type": "display_data"
    },
    {
     "data": {
      "application/vnd.jupyter.widget-view+json": {
       "model_id": "",
       "version_major": 2,
       "version_minor": 0
      },
      "text/plain": [
       "solo_L3_eui-hrieuv174-image_20220302T190000319_V02.jp2:   0%|          | 0.00/1.27M [00:00<?, ?B/s]"
      ]
     },
     "metadata": {},
     "output_type": "display_data"
    },
    {
     "data": {
      "application/vnd.jupyter.widget-view+json": {
       "model_id": "",
       "version_major": 2,
       "version_minor": 0
      },
      "text/plain": [
       "solo_L3_eui-hrieuv174-image_20220302T190200319_V02.jp2:   0%|          | 0.00/1.27M [00:00<?, ?B/s]"
      ]
     },
     "metadata": {},
     "output_type": "display_data"
    },
    {
     "data": {
      "application/vnd.jupyter.widget-view+json": {
       "model_id": "",
       "version_major": 2,
       "version_minor": 0
      },
      "text/plain": [
       "solo_L3_eui-hrieuv174-image_20220302T190400320_V02.jp2:   0%|          | 0.00/1.27M [00:00<?, ?B/s]"
      ]
     },
     "metadata": {},
     "output_type": "display_data"
    },
    {
     "data": {
      "application/vnd.jupyter.widget-view+json": {
       "model_id": "",
       "version_major": 2,
       "version_minor": 0
      },
      "text/plain": [
       "solo_L3_eui-hrieuv174-image_20220302T190600320_V02.jp2:   0%|          | 0.00/1.27M [00:00<?, ?B/s]"
      ]
     },
     "metadata": {},
     "output_type": "display_data"
    },
    {
     "data": {
      "application/vnd.jupyter.widget-view+json": {
       "model_id": "",
       "version_major": 2,
       "version_minor": 0
      },
      "text/plain": [
       "solo_L3_eui-hrieuv174-image_20220302T190800320_V02.jp2:   0%|          | 0.00/1.27M [00:00<?, ?B/s]"
      ]
     },
     "metadata": {},
     "output_type": "display_data"
    },
    {
     "data": {
      "application/vnd.jupyter.widget-view+json": {
       "model_id": "",
       "version_major": 2,
       "version_minor": 0
      },
      "text/plain": [
       "solo_L3_eui-hrieuv174-image_20220302T191000320_V02.jp2:   0%|          | 0.00/1.27M [00:00<?, ?B/s]"
      ]
     },
     "metadata": {},
     "output_type": "display_data"
    },
    {
     "data": {
      "application/vnd.jupyter.widget-view+json": {
       "model_id": "",
       "version_major": 2,
       "version_minor": 0
      },
      "text/plain": [
       "solo_L3_eui-hrieuv174-image_20220302T191200320_V02.jp2:   0%|          | 0.00/1.27M [00:00<?, ?B/s]"
      ]
     },
     "metadata": {},
     "output_type": "display_data"
    },
    {
     "data": {
      "application/vnd.jupyter.widget-view+json": {
       "model_id": "",
       "version_major": 2,
       "version_minor": 0
      },
      "text/plain": [
       "solo_L3_eui-hrieuv174-image_20220302T191400321_V02.jp2:   0%|          | 0.00/1.27M [00:00<?, ?B/s]"
      ]
     },
     "metadata": {},
     "output_type": "display_data"
    },
    {
     "data": {
      "application/vnd.jupyter.widget-view+json": {
       "model_id": "",
       "version_major": 2,
       "version_minor": 0
      },
      "text/plain": [
       "solo_L3_eui-hrieuv174-image_20220302T191600321_V02.jp2:   0%|          | 0.00/1.27M [00:00<?, ?B/s]"
      ]
     },
     "metadata": {},
     "output_type": "display_data"
    },
    {
     "data": {
      "application/vnd.jupyter.widget-view+json": {
       "model_id": "",
       "version_major": 2,
       "version_minor": 0
      },
      "text/plain": [
       "solo_L3_eui-hrieuv174-image_20220302T191800321_V02.jp2:   0%|          | 0.00/1.27M [00:00<?, ?B/s]"
      ]
     },
     "metadata": {},
     "output_type": "display_data"
    },
    {
     "data": {
      "application/vnd.jupyter.widget-view+json": {
       "model_id": "",
       "version_major": 2,
       "version_minor": 0
      },
      "text/plain": [
       "solo_L3_eui-hrieuv174-image_20220302T192000321_V02.jp2:   0%|          | 0.00/1.27M [00:00<?, ?B/s]"
      ]
     },
     "metadata": {},
     "output_type": "display_data"
    },
    {
     "data": {
      "application/vnd.jupyter.widget-view+json": {
       "model_id": "",
       "version_major": 2,
       "version_minor": 0
      },
      "text/plain": [
       "solo_L3_eui-hrieuv174-image_20220302T192200321_V02.jp2:   0%|          | 0.00/1.27M [00:00<?, ?B/s]"
      ]
     },
     "metadata": {},
     "output_type": "display_data"
    },
    {
     "data": {
      "application/vnd.jupyter.widget-view+json": {
       "model_id": "",
       "version_major": 2,
       "version_minor": 0
      },
      "text/plain": [
       "solo_L3_eui-hrieuv174-image_20220302T192400322_V02.jp2:   0%|          | 0.00/1.27M [00:00<?, ?B/s]"
      ]
     },
     "metadata": {},
     "output_type": "display_data"
    },
    {
     "data": {
      "application/vnd.jupyter.widget-view+json": {
       "model_id": "",
       "version_major": 2,
       "version_minor": 0
      },
      "text/plain": [
       "solo_L3_eui-hrieuv174-image_20220302T192600322_V02.jp2:   0%|          | 0.00/1.27M [00:00<?, ?B/s]"
      ]
     },
     "metadata": {},
     "output_type": "display_data"
    },
    {
     "data": {
      "application/vnd.jupyter.widget-view+json": {
       "model_id": "",
       "version_major": 2,
       "version_minor": 0
      },
      "text/plain": [
       "solo_L3_eui-hrieuv174-image_20220302T192800322_V02.jp2:   0%|          | 0.00/1.27M [00:00<?, ?B/s]"
      ]
     },
     "metadata": {},
     "output_type": "display_data"
    },
    {
     "data": {
      "application/vnd.jupyter.widget-view+json": {
       "model_id": "",
       "version_major": 2,
       "version_minor": 0
      },
      "text/plain": [
       "solo_L3_eui-hrieuv174-image_20220302T193000322_V02.jp2:   0%|          | 0.00/1.27M [00:00<?, ?B/s]"
      ]
     },
     "metadata": {},
     "output_type": "display_data"
    },
    {
     "data": {
      "application/vnd.jupyter.widget-view+json": {
       "model_id": "",
       "version_major": 2,
       "version_minor": 0
      },
      "text/plain": [
       "solo_L3_eui-hrieuv174-image_20220302T193200323_V02.jp2:   0%|          | 0.00/1.27M [00:00<?, ?B/s]"
      ]
     },
     "metadata": {},
     "output_type": "display_data"
    },
    {
     "data": {
      "application/vnd.jupyter.widget-view+json": {
       "model_id": "",
       "version_major": 2,
       "version_minor": 0
      },
      "text/plain": [
       "solo_L3_eui-hrieuv174-image_20220302T193400323_V02.jp2:   0%|          | 0.00/1.27M [00:00<?, ?B/s]"
      ]
     },
     "metadata": {},
     "output_type": "display_data"
    },
    {
     "data": {
      "application/vnd.jupyter.widget-view+json": {
       "model_id": "",
       "version_major": 2,
       "version_minor": 0
      },
      "text/plain": [
       "solo_L3_eui-hrieuv174-image_20220302T193600323_V02.jp2:   0%|          | 0.00/1.27M [00:00<?, ?B/s]"
      ]
     },
     "metadata": {},
     "output_type": "display_data"
    },
    {
     "data": {
      "application/vnd.jupyter.widget-view+json": {
       "model_id": "",
       "version_major": 2,
       "version_minor": 0
      },
      "text/plain": [
       "solo_L3_eui-hrieuv174-image_20220302T193800323_V02.jp2:   0%|          | 0.00/1.27M [00:00<?, ?B/s]"
      ]
     },
     "metadata": {},
     "output_type": "display_data"
    },
    {
     "data": {
      "application/vnd.jupyter.widget-view+json": {
       "model_id": "",
       "version_major": 2,
       "version_minor": 0
      },
      "text/plain": [
       "solo_L3_eui-hrieuv174-image_20220302T194200324_V02.jp2:   0%|          | 0.00/1.27M [00:00<?, ?B/s]"
      ]
     },
     "metadata": {},
     "output_type": "display_data"
    },
    {
     "data": {
      "application/vnd.jupyter.widget-view+json": {
       "model_id": "",
       "version_major": 2,
       "version_minor": 0
      },
      "text/plain": [
       "solo_L3_eui-hrieuv174-image_20220302T194000326_V02.jp2:   0%|          | 0.00/1.27M [00:00<?, ?B/s]"
      ]
     },
     "metadata": {},
     "output_type": "display_data"
    },
    {
     "data": {
      "application/vnd.jupyter.widget-view+json": {
       "model_id": "",
       "version_major": 2,
       "version_minor": 0
      },
      "text/plain": [
       "solo_L3_eui-hrieuv174-image_20220302T194400323_V02.jp2:   0%|          | 0.00/1.27M [00:00<?, ?B/s]"
      ]
     },
     "metadata": {},
     "output_type": "display_data"
    },
    {
     "data": {
      "application/vnd.jupyter.widget-view+json": {
       "model_id": "",
       "version_major": 2,
       "version_minor": 0
      },
      "text/plain": [
       "solo_L3_eui-hrieuv174-image_20220302T194600324_V02.jp2:   0%|          | 0.00/1.27M [00:00<?, ?B/s]"
      ]
     },
     "metadata": {},
     "output_type": "display_data"
    },
    {
     "data": {
      "application/vnd.jupyter.widget-view+json": {
       "model_id": "",
       "version_major": 2,
       "version_minor": 0
      },
      "text/plain": [
       "solo_L3_eui-hrieuv174-image_20220302T194800325_V02.jp2:   0%|          | 0.00/1.27M [00:00<?, ?B/s]"
      ]
     },
     "metadata": {},
     "output_type": "display_data"
    },
    {
     "data": {
      "application/vnd.jupyter.widget-view+json": {
       "model_id": "",
       "version_major": 2,
       "version_minor": 0
      },
      "text/plain": [
       "solo_L3_eui-hrieuv174-image_20220302T195000324_V02.jp2:   0%|          | 0.00/1.27M [00:00<?, ?B/s]"
      ]
     },
     "metadata": {},
     "output_type": "display_data"
    },
    {
     "data": {
      "application/vnd.jupyter.widget-view+json": {
       "model_id": "",
       "version_major": 2,
       "version_minor": 0
      },
      "text/plain": [
       "solo_L3_eui-hrieuv174-image_20220302T195200325_V02.jp2:   0%|          | 0.00/1.27M [00:00<?, ?B/s]"
      ]
     },
     "metadata": {},
     "output_type": "display_data"
    },
    {
     "data": {
      "application/vnd.jupyter.widget-view+json": {
       "model_id": "",
       "version_major": 2,
       "version_minor": 0
      },
      "text/plain": [
       "solo_L3_eui-hrieuv174-image_20220302T195400324_V02.jp2:   0%|          | 0.00/1.27M [00:00<?, ?B/s]"
      ]
     },
     "metadata": {},
     "output_type": "display_data"
    },
    {
     "data": {
      "application/vnd.jupyter.widget-view+json": {
       "model_id": "",
       "version_major": 2,
       "version_minor": 0
      },
      "text/plain": [
       "solo_L3_eui-hrieuv174-image_20220302T195600325_V02.jp2:   0%|          | 0.00/1.27M [00:00<?, ?B/s]"
      ]
     },
     "metadata": {},
     "output_type": "display_data"
    },
    {
     "data": {
      "application/vnd.jupyter.widget-view+json": {
       "model_id": "",
       "version_major": 2,
       "version_minor": 0
      },
      "text/plain": [
       "solo_L3_eui-hrieuv174-image_20220302T195800325_V02.jp2:   0%|          | 0.00/1.27M [00:00<?, ?B/s]"
      ]
     },
     "metadata": {},
     "output_type": "display_data"
    },
    {
     "data": {
      "application/vnd.jupyter.widget-view+json": {
       "model_id": "",
       "version_major": 2,
       "version_minor": 0
      },
      "text/plain": [
       "solo_L3_eui-hrieuv174-image_20220302T200000326_V02.jp2:   0%|          | 0.00/1.27M [00:00<?, ?B/s]"
      ]
     },
     "metadata": {},
     "output_type": "display_data"
    },
    {
     "data": {
      "application/vnd.jupyter.widget-view+json": {
       "model_id": "",
       "version_major": 2,
       "version_minor": 0
      },
      "text/plain": [
       "solo_L3_eui-hrieuv174-image_20220302T200400326_V02.jp2:   0%|          | 0.00/1.27M [00:00<?, ?B/s]"
      ]
     },
     "metadata": {},
     "output_type": "display_data"
    },
    {
     "data": {
      "application/vnd.jupyter.widget-view+json": {
       "model_id": "",
       "version_major": 2,
       "version_minor": 0
      },
      "text/plain": [
       "solo_L3_eui-hrieuv174-image_20220302T200200326_V02.jp2:   0%|          | 0.00/1.27M [00:00<?, ?B/s]"
      ]
     },
     "metadata": {},
     "output_type": "display_data"
    },
    {
     "data": {
      "application/vnd.jupyter.widget-view+json": {
       "model_id": "",
       "version_major": 2,
       "version_minor": 0
      },
      "text/plain": [
       "solo_L3_eui-hrieuv174-image_20220302T200600326_V02.jp2:   0%|          | 0.00/1.27M [00:00<?, ?B/s]"
      ]
     },
     "metadata": {},
     "output_type": "display_data"
    },
    {
     "data": {
      "application/vnd.jupyter.widget-view+json": {
       "model_id": "",
       "version_major": 2,
       "version_minor": 0
      },
      "text/plain": [
       "solo_L3_eui-hrieuv174-image_20220302T201000326_V02.jp2:   0%|          | 0.00/1.27M [00:00<?, ?B/s]"
      ]
     },
     "metadata": {},
     "output_type": "display_data"
    },
    {
     "data": {
      "application/vnd.jupyter.widget-view+json": {
       "model_id": "",
       "version_major": 2,
       "version_minor": 0
      },
      "text/plain": [
       "solo_L3_eui-hrieuv174-image_20220302T200800326_V02.jp2:   0%|          | 0.00/1.27M [00:00<?, ?B/s]"
      ]
     },
     "metadata": {},
     "output_type": "display_data"
    },
    {
     "data": {
      "application/vnd.jupyter.widget-view+json": {
       "model_id": "",
       "version_major": 2,
       "version_minor": 0
      },
      "text/plain": [
       "solo_L3_eui-hrieuv174-image_20220302T201200327_V02.jp2:   0%|          | 0.00/1.27M [00:00<?, ?B/s]"
      ]
     },
     "metadata": {},
     "output_type": "display_data"
    },
    {
     "data": {
      "application/vnd.jupyter.widget-view+json": {
       "model_id": "",
       "version_major": 2,
       "version_minor": 0
      },
      "text/plain": [
       "solo_L3_eui-hrieuv174-image_20220302T201600331_V02.jp2:   0%|          | 0.00/1.27M [00:00<?, ?B/s]"
      ]
     },
     "metadata": {},
     "output_type": "display_data"
    },
    {
     "data": {
      "application/vnd.jupyter.widget-view+json": {
       "model_id": "",
       "version_major": 2,
       "version_minor": 0
      },
      "text/plain": [
       "solo_L3_eui-hrieuv174-image_20220302T201400328_V02.jp2:   0%|          | 0.00/1.27M [00:00<?, ?B/s]"
      ]
     },
     "metadata": {},
     "output_type": "display_data"
    },
    {
     "data": {
      "application/vnd.jupyter.widget-view+json": {
       "model_id": "",
       "version_major": 2,
       "version_minor": 0
      },
      "text/plain": [
       "solo_L3_eui-hrieuv174-image_20220302T201800328_V02.jp2:   0%|          | 0.00/1.27M [00:00<?, ?B/s]"
      ]
     },
     "metadata": {},
     "output_type": "display_data"
    },
    {
     "data": {
      "application/vnd.jupyter.widget-view+json": {
       "model_id": "",
       "version_major": 2,
       "version_minor": 0
      },
      "text/plain": [
       "solo_L3_eui-hrieuv174-image_20220302T202000331_V02.jp2:   0%|          | 0.00/1.27M [00:00<?, ?B/s]"
      ]
     },
     "metadata": {},
     "output_type": "display_data"
    },
    {
     "data": {
      "application/vnd.jupyter.widget-view+json": {
       "model_id": "",
       "version_major": 2,
       "version_minor": 0
      },
      "text/plain": [
       "solo_L3_eui-hrieuv174-image_20220302T202200328_V02.jp2:   0%|          | 0.00/1.27M [00:00<?, ?B/s]"
      ]
     },
     "metadata": {},
     "output_type": "display_data"
    },
    {
     "data": {
      "application/vnd.jupyter.widget-view+json": {
       "model_id": "",
       "version_major": 2,
       "version_minor": 0
      },
      "text/plain": [
       "solo_L3_eui-hrieuv174-image_20220302T202400328_V02.jp2:   0%|          | 0.00/1.27M [00:00<?, ?B/s]"
      ]
     },
     "metadata": {},
     "output_type": "display_data"
    },
    {
     "data": {
      "application/vnd.jupyter.widget-view+json": {
       "model_id": "",
       "version_major": 2,
       "version_minor": 0
      },
      "text/plain": [
       "solo_L3_eui-hrieuv174-image_20220302T202600328_V02.jp2:   0%|          | 0.00/1.27M [00:00<?, ?B/s]"
      ]
     },
     "metadata": {},
     "output_type": "display_data"
    },
    {
     "data": {
      "application/vnd.jupyter.widget-view+json": {
       "model_id": "",
       "version_major": 2,
       "version_minor": 0
      },
      "text/plain": [
       "solo_L3_eui-hrieuv174-image_20220302T203000327_V02.jp2:   0%|          | 0.00/1.27M [00:00<?, ?B/s]"
      ]
     },
     "metadata": {},
     "output_type": "display_data"
    },
    {
     "data": {
      "application/vnd.jupyter.widget-view+json": {
       "model_id": "",
       "version_major": 2,
       "version_minor": 0
      },
      "text/plain": [
       "solo_L3_eui-hrieuv174-image_20220302T202800328_V02.jp2:   0%|          | 0.00/1.27M [00:00<?, ?B/s]"
      ]
     },
     "metadata": {},
     "output_type": "display_data"
    },
    {
     "data": {
      "application/vnd.jupyter.widget-view+json": {
       "model_id": "",
       "version_major": 2,
       "version_minor": 0
      },
      "text/plain": [
       "solo_L3_eui-hrieuv174-image_20220302T203200340_V02.jp2:   0%|          | 0.00/1.27M [00:00<?, ?B/s]"
      ]
     },
     "metadata": {},
     "output_type": "display_data"
    },
    {
     "data": {
      "application/vnd.jupyter.widget-view+json": {
       "model_id": "",
       "version_major": 2,
       "version_minor": 0
      },
      "text/plain": [
       "solo_L3_eui-hrieuv174-image_20220302T203400337_V02.jp2:   0%|          | 0.00/1.27M [00:00<?, ?B/s]"
      ]
     },
     "metadata": {},
     "output_type": "display_data"
    },
    {
     "data": {
      "application/vnd.jupyter.widget-view+json": {
       "model_id": "",
       "version_major": 2,
       "version_minor": 0
      },
      "text/plain": [
       "solo_L3_eui-hrieuv174-image_20220302T203600341_V02.jp2:   0%|          | 0.00/1.27M [00:00<?, ?B/s]"
      ]
     },
     "metadata": {},
     "output_type": "display_data"
    },
    {
     "data": {
      "application/vnd.jupyter.widget-view+json": {
       "model_id": "",
       "version_major": 2,
       "version_minor": 0
      },
      "text/plain": [
       "solo_L3_eui-hrieuv174-image_20220302T203800337_V02.jp2:   0%|          | 0.00/1.27M [00:00<?, ?B/s]"
      ]
     },
     "metadata": {},
     "output_type": "display_data"
    },
    {
     "data": {
      "application/vnd.jupyter.widget-view+json": {
       "model_id": "",
       "version_major": 2,
       "version_minor": 0
      },
      "text/plain": [
       "solo_L3_eui-hrieuv174-image_20220302T204200353_V02.jp2:   0%|          | 0.00/1.27M [00:00<?, ?B/s]"
      ]
     },
     "metadata": {},
     "output_type": "display_data"
    },
    {
     "data": {
      "application/vnd.jupyter.widget-view+json": {
       "model_id": "",
       "version_major": 2,
       "version_minor": 0
      },
      "text/plain": [
       "solo_L3_eui-hrieuv174-image_20220302T204000341_V02.jp2:   0%|          | 0.00/1.27M [00:00<?, ?B/s]"
      ]
     },
     "metadata": {},
     "output_type": "display_data"
    },
    {
     "data": {
      "application/vnd.jupyter.widget-view+json": {
       "model_id": "",
       "version_major": 2,
       "version_minor": 0
      },
      "text/plain": [
       "solo_L3_eui-hrieuv174-image_20220302T204400357_V02.jp2:   0%|          | 0.00/1.27M [00:00<?, ?B/s]"
      ]
     },
     "metadata": {},
     "output_type": "display_data"
    },
    {
     "data": {
      "application/vnd.jupyter.widget-view+json": {
       "model_id": "",
       "version_major": 2,
       "version_minor": 0
      },
      "text/plain": [
       "solo_L3_eui-hrieuv174-image_20220302T204600329_V02.jp2:   0%|          | 0.00/1.27M [00:00<?, ?B/s]"
      ]
     },
     "metadata": {},
     "output_type": "display_data"
    },
    {
     "data": {
      "application/vnd.jupyter.widget-view+json": {
       "model_id": "",
       "version_major": 2,
       "version_minor": 0
      },
      "text/plain": [
       "solo_L3_eui-hrieuv174-image_20220302T204800331_V02.jp2:   0%|          | 0.00/1.27M [00:00<?, ?B/s]"
      ]
     },
     "metadata": {},
     "output_type": "display_data"
    },
    {
     "data": {
      "application/vnd.jupyter.widget-view+json": {
       "model_id": "",
       "version_major": 2,
       "version_minor": 0
      },
      "text/plain": [
       "solo_L3_eui-hrieuv174-image_20220302T205000330_V02.jp2:   0%|          | 0.00/1.27M [00:00<?, ?B/s]"
      ]
     },
     "metadata": {},
     "output_type": "display_data"
    },
    {
     "data": {
      "application/vnd.jupyter.widget-view+json": {
       "model_id": "",
       "version_major": 2,
       "version_minor": 0
      },
      "text/plain": [
       "solo_L3_eui-hrieuv174-image_20220302T205200331_V02.jp2:   0%|          | 0.00/1.27M [00:00<?, ?B/s]"
      ]
     },
     "metadata": {},
     "output_type": "display_data"
    },
    {
     "data": {
      "application/vnd.jupyter.widget-view+json": {
       "model_id": "",
       "version_major": 2,
       "version_minor": 0
      },
      "text/plain": [
       "solo_L3_eui-hrieuv174-image_20220302T205400331_V02.jp2:   0%|          | 0.00/1.27M [00:00<?, ?B/s]"
      ]
     },
     "metadata": {},
     "output_type": "display_data"
    },
    {
     "data": {
      "application/vnd.jupyter.widget-view+json": {
       "model_id": "",
       "version_major": 2,
       "version_minor": 0
      },
      "text/plain": [
       "solo_L3_eui-hrieuv174-image_20220302T205600331_V02.jp2:   0%|          | 0.00/1.27M [00:00<?, ?B/s]"
      ]
     },
     "metadata": {},
     "output_type": "display_data"
    },
    {
     "data": {
      "application/vnd.jupyter.widget-view+json": {
       "model_id": "",
       "version_major": 2,
       "version_minor": 0
      },
      "text/plain": [
       "solo_L3_eui-hrieuv174-image_20220302T205800332_V02.jp2:   0%|          | 0.00/1.27M [00:00<?, ?B/s]"
      ]
     },
     "metadata": {},
     "output_type": "display_data"
    },
    {
     "data": {
      "application/vnd.jupyter.widget-view+json": {
       "model_id": "",
       "version_major": 2,
       "version_minor": 0
      },
      "text/plain": [
       "solo_L3_eui-hrieuv174-image_20220302T210000332_V02.jp2:   0%|          | 0.00/1.27M [00:00<?, ?B/s]"
      ]
     },
     "metadata": {},
     "output_type": "display_data"
    },
    {
     "data": {
      "application/vnd.jupyter.widget-view+json": {
       "model_id": "",
       "version_major": 2,
       "version_minor": 0
      },
      "text/plain": [
       "solo_L3_eui-hrieuv174-image_20220302T210200332_V02.jp2:   0%|          | 0.00/1.27M [00:00<?, ?B/s]"
      ]
     },
     "metadata": {},
     "output_type": "display_data"
    },
    {
     "data": {
      "application/vnd.jupyter.widget-view+json": {
       "model_id": "",
       "version_major": 2,
       "version_minor": 0
      },
      "text/plain": [
       "solo_L3_eui-hrieuv174-image_20220302T210600333_V02.jp2:   0%|          | 0.00/1.27M [00:00<?, ?B/s]"
      ]
     },
     "metadata": {},
     "output_type": "display_data"
    },
    {
     "data": {
      "application/vnd.jupyter.widget-view+json": {
       "model_id": "",
       "version_major": 2,
       "version_minor": 0
      },
      "text/plain": [
       "solo_L3_eui-hrieuv174-image_20220302T210800333_V02.jp2:   0%|          | 0.00/1.27M [00:00<?, ?B/s]"
      ]
     },
     "metadata": {},
     "output_type": "display_data"
    },
    {
     "data": {
      "application/vnd.jupyter.widget-view+json": {
       "model_id": "",
       "version_major": 2,
       "version_minor": 0
      },
      "text/plain": [
       "solo_L3_eui-hrieuv174-image_20220302T210400332_V02.jp2:   0%|          | 0.00/1.27M [00:00<?, ?B/s]"
      ]
     },
     "metadata": {},
     "output_type": "display_data"
    },
    {
     "data": {
      "application/vnd.jupyter.widget-view+json": {
       "model_id": "",
       "version_major": 2,
       "version_minor": 0
      },
      "text/plain": [
       "solo_L3_eui-hrieuv174-image_20220302T211000333_V02.jp2:   0%|          | 0.00/1.27M [00:00<?, ?B/s]"
      ]
     },
     "metadata": {},
     "output_type": "display_data"
    },
    {
     "data": {
      "application/vnd.jupyter.widget-view+json": {
       "model_id": "",
       "version_major": 2,
       "version_minor": 0
      },
      "text/plain": [
       "solo_L3_eui-hrieuv174-image_20220302T211600334_V02.jp2:   0%|          | 0.00/1.27M [00:00<?, ?B/s]"
      ]
     },
     "metadata": {},
     "output_type": "display_data"
    },
    {
     "data": {
      "application/vnd.jupyter.widget-view+json": {
       "model_id": "",
       "version_major": 2,
       "version_minor": 0
      },
      "text/plain": [
       "solo_L3_eui-hrieuv174-image_20220302T211800359_V02.jp2:   0%|          | 0.00/1.27M [00:00<?, ?B/s]"
      ]
     },
     "metadata": {},
     "output_type": "display_data"
    },
    {
     "data": {
      "application/vnd.jupyter.widget-view+json": {
       "model_id": "",
       "version_major": 2,
       "version_minor": 0
      },
      "text/plain": [
       "solo_L3_eui-hrieuv174-image_20220302T212000360_V02.jp2:   0%|          | 0.00/1.27M [00:00<?, ?B/s]"
      ]
     },
     "metadata": {},
     "output_type": "display_data"
    },
    {
     "data": {
      "application/vnd.jupyter.widget-view+json": {
       "model_id": "",
       "version_major": 2,
       "version_minor": 0
      },
      "text/plain": [
       "solo_L3_eui-hrieuv174-image_20220302T211400333_V02.jp2:   0%|          | 0.00/1.27M [00:00<?, ?B/s]"
      ]
     },
     "metadata": {},
     "output_type": "display_data"
    },
    {
     "data": {
      "application/vnd.jupyter.widget-view+json": {
       "model_id": "",
       "version_major": 2,
       "version_minor": 0
      },
      "text/plain": [
       "solo_L3_eui-hrieuv174-image_20220302T211200333_V02.jp2:   0%|          | 0.00/1.27M [00:00<?, ?B/s]"
      ]
     },
     "metadata": {},
     "output_type": "display_data"
    },
    {
     "data": {
      "application/vnd.jupyter.widget-view+json": {
       "model_id": "",
       "version_major": 2,
       "version_minor": 0
      },
      "text/plain": [
       "solo_L3_eui-hrieuv174-image_20220302T212200358_V02.jp2:   0%|          | 0.00/1.27M [00:00<?, ?B/s]"
      ]
     },
     "metadata": {},
     "output_type": "display_data"
    },
    {
     "data": {
      "application/vnd.jupyter.widget-view+json": {
       "model_id": "",
       "version_major": 2,
       "version_minor": 0
      },
      "text/plain": [
       "solo_L3_eui-hrieuv174-image_20220302T212600362_V02.jp2:   0%|          | 0.00/1.27M [00:00<?, ?B/s]"
      ]
     },
     "metadata": {},
     "output_type": "display_data"
    },
    {
     "data": {
      "application/vnd.jupyter.widget-view+json": {
       "model_id": "",
       "version_major": 2,
       "version_minor": 0
      },
      "text/plain": [
       "solo_L3_eui-hrieuv174-image_20220302T212400360_V02.jp2:   0%|          | 0.00/1.27M [00:00<?, ?B/s]"
      ]
     },
     "metadata": {},
     "output_type": "display_data"
    },
    {
     "data": {
      "application/vnd.jupyter.widget-view+json": {
       "model_id": "",
       "version_major": 2,
       "version_minor": 0
      },
      "text/plain": [
       "solo_L3_eui-hrieuv174-image_20220302T212800336_V02.jp2:   0%|          | 0.00/1.27M [00:00<?, ?B/s]"
      ]
     },
     "metadata": {},
     "output_type": "display_data"
    },
    {
     "data": {
      "application/vnd.jupyter.widget-view+json": {
       "model_id": "",
       "version_major": 2,
       "version_minor": 0
      },
      "text/plain": [
       "solo_L3_eui-hrieuv174-image_20220302T213000348_V02.jp2:   0%|          | 0.00/1.27M [00:00<?, ?B/s]"
      ]
     },
     "metadata": {},
     "output_type": "display_data"
    },
    {
     "data": {
      "application/vnd.jupyter.widget-view+json": {
       "model_id": "",
       "version_major": 2,
       "version_minor": 0
      },
      "text/plain": [
       "solo_L3_eui-hrieuv174-image_20220302T213200347_V02.jp2:   0%|          | 0.00/1.27M [00:00<?, ?B/s]"
      ]
     },
     "metadata": {},
     "output_type": "display_data"
    },
    {
     "data": {
      "application/vnd.jupyter.widget-view+json": {
       "model_id": "",
       "version_major": 2,
       "version_minor": 0
      },
      "text/plain": [
       "solo_L3_eui-hrieuv174-image_20220302T213400347_V02.jp2:   0%|          | 0.00/1.27M [00:00<?, ?B/s]"
      ]
     },
     "metadata": {},
     "output_type": "display_data"
    },
    {
     "data": {
      "application/vnd.jupyter.widget-view+json": {
       "model_id": "",
       "version_major": 2,
       "version_minor": 0
      },
      "text/plain": [
       "solo_L3_eui-hrieuv174-image_20220302T213600335_V02.jp2:   0%|          | 0.00/1.27M [00:00<?, ?B/s]"
      ]
     },
     "metadata": {},
     "output_type": "display_data"
    },
    {
     "data": {
      "application/vnd.jupyter.widget-view+json": {
       "model_id": "",
       "version_major": 2,
       "version_minor": 0
      },
      "text/plain": [
       "solo_L3_eui-hrieuv174-image_20220302T213800336_V02.jp2:   0%|          | 0.00/1.27M [00:00<?, ?B/s]"
      ]
     },
     "metadata": {},
     "output_type": "display_data"
    },
    {
     "data": {
      "application/vnd.jupyter.widget-view+json": {
       "model_id": "",
       "version_major": 2,
       "version_minor": 0
      },
      "text/plain": [
       "solo_L3_eui-hrieuv174-image_20220302T214000336_V02.jp2:   0%|          | 0.00/1.27M [00:00<?, ?B/s]"
      ]
     },
     "metadata": {},
     "output_type": "display_data"
    },
    {
     "data": {
      "application/vnd.jupyter.widget-view+json": {
       "model_id": "",
       "version_major": 2,
       "version_minor": 0
      },
      "text/plain": [
       "solo_L3_eui-hrieuv174-image_20220302T214200336_V02.jp2:   0%|          | 0.00/1.27M [00:00<?, ?B/s]"
      ]
     },
     "metadata": {},
     "output_type": "display_data"
    },
    {
     "data": {
      "application/vnd.jupyter.widget-view+json": {
       "model_id": "",
       "version_major": 2,
       "version_minor": 0
      },
      "text/plain": [
       "solo_L3_eui-hrieuv174-image_20220302T214400335_V02.jp2:   0%|          | 0.00/1.27M [00:00<?, ?B/s]"
      ]
     },
     "metadata": {},
     "output_type": "display_data"
    },
    {
     "data": {
      "application/vnd.jupyter.widget-view+json": {
       "model_id": "",
       "version_major": 2,
       "version_minor": 0
      },
      "text/plain": [
       "solo_L3_eui-hrieuv174-image_20220302T214600337_V02.jp2:   0%|          | 0.00/1.27M [00:00<?, ?B/s]"
      ]
     },
     "metadata": {},
     "output_type": "display_data"
    },
    {
     "data": {
      "application/vnd.jupyter.widget-view+json": {
       "model_id": "",
       "version_major": 2,
       "version_minor": 0
      },
      "text/plain": [
       "solo_L3_eui-hrieuv174-image_20220302T214800337_V02.jp2:   0%|          | 0.00/1.27M [00:00<?, ?B/s]"
      ]
     },
     "metadata": {},
     "output_type": "display_data"
    },
    {
     "data": {
      "application/vnd.jupyter.widget-view+json": {
       "model_id": "",
       "version_major": 2,
       "version_minor": 0
      },
      "text/plain": [
       "solo_L3_eui-hrieuv174-image_20220302T215000337_V02.jp2:   0%|          | 0.00/1.27M [00:00<?, ?B/s]"
      ]
     },
     "metadata": {},
     "output_type": "display_data"
    },
    {
     "data": {
      "application/vnd.jupyter.widget-view+json": {
       "model_id": "",
       "version_major": 2,
       "version_minor": 0
      },
      "text/plain": [
       "solo_L3_eui-hrieuv174-image_20220302T215200337_V02.jp2:   0%|          | 0.00/1.27M [00:00<?, ?B/s]"
      ]
     },
     "metadata": {},
     "output_type": "display_data"
    },
    {
     "data": {
      "application/vnd.jupyter.widget-view+json": {
       "model_id": "",
       "version_major": 2,
       "version_minor": 0
      },
      "text/plain": [
       "solo_L3_eui-hrieuv174-image_20220302T215400337_V02.jp2:   0%|          | 0.00/1.27M [00:00<?, ?B/s]"
      ]
     },
     "metadata": {},
     "output_type": "display_data"
    },
    {
     "data": {
      "application/vnd.jupyter.widget-view+json": {
       "model_id": "",
       "version_major": 2,
       "version_minor": 0
      },
      "text/plain": [
       "solo_L3_eui-hrieuv174-image_20220302T215600338_V02.jp2:   0%|          | 0.00/1.27M [00:00<?, ?B/s]"
      ]
     },
     "metadata": {},
     "output_type": "display_data"
    },
    {
     "data": {
      "application/vnd.jupyter.widget-view+json": {
       "model_id": "",
       "version_major": 2,
       "version_minor": 0
      },
      "text/plain": [
       "solo_L3_eui-hrieuv174-image_20220302T215800337_V02.jp2:   0%|          | 0.00/1.27M [00:00<?, ?B/s]"
      ]
     },
     "metadata": {},
     "output_type": "display_data"
    },
    {
     "data": {
      "application/vnd.jupyter.widget-view+json": {
       "model_id": "",
       "version_major": 2,
       "version_minor": 0
      },
      "text/plain": [
       "solo_L3_eui-hrieuv174-image_20220302T220000338_V02.jp2:   0%|          | 0.00/1.27M [00:00<?, ?B/s]"
      ]
     },
     "metadata": {},
     "output_type": "display_data"
    },
    {
     "data": {
      "application/vnd.jupyter.widget-view+json": {
       "model_id": "",
       "version_major": 2,
       "version_minor": 0
      },
      "text/plain": [
       "solo_L3_eui-hrieuv174-image_20220302T220600338_V02.jp2:   0%|          | 0.00/1.27M [00:00<?, ?B/s]"
      ]
     },
     "metadata": {},
     "output_type": "display_data"
    },
    {
     "data": {
      "application/vnd.jupyter.widget-view+json": {
       "model_id": "",
       "version_major": 2,
       "version_minor": 0
      },
      "text/plain": [
       "solo_L3_eui-hrieuv174-image_20220302T220200338_V02.jp2:   0%|          | 0.00/1.27M [00:00<?, ?B/s]"
      ]
     },
     "metadata": {},
     "output_type": "display_data"
    },
    {
     "data": {
      "application/vnd.jupyter.widget-view+json": {
       "model_id": "",
       "version_major": 2,
       "version_minor": 0
      },
      "text/plain": [
       "solo_L3_eui-hrieuv174-image_20220302T220400338_V02.jp2:   0%|          | 0.00/1.27M [00:00<?, ?B/s]"
      ]
     },
     "metadata": {},
     "output_type": "display_data"
    },
    {
     "data": {
      "application/vnd.jupyter.widget-view+json": {
       "model_id": "",
       "version_major": 2,
       "version_minor": 0
      },
      "text/plain": [
       "solo_L3_eui-hrieuv174-image_20220302T220800339_V02.jp2:   0%|          | 0.00/1.27M [00:00<?, ?B/s]"
      ]
     },
     "metadata": {},
     "output_type": "display_data"
    },
    {
     "data": {
      "application/vnd.jupyter.widget-view+json": {
       "model_id": "",
       "version_major": 2,
       "version_minor": 0
      },
      "text/plain": [
       "solo_L3_eui-hrieuv174-image_20220302T221000339_V02.jp2:   0%|          | 0.00/1.27M [00:00<?, ?B/s]"
      ]
     },
     "metadata": {},
     "output_type": "display_data"
    },
    {
     "data": {
      "application/vnd.jupyter.widget-view+json": {
       "model_id": "",
       "version_major": 2,
       "version_minor": 0
      },
      "text/plain": [
       "solo_L3_eui-hrieuv174-image_20220302T221200339_V02.jp2:   0%|          | 0.00/1.27M [00:00<?, ?B/s]"
      ]
     },
     "metadata": {},
     "output_type": "display_data"
    },
    {
     "data": {
      "application/vnd.jupyter.widget-view+json": {
       "model_id": "",
       "version_major": 2,
       "version_minor": 0
      },
      "text/plain": [
       "solo_L3_eui-hrieuv174-image_20220302T221400339_V02.jp2:   0%|          | 0.00/1.27M [00:00<?, ?B/s]"
      ]
     },
     "metadata": {},
     "output_type": "display_data"
    },
    {
     "data": {
      "application/vnd.jupyter.widget-view+json": {
       "model_id": "",
       "version_major": 2,
       "version_minor": 0
      },
      "text/plain": [
       "solo_L3_eui-hrieuv174-image_20220302T221600340_V02.jp2:   0%|          | 0.00/1.27M [00:00<?, ?B/s]"
      ]
     },
     "metadata": {},
     "output_type": "display_data"
    },
    {
     "data": {
      "application/vnd.jupyter.widget-view+json": {
       "model_id": "",
       "version_major": 2,
       "version_minor": 0
      },
      "text/plain": [
       "solo_L3_eui-hrieuv174-image_20220302T221800340_V02.jp2:   0%|          | 0.00/1.27M [00:00<?, ?B/s]"
      ]
     },
     "metadata": {},
     "output_type": "display_data"
    },
    {
     "data": {
      "application/vnd.jupyter.widget-view+json": {
       "model_id": "",
       "version_major": 2,
       "version_minor": 0
      },
      "text/plain": [
       "solo_L3_eui-hrieuv174-image_20220302T222000340_V02.jp2:   0%|          | 0.00/1.27M [00:00<?, ?B/s]"
      ]
     },
     "metadata": {},
     "output_type": "display_data"
    },
    {
     "data": {
      "application/vnd.jupyter.widget-view+json": {
       "model_id": "",
       "version_major": 2,
       "version_minor": 0
      },
      "text/plain": [
       "solo_L3_eui-hrieuv174-image_20220302T222200340_V02.jp2:   0%|          | 0.00/1.27M [00:00<?, ?B/s]"
      ]
     },
     "metadata": {},
     "output_type": "display_data"
    },
    {
     "data": {
      "application/vnd.jupyter.widget-view+json": {
       "model_id": "",
       "version_major": 2,
       "version_minor": 0
      },
      "text/plain": [
       "solo_L3_eui-hrieuv174-image_20220302T222400340_V02.jp2:   0%|          | 0.00/1.27M [00:00<?, ?B/s]"
      ]
     },
     "metadata": {},
     "output_type": "display_data"
    },
    {
     "data": {
      "application/vnd.jupyter.widget-view+json": {
       "model_id": "",
       "version_major": 2,
       "version_minor": 0
      },
      "text/plain": [
       "solo_L3_eui-hrieuv174-image_20220302T222600341_V02.jp2:   0%|          | 0.00/1.27M [00:00<?, ?B/s]"
      ]
     },
     "metadata": {},
     "output_type": "display_data"
    },
    {
     "data": {
      "application/vnd.jupyter.widget-view+json": {
       "model_id": "",
       "version_major": 2,
       "version_minor": 0
      },
      "text/plain": [
       "solo_L3_eui-hrieuv174-image_20220302T222800347_V02.jp2:   0%|          | 0.00/1.27M [00:00<?, ?B/s]"
      ]
     },
     "metadata": {},
     "output_type": "display_data"
    },
    {
     "data": {
      "application/vnd.jupyter.widget-view+json": {
       "model_id": "",
       "version_major": 2,
       "version_minor": 0
      },
      "text/plain": [
       "solo_L3_eui-hrieuv174-image_20220302T223000346_V02.jp2:   0%|          | 0.00/1.27M [00:00<?, ?B/s]"
      ]
     },
     "metadata": {},
     "output_type": "display_data"
    },
    {
     "data": {
      "application/vnd.jupyter.widget-view+json": {
       "model_id": "",
       "version_major": 2,
       "version_minor": 0
      },
      "text/plain": [
       "solo_L3_eui-hrieuv174-image_20220302T223200346_V02.jp2:   0%|          | 0.00/1.27M [00:00<?, ?B/s]"
      ]
     },
     "metadata": {},
     "output_type": "display_data"
    },
    {
     "data": {
      "application/vnd.jupyter.widget-view+json": {
       "model_id": "",
       "version_major": 2,
       "version_minor": 0
      },
      "text/plain": [
       "solo_L3_eui-hrieuv174-image_20220302T223400346_V02.jp2:   0%|          | 0.00/1.27M [00:00<?, ?B/s]"
      ]
     },
     "metadata": {},
     "output_type": "display_data"
    },
    {
     "data": {
      "application/vnd.jupyter.widget-view+json": {
       "model_id": "",
       "version_major": 2,
       "version_minor": 0
      },
      "text/plain": [
       "solo_L3_eui-hrieuv174-image_20220302T223600347_V02.jp2:   0%|          | 0.00/1.27M [00:00<?, ?B/s]"
      ]
     },
     "metadata": {},
     "output_type": "display_data"
    },
    {
     "data": {
      "application/vnd.jupyter.widget-view+json": {
       "model_id": "",
       "version_major": 2,
       "version_minor": 0
      },
      "text/plain": [
       "solo_L3_eui-hrieuv174-image_20220302T223800347_V02.jp2:   0%|          | 0.00/1.27M [00:00<?, ?B/s]"
      ]
     },
     "metadata": {},
     "output_type": "display_data"
    },
    {
     "data": {
      "application/vnd.jupyter.widget-view+json": {
       "model_id": "",
       "version_major": 2,
       "version_minor": 0
      },
      "text/plain": [
       "solo_L3_eui-hrieuv174-image_20220302T224200345_V02.jp2:   0%|          | 0.00/1.27M [00:00<?, ?B/s]"
      ]
     },
     "metadata": {},
     "output_type": "display_data"
    },
    {
     "data": {
      "application/vnd.jupyter.widget-view+json": {
       "model_id": "",
       "version_major": 2,
       "version_minor": 0
      },
      "text/plain": [
       "solo_L3_eui-hrieuv174-image_20220302T224000347_V02.jp2:   0%|          | 0.00/1.27M [00:00<?, ?B/s]"
      ]
     },
     "metadata": {},
     "output_type": "display_data"
    },
    {
     "data": {
      "application/vnd.jupyter.widget-view+json": {
       "model_id": "",
       "version_major": 2,
       "version_minor": 0
      },
      "text/plain": [
       "solo_L3_eui-hrieuv174-image_20220302T224400345_V02.jp2:   0%|          | 0.00/1.27M [00:00<?, ?B/s]"
      ]
     },
     "metadata": {},
     "output_type": "display_data"
    },
    {
     "data": {
      "application/vnd.jupyter.widget-view+json": {
       "model_id": "",
       "version_major": 2,
       "version_minor": 0
      },
      "text/plain": [
       "solo_L3_eui-hrieuv174-image_20220302T224600343_V02.jp2:   0%|          | 0.00/1.27M [00:00<?, ?B/s]"
      ]
     },
     "metadata": {},
     "output_type": "display_data"
    },
    {
     "data": {
      "application/vnd.jupyter.widget-view+json": {
       "model_id": "",
       "version_major": 2,
       "version_minor": 0
      },
      "text/plain": [
       "solo_L3_eui-hrieuv174-image_20220302T225000343_V02.jp2:   0%|          | 0.00/1.27M [00:00<?, ?B/s]"
      ]
     },
     "metadata": {},
     "output_type": "display_data"
    },
    {
     "data": {
      "application/vnd.jupyter.widget-view+json": {
       "model_id": "",
       "version_major": 2,
       "version_minor": 0
      },
      "text/plain": [
       "solo_L3_eui-hrieuv174-image_20220302T224800343_V02.jp2:   0%|          | 0.00/1.27M [00:00<?, ?B/s]"
      ]
     },
     "metadata": {},
     "output_type": "display_data"
    },
    {
     "data": {
      "application/vnd.jupyter.widget-view+json": {
       "model_id": "",
       "version_major": 2,
       "version_minor": 0
      },
      "text/plain": [
       "solo_L3_eui-hrieuv174-image_20220302T225400343_V02.jp2:   0%|          | 0.00/1.27M [00:00<?, ?B/s]"
      ]
     },
     "metadata": {},
     "output_type": "display_data"
    },
    {
     "data": {
      "application/vnd.jupyter.widget-view+json": {
       "model_id": "",
       "version_major": 2,
       "version_minor": 0
      },
      "text/plain": [
       "solo_L3_eui-hrieuv174-image_20220302T225200343_V02.jp2:   0%|          | 0.00/1.27M [00:00<?, ?B/s]"
      ]
     },
     "metadata": {},
     "output_type": "display_data"
    },
    {
     "data": {
      "application/vnd.jupyter.widget-view+json": {
       "model_id": "",
       "version_major": 2,
       "version_minor": 0
      },
      "text/plain": [
       "solo_L3_eui-hrieuv174-image_20220302T225600344_V02.jp2:   0%|          | 0.00/1.27M [00:00<?, ?B/s]"
      ]
     },
     "metadata": {},
     "output_type": "display_data"
    },
    {
     "data": {
      "application/vnd.jupyter.widget-view+json": {
       "model_id": "",
       "version_major": 2,
       "version_minor": 0
      },
      "text/plain": [
       "solo_L3_eui-hrieuv174-image_20220302T225800344_V02.jp2:   0%|          | 0.00/1.27M [00:00<?, ?B/s]"
      ]
     },
     "metadata": {},
     "output_type": "display_data"
    },
    {
     "data": {
      "application/vnd.jupyter.widget-view+json": {
       "model_id": "",
       "version_major": 2,
       "version_minor": 0
      },
      "text/plain": [
       "solo_L3_eui-hrieuv174-image_20220302T230000344_V02.jp2:   0%|          | 0.00/1.27M [00:00<?, ?B/s]"
      ]
     },
     "metadata": {},
     "output_type": "display_data"
    },
    {
     "data": {
      "application/vnd.jupyter.widget-view+json": {
       "model_id": "",
       "version_major": 2,
       "version_minor": 0
      },
      "text/plain": [
       "solo_L3_eui-hrieuv174-image_20220302T230200344_V02.jp2:   0%|          | 0.00/1.27M [00:00<?, ?B/s]"
      ]
     },
     "metadata": {},
     "output_type": "display_data"
    },
    {
     "data": {
      "application/vnd.jupyter.widget-view+json": {
       "model_id": "",
       "version_major": 2,
       "version_minor": 0
      },
      "text/plain": [
       "solo_L3_eui-hrieuv174-image_20220302T230400345_V02.jp2:   0%|          | 0.00/1.27M [00:00<?, ?B/s]"
      ]
     },
     "metadata": {},
     "output_type": "display_data"
    },
    {
     "data": {
      "application/vnd.jupyter.widget-view+json": {
       "model_id": "",
       "version_major": 2,
       "version_minor": 0
      },
      "text/plain": [
       "solo_L3_eui-hrieuv174-image_20220302T230600345_V02.jp2:   0%|          | 0.00/1.27M [00:00<?, ?B/s]"
      ]
     },
     "metadata": {},
     "output_type": "display_data"
    },
    {
     "data": {
      "application/vnd.jupyter.widget-view+json": {
       "model_id": "",
       "version_major": 2,
       "version_minor": 0
      },
      "text/plain": [
       "solo_L3_eui-hrieuv174-image_20220302T230800345_V02.jp2:   0%|          | 0.00/1.27M [00:00<?, ?B/s]"
      ]
     },
     "metadata": {},
     "output_type": "display_data"
    },
    {
     "data": {
      "application/vnd.jupyter.widget-view+json": {
       "model_id": "",
       "version_major": 2,
       "version_minor": 0
      },
      "text/plain": [
       "solo_L3_eui-hrieuv174-image_20220302T231000344_V02.jp2:   0%|          | 0.00/1.27M [00:00<?, ?B/s]"
      ]
     },
     "metadata": {},
     "output_type": "display_data"
    },
    {
     "data": {
      "application/vnd.jupyter.widget-view+json": {
       "model_id": "",
       "version_major": 2,
       "version_minor": 0
      },
      "text/plain": [
       "solo_L3_eui-hrieuv174-image_20220302T231200345_V02.jp2:   0%|          | 0.00/1.27M [00:00<?, ?B/s]"
      ]
     },
     "metadata": {},
     "output_type": "display_data"
    },
    {
     "data": {
      "application/vnd.jupyter.widget-view+json": {
       "model_id": "",
       "version_major": 2,
       "version_minor": 0
      },
      "text/plain": [
       "solo_L3_eui-hrieuv174-image_20220302T231400346_V02.jp2:   0%|          | 0.00/1.27M [00:00<?, ?B/s]"
      ]
     },
     "metadata": {},
     "output_type": "display_data"
    },
    {
     "data": {
      "application/vnd.jupyter.widget-view+json": {
       "model_id": "",
       "version_major": 2,
       "version_minor": 0
      },
      "text/plain": [
       "solo_L3_eui-hrieuv174-image_20220302T231600346_V02.jp2:   0%|          | 0.00/1.27M [00:00<?, ?B/s]"
      ]
     },
     "metadata": {},
     "output_type": "display_data"
    },
    {
     "data": {
      "application/vnd.jupyter.widget-view+json": {
       "model_id": "",
       "version_major": 2,
       "version_minor": 0
      },
      "text/plain": [
       "solo_L3_eui-hrieuv174-image_20220302T231800346_V02.jp2:   0%|          | 0.00/1.27M [00:00<?, ?B/s]"
      ]
     },
     "metadata": {},
     "output_type": "display_data"
    },
    {
     "data": {
      "application/vnd.jupyter.widget-view+json": {
       "model_id": "",
       "version_major": 2,
       "version_minor": 0
      },
      "text/plain": [
       "solo_L3_eui-hrieuv174-image_20220302T232000375_V02.jp2:   0%|          | 0.00/1.27M [00:00<?, ?B/s]"
      ]
     },
     "metadata": {},
     "output_type": "display_data"
    },
    {
     "data": {
      "application/vnd.jupyter.widget-view+json": {
       "model_id": "",
       "version_major": 2,
       "version_minor": 0
      },
      "text/plain": [
       "solo_L3_eui-hrieuv174-image_20220302T232200381_V02.jp2:   0%|          | 0.00/1.27M [00:00<?, ?B/s]"
      ]
     },
     "metadata": {},
     "output_type": "display_data"
    },
    {
     "data": {
      "application/vnd.jupyter.widget-view+json": {
       "model_id": "",
       "version_major": 2,
       "version_minor": 0
      },
      "text/plain": [
       "solo_L3_eui-hrieuv174-image_20220302T232600347_V02.jp2:   0%|          | 0.00/1.27M [00:00<?, ?B/s]"
      ]
     },
     "metadata": {},
     "output_type": "display_data"
    },
    {
     "data": {
      "application/vnd.jupyter.widget-view+json": {
       "model_id": "",
       "version_major": 2,
       "version_minor": 0
      },
      "text/plain": [
       "solo_L3_eui-hrieuv174-image_20220302T232800377_V02.jp2:   0%|          | 0.00/1.27M [00:00<?, ?B/s]"
      ]
     },
     "metadata": {},
     "output_type": "display_data"
    },
    {
     "data": {
      "application/vnd.jupyter.widget-view+json": {
       "model_id": "",
       "version_major": 2,
       "version_minor": 0
      },
      "text/plain": [
       "solo_L3_eui-hrieuv174-image_20220302T233000378_V02.jp2:   0%|          | 0.00/1.27M [00:00<?, ?B/s]"
      ]
     },
     "metadata": {},
     "output_type": "display_data"
    },
    {
     "data": {
      "application/vnd.jupyter.widget-view+json": {
       "model_id": "",
       "version_major": 2,
       "version_minor": 0
      },
      "text/plain": [
       "solo_L3_eui-hrieuv174-image_20220302T232400382_V02.jp2:   0%|          | 0.00/1.27M [00:00<?, ?B/s]"
      ]
     },
     "metadata": {},
     "output_type": "display_data"
    },
    {
     "data": {
      "application/vnd.jupyter.widget-view+json": {
       "model_id": "",
       "version_major": 2,
       "version_minor": 0
      },
      "text/plain": [
       "solo_L3_eui-hrieuv174-image_20220302T233200378_V02.jp2:   0%|          | 0.00/1.27M [00:00<?, ?B/s]"
      ]
     },
     "metadata": {},
     "output_type": "display_data"
    },
    {
     "data": {
      "application/vnd.jupyter.widget-view+json": {
       "model_id": "",
       "version_major": 2,
       "version_minor": 0
      },
      "text/plain": [
       "solo_L3_eui-hrieuv174-image_20220302T233400377_V02.jp2:   0%|          | 0.00/1.27M [00:00<?, ?B/s]"
      ]
     },
     "metadata": {},
     "output_type": "display_data"
    },
    {
     "data": {
      "application/vnd.jupyter.widget-view+json": {
       "model_id": "",
       "version_major": 2,
       "version_minor": 0
      },
      "text/plain": [
       "solo_L3_eui-hrieuv174-image_20220302T233600374_V02.jp2:   0%|          | 0.00/1.27M [00:00<?, ?B/s]"
      ]
     },
     "metadata": {},
     "output_type": "display_data"
    },
    {
     "data": {
      "application/vnd.jupyter.widget-view+json": {
       "model_id": "",
       "version_major": 2,
       "version_minor": 0
      },
      "text/plain": [
       "solo_L3_eui-hrieuv174-image_20220302T233800379_V02.jp2:   0%|          | 0.00/1.27M [00:00<?, ?B/s]"
      ]
     },
     "metadata": {},
     "output_type": "display_data"
    },
    {
     "data": {
      "application/vnd.jupyter.widget-view+json": {
       "model_id": "",
       "version_major": 2,
       "version_minor": 0
      },
      "text/plain": [
       "solo_L3_eui-hrieuv174-image_20220302T234000347_V02.jp2:   0%|          | 0.00/1.27M [00:00<?, ?B/s]"
      ]
     },
     "metadata": {},
     "output_type": "display_data"
    },
    {
     "data": {
      "application/vnd.jupyter.widget-view+json": {
       "model_id": "",
       "version_major": 2,
       "version_minor": 0
      },
      "text/plain": [
       "solo_L3_eui-hrieuv174-image_20220302T234200349_V02.jp2:   0%|          | 0.00/1.27M [00:00<?, ?B/s]"
      ]
     },
     "metadata": {},
     "output_type": "display_data"
    },
    {
     "data": {
      "application/vnd.jupyter.widget-view+json": {
       "model_id": "",
       "version_major": 2,
       "version_minor": 0
      },
      "text/plain": [
       "solo_L3_eui-hrieuv174-image_20220302T234800349_V02.jp2:   0%|          | 0.00/1.27M [00:00<?, ?B/s]"
      ]
     },
     "metadata": {},
     "output_type": "display_data"
    },
    {
     "data": {
      "application/vnd.jupyter.widget-view+json": {
       "model_id": "",
       "version_major": 2,
       "version_minor": 0
      },
      "text/plain": [
       "solo_L3_eui-hrieuv174-image_20220302T234600349_V02.jp2:   0%|          | 0.00/1.27M [00:00<?, ?B/s]"
      ]
     },
     "metadata": {},
     "output_type": "display_data"
    },
    {
     "data": {
      "application/vnd.jupyter.widget-view+json": {
       "model_id": "",
       "version_major": 2,
       "version_minor": 0
      },
      "text/plain": [
       "solo_L3_eui-hrieuv174-image_20220302T235000348_V02.jp2:   0%|          | 0.00/1.27M [00:00<?, ?B/s]"
      ]
     },
     "metadata": {},
     "output_type": "display_data"
    },
    {
     "data": {
      "application/vnd.jupyter.widget-view+json": {
       "model_id": "",
       "version_major": 2,
       "version_minor": 0
      },
      "text/plain": [
       "solo_L3_eui-hrieuv174-image_20220302T234400349_V02.jp2:   0%|          | 0.00/1.27M [00:00<?, ?B/s]"
      ]
     },
     "metadata": {},
     "output_type": "display_data"
    },
    {
     "data": {
      "application/vnd.jupyter.widget-view+json": {
       "model_id": "",
       "version_major": 2,
       "version_minor": 0
      },
      "text/plain": [
       "solo_L3_eui-hrieuv174-image_20220302T235200350_V02.jp2:   0%|          | 0.00/1.27M [00:00<?, ?B/s]"
      ]
     },
     "metadata": {},
     "output_type": "display_data"
    },
    {
     "data": {
      "application/vnd.jupyter.widget-view+json": {
       "model_id": "",
       "version_major": 2,
       "version_minor": 0
      },
      "text/plain": [
       "solo_L3_eui-hrieuv174-image_20220302T235400350_V02.jp2:   0%|          | 0.00/1.27M [00:00<?, ?B/s]"
      ]
     },
     "metadata": {},
     "output_type": "display_data"
    },
    {
     "data": {
      "application/vnd.jupyter.widget-view+json": {
       "model_id": "",
       "version_major": 2,
       "version_minor": 0
      },
      "text/plain": [
       "solo_L3_eui-hrieuv174-image_20220302T235600350_V02.jp2:   0%|          | 0.00/1.27M [00:00<?, ?B/s]"
      ]
     },
     "metadata": {},
     "output_type": "display_data"
    },
    {
     "data": {
      "application/vnd.jupyter.widget-view+json": {
       "model_id": "",
       "version_major": 2,
       "version_minor": 0
      },
      "text/plain": [
       "solo_L3_eui-hrieuv174-image_20220302T235800350_V02.jp2:   0%|          | 0.00/1.27M [00:00<?, ?B/s]"
      ]
     },
     "metadata": {},
     "output_type": "display_data"
    },
    {
     "data": {
      "text/plain": [
       "<parfive.results.Results object at 0x7fdf27e74ee0>\n",
       "['eui_files_20220302_0000/solo_L3_eui-hrieuv174-image_20220302T000000201_V02.jp2', 'eui_files_20220302_0000/solo_L3_eui-hrieuv174-image_20220302T000200200_V02.jp2', 'eui_files_20220302_0000/solo_L3_eui-hrieuv174-image_20220302T000400235_V02.jp2', 'eui_files_20220302_0000/solo_L3_eui-hrieuv174-image_20220302T000600201_V02.jp2', 'eui_files_20220302_0000/solo_L3_eui-hrieuv174-image_20220302T000800201_V02.jp2', 'eui_files_20220302_0000/solo_L3_eui-hrieuv174-image_20220302T001000201_V02.jp2', 'eui_files_20220302_0000/solo_L3_eui-hrieuv174-image_20220302T001200201_V02.jp2', 'eui_files_20220302_0000/solo_L3_eui-hrieuv174-image_20220302T001400201_V02.jp2', 'eui_files_20220302_0000/solo_L3_eui-hrieuv174-image_20220302T001600202_V02.jp2', 'eui_files_20220302_0000/solo_L3_eui-hrieuv174-image_20220302T001800202_V02.jp2', 'eui_files_20220302_0000/solo_L3_eui-hrieuv174-image_20220302T002000202_V02.jp2', 'eui_files_20220302_0000/solo_L3_eui-hrieuv174-image_20220302T002200202_V02.jp2', 'eui_files_20220302_0000/solo_L3_eui-hrieuv174-image_20220302T002400203_V02.jp2', 'eui_files_20220302_0000/solo_L3_eui-hrieuv174-image_20220302T002600203_V02.jp2', 'eui_files_20220302_0000/solo_L3_eui-hrieuv174-image_20220302T002800202_V02.jp2', 'eui_files_20220302_0000/solo_L3_eui-hrieuv174-image_20220302T003000203_V02.jp2', 'eui_files_20220302_0000/solo_L3_eui-hrieuv174-image_20220302T003200203_V02.jp2', 'eui_files_20220302_0000/solo_L3_eui-hrieuv174-image_20220302T003400203_V02.jp2', 'eui_files_20220302_0000/solo_L3_eui-hrieuv174-image_20220302T003600204_V02.jp2', 'eui_files_20220302_0000/solo_L3_eui-hrieuv174-image_20220302T003800203_V02.jp2', 'eui_files_20220302_0000/solo_L3_eui-hrieuv174-image_20220302T004000204_V02.jp2', 'eui_files_20220302_0000/solo_L3_eui-hrieuv174-image_20220302T004200205_V02.jp2', 'eui_files_20220302_0000/solo_L3_eui-hrieuv174-image_20220302T004400205_V02.jp2', 'eui_files_20220302_0000/solo_L3_eui-hrieuv174-image_20220302T004600205_V02.jp2', 'eui_files_20220302_0000/solo_L3_eui-hrieuv174-image_20220302T004800207_V02.jp2', 'eui_files_20220302_0000/solo_L3_eui-hrieuv174-image_20220302T005000206_V02.jp2', 'eui_files_20220302_0000/solo_L3_eui-hrieuv174-image_20220302T005200206_V02.jp2', 'eui_files_20220302_0000/solo_L3_eui-hrieuv174-image_20220302T005400206_V02.jp2', 'eui_files_20220302_0000/solo_L3_eui-hrieuv174-image_20220302T005600206_V02.jp2', 'eui_files_20220302_0000/solo_L3_eui-hrieuv174-image_20220302T005800206_V02.jp2', 'eui_files_20220302_0000/solo_L3_eui-hrieuv174-image_20220302T010000207_V02.jp2', 'eui_files_20220302_0000/solo_L3_eui-hrieuv174-image_20220302T010200207_V02.jp2', 'eui_files_20220302_0000/solo_L3_eui-hrieuv174-image_20220302T010400207_V02.jp2', 'eui_files_20220302_0000/solo_L3_eui-hrieuv174-image_20220302T010600207_V02.jp2', 'eui_files_20220302_0000/solo_L3_eui-hrieuv174-image_20220302T010800207_V02.jp2', 'eui_files_20220302_0000/solo_L3_eui-hrieuv174-image_20220302T011000207_V02.jp2', 'eui_files_20220302_0000/solo_L3_eui-hrieuv174-image_20220302T011200208_V02.jp2', 'eui_files_20220302_0000/solo_L3_eui-hrieuv174-image_20220302T011400208_V02.jp2', 'eui_files_20220302_0000/solo_L3_eui-hrieuv174-image_20220302T011600208_V02.jp2', 'eui_files_20220302_0000/solo_L3_eui-hrieuv174-image_20220302T011800208_V02.jp2', 'eui_files_20220302_0000/solo_L3_eui-hrieuv174-image_20220302T012000209_V02.jp2', 'eui_files_20220302_0000/solo_L3_eui-hrieuv174-image_20220302T012200209_V02.jp2', 'eui_files_20220302_0000/solo_L3_eui-hrieuv174-image_20220302T012400209_V02.jp2', 'eui_files_20220302_0000/solo_L3_eui-hrieuv174-image_20220302T012600209_V02.jp2', 'eui_files_20220302_0000/solo_L3_eui-hrieuv174-image_20220302T012800209_V02.jp2', 'eui_files_20220302_0000/solo_L3_eui-hrieuv174-image_20220302T013000210_V02.jp2', 'eui_files_20220302_0000/solo_L3_eui-hrieuv174-image_20220302T013200210_V02.jp2', 'eui_files_20220302_0000/solo_L3_eui-hrieuv174-image_20220302T013400216_V02.jp2', 'eui_files_20220302_0000/solo_L3_eui-hrieuv174-image_20220302T013600212_V02.jp2', 'eui_files_20220302_0000/solo_L3_eui-hrieuv174-image_20220302T013800214_V02.jp2', 'eui_files_20220302_0000/solo_L3_eui-hrieuv174-image_20220302T014000232_V02.jp2', 'eui_files_20220302_0000/solo_L3_eui-hrieuv174-image_20220302T014200237_V02.jp2', 'eui_files_20220302_0000/solo_L3_eui-hrieuv174-image_20220302T014400237_V02.jp2', 'eui_files_20220302_0000/solo_L3_eui-hrieuv174-image_20220302T014600212_V02.jp2', 'eui_files_20220302_0000/solo_L3_eui-hrieuv174-image_20220302T014800212_V02.jp2', 'eui_files_20220302_0000/solo_L3_eui-hrieuv174-image_20220302T015000212_V02.jp2', 'eui_files_20220302_0000/solo_L3_eui-hrieuv174-image_20220302T015200238_V02.jp2', 'eui_files_20220302_0000/solo_L3_eui-hrieuv174-image_20220302T015400236_V02.jp2', 'eui_files_20220302_0000/solo_L3_eui-hrieuv174-image_20220302T015600212_V02.jp2', 'eui_files_20220302_0000/solo_L3_eui-hrieuv174-image_20220302T015800212_V02.jp2', 'eui_files_20220302_0000/solo_L3_eui-hrieuv174-image_20220302T020000213_V02.jp2', 'eui_files_20220302_0000/solo_L3_eui-hrieuv174-image_20220302T020200213_V02.jp2', 'eui_files_20220302_0000/solo_L3_eui-hrieuv174-image_20220302T020400214_V02.jp2', 'eui_files_20220302_0000/solo_L3_eui-hrieuv174-image_20220302T020600214_V02.jp2', 'eui_files_20220302_0000/solo_L3_eui-hrieuv174-image_20220302T020800214_V02.jp2', 'eui_files_20220302_0000/solo_L3_eui-hrieuv174-image_20220302T021000213_V02.jp2', 'eui_files_20220302_0000/solo_L3_eui-hrieuv174-image_20220302T021200214_V02.jp2', 'eui_files_20220302_0000/solo_L3_eui-hrieuv174-image_20220302T021400214_V02.jp2', 'eui_files_20220302_0000/solo_L3_eui-hrieuv174-image_20220302T021600214_V02.jp2', 'eui_files_20220302_0000/solo_L3_eui-hrieuv174-image_20220302T021800214_V02.jp2', 'eui_files_20220302_0000/solo_L3_eui-hrieuv174-image_20220302T022000215_V02.jp2', 'eui_files_20220302_0000/solo_L3_eui-hrieuv174-image_20220302T022200215_V02.jp2', 'eui_files_20220302_0000/solo_L3_eui-hrieuv174-image_20220302T022400215_V02.jp2', 'eui_files_20220302_0000/solo_L3_eui-hrieuv174-image_20220302T022600214_V02.jp2', 'eui_files_20220302_0000/solo_L3_eui-hrieuv174-image_20220302T022800216_V02.jp2', 'eui_files_20220302_0000/solo_L3_eui-hrieuv174-image_20220302T023000216_V02.jp2', 'eui_files_20220302_0000/solo_L3_eui-hrieuv174-image_20220302T023200216_V02.jp2', 'eui_files_20220302_0000/solo_L3_eui-hrieuv174-image_20220302T023400216_V02.jp2', 'eui_files_20220302_0000/solo_L3_eui-hrieuv174-image_20220302T023600217_V02.jp2', 'eui_files_20220302_0000/solo_L3_eui-hrieuv174-image_20220302T023800217_V02.jp2', 'eui_files_20220302_0000/solo_L3_eui-hrieuv174-image_20220302T024000217_V02.jp2', 'eui_files_20220302_0000/solo_L3_eui-hrieuv174-image_20220302T024200217_V02.jp2', 'eui_files_20220302_0000/solo_L3_eui-hrieuv174-image_20220302T024400217_V02.jp2', 'eui_files_20220302_0000/solo_L3_eui-hrieuv174-image_20220302T024600218_V02.jp2', 'eui_files_20220302_0000/solo_L3_eui-hrieuv174-image_20220302T024800251_V02.jp2', 'eui_files_20220302_0000/solo_L3_eui-hrieuv174-image_20220302T025000218_V02.jp2', 'eui_files_20220302_0000/solo_L3_eui-hrieuv174-image_20220302T025200218_V02.jp2', 'eui_files_20220302_0000/solo_L3_eui-hrieuv174-image_20220302T025400218_V02.jp2', 'eui_files_20220302_0000/solo_L3_eui-hrieuv174-image_20220302T025600218_V02.jp2', 'eui_files_20220302_0000/solo_L3_eui-hrieuv174-image_20220302T025800219_V02.jp2', 'eui_files_20220302_0000/solo_L3_eui-hrieuv174-image_20220302T030000219_V02.jp2', 'eui_files_20220302_0000/solo_L3_eui-hrieuv174-image_20220302T030200219_V02.jp2', 'eui_files_20220302_0000/solo_L3_eui-hrieuv174-image_20220302T030400220_V02.jp2', 'eui_files_20220302_0000/solo_L3_eui-hrieuv174-image_20220302T030600220_V02.jp2', 'eui_files_20220302_0000/solo_L3_eui-hrieuv174-image_20220302T030800220_V02.jp2', 'eui_files_20220302_0000/solo_L3_eui-hrieuv174-image_20220302T031000220_V02.jp2', 'eui_files_20220302_0000/solo_L3_eui-hrieuv174-image_20220302T031200220_V02.jp2', 'eui_files_20220302_0000/solo_L3_eui-hrieuv174-image_20220302T031400220_V02.jp2', 'eui_files_20220302_0000/solo_L3_eui-hrieuv174-image_20220302T031600220_V02.jp2', 'eui_files_20220302_0000/solo_L3_eui-hrieuv174-image_20220302T031800221_V02.jp2', 'eui_files_20220302_0000/solo_L3_eui-hrieuv174-image_20220302T032000221_V02.jp2', 'eui_files_20220302_0000/solo_L3_eui-hrieuv174-image_20220302T032200221_V02.jp2', 'eui_files_20220302_0000/solo_L3_eui-hrieuv174-image_20220302T032400221_V02.jp2', 'eui_files_20220302_0000/solo_L3_eui-hrieuv174-image_20220302T032600221_V02.jp2', 'eui_files_20220302_0000/solo_L3_eui-hrieuv174-image_20220302T032800222_V02.jp2', 'eui_files_20220302_0000/solo_L3_eui-hrieuv174-image_20220302T033000222_V02.jp2', 'eui_files_20220302_0000/solo_L3_eui-hrieuv174-image_20220302T033200222_V02.jp2', 'eui_files_20220302_0000/solo_L3_eui-hrieuv174-image_20220302T033400222_V02.jp2', 'eui_files_20220302_0000/solo_L3_eui-hrieuv174-image_20220302T033600223_V02.jp2', 'eui_files_20220302_0000/solo_L3_eui-hrieuv174-image_20220302T033800223_V02.jp2', 'eui_files_20220302_0000/solo_L3_eui-hrieuv174-image_20220302T034000223_V02.jp2', 'eui_files_20220302_0000/solo_L3_eui-hrieuv174-image_20220302T034200223_V02.jp2', 'eui_files_20220302_0000/solo_L3_eui-hrieuv174-image_20220302T034400224_V02.jp2', 'eui_files_20220302_0000/solo_L3_eui-hrieuv174-image_20220302T034600223_V02.jp2', 'eui_files_20220302_0000/solo_L3_eui-hrieuv174-image_20220302T034800224_V02.jp2', 'eui_files_20220302_0000/solo_L3_eui-hrieuv174-image_20220302T035000224_V02.jp2', 'eui_files_20220302_0000/solo_L3_eui-hrieuv174-image_20220302T035200224_V02.jp2', 'eui_files_20220302_0000/solo_L3_eui-hrieuv174-image_20220302T035400225_V02.jp2', 'eui_files_20220302_0000/solo_L3_eui-hrieuv174-image_20220302T035600225_V02.jp2', 'eui_files_20220302_0000/solo_L3_eui-hrieuv174-image_20220302T035800224_V02.jp2', 'eui_files_20220302_0000/solo_L3_eui-hrieuv174-image_20220302T040000225_V02.jp2', 'eui_files_20220302_0000/solo_L3_eui-hrieuv174-image_20220302T040200226_V02.jp2', 'eui_files_20220302_0000/solo_L3_eui-hrieuv174-image_20220302T040400226_V02.jp2', 'eui_files_20220302_0000/solo_L3_eui-hrieuv174-image_20220302T040600226_V02.jp2', 'eui_files_20220302_0000/solo_L3_eui-hrieuv174-image_20220302T040800226_V02.jp2', 'eui_files_20220302_0000/solo_L3_eui-hrieuv174-image_20220302T041000226_V02.jp2', 'eui_files_20220302_0000/solo_L3_eui-hrieuv174-image_20220302T041200227_V02.jp2', 'eui_files_20220302_0000/solo_L3_eui-hrieuv174-image_20220302T041400227_V02.jp2', 'eui_files_20220302_0000/solo_L3_eui-hrieuv174-image_20220302T041600227_V02.jp2', 'eui_files_20220302_0000/solo_L3_eui-hrieuv174-image_20220302T041800227_V02.jp2', 'eui_files_20220302_0000/solo_L3_eui-hrieuv174-image_20220302T042000239_V02.jp2', 'eui_files_20220302_0000/solo_L3_eui-hrieuv174-image_20220302T042200228_V02.jp2', 'eui_files_20220302_0000/solo_L3_eui-hrieuv174-image_20220302T042400228_V02.jp2', 'eui_files_20220302_0000/solo_L3_eui-hrieuv174-image_20220302T042600228_V02.jp2', 'eui_files_20220302_0000/solo_L3_eui-hrieuv174-image_20220302T042800229_V02.jp2', 'eui_files_20220302_0000/solo_L3_eui-hrieuv174-image_20220302T043000227_V02.jp2', 'eui_files_20220302_0000/solo_L3_eui-hrieuv174-image_20220302T043200229_V02.jp2', 'eui_files_20220302_0000/solo_L3_eui-hrieuv174-image_20220302T043400229_V02.jp2', 'eui_files_20220302_0000/solo_L3_eui-hrieuv174-image_20220302T043600228_V02.jp2', 'eui_files_20220302_0000/solo_L3_eui-hrieuv174-image_20220302T043800230_V02.jp2', 'eui_files_20220302_0000/solo_L3_eui-hrieuv174-image_20220302T044000229_V02.jp2', 'eui_files_20220302_0000/solo_L3_eui-hrieuv174-image_20220302T044200231_V02.jp2', 'eui_files_20220302_0000/solo_L3_eui-hrieuv174-image_20220302T044400263_V02.jp2', 'eui_files_20220302_0000/solo_L3_eui-hrieuv174-image_20220302T044600230_V02.jp2', 'eui_files_20220302_0000/solo_L3_eui-hrieuv174-image_20220302T044800230_V02.jp2', 'eui_files_20220302_0000/solo_L3_eui-hrieuv174-image_20220302T045000230_V02.jp2', 'eui_files_20220302_0000/solo_L3_eui-hrieuv174-image_20220302T045200231_V02.jp2', 'eui_files_20220302_0000/solo_L3_eui-hrieuv174-image_20220302T045400231_V02.jp2', 'eui_files_20220302_0000/solo_L3_eui-hrieuv174-image_20220302T045600241_V02.jp2', 'eui_files_20220302_0000/solo_L3_eui-hrieuv174-image_20220302T045800231_V02.jp2', 'eui_files_20220302_0000/solo_L3_eui-hrieuv174-image_20220302T050000231_V02.jp2', 'eui_files_20220302_0000/solo_L3_eui-hrieuv174-image_20220302T050200232_V02.jp2', 'eui_files_20220302_0000/solo_L3_eui-hrieuv174-image_20220302T050400232_V02.jp2', 'eui_files_20220302_0000/solo_L3_eui-hrieuv174-image_20220302T050600232_V02.jp2', 'eui_files_20220302_0000/solo_L3_eui-hrieuv174-image_20220302T050800232_V02.jp2', 'eui_files_20220302_0000/solo_L3_eui-hrieuv174-image_20220302T051000231_V02.jp2', 'eui_files_20220302_0000/solo_L3_eui-hrieuv174-image_20220302T051200235_V02.jp2', 'eui_files_20220302_0000/solo_L3_eui-hrieuv174-image_20220302T051400233_V02.jp2', 'eui_files_20220302_0000/solo_L3_eui-hrieuv174-image_20220302T051600233_V02.jp2', 'eui_files_20220302_0000/solo_L3_eui-hrieuv174-image_20220302T051800234_V02.jp2', 'eui_files_20220302_0000/solo_L3_eui-hrieuv174-image_20220302T052000234_V02.jp2', 'eui_files_20220302_0000/solo_L3_eui-hrieuv174-image_20220302T052200234_V02.jp2', 'eui_files_20220302_0000/solo_L3_eui-hrieuv174-image_20220302T052400234_V02.jp2', 'eui_files_20220302_0000/solo_L3_eui-hrieuv174-image_20220302T052600234_V02.jp2', 'eui_files_20220302_0000/solo_L3_eui-hrieuv174-image_20220302T052800233_V02.jp2', 'eui_files_20220302_0000/solo_L3_eui-hrieuv174-image_20220302T053000235_V02.jp2', 'eui_files_20220302_0000/solo_L3_eui-hrieuv174-image_20220302T053200235_V02.jp2', 'eui_files_20220302_0000/solo_L3_eui-hrieuv174-image_20220302T053400233_V02.jp2', 'eui_files_20220302_0000/solo_L3_eui-hrieuv174-image_20220302T053600235_V02.jp2', 'eui_files_20220302_0000/solo_L3_eui-hrieuv174-image_20220302T053800234_V02.jp2', 'eui_files_20220302_0000/solo_L3_eui-hrieuv174-image_20220302T054000235_V02.jp2', 'eui_files_20220302_0000/solo_L3_eui-hrieuv174-image_20220302T054200236_V02.jp2', 'eui_files_20220302_0000/solo_L3_eui-hrieuv174-image_20220302T054400236_V02.jp2', 'eui_files_20220302_0000/solo_L3_eui-hrieuv174-image_20220302T054600236_V02.jp2', 'eui_files_20220302_0000/solo_L3_eui-hrieuv174-image_20220302T054800237_V02.jp2', 'eui_files_20220302_0000/solo_L3_eui-hrieuv174-image_20220302T055000237_V02.jp2', 'eui_files_20220302_0000/solo_L3_eui-hrieuv174-image_20220302T055200265_V02.jp2', 'eui_files_20220302_0000/solo_L3_eui-hrieuv174-image_20220302T055400263_V02.jp2', 'eui_files_20220302_0000/solo_L3_eui-hrieuv174-image_20220302T055600237_V02.jp2', 'eui_files_20220302_0000/solo_L3_eui-hrieuv174-image_20220302T055800238_V02.jp2', 'eui_files_20220302_0000/solo_L3_eui-hrieuv174-image_20220302T060000236_V02.jp2', 'eui_files_20220302_0000/solo_L3_eui-hrieuv174-image_20220302T060200237_V02.jp2', 'eui_files_20220302_0000/solo_L3_eui-hrieuv174-image_20220302T060400238_V02.jp2', 'eui_files_20220302_0000/solo_L3_eui-hrieuv174-image_20220302T060600238_V02.jp2', 'eui_files_20220302_0000/solo_L3_eui-hrieuv174-image_20220302T060800238_V02.jp2', 'eui_files_20220302_0000/solo_L3_eui-hrieuv174-image_20220302T061000238_V02.jp2', 'eui_files_20220302_0000/solo_L3_eui-hrieuv174-image_20220302T061200239_V02.jp2', 'eui_files_20220302_0000/solo_L3_eui-hrieuv174-image_20220302T061400239_V02.jp2', 'eui_files_20220302_0000/solo_L3_eui-hrieuv174-image_20220302T061600239_V02.jp2', 'eui_files_20220302_0000/solo_L3_eui-hrieuv174-image_20220302T061800238_V02.jp2', 'eui_files_20220302_0000/solo_L3_eui-hrieuv174-image_20220302T062000240_V02.jp2', 'eui_files_20220302_0000/solo_L3_eui-hrieuv174-image_20220302T062200240_V02.jp2', 'eui_files_20220302_0000/solo_L3_eui-hrieuv174-image_20220302T062400241_V02.jp2', 'eui_files_20220302_0000/solo_L3_eui-hrieuv174-image_20220302T062600241_V02.jp2', 'eui_files_20220302_0000/solo_L3_eui-hrieuv174-image_20220302T062800274_V02.jp2', 'eui_files_20220302_0000/solo_L3_eui-hrieuv174-image_20220302T063000241_V02.jp2', 'eui_files_20220302_0000/solo_L3_eui-hrieuv174-image_20220302T063200241_V02.jp2', 'eui_files_20220302_0000/solo_L3_eui-hrieuv174-image_20220302T063400241_V02.jp2', 'eui_files_20220302_0000/solo_L3_eui-hrieuv174-image_20220302T063600244_V02.jp2', 'eui_files_20220302_0000/solo_L3_eui-hrieuv174-image_20220302T063800242_V02.jp2', 'eui_files_20220302_0000/solo_L3_eui-hrieuv174-image_20220302T064000242_V02.jp2', 'eui_files_20220302_0000/solo_L3_eui-hrieuv174-image_20220302T064200242_V02.jp2', 'eui_files_20220302_0000/solo_L3_eui-hrieuv174-image_20220302T064400243_V02.jp2', 'eui_files_20220302_0000/solo_L3_eui-hrieuv174-image_20220302T064600243_V02.jp2', 'eui_files_20220302_0000/solo_L3_eui-hrieuv174-image_20220302T064800243_V02.jp2', 'eui_files_20220302_0000/solo_L3_eui-hrieuv174-image_20220302T065000243_V02.jp2', 'eui_files_20220302_0000/solo_L3_eui-hrieuv174-image_20220302T065200243_V02.jp2', 'eui_files_20220302_0000/solo_L3_eui-hrieuv174-image_20220302T065400244_V02.jp2', 'eui_files_20220302_0000/solo_L3_eui-hrieuv174-image_20220302T065600242_V02.jp2', 'eui_files_20220302_0000/solo_L3_eui-hrieuv174-image_20220302T065800244_V02.jp2', 'eui_files_20220302_0000/solo_L3_eui-hrieuv174-image_20220302T070000244_V02.jp2', 'eui_files_20220302_0000/solo_L3_eui-hrieuv174-image_20220302T070200244_V02.jp2', 'eui_files_20220302_0000/solo_L3_eui-hrieuv174-image_20220302T070400243_V02.jp2', 'eui_files_20220302_0000/solo_L3_eui-hrieuv174-image_20220302T070600245_V02.jp2', 'eui_files_20220302_0000/solo_L3_eui-hrieuv174-image_20220302T070800245_V02.jp2', 'eui_files_20220302_0000/solo_L3_eui-hrieuv174-image_20220302T071000245_V02.jp2', 'eui_files_20220302_0000/solo_L3_eui-hrieuv174-image_20220302T071200245_V02.jp2', 'eui_files_20220302_0000/solo_L3_eui-hrieuv174-image_20220302T071400245_V02.jp2', 'eui_files_20220302_0000/solo_L3_eui-hrieuv174-image_20220302T071600246_V02.jp2', 'eui_files_20220302_0000/solo_L3_eui-hrieuv174-image_20220302T071800246_V02.jp2', 'eui_files_20220302_0000/solo_L3_eui-hrieuv174-image_20220302T072000247_V02.jp2', 'eui_files_20220302_0000/solo_L3_eui-hrieuv174-image_20220302T072200246_V02.jp2', 'eui_files_20220302_0000/solo_L3_eui-hrieuv174-image_20220302T072400247_V02.jp2', 'eui_files_20220302_0000/solo_L3_eui-hrieuv174-image_20220302T072600246_V02.jp2', 'eui_files_20220302_0000/solo_L3_eui-hrieuv174-image_20220302T072800247_V02.jp2', 'eui_files_20220302_0000/solo_L3_eui-hrieuv174-image_20220302T073000246_V02.jp2', 'eui_files_20220302_0000/solo_L3_eui-hrieuv174-image_20220302T073200247_V02.jp2', 'eui_files_20220302_0000/solo_L3_eui-hrieuv174-image_20220302T073400248_V02.jp2', 'eui_files_20220302_0000/solo_L3_eui-hrieuv174-image_20220302T073600246_V02.jp2', 'eui_files_20220302_0000/solo_L3_eui-hrieuv174-image_20220302T073800248_V02.jp2', 'eui_files_20220302_0000/solo_L3_eui-hrieuv174-image_20220302T074000248_V02.jp2', 'eui_files_20220302_0000/solo_L3_eui-hrieuv174-image_20220302T074200249_V02.jp2', 'eui_files_20220302_0000/solo_L3_eui-hrieuv174-image_20220302T074400249_V02.jp2', 'eui_files_20220302_0000/solo_L3_eui-hrieuv174-image_20220302T074600249_V02.jp2', 'eui_files_20220302_0000/solo_L3_eui-hrieuv174-image_20220302T074800249_V02.jp2', 'eui_files_20220302_0000/solo_L3_eui-hrieuv174-image_20220302T075000249_V02.jp2', 'eui_files_20220302_0000/solo_L3_eui-hrieuv174-image_20220302T075200250_V02.jp2', 'eui_files_20220302_0000/solo_L3_eui-hrieuv174-image_20220302T075400250_V02.jp2', 'eui_files_20220302_0000/solo_L3_eui-hrieuv174-image_20220302T075600250_V02.jp2', 'eui_files_20220302_0000/solo_L3_eui-hrieuv174-image_20220302T075800250_V02.jp2', 'eui_files_20220302_0000/solo_L3_eui-hrieuv174-image_20220302T080000250_V02.jp2', 'eui_files_20220302_0000/solo_L3_eui-hrieuv174-image_20220302T080200250_V02.jp2', 'eui_files_20220302_0000/solo_L3_eui-hrieuv174-image_20220302T080400251_V02.jp2', 'eui_files_20220302_0000/solo_L3_eui-hrieuv174-image_20220302T080600251_V02.jp2', 'eui_files_20220302_0000/solo_L3_eui-hrieuv174-image_20220302T080800251_V02.jp2', 'eui_files_20220302_0000/solo_L3_eui-hrieuv174-image_20220302T081000252_V02.jp2', 'eui_files_20220302_0000/solo_L3_eui-hrieuv174-image_20220302T081200252_V02.jp2', 'eui_files_20220302_0000/solo_L3_eui-hrieuv174-image_20220302T081400252_V02.jp2', 'eui_files_20220302_0000/solo_L3_eui-hrieuv174-image_20220302T081600252_V02.jp2', 'eui_files_20220302_0000/solo_L3_eui-hrieuv174-image_20220302T081800252_V02.jp2', 'eui_files_20220302_0000/solo_L3_eui-hrieuv174-image_20220302T082000253_V02.jp2', 'eui_files_20220302_0000/solo_L3_eui-hrieuv174-image_20220302T082200253_V02.jp2', 'eui_files_20220302_0000/solo_L3_eui-hrieuv174-image_20220302T082400253_V02.jp2', 'eui_files_20220302_0000/solo_L3_eui-hrieuv174-image_20220302T082600253_V02.jp2', 'eui_files_20220302_0000/solo_L3_eui-hrieuv174-image_20220302T082800253_V02.jp2', 'eui_files_20220302_0000/solo_L3_eui-hrieuv174-image_20220302T083000252_V02.jp2', 'eui_files_20220302_0000/solo_L3_eui-hrieuv174-image_20220302T083200254_V02.jp2', 'eui_files_20220302_0000/solo_L3_eui-hrieuv174-image_20220302T083400254_V02.jp2', 'eui_files_20220302_0000/solo_L3_eui-hrieuv174-image_20220302T083600283_V02.jp2', 'eui_files_20220302_0000/solo_L3_eui-hrieuv174-image_20220302T083800254_V02.jp2', 'eui_files_20220302_0000/solo_L3_eui-hrieuv174-image_20220302T084000255_V02.jp2', 'eui_files_20220302_0000/solo_L3_eui-hrieuv174-image_20220302T084200255_V02.jp2', 'eui_files_20220302_0000/solo_L3_eui-hrieuv174-image_20220302T084400254_V02.jp2', 'eui_files_20220302_0000/solo_L3_eui-hrieuv174-image_20220302T084600255_V02.jp2', 'eui_files_20220302_0000/solo_L3_eui-hrieuv174-image_20220302T084800255_V02.jp2', 'eui_files_20220302_0000/solo_L3_eui-hrieuv174-image_20220302T085000255_V02.jp2', 'eui_files_20220302_0000/solo_L3_eui-hrieuv174-image_20220302T085200256_V02.jp2', 'eui_files_20220302_0000/solo_L3_eui-hrieuv174-image_20220302T085400256_V02.jp2', 'eui_files_20220302_0000/solo_L3_eui-hrieuv174-image_20220302T085600256_V02.jp2', 'eui_files_20220302_0000/solo_L3_eui-hrieuv174-image_20220302T085800256_V02.jp2', 'eui_files_20220302_0000/solo_L3_eui-hrieuv174-image_20220302T090000278_V02.jp2', 'eui_files_20220302_0000/solo_L3_eui-hrieuv174-image_20220302T090200257_V02.jp2', 'eui_files_20220302_0000/solo_L3_eui-hrieuv174-image_20220302T090400257_V02.jp2', 'eui_files_20220302_0000/solo_L3_eui-hrieuv174-image_20220302T090600257_V02.jp2', 'eui_files_20220302_0000/solo_L3_eui-hrieuv174-image_20220302T090800258_V02.jp2', 'eui_files_20220302_0000/solo_L3_eui-hrieuv174-image_20220302T091000260_V02.jp2', 'eui_files_20220302_0000/solo_L3_eui-hrieuv174-image_20220302T091200258_V02.jp2', 'eui_files_20220302_0000/solo_L3_eui-hrieuv174-image_20220302T091400258_V02.jp2', 'eui_files_20220302_0000/solo_L3_eui-hrieuv174-image_20220302T091600258_V02.jp2', 'eui_files_20220302_0000/solo_L3_eui-hrieuv174-image_20220302T091800259_V02.jp2', 'eui_files_20220302_0000/solo_L3_eui-hrieuv174-image_20220302T092000259_V02.jp2', 'eui_files_20220302_0000/solo_L3_eui-hrieuv174-image_20220302T092200258_V02.jp2', 'eui_files_20220302_0000/solo_L3_eui-hrieuv174-image_20220302T092400259_V02.jp2', 'eui_files_20220302_0000/solo_L3_eui-hrieuv174-image_20220302T092600259_V02.jp2', 'eui_files_20220302_0000/solo_L3_eui-hrieuv174-image_20220302T092800259_V02.jp2', 'eui_files_20220302_0000/solo_L3_eui-hrieuv174-image_20220302T093000260_V02.jp2', 'eui_files_20220302_0000/solo_L3_eui-hrieuv174-image_20220302T093200260_V02.jp2', 'eui_files_20220302_0000/solo_L3_eui-hrieuv174-image_20220302T093400259_V02.jp2', 'eui_files_20220302_0000/solo_L3_eui-hrieuv174-image_20220302T093600260_V02.jp2', 'eui_files_20220302_0000/solo_L3_eui-hrieuv174-image_20220302T093800260_V02.jp2', 'eui_files_20220302_0000/solo_L3_eui-hrieuv174-image_20220302T094000261_V02.jp2', 'eui_files_20220302_0000/solo_L3_eui-hrieuv174-image_20220302T094200261_V02.jp2', 'eui_files_20220302_0000/solo_L3_eui-hrieuv174-image_20220302T094400260_V02.jp2', 'eui_files_20220302_0000/solo_L3_eui-hrieuv174-image_20220302T094600261_V02.jp2', 'eui_files_20220302_0000/solo_L3_eui-hrieuv174-image_20220302T094800261_V02.jp2', 'eui_files_20220302_0000/solo_L3_eui-hrieuv174-image_20220302T095000262_V02.jp2', 'eui_files_20220302_0000/solo_L3_eui-hrieuv174-image_20220302T095200262_V02.jp2', 'eui_files_20220302_0000/solo_L3_eui-hrieuv174-image_20220302T095400262_V02.jp2', 'eui_files_20220302_0000/solo_L3_eui-hrieuv174-image_20220302T095600263_V02.jp2', 'eui_files_20220302_0000/solo_L3_eui-hrieuv174-image_20220302T095800263_V02.jp2', 'eui_files_20220302_0000/solo_L3_eui-hrieuv174-image_20220302T100000263_V02.jp2', 'eui_files_20220302_0000/solo_L3_eui-hrieuv174-image_20220302T100200263_V02.jp2', 'eui_files_20220302_0000/solo_L3_eui-hrieuv174-image_20220302T100400264_V02.jp2', 'eui_files_20220302_0000/solo_L3_eui-hrieuv174-image_20220302T100600264_V02.jp2', 'eui_files_20220302_0000/solo_L3_eui-hrieuv174-image_20220302T100800264_V02.jp2', 'eui_files_20220302_0000/solo_L3_eui-hrieuv174-image_20220302T101000264_V02.jp2', 'eui_files_20220302_0000/solo_L3_eui-hrieuv174-image_20220302T101200264_V02.jp2', 'eui_files_20220302_0000/solo_L3_eui-hrieuv174-image_20220302T101400264_V02.jp2', 'eui_files_20220302_0000/solo_L3_eui-hrieuv174-image_20220302T101600265_V02.jp2', 'eui_files_20220302_0000/solo_L3_eui-hrieuv174-image_20220302T101800265_V02.jp2', 'eui_files_20220302_0000/solo_L3_eui-hrieuv174-image_20220302T102000274_V02.jp2', 'eui_files_20220302_0000/solo_L3_eui-hrieuv174-image_20220302T102200265_V02.jp2', 'eui_files_20220302_0000/solo_L3_eui-hrieuv174-image_20220302T102400265_V02.jp2', 'eui_files_20220302_0000/solo_L3_eui-hrieuv174-image_20220302T102600266_V02.jp2', 'eui_files_20220302_0000/solo_L3_eui-hrieuv174-image_20220302T102800266_V02.jp2', 'eui_files_20220302_0000/solo_L3_eui-hrieuv174-image_20220302T103000266_V02.jp2', 'eui_files_20220302_0000/solo_L3_eui-hrieuv174-image_20220302T103200266_V02.jp2', 'eui_files_20220302_0000/solo_L3_eui-hrieuv174-image_20220302T103400267_V02.jp2', 'eui_files_20220302_0000/solo_L3_eui-hrieuv174-image_20220302T103600267_V02.jp2', 'eui_files_20220302_0000/solo_L3_eui-hrieuv174-image_20220302T103800267_V02.jp2', 'eui_files_20220302_0000/solo_L3_eui-hrieuv174-image_20220302T104000267_V02.jp2', 'eui_files_20220302_0000/solo_L3_eui-hrieuv174-image_20220302T104200267_V02.jp2', 'eui_files_20220302_0000/solo_L3_eui-hrieuv174-image_20220302T104400268_V02.jp2', 'eui_files_20220302_0000/solo_L3_eui-hrieuv174-image_20220302T104600268_V02.jp2', 'eui_files_20220302_0000/solo_L3_eui-hrieuv174-image_20220302T104800268_V02.jp2', 'eui_files_20220302_0000/solo_L3_eui-hrieuv174-image_20220302T105000268_V02.jp2', 'eui_files_20220302_0000/solo_L3_eui-hrieuv174-image_20220302T105200268_V02.jp2', 'eui_files_20220302_0000/solo_L3_eui-hrieuv174-image_20220302T105400268_V02.jp2', 'eui_files_20220302_0000/solo_L3_eui-hrieuv174-image_20220302T105600269_V02.jp2', 'eui_files_20220302_0000/solo_L3_eui-hrieuv174-image_20220302T105800269_V02.jp2', 'eui_files_20220302_0000/solo_L3_eui-hrieuv174-image_20220302T110000269_V02.jp2', 'eui_files_20220302_0000/solo_L3_eui-hrieuv174-image_20220302T110200269_V02.jp2', 'eui_files_20220302_0000/solo_L3_eui-hrieuv174-image_20220302T110400270_V02.jp2', 'eui_files_20220302_0000/solo_L3_eui-hrieuv174-image_20220302T110600270_V02.jp2', 'eui_files_20220302_0000/solo_L3_eui-hrieuv174-image_20220302T110800270_V02.jp2', 'eui_files_20220302_0000/solo_L3_eui-hrieuv174-image_20220302T111000272_V02.jp2', 'eui_files_20220302_0000/solo_L3_eui-hrieuv174-image_20220302T111200270_V02.jp2', 'eui_files_20220302_0000/solo_L3_eui-hrieuv174-image_20220302T111400271_V02.jp2', 'eui_files_20220302_0000/solo_L3_eui-hrieuv174-image_20220302T111600271_V02.jp2', 'eui_files_20220302_0000/solo_L3_eui-hrieuv174-image_20220302T111800271_V02.jp2', 'eui_files_20220302_0000/solo_L3_eui-hrieuv174-image_20220302T112000271_V02.jp2', 'eui_files_20220302_0000/solo_L3_eui-hrieuv174-image_20220302T112200272_V02.jp2', 'eui_files_20220302_0000/solo_L3_eui-hrieuv174-image_20220302T112400272_V02.jp2', 'eui_files_20220302_0000/solo_L3_eui-hrieuv174-image_20220302T112600272_V02.jp2', 'eui_files_20220302_0000/solo_L3_eui-hrieuv174-image_20220302T112800272_V02.jp2', 'eui_files_20220302_0000/solo_L3_eui-hrieuv174-image_20220302T113000272_V02.jp2', 'eui_files_20220302_0000/solo_L3_eui-hrieuv174-image_20220302T113200272_V02.jp2', 'eui_files_20220302_0000/solo_L3_eui-hrieuv174-image_20220302T113400273_V02.jp2', 'eui_files_20220302_0000/solo_L3_eui-hrieuv174-image_20220302T113600273_V02.jp2', 'eui_files_20220302_0000/solo_L3_eui-hrieuv174-image_20220302T113800273_V02.jp2', 'eui_files_20220302_0000/solo_L3_eui-hrieuv174-image_20220302T114000273_V02.jp2', 'eui_files_20220302_0000/solo_L3_eui-hrieuv174-image_20220302T114200273_V02.jp2', 'eui_files_20220302_0000/solo_L3_eui-hrieuv174-image_20220302T114400274_V02.jp2', 'eui_files_20220302_0000/solo_L3_eui-hrieuv174-image_20220302T114600274_V02.jp2', 'eui_files_20220302_0000/solo_L3_eui-hrieuv174-image_20220302T114800274_V02.jp2', 'eui_files_20220302_0000/solo_L3_eui-hrieuv174-image_20220302T115000274_V02.jp2', 'eui_files_20220302_0000/solo_L3_eui-hrieuv174-image_20220302T115200275_V02.jp2', 'eui_files_20220302_0000/solo_L3_eui-hrieuv174-image_20220302T115400275_V02.jp2', 'eui_files_20220302_0000/solo_L3_eui-hrieuv174-image_20220302T115600275_V02.jp2', 'eui_files_20220302_0000/solo_L3_eui-hrieuv174-image_20220302T115800275_V02.jp2', 'eui_files_20220302_0000/solo_L3_eui-hrieuv174-image_20220302T120000299_V02.jp2', 'eui_files_20220302_0000/solo_L3_eui-hrieuv174-image_20220302T120200276_V02.jp2', 'eui_files_20220302_0000/solo_L3_eui-hrieuv174-image_20220302T120400275_V02.jp2', 'eui_files_20220302_0000/solo_L3_eui-hrieuv174-image_20220302T120600276_V02.jp2', 'eui_files_20220302_0000/solo_L3_eui-hrieuv174-image_20220302T120800312_V02.jp2', 'eui_files_20220302_0000/solo_L3_eui-hrieuv174-image_20220302T121000276_V02.jp2', 'eui_files_20220302_0000/solo_L3_eui-hrieuv174-image_20220302T121200277_V02.jp2', 'eui_files_20220302_0000/solo_L3_eui-hrieuv174-image_20220302T121400279_V02.jp2', 'eui_files_20220302_0000/solo_L3_eui-hrieuv174-image_20220302T121600277_V02.jp2', 'eui_files_20220302_0000/solo_L3_eui-hrieuv174-image_20220302T121800277_V02.jp2', 'eui_files_20220302_0000/solo_L3_eui-hrieuv174-image_20220302T122000277_V02.jp2', 'eui_files_20220302_0000/solo_L3_eui-hrieuv174-image_20220302T122200277_V02.jp2', 'eui_files_20220302_0000/solo_L3_eui-hrieuv174-image_20220302T122400278_V02.jp2', 'eui_files_20220302_0000/solo_L3_eui-hrieuv174-image_20220302T122600278_V02.jp2', 'eui_files_20220302_0000/solo_L3_eui-hrieuv174-image_20220302T122800278_V02.jp2', 'eui_files_20220302_0000/solo_L3_eui-hrieuv174-image_20220302T123000278_V02.jp2', 'eui_files_20220302_0000/solo_L3_eui-hrieuv174-image_20220302T123200279_V02.jp2', 'eui_files_20220302_0000/solo_L3_eui-hrieuv174-image_20220302T123400279_V02.jp2', 'eui_files_20220302_0000/solo_L3_eui-hrieuv174-image_20220302T123600279_V02.jp2', 'eui_files_20220302_0000/solo_L3_eui-hrieuv174-image_20220302T123800279_V02.jp2', 'eui_files_20220302_0000/solo_L3_eui-hrieuv174-image_20220302T124000280_V02.jp2', 'eui_files_20220302_0000/solo_L3_eui-hrieuv174-image_20220302T124200280_V02.jp2', 'eui_files_20220302_0000/solo_L3_eui-hrieuv174-image_20220302T124400280_V02.jp2', 'eui_files_20220302_0000/solo_L3_eui-hrieuv174-image_20220302T124600280_V02.jp2', 'eui_files_20220302_0000/solo_L3_eui-hrieuv174-image_20220302T124800280_V02.jp2', 'eui_files_20220302_0000/solo_L3_eui-hrieuv174-image_20220302T125000281_V02.jp2', 'eui_files_20220302_0000/solo_L3_eui-hrieuv174-image_20220302T125200281_V02.jp2', 'eui_files_20220302_0000/solo_L3_eui-hrieuv174-image_20220302T125400281_V02.jp2', 'eui_files_20220302_0000/solo_L3_eui-hrieuv174-image_20220302T125600281_V02.jp2', 'eui_files_20220302_0000/solo_L3_eui-hrieuv174-image_20220302T125800282_V02.jp2', 'eui_files_20220302_0000/solo_L3_eui-hrieuv174-image_20220302T130000302_V02.jp2', 'eui_files_20220302_0000/solo_L3_eui-hrieuv174-image_20220302T130200282_V02.jp2', 'eui_files_20220302_0000/solo_L3_eui-hrieuv174-image_20220302T130400282_V02.jp2', 'eui_files_20220302_0000/solo_L3_eui-hrieuv174-image_20220302T130600282_V02.jp2', 'eui_files_20220302_0000/solo_L3_eui-hrieuv174-image_20220302T130800283_V02.jp2', 'eui_files_20220302_0000/solo_L3_eui-hrieuv174-image_20220302T131000282_V02.jp2', 'eui_files_20220302_0000/solo_L3_eui-hrieuv174-image_20220302T131200283_V02.jp2', 'eui_files_20220302_0000/solo_L3_eui-hrieuv174-image_20220302T131400282_V02.jp2', 'eui_files_20220302_0000/solo_L3_eui-hrieuv174-image_20220302T131600283_V02.jp2', 'eui_files_20220302_0000/solo_L3_eui-hrieuv174-image_20220302T131800283_V02.jp2', 'eui_files_20220302_0000/solo_L3_eui-hrieuv174-image_20220302T132000284_V02.jp2', 'eui_files_20220302_0000/solo_L3_eui-hrieuv174-image_20220302T132200284_V02.jp2', 'eui_files_20220302_0000/solo_L3_eui-hrieuv174-image_20220302T132400284_V02.jp2', 'eui_files_20220302_0000/solo_L3_eui-hrieuv174-image_20220302T132600284_V02.jp2', 'eui_files_20220302_0000/solo_L3_eui-hrieuv174-image_20220302T132800284_V02.jp2', 'eui_files_20220302_0000/solo_L3_eui-hrieuv174-image_20220302T133000285_V02.jp2', 'eui_files_20220302_0000/solo_L3_eui-hrieuv174-image_20220302T133200285_V02.jp2', 'eui_files_20220302_0000/solo_L3_eui-hrieuv174-image_20220302T133400285_V02.jp2', 'eui_files_20220302_0000/solo_L3_eui-hrieuv174-image_20220302T133600286_V02.jp2', 'eui_files_20220302_0000/solo_L3_eui-hrieuv174-image_20220302T133800311_V02.jp2', 'eui_files_20220302_0000/solo_L3_eui-hrieuv174-image_20220302T134000285_V02.jp2', 'eui_files_20220302_0000/solo_L3_eui-hrieuv174-image_20220302T134200285_V02.jp2', 'eui_files_20220302_0000/solo_L3_eui-hrieuv174-image_20220302T134400286_V02.jp2', 'eui_files_20220302_0000/solo_L3_eui-hrieuv174-image_20220302T134600286_V02.jp2', 'eui_files_20220302_0000/solo_L3_eui-hrieuv174-image_20220302T134800286_V02.jp2', 'eui_files_20220302_0000/solo_L3_eui-hrieuv174-image_20220302T135000287_V02.jp2', 'eui_files_20220302_0000/solo_L3_eui-hrieuv174-image_20220302T135200289_V02.jp2', 'eui_files_20220302_0000/solo_L3_eui-hrieuv174-image_20220302T135400287_V02.jp2', 'eui_files_20220302_0000/solo_L3_eui-hrieuv174-image_20220302T135600288_V02.jp2', 'eui_files_20220302_0000/solo_L3_eui-hrieuv174-image_20220302T135800288_V02.jp2', 'eui_files_20220302_0000/solo_L3_eui-hrieuv174-image_20220302T140000288_V02.jp2', 'eui_files_20220302_0000/solo_L3_eui-hrieuv174-image_20220302T140200288_V02.jp2', 'eui_files_20220302_0000/solo_L3_eui-hrieuv174-image_20220302T140400288_V02.jp2', 'eui_files_20220302_0000/solo_L3_eui-hrieuv174-image_20220302T140600288_V02.jp2', 'eui_files_20220302_0000/solo_L3_eui-hrieuv174-image_20220302T140800289_V02.jp2', 'eui_files_20220302_0000/solo_L3_eui-hrieuv174-image_20220302T141000289_V02.jp2', 'eui_files_20220302_0000/solo_L3_eui-hrieuv174-image_20220302T141200287_V02.jp2', 'eui_files_20220302_0000/solo_L3_eui-hrieuv174-image_20220302T141400289_V02.jp2', 'eui_files_20220302_0000/solo_L3_eui-hrieuv174-image_20220302T141600290_V02.jp2', 'eui_files_20220302_0000/solo_L3_eui-hrieuv174-image_20220302T141800290_V02.jp2', 'eui_files_20220302_0000/solo_L3_eui-hrieuv174-image_20220302T142000290_V02.jp2', 'eui_files_20220302_0000/solo_L3_eui-hrieuv174-image_20220302T142200290_V02.jp2', 'eui_files_20220302_0000/solo_L3_eui-hrieuv174-image_20220302T142400290_V02.jp2', 'eui_files_20220302_0000/solo_L3_eui-hrieuv174-image_20220302T142600291_V02.jp2', 'eui_files_20220302_0000/solo_L3_eui-hrieuv174-image_20220302T142800291_V02.jp2', 'eui_files_20220302_0000/solo_L3_eui-hrieuv174-image_20220302T143000290_V02.jp2', 'eui_files_20220302_0000/solo_L3_eui-hrieuv174-image_20220302T143200291_V02.jp2', 'eui_files_20220302_0000/solo_L3_eui-hrieuv174-image_20220302T143400292_V02.jp2', 'eui_files_20220302_0000/solo_L3_eui-hrieuv174-image_20220302T143600292_V02.jp2', 'eui_files_20220302_0000/solo_L3_eui-hrieuv174-image_20220302T143800292_V02.jp2', 'eui_files_20220302_0000/solo_L3_eui-hrieuv174-image_20220302T144000292_V02.jp2', 'eui_files_20220302_0000/solo_L3_eui-hrieuv174-image_20220302T144200292_V02.jp2', 'eui_files_20220302_0000/solo_L3_eui-hrieuv174-image_20220302T144400293_V02.jp2', 'eui_files_20220302_0000/solo_L3_eui-hrieuv174-image_20220302T144600292_V02.jp2', 'eui_files_20220302_0000/solo_L3_eui-hrieuv174-image_20220302T144800293_V02.jp2', 'eui_files_20220302_0000/solo_L3_eui-hrieuv174-image_20220302T145000293_V02.jp2', 'eui_files_20220302_0000/solo_L3_eui-hrieuv174-image_20220302T145200293_V02.jp2', 'eui_files_20220302_0000/solo_L3_eui-hrieuv174-image_20220302T145400294_V02.jp2', 'eui_files_20220302_0000/solo_L3_eui-hrieuv174-image_20220302T145600294_V02.jp2', 'eui_files_20220302_0000/solo_L3_eui-hrieuv174-image_20220302T145800294_V02.jp2', 'eui_files_20220302_0000/solo_L3_eui-hrieuv174-image_20220302T150000294_V02.jp2', 'eui_files_20220302_0000/solo_L3_eui-hrieuv174-image_20220302T150200294_V02.jp2', 'eui_files_20220302_0000/solo_L3_eui-hrieuv174-image_20220302T150400293_V02.jp2', 'eui_files_20220302_0000/solo_L3_eui-hrieuv174-image_20220302T150600295_V02.jp2', 'eui_files_20220302_0000/solo_L3_eui-hrieuv174-image_20220302T150800294_V02.jp2', 'eui_files_20220302_0000/solo_L3_eui-hrieuv174-image_20220302T151000296_V02.jp2', 'eui_files_20220302_0000/solo_L3_eui-hrieuv174-image_20220302T151200296_V02.jp2', 'eui_files_20220302_0000/solo_L3_eui-hrieuv174-image_20220302T151400296_V02.jp2', 'eui_files_20220302_0000/solo_L3_eui-hrieuv174-image_20220302T151600296_V02.jp2', 'eui_files_20220302_0000/solo_L3_eui-hrieuv174-image_20220302T151800296_V02.jp2', 'eui_files_20220302_0000/solo_L3_eui-hrieuv174-image_20220302T152000295_V02.jp2', 'eui_files_20220302_0000/solo_L3_eui-hrieuv174-image_20220302T152200296_V02.jp2', 'eui_files_20220302_0000/solo_L3_eui-hrieuv174-image_20220302T152400297_V02.jp2', 'eui_files_20220302_0000/solo_L3_eui-hrieuv174-image_20220302T152600297_V02.jp2', 'eui_files_20220302_0000/solo_L3_eui-hrieuv174-image_20220302T152800297_V02.jp2', 'eui_files_20220302_0000/solo_L3_eui-hrieuv174-image_20220302T153000298_V02.jp2', 'eui_files_20220302_0000/solo_L3_eui-hrieuv174-image_20220302T153200299_V02.jp2', 'eui_files_20220302_0000/solo_L3_eui-hrieuv174-image_20220302T153400298_V02.jp2', 'eui_files_20220302_0000/solo_L3_eui-hrieuv174-image_20220302T153600318_V02.jp2', 'eui_files_20220302_0000/solo_L3_eui-hrieuv174-image_20220302T153800298_V02.jp2', 'eui_files_20220302_0000/solo_L3_eui-hrieuv174-image_20220302T154000299_V02.jp2', 'eui_files_20220302_0000/solo_L3_eui-hrieuv174-image_20220302T154200298_V02.jp2', 'eui_files_20220302_0000/solo_L3_eui-hrieuv174-image_20220302T154400299_V02.jp2', 'eui_files_20220302_0000/solo_L3_eui-hrieuv174-image_20220302T154600299_V02.jp2', 'eui_files_20220302_0000/solo_L3_eui-hrieuv174-image_20220302T154800299_V02.jp2', 'eui_files_20220302_0000/solo_L3_eui-hrieuv174-image_20220302T155000300_V02.jp2', 'eui_files_20220302_0000/solo_L3_eui-hrieuv174-image_20220302T155200300_V02.jp2', 'eui_files_20220302_0000/solo_L3_eui-hrieuv174-image_20220302T155400300_V02.jp2', 'eui_files_20220302_0000/solo_L3_eui-hrieuv174-image_20220302T155600300_V02.jp2', 'eui_files_20220302_0000/solo_L3_eui-hrieuv174-image_20220302T155800300_V02.jp2', 'eui_files_20220302_0000/solo_L3_eui-hrieuv174-image_20220302T160000300_V02.jp2', 'eui_files_20220302_0000/solo_L3_eui-hrieuv174-image_20220302T160200301_V02.jp2', 'eui_files_20220302_0000/solo_L3_eui-hrieuv174-image_20220302T160400301_V02.jp2', 'eui_files_20220302_0000/solo_L3_eui-hrieuv174-image_20220302T160600301_V02.jp2', 'eui_files_20220302_0000/solo_L3_eui-hrieuv174-image_20220302T160800302_V02.jp2', 'eui_files_20220302_0000/solo_L3_eui-hrieuv174-image_20220302T161000301_V02.jp2', 'eui_files_20220302_0000/solo_L3_eui-hrieuv174-image_20220302T161200302_V02.jp2', 'eui_files_20220302_0000/solo_L3_eui-hrieuv174-image_20220302T161400302_V02.jp2', 'eui_files_20220302_0000/solo_L3_eui-hrieuv174-image_20220302T161600302_V02.jp2', 'eui_files_20220302_0000/solo_L3_eui-hrieuv174-image_20220302T161800302_V02.jp2', 'eui_files_20220302_0000/solo_L3_eui-hrieuv174-image_20220302T162000302_V02.jp2', 'eui_files_20220302_0000/solo_L3_eui-hrieuv174-image_20220302T162200303_V02.jp2', 'eui_files_20220302_0000/solo_L3_eui-hrieuv174-image_20220302T162400303_V02.jp2', 'eui_files_20220302_0000/solo_L3_eui-hrieuv174-image_20220302T162600305_V02.jp2', 'eui_files_20220302_0000/solo_L3_eui-hrieuv174-image_20220302T162800303_V02.jp2', 'eui_files_20220302_0000/solo_L3_eui-hrieuv174-image_20220302T163000304_V02.jp2', 'eui_files_20220302_0000/solo_L3_eui-hrieuv174-image_20220302T163200304_V02.jp2', 'eui_files_20220302_0000/solo_L3_eui-hrieuv174-image_20220302T163400304_V02.jp2', 'eui_files_20220302_0000/solo_L3_eui-hrieuv174-image_20220302T163600304_V02.jp2', 'eui_files_20220302_0000/solo_L3_eui-hrieuv174-image_20220302T163800304_V02.jp2', 'eui_files_20220302_0000/solo_L3_eui-hrieuv174-image_20220302T164000305_V02.jp2', 'eui_files_20220302_0000/solo_L3_eui-hrieuv174-image_20220302T164200305_V02.jp2', 'eui_files_20220302_0000/solo_L3_eui-hrieuv174-image_20220302T164400305_V02.jp2', 'eui_files_20220302_0000/solo_L3_eui-hrieuv174-image_20220302T164600304_V02.jp2', 'eui_files_20220302_0000/solo_L3_eui-hrieuv174-image_20220302T164800305_V02.jp2', 'eui_files_20220302_0000/solo_L3_eui-hrieuv174-image_20220302T165000306_V02.jp2', 'eui_files_20220302_0000/solo_L3_eui-hrieuv174-image_20220302T165200304_V02.jp2', 'eui_files_20220302_0000/solo_L3_eui-hrieuv174-image_20220302T165400305_V02.jp2', 'eui_files_20220302_0000/solo_L3_eui-hrieuv174-image_20220302T165600305_V02.jp2', 'eui_files_20220302_0000/solo_L3_eui-hrieuv174-image_20220302T165800307_V02.jp2', 'eui_files_20220302_0000/solo_L3_eui-hrieuv174-image_20220302T170000307_V02.jp2', 'eui_files_20220302_0000/solo_L3_eui-hrieuv174-image_20220302T170200306_V02.jp2', 'eui_files_20220302_0000/solo_L3_eui-hrieuv174-image_20220302T170400307_V02.jp2', 'eui_files_20220302_0000/solo_L3_eui-hrieuv174-image_20220302T170600307_V02.jp2', 'eui_files_20220302_0000/solo_L3_eui-hrieuv174-image_20220302T170800308_V02.jp2', 'eui_files_20220302_0000/solo_L3_eui-hrieuv174-image_20220302T171000308_V02.jp2', 'eui_files_20220302_0000/solo_L3_eui-hrieuv174-image_20220302T171200310_V02.jp2', 'eui_files_20220302_0000/solo_L3_eui-hrieuv174-image_20220302T171400308_V02.jp2', 'eui_files_20220302_0000/solo_L3_eui-hrieuv174-image_20220302T171600308_V02.jp2', 'eui_files_20220302_0000/solo_L3_eui-hrieuv174-image_20220302T171800308_V02.jp2', 'eui_files_20220302_0000/solo_L3_eui-hrieuv174-image_20220302T172000309_V02.jp2', 'eui_files_20220302_0000/solo_L3_eui-hrieuv174-image_20220302T172200309_V02.jp2', 'eui_files_20220302_0000/solo_L3_eui-hrieuv174-image_20220302T172400472_V02.jp2', 'eui_files_20220302_0000/solo_L3_eui-hrieuv174-image_20220302T172600310_V02.jp2', 'eui_files_20220302_0000/solo_L3_eui-hrieuv174-image_20220302T172800310_V02.jp2', 'eui_files_20220302_0000/solo_L3_eui-hrieuv174-image_20220302T173000310_V02.jp2', 'eui_files_20220302_0000/solo_L3_eui-hrieuv174-image_20220302T173200310_V02.jp2', 'eui_files_20220302_0000/solo_L3_eui-hrieuv174-image_20220302T173400310_V02.jp2', 'eui_files_20220302_0000/solo_L3_eui-hrieuv174-image_20220302T173600310_V02.jp2', 'eui_files_20220302_0000/solo_L3_eui-hrieuv174-image_20220302T173800309_V02.jp2', 'eui_files_20220302_0000/solo_L3_eui-hrieuv174-image_20220302T174000311_V02.jp2', 'eui_files_20220302_0000/solo_L3_eui-hrieuv174-image_20220302T174200311_V02.jp2', 'eui_files_20220302_0000/solo_L3_eui-hrieuv174-image_20220302T174400312_V02.jp2', 'eui_files_20220302_0000/solo_L3_eui-hrieuv174-image_20220302T174600311_V02.jp2', 'eui_files_20220302_0000/solo_L3_eui-hrieuv174-image_20220302T174800312_V02.jp2', 'eui_files_20220302_0000/solo_L3_eui-hrieuv174-image_20220302T175000312_V02.jp2', 'eui_files_20220302_0000/solo_L3_eui-hrieuv174-image_20220302T175200312_V02.jp2', 'eui_files_20220302_0000/solo_L3_eui-hrieuv174-image_20220302T175400312_V02.jp2', 'eui_files_20220302_0000/solo_L3_eui-hrieuv174-image_20220302T175600312_V02.jp2', 'eui_files_20220302_0000/solo_L3_eui-hrieuv174-image_20220302T175800312_V02.jp2', 'eui_files_20220302_0000/solo_L3_eui-hrieuv174-image_20220302T180000312_V02.jp2', 'eui_files_20220302_0000/solo_L3_eui-hrieuv174-image_20220302T180200313_V02.jp2', 'eui_files_20220302_0000/solo_L3_eui-hrieuv174-image_20220302T180400313_V02.jp2', 'eui_files_20220302_0000/solo_L3_eui-hrieuv174-image_20220302T180600313_V02.jp2', 'eui_files_20220302_0000/solo_L3_eui-hrieuv174-image_20220302T180800313_V02.jp2', 'eui_files_20220302_0000/solo_L3_eui-hrieuv174-image_20220302T181000314_V02.jp2', 'eui_files_20220302_0000/solo_L3_eui-hrieuv174-image_20220302T181200314_V02.jp2', 'eui_files_20220302_0000/solo_L3_eui-hrieuv174-image_20220302T181400313_V02.jp2', 'eui_files_20220302_0000/solo_L3_eui-hrieuv174-image_20220302T181600315_V02.jp2', 'eui_files_20220302_0000/solo_L3_eui-hrieuv174-image_20220302T181800314_V02.jp2', 'eui_files_20220302_0000/solo_L3_eui-hrieuv174-image_20220302T182000315_V02.jp2', 'eui_files_20220302_0000/solo_L3_eui-hrieuv174-image_20220302T182200315_V02.jp2', 'eui_files_20220302_0000/solo_L3_eui-hrieuv174-image_20220302T182400314_V02.jp2', 'eui_files_20220302_0000/solo_L3_eui-hrieuv174-image_20220302T182600316_V02.jp2', 'eui_files_20220302_0000/solo_L3_eui-hrieuv174-image_20220302T182800316_V02.jp2', 'eui_files_20220302_0000/solo_L3_eui-hrieuv174-image_20220302T183000316_V02.jp2', 'eui_files_20220302_0000/solo_L3_eui-hrieuv174-image_20220302T183200316_V02.jp2', 'eui_files_20220302_0000/solo_L3_eui-hrieuv174-image_20220302T183400316_V02.jp2', 'eui_files_20220302_0000/solo_L3_eui-hrieuv174-image_20220302T183600317_V02.jp2', 'eui_files_20220302_0000/solo_L3_eui-hrieuv174-image_20220302T183800317_V02.jp2', 'eui_files_20220302_0000/solo_L3_eui-hrieuv174-image_20220302T184000317_V02.jp2', 'eui_files_20220302_0000/solo_L3_eui-hrieuv174-image_20220302T184200317_V02.jp2', 'eui_files_20220302_0000/solo_L3_eui-hrieuv174-image_20220302T184400318_V02.jp2', 'eui_files_20220302_0000/solo_L3_eui-hrieuv174-image_20220302T184600318_V02.jp2', 'eui_files_20220302_0000/solo_L3_eui-hrieuv174-image_20220302T184800318_V02.jp2', 'eui_files_20220302_0000/solo_L3_eui-hrieuv174-image_20220302T185000318_V02.jp2', 'eui_files_20220302_0000/solo_L3_eui-hrieuv174-image_20220302T185200318_V02.jp2', 'eui_files_20220302_0000/solo_L3_eui-hrieuv174-image_20220302T185400319_V02.jp2', 'eui_files_20220302_0000/solo_L3_eui-hrieuv174-image_20220302T185600319_V02.jp2', 'eui_files_20220302_0000/solo_L3_eui-hrieuv174-image_20220302T185800319_V02.jp2', 'eui_files_20220302_0000/solo_L3_eui-hrieuv174-image_20220302T190000319_V02.jp2', 'eui_files_20220302_0000/solo_L3_eui-hrieuv174-image_20220302T190200319_V02.jp2', 'eui_files_20220302_0000/solo_L3_eui-hrieuv174-image_20220302T190400320_V02.jp2', 'eui_files_20220302_0000/solo_L3_eui-hrieuv174-image_20220302T190600320_V02.jp2', 'eui_files_20220302_0000/solo_L3_eui-hrieuv174-image_20220302T190800320_V02.jp2', 'eui_files_20220302_0000/solo_L3_eui-hrieuv174-image_20220302T191000320_V02.jp2', 'eui_files_20220302_0000/solo_L3_eui-hrieuv174-image_20220302T191200320_V02.jp2', 'eui_files_20220302_0000/solo_L3_eui-hrieuv174-image_20220302T191400321_V02.jp2', 'eui_files_20220302_0000/solo_L3_eui-hrieuv174-image_20220302T191600321_V02.jp2', 'eui_files_20220302_0000/solo_L3_eui-hrieuv174-image_20220302T191800321_V02.jp2', 'eui_files_20220302_0000/solo_L3_eui-hrieuv174-image_20220302T192000321_V02.jp2', 'eui_files_20220302_0000/solo_L3_eui-hrieuv174-image_20220302T192200321_V02.jp2', 'eui_files_20220302_0000/solo_L3_eui-hrieuv174-image_20220302T192400322_V02.jp2', 'eui_files_20220302_0000/solo_L3_eui-hrieuv174-image_20220302T192600322_V02.jp2', 'eui_files_20220302_0000/solo_L3_eui-hrieuv174-image_20220302T192800322_V02.jp2', 'eui_files_20220302_0000/solo_L3_eui-hrieuv174-image_20220302T193000322_V02.jp2', 'eui_files_20220302_0000/solo_L3_eui-hrieuv174-image_20220302T193200323_V02.jp2', 'eui_files_20220302_0000/solo_L3_eui-hrieuv174-image_20220302T193400323_V02.jp2', 'eui_files_20220302_0000/solo_L3_eui-hrieuv174-image_20220302T193600323_V02.jp2', 'eui_files_20220302_0000/solo_L3_eui-hrieuv174-image_20220302T193800323_V02.jp2', 'eui_files_20220302_0000/solo_L3_eui-hrieuv174-image_20220302T194000326_V02.jp2', 'eui_files_20220302_0000/solo_L3_eui-hrieuv174-image_20220302T194200324_V02.jp2', 'eui_files_20220302_0000/solo_L3_eui-hrieuv174-image_20220302T194400323_V02.jp2', 'eui_files_20220302_0000/solo_L3_eui-hrieuv174-image_20220302T194600324_V02.jp2', 'eui_files_20220302_0000/solo_L3_eui-hrieuv174-image_20220302T194800325_V02.jp2', 'eui_files_20220302_0000/solo_L3_eui-hrieuv174-image_20220302T195000324_V02.jp2', 'eui_files_20220302_0000/solo_L3_eui-hrieuv174-image_20220302T195200325_V02.jp2', 'eui_files_20220302_0000/solo_L3_eui-hrieuv174-image_20220302T195400324_V02.jp2', 'eui_files_20220302_0000/solo_L3_eui-hrieuv174-image_20220302T195600325_V02.jp2', 'eui_files_20220302_0000/solo_L3_eui-hrieuv174-image_20220302T195800325_V02.jp2', 'eui_files_20220302_0000/solo_L3_eui-hrieuv174-image_20220302T200000326_V02.jp2', 'eui_files_20220302_0000/solo_L3_eui-hrieuv174-image_20220302T200200326_V02.jp2', 'eui_files_20220302_0000/solo_L3_eui-hrieuv174-image_20220302T200400326_V02.jp2', 'eui_files_20220302_0000/solo_L3_eui-hrieuv174-image_20220302T200600326_V02.jp2', 'eui_files_20220302_0000/solo_L3_eui-hrieuv174-image_20220302T200800326_V02.jp2', 'eui_files_20220302_0000/solo_L3_eui-hrieuv174-image_20220302T201000326_V02.jp2', 'eui_files_20220302_0000/solo_L3_eui-hrieuv174-image_20220302T201200327_V02.jp2', 'eui_files_20220302_0000/solo_L3_eui-hrieuv174-image_20220302T201400328_V02.jp2', 'eui_files_20220302_0000/solo_L3_eui-hrieuv174-image_20220302T201600331_V02.jp2', 'eui_files_20220302_0000/solo_L3_eui-hrieuv174-image_20220302T201800328_V02.jp2', 'eui_files_20220302_0000/solo_L3_eui-hrieuv174-image_20220302T202000331_V02.jp2', 'eui_files_20220302_0000/solo_L3_eui-hrieuv174-image_20220302T202200328_V02.jp2', 'eui_files_20220302_0000/solo_L3_eui-hrieuv174-image_20220302T202400328_V02.jp2', 'eui_files_20220302_0000/solo_L3_eui-hrieuv174-image_20220302T202600328_V02.jp2', 'eui_files_20220302_0000/solo_L3_eui-hrieuv174-image_20220302T202800328_V02.jp2', 'eui_files_20220302_0000/solo_L3_eui-hrieuv174-image_20220302T203000327_V02.jp2', 'eui_files_20220302_0000/solo_L3_eui-hrieuv174-image_20220302T203200340_V02.jp2', 'eui_files_20220302_0000/solo_L3_eui-hrieuv174-image_20220302T203400337_V02.jp2', 'eui_files_20220302_0000/solo_L3_eui-hrieuv174-image_20220302T203600341_V02.jp2', 'eui_files_20220302_0000/solo_L3_eui-hrieuv174-image_20220302T203800337_V02.jp2', 'eui_files_20220302_0000/solo_L3_eui-hrieuv174-image_20220302T204000341_V02.jp2', 'eui_files_20220302_0000/solo_L3_eui-hrieuv174-image_20220302T204200353_V02.jp2', 'eui_files_20220302_0000/solo_L3_eui-hrieuv174-image_20220302T204400357_V02.jp2', 'eui_files_20220302_0000/solo_L3_eui-hrieuv174-image_20220302T204600329_V02.jp2', 'eui_files_20220302_0000/solo_L3_eui-hrieuv174-image_20220302T204800331_V02.jp2', 'eui_files_20220302_0000/solo_L3_eui-hrieuv174-image_20220302T205000330_V02.jp2', 'eui_files_20220302_0000/solo_L3_eui-hrieuv174-image_20220302T205200331_V02.jp2', 'eui_files_20220302_0000/solo_L3_eui-hrieuv174-image_20220302T205400331_V02.jp2', 'eui_files_20220302_0000/solo_L3_eui-hrieuv174-image_20220302T205600331_V02.jp2', 'eui_files_20220302_0000/solo_L3_eui-hrieuv174-image_20220302T205800332_V02.jp2', 'eui_files_20220302_0000/solo_L3_eui-hrieuv174-image_20220302T210000332_V02.jp2', 'eui_files_20220302_0000/solo_L3_eui-hrieuv174-image_20220302T210200332_V02.jp2', 'eui_files_20220302_0000/solo_L3_eui-hrieuv174-image_20220302T210400332_V02.jp2', 'eui_files_20220302_0000/solo_L3_eui-hrieuv174-image_20220302T210600333_V02.jp2', 'eui_files_20220302_0000/solo_L3_eui-hrieuv174-image_20220302T210800333_V02.jp2', 'eui_files_20220302_0000/solo_L3_eui-hrieuv174-image_20220302T211000333_V02.jp2', 'eui_files_20220302_0000/solo_L3_eui-hrieuv174-image_20220302T211200333_V02.jp2', 'eui_files_20220302_0000/solo_L3_eui-hrieuv174-image_20220302T211400333_V02.jp2', 'eui_files_20220302_0000/solo_L3_eui-hrieuv174-image_20220302T211600334_V02.jp2', 'eui_files_20220302_0000/solo_L3_eui-hrieuv174-image_20220302T211800359_V02.jp2', 'eui_files_20220302_0000/solo_L3_eui-hrieuv174-image_20220302T212000360_V02.jp2', 'eui_files_20220302_0000/solo_L3_eui-hrieuv174-image_20220302T212200358_V02.jp2', 'eui_files_20220302_0000/solo_L3_eui-hrieuv174-image_20220302T212400360_V02.jp2', 'eui_files_20220302_0000/solo_L3_eui-hrieuv174-image_20220302T212600362_V02.jp2', 'eui_files_20220302_0000/solo_L3_eui-hrieuv174-image_20220302T212800336_V02.jp2', 'eui_files_20220302_0000/solo_L3_eui-hrieuv174-image_20220302T213000348_V02.jp2', 'eui_files_20220302_0000/solo_L3_eui-hrieuv174-image_20220302T213200347_V02.jp2', 'eui_files_20220302_0000/solo_L3_eui-hrieuv174-image_20220302T213400347_V02.jp2', 'eui_files_20220302_0000/solo_L3_eui-hrieuv174-image_20220302T213600335_V02.jp2', 'eui_files_20220302_0000/solo_L3_eui-hrieuv174-image_20220302T213800336_V02.jp2', 'eui_files_20220302_0000/solo_L3_eui-hrieuv174-image_20220302T214000336_V02.jp2', 'eui_files_20220302_0000/solo_L3_eui-hrieuv174-image_20220302T214200336_V02.jp2', 'eui_files_20220302_0000/solo_L3_eui-hrieuv174-image_20220302T214400335_V02.jp2', 'eui_files_20220302_0000/solo_L3_eui-hrieuv174-image_20220302T214600337_V02.jp2', 'eui_files_20220302_0000/solo_L3_eui-hrieuv174-image_20220302T214800337_V02.jp2', 'eui_files_20220302_0000/solo_L3_eui-hrieuv174-image_20220302T215000337_V02.jp2', 'eui_files_20220302_0000/solo_L3_eui-hrieuv174-image_20220302T215200337_V02.jp2', 'eui_files_20220302_0000/solo_L3_eui-hrieuv174-image_20220302T215400337_V02.jp2', 'eui_files_20220302_0000/solo_L3_eui-hrieuv174-image_20220302T215600338_V02.jp2', 'eui_files_20220302_0000/solo_L3_eui-hrieuv174-image_20220302T215800337_V02.jp2', 'eui_files_20220302_0000/solo_L3_eui-hrieuv174-image_20220302T220000338_V02.jp2', 'eui_files_20220302_0000/solo_L3_eui-hrieuv174-image_20220302T220200338_V02.jp2', 'eui_files_20220302_0000/solo_L3_eui-hrieuv174-image_20220302T220400338_V02.jp2', 'eui_files_20220302_0000/solo_L3_eui-hrieuv174-image_20220302T220600338_V02.jp2', 'eui_files_20220302_0000/solo_L3_eui-hrieuv174-image_20220302T220800339_V02.jp2', 'eui_files_20220302_0000/solo_L3_eui-hrieuv174-image_20220302T221000339_V02.jp2', 'eui_files_20220302_0000/solo_L3_eui-hrieuv174-image_20220302T221200339_V02.jp2', 'eui_files_20220302_0000/solo_L3_eui-hrieuv174-image_20220302T221400339_V02.jp2', 'eui_files_20220302_0000/solo_L3_eui-hrieuv174-image_20220302T221600340_V02.jp2', 'eui_files_20220302_0000/solo_L3_eui-hrieuv174-image_20220302T221800340_V02.jp2', 'eui_files_20220302_0000/solo_L3_eui-hrieuv174-image_20220302T222000340_V02.jp2', 'eui_files_20220302_0000/solo_L3_eui-hrieuv174-image_20220302T222200340_V02.jp2', 'eui_files_20220302_0000/solo_L3_eui-hrieuv174-image_20220302T222400340_V02.jp2', 'eui_files_20220302_0000/solo_L3_eui-hrieuv174-image_20220302T222600341_V02.jp2', 'eui_files_20220302_0000/solo_L3_eui-hrieuv174-image_20220302T222800347_V02.jp2', 'eui_files_20220302_0000/solo_L3_eui-hrieuv174-image_20220302T223000346_V02.jp2', 'eui_files_20220302_0000/solo_L3_eui-hrieuv174-image_20220302T223200346_V02.jp2', 'eui_files_20220302_0000/solo_L3_eui-hrieuv174-image_20220302T223400346_V02.jp2', 'eui_files_20220302_0000/solo_L3_eui-hrieuv174-image_20220302T223600347_V02.jp2', 'eui_files_20220302_0000/solo_L3_eui-hrieuv174-image_20220302T223800347_V02.jp2', 'eui_files_20220302_0000/solo_L3_eui-hrieuv174-image_20220302T224000347_V02.jp2', 'eui_files_20220302_0000/solo_L3_eui-hrieuv174-image_20220302T224200345_V02.jp2', 'eui_files_20220302_0000/solo_L3_eui-hrieuv174-image_20220302T224400345_V02.jp2', 'eui_files_20220302_0000/solo_L3_eui-hrieuv174-image_20220302T224600343_V02.jp2', 'eui_files_20220302_0000/solo_L3_eui-hrieuv174-image_20220302T224800343_V02.jp2', 'eui_files_20220302_0000/solo_L3_eui-hrieuv174-image_20220302T225000343_V02.jp2', 'eui_files_20220302_0000/solo_L3_eui-hrieuv174-image_20220302T225200343_V02.jp2', 'eui_files_20220302_0000/solo_L3_eui-hrieuv174-image_20220302T225400343_V02.jp2', 'eui_files_20220302_0000/solo_L3_eui-hrieuv174-image_20220302T225600344_V02.jp2', 'eui_files_20220302_0000/solo_L3_eui-hrieuv174-image_20220302T225800344_V02.jp2', 'eui_files_20220302_0000/solo_L3_eui-hrieuv174-image_20220302T230000344_V02.jp2', 'eui_files_20220302_0000/solo_L3_eui-hrieuv174-image_20220302T230200344_V02.jp2', 'eui_files_20220302_0000/solo_L3_eui-hrieuv174-image_20220302T230400345_V02.jp2', 'eui_files_20220302_0000/solo_L3_eui-hrieuv174-image_20220302T230600345_V02.jp2', 'eui_files_20220302_0000/solo_L3_eui-hrieuv174-image_20220302T230800345_V02.jp2', 'eui_files_20220302_0000/solo_L3_eui-hrieuv174-image_20220302T231000344_V02.jp2', 'eui_files_20220302_0000/solo_L3_eui-hrieuv174-image_20220302T231200345_V02.jp2', 'eui_files_20220302_0000/solo_L3_eui-hrieuv174-image_20220302T231400346_V02.jp2', 'eui_files_20220302_0000/solo_L3_eui-hrieuv174-image_20220302T231600346_V02.jp2', 'eui_files_20220302_0000/solo_L3_eui-hrieuv174-image_20220302T231800346_V02.jp2', 'eui_files_20220302_0000/solo_L3_eui-hrieuv174-image_20220302T232000375_V02.jp2', 'eui_files_20220302_0000/solo_L3_eui-hrieuv174-image_20220302T232200381_V02.jp2', 'eui_files_20220302_0000/solo_L3_eui-hrieuv174-image_20220302T232400382_V02.jp2', 'eui_files_20220302_0000/solo_L3_eui-hrieuv174-image_20220302T232600347_V02.jp2', 'eui_files_20220302_0000/solo_L3_eui-hrieuv174-image_20220302T232800377_V02.jp2', 'eui_files_20220302_0000/solo_L3_eui-hrieuv174-image_20220302T233000378_V02.jp2', 'eui_files_20220302_0000/solo_L3_eui-hrieuv174-image_20220302T233200378_V02.jp2', 'eui_files_20220302_0000/solo_L3_eui-hrieuv174-image_20220302T233400377_V02.jp2', 'eui_files_20220302_0000/solo_L3_eui-hrieuv174-image_20220302T233600374_V02.jp2', 'eui_files_20220302_0000/solo_L3_eui-hrieuv174-image_20220302T233800379_V02.jp2', 'eui_files_20220302_0000/solo_L3_eui-hrieuv174-image_20220302T234000347_V02.jp2', 'eui_files_20220302_0000/solo_L3_eui-hrieuv174-image_20220302T234200349_V02.jp2', 'eui_files_20220302_0000/solo_L3_eui-hrieuv174-image_20220302T234400349_V02.jp2', 'eui_files_20220302_0000/solo_L3_eui-hrieuv174-image_20220302T234600349_V02.jp2', 'eui_files_20220302_0000/solo_L3_eui-hrieuv174-image_20220302T234800349_V02.jp2', 'eui_files_20220302_0000/solo_L3_eui-hrieuv174-image_20220302T235000348_V02.jp2', 'eui_files_20220302_0000/solo_L3_eui-hrieuv174-image_20220302T235200350_V02.jp2', 'eui_files_20220302_0000/solo_L3_eui-hrieuv174-image_20220302T235400350_V02.jp2', 'eui_files_20220302_0000/solo_L3_eui-hrieuv174-image_20220302T235600350_V02.jp2', 'eui_files_20220302_0000/solo_L3_eui-hrieuv174-image_20220302T235800350_V02.jp2']"
      ]
     },
     "execution_count": 84,
     "metadata": {},
     "output_type": "execute_result"
    }
   ],
   "source": [
    "fetch_eui_files(flare_files, timerange_flare)"
   ]
  },
  {
   "cell_type": "code",
   "execution_count": null,
   "id": "937515b1",
   "metadata": {},
   "outputs": [],
   "source": []
  }
 ],
 "metadata": {
  "kernelspec": {
   "display_name": "Python 3 (ipykernel)",
   "language": "python",
   "name": "python3"
  },
  "language_info": {
   "codemirror_mode": {
    "name": "ipython",
    "version": 3
   },
   "file_extension": ".py",
   "mimetype": "text/x-python",
   "name": "python",
   "nbconvert_exporter": "python",
   "pygments_lexer": "ipython3",
   "version": "3.10.6"
  }
 },
 "nbformat": 4,
 "nbformat_minor": 5
}
